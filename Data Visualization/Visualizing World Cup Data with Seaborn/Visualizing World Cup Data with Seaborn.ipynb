{
 "cells":[
  {
   "cell_type":"markdown",
   "source":[
    "# Visualizing World Cup data With Seaborn\n",
    "\n",
    "For this project, we will be exploring data from the [Fifa World Cup](https:\/\/en.wikipedia.org\/wiki\/FIFA_World_Cup)from 1930-2014 to analyze trends and discover insights about the world's game, fútbol!\n",
    "\n",
    "This Fifa World Cup data is from [Kaggle](https:\/\/www.kaggle.com\/abecklas\/fifa-world-cup) . Using Seaborn we will create a series of plots that explore aggregates and distribution across the goals scored in World Cup games. \n",
    "\n",
    "## A little primer on the Fifa World Cup:\n",
    "\n",
    "The FIFA World Cup, or simply the World Cup, is an international fútbol competition where 32 countries qualify to send teams made up of the best players from that nation to compete against each other for the World Cup championship.\n",
    "\n",
    "The World Cup championship has been awarded every four years since the inaugural tournament in 1930, except in 1942 and 1946 when it was not held because of the Second World War.\n",
    "\n",
    "The current format of the tournament involves 32 teams competing for the title at venues within the host nation over a period of one month.\n",
    "\n"
   ],
   "attachments":{
    
   },
   "metadata":{
    "datalore":{
     "type":"MD",
     "hide_input_from_viewers":false,
     "hide_output_from_viewers":false,
     "node_id":"LWzoBfMCiVL9thHA2F3p43"
    }
   }
  },
  {
   "cell_type":"code",
   "source":[
    "#Import Libraries\n",
    "from matplotlib import pyplot as plt\n",
    "import pandas as pd\n",
    "import seaborn as sns"
   ],
   "execution_count":1,
   "outputs":[
    
   ],
   "metadata":{
    "datalore":{
     "type":"CODE",
     "hide_input_from_viewers":false,
     "hide_output_from_viewers":false,
     "node_id":"mcw6AaJ3yP5ktjPEBmRt3w"
    }
   }
  },
  {
   "cell_type":"code",
   "source":[
    "#Load data\n",
    "df = pd.read_csv('WorldCupMatches.csv')\n",
    "\n",
    "df.head()"
   ],
   "execution_count":2,
   "outputs":[
    {
     "data":{
      "text\/html":[
       "<div>\n",
       "<style scoped>\n",
       "    .dataframe tbody tr th:only-of-type {\n",
       "        vertical-align: middle;\n",
       "    }\n",
       "\n",
       "    .dataframe tbody tr th {\n",
       "        vertical-align: top;\n",
       "    }\n",
       "\n",
       "    .dataframe thead th {\n",
       "        text-align: right;\n",
       "    }\n",
       "<\/style>\n",
       "<table border=\"1\" class=\"dataframe\">\n",
       "  <thead>\n",
       "    <tr style=\"text-align: right;\">\n",
       "      <th><\/th>\n",
       "      <th>Year<\/th>\n",
       "      <th>Datetime<\/th>\n",
       "      <th>Stage<\/th>\n",
       "      <th>Stadium<\/th>\n",
       "      <th>City<\/th>\n",
       "      <th>Home Team Name<\/th>\n",
       "      <th>Home Team Goals<\/th>\n",
       "      <th>Away Team Goals<\/th>\n",
       "      <th>Away Team Name<\/th>\n",
       "      <th>Win conditions<\/th>\n",
       "      <th>Attendance<\/th>\n",
       "      <th>Half-time Home Goals<\/th>\n",
       "      <th>Half-time Away Goals<\/th>\n",
       "      <th>Referee<\/th>\n",
       "      <th>Assistant 1<\/th>\n",
       "      <th>Assistant 2<\/th>\n",
       "      <th>RoundID<\/th>\n",
       "      <th>MatchID<\/th>\n",
       "      <th>Home Team Initials<\/th>\n",
       "      <th>Away Team Initials<\/th>\n",
       "    <\/tr>\n",
       "  <\/thead>\n",
       "  <tbody>\n",
       "    <tr>\n",
       "      <th>0<\/th>\n",
       "      <td>1930<\/td>\n",
       "      <td>13 Jul 1930 - 15:00<\/td>\n",
       "      <td>Group 1<\/td>\n",
       "      <td>Pocitos<\/td>\n",
       "      <td>Montevideo<\/td>\n",
       "      <td>France<\/td>\n",
       "      <td>4<\/td>\n",
       "      <td>1<\/td>\n",
       "      <td>Mexico<\/td>\n",
       "      <td><\/td>\n",
       "      <td>4444.0<\/td>\n",
       "      <td>3<\/td>\n",
       "      <td>0<\/td>\n",
       "      <td>LOMBARDI Domingo (URU)<\/td>\n",
       "      <td>CRISTOPHE Henry (BEL)<\/td>\n",
       "      <td>REGO Gilberto (BRA)<\/td>\n",
       "      <td>201<\/td>\n",
       "      <td>1096<\/td>\n",
       "      <td>FRA<\/td>\n",
       "      <td>MEX<\/td>\n",
       "    <\/tr>\n",
       "    <tr>\n",
       "      <th>1<\/th>\n",
       "      <td>1930<\/td>\n",
       "      <td>13 Jul 1930 - 15:00<\/td>\n",
       "      <td>Group 4<\/td>\n",
       "      <td>Parque Central<\/td>\n",
       "      <td>Montevideo<\/td>\n",
       "      <td>USA<\/td>\n",
       "      <td>3<\/td>\n",
       "      <td>0<\/td>\n",
       "      <td>Belgium<\/td>\n",
       "      <td><\/td>\n",
       "      <td>18346.0<\/td>\n",
       "      <td>2<\/td>\n",
       "      <td>0<\/td>\n",
       "      <td>MACIAS Jose (ARG)<\/td>\n",
       "      <td>MATEUCCI Francisco (URU)<\/td>\n",
       "      <td>WARNKEN Alberto (CHI)<\/td>\n",
       "      <td>201<\/td>\n",
       "      <td>1090<\/td>\n",
       "      <td>USA<\/td>\n",
       "      <td>BEL<\/td>\n",
       "    <\/tr>\n",
       "    <tr>\n",
       "      <th>2<\/th>\n",
       "      <td>1930<\/td>\n",
       "      <td>14 Jul 1930 - 12:45<\/td>\n",
       "      <td>Group 2<\/td>\n",
       "      <td>Parque Central<\/td>\n",
       "      <td>Montevideo<\/td>\n",
       "      <td>Yugoslavia<\/td>\n",
       "      <td>2<\/td>\n",
       "      <td>1<\/td>\n",
       "      <td>Brazil<\/td>\n",
       "      <td><\/td>\n",
       "      <td>24059.0<\/td>\n",
       "      <td>2<\/td>\n",
       "      <td>0<\/td>\n",
       "      <td>TEJADA Anibal (URU)<\/td>\n",
       "      <td>VALLARINO Ricardo (URU)<\/td>\n",
       "      <td>BALWAY Thomas (FRA)<\/td>\n",
       "      <td>201<\/td>\n",
       "      <td>1093<\/td>\n",
       "      <td>YUG<\/td>\n",
       "      <td>BRA<\/td>\n",
       "    <\/tr>\n",
       "    <tr>\n",
       "      <th>3<\/th>\n",
       "      <td>1930<\/td>\n",
       "      <td>14 Jul 1930 - 14:50<\/td>\n",
       "      <td>Group 3<\/td>\n",
       "      <td>Pocitos<\/td>\n",
       "      <td>Montevideo<\/td>\n",
       "      <td>Romania<\/td>\n",
       "      <td>3<\/td>\n",
       "      <td>1<\/td>\n",
       "      <td>Peru<\/td>\n",
       "      <td><\/td>\n",
       "      <td>2549.0<\/td>\n",
       "      <td>1<\/td>\n",
       "      <td>0<\/td>\n",
       "      <td>WARNKEN Alberto (CHI)<\/td>\n",
       "      <td>LANGENUS Jean (BEL)<\/td>\n",
       "      <td>MATEUCCI Francisco (URU)<\/td>\n",
       "      <td>201<\/td>\n",
       "      <td>1098<\/td>\n",
       "      <td>ROU<\/td>\n",
       "      <td>PER<\/td>\n",
       "    <\/tr>\n",
       "    <tr>\n",
       "      <th>4<\/th>\n",
       "      <td>1930<\/td>\n",
       "      <td>15 Jul 1930 - 16:00<\/td>\n",
       "      <td>Group 1<\/td>\n",
       "      <td>Parque Central<\/td>\n",
       "      <td>Montevideo<\/td>\n",
       "      <td>Argentina<\/td>\n",
       "      <td>1<\/td>\n",
       "      <td>0<\/td>\n",
       "      <td>France<\/td>\n",
       "      <td><\/td>\n",
       "      <td>23409.0<\/td>\n",
       "      <td>0<\/td>\n",
       "      <td>0<\/td>\n",
       "      <td>REGO Gilberto (BRA)<\/td>\n",
       "      <td>SAUCEDO Ulises (BOL)<\/td>\n",
       "      <td>RADULESCU Constantin (ROU)<\/td>\n",
       "      <td>201<\/td>\n",
       "      <td>1085<\/td>\n",
       "      <td>ARG<\/td>\n",
       "      <td>FRA<\/td>\n",
       "    <\/tr>\n",
       "  <\/tbody>\n",
       "<\/table>\n",
       "<\/div>"
      ]
     },
     "metadata":{
      
     },
     "output_type":"display_data"
    }
   ],
   "metadata":{
    "datalore":{
     "type":"CODE",
     "hide_input_from_viewers":false,
     "hide_output_from_viewers":false,
     "node_id":"vpfPSeC2PCtMLour2YXt9q"
    }
   }
  },
  {
   "cell_type":"markdown",
   "source":[
    "\n",
    "The data in **WorldCupMatches.csv** has the goals scored in each match broken up by goals for the home team and goals for the away team. We want to visualize the total number of goals scored in each match.\n",
    "\n",
    "Let's create a new column in df named **Total Goals**, and set it equal to the sum of the columns Home Team Goals and Away Team Goals."
   ],
   "attachments":{
    
   },
   "metadata":{
    "datalore":{
     "type":"MD",
     "hide_input_from_viewers":false,
     "hide_output_from_viewers":false,
     "node_id":"K7SnmrCOEXBjMzIQyjRCfH"
    }
   }
  },
  {
   "cell_type":"code",
   "source":[
    "df['Total Goals'] = df['Home Team Goals'] + df ['Away Team Goals']\n",
    "\n",
    "df['Total Goals'].head()"
   ],
   "execution_count":3,
   "outputs":[
    {
     "data":{
      "text\/html":[
       
      ]
     },
     "metadata":{
      
     },
     "output_type":"display_data"
    }
   ],
   "metadata":{
    "datalore":{
     "type":"CODE",
     "hide_input_from_viewers":false,
     "hide_output_from_viewers":false,
     "node_id":"4VrEPzOeLoq4awCiIxlTXS"
    }
   }
  },
  {
   "cell_type":"markdown",
   "source":[
    "We are going to create a bar chart visualizing how many goals were scored each year the World Cup was held between 1930-2014."
   ],
   "attachments":{
    
   },
   "metadata":{
    "datalore":{
     "type":"MD",
     "hide_input_from_viewers":false,
     "hide_output_from_viewers":false,
     "node_id":"BHDCjVQv3BQcmmLNv7nPby"
    }
   }
  },
  {
   "cell_type":"code",
   "source":[
    "sns.set_style('whitegrid')\n",
    "sns.set_context(\"poster\", font_scale=0.7)\n",
    "f, ax = plt.subplots(figsize= (16,8))\n",
    "sns.barplot(data= df, x='Year', y='Total Goals')\n",
    "ax.set_title('Average of Goals for Match for Each Year')\n",
    "plt.show()"
   ],
   "execution_count":4,
   "outputs":[
    {
     "data":{
      "image\/png":"[encoded data removed]"
     },
     "metadata":{
      "image\/png":{
       
      }
     },
     "output_type":"display_data"
    }
   ],
   "metadata":{
    "datalore":{
     "type":"CODE",
     "hide_input_from_viewers":false,
     "hide_output_from_viewers":false,
     "node_id":"rF9yczy1yut5xnZg2jpKjk"
    }
   }
  },
  {
   "cell_type":"markdown",
   "source":[
    "Now we are going to create a box plot so we can visualize the distribution of the goals data instead of just the average with a bar chart."
   ],
   "attachments":{
    
   },
   "metadata":{
    "datalore":{
     "type":"MD",
     "hide_input_from_viewers":false,
     "hide_output_from_viewers":false,
     "node_id":"YVfIDJ1EZxdW3h0tdmkfwr"
    }
   }
  },
  {
   "cell_type":"code",
   "source":[
    "df_goals = pd.read_csv('goals.csv')\n",
    "\n",
    "df_goals.head()"
   ],
   "execution_count":5,
   "outputs":[
    {
     "data":{
      "text\/html":[
       "<div>\n",
       "<style scoped>\n",
       "    .dataframe tbody tr th:only-of-type {\n",
       "        vertical-align: middle;\n",
       "    }\n",
       "\n",
       "    .dataframe tbody tr th {\n",
       "        vertical-align: top;\n",
       "    }\n",
       "\n",
       "    .dataframe thead th {\n",
       "        text-align: right;\n",
       "    }\n",
       "<\/style>\n",
       "<table border=\"1\" class=\"dataframe\">\n",
       "  <thead>\n",
       "    <tr style=\"text-align: right;\">\n",
       "      <th><\/th>\n",
       "      <th>goals<\/th>\n",
       "      <th>home\/away<\/th>\n",
       "      <th>year<\/th>\n",
       "    <\/tr>\n",
       "  <\/thead>\n",
       "  <tbody>\n",
       "    <tr>\n",
       "      <th>0<\/th>\n",
       "      <td>4<\/td>\n",
       "      <td>home<\/td>\n",
       "      <td>1930<\/td>\n",
       "    <\/tr>\n",
       "    <tr>\n",
       "      <th>1<\/th>\n",
       "      <td>3<\/td>\n",
       "      <td>home<\/td>\n",
       "      <td>1930<\/td>\n",
       "    <\/tr>\n",
       "    <tr>\n",
       "      <th>2<\/th>\n",
       "      <td>2<\/td>\n",
       "      <td>home<\/td>\n",
       "      <td>1930<\/td>\n",
       "    <\/tr>\n",
       "    <tr>\n",
       "      <th>3<\/th>\n",
       "      <td>3<\/td>\n",
       "      <td>home<\/td>\n",
       "      <td>1930<\/td>\n",
       "    <\/tr>\n",
       "    <tr>\n",
       "      <th>4<\/th>\n",
       "      <td>1<\/td>\n",
       "      <td>home<\/td>\n",
       "      <td>1930<\/td>\n",
       "    <\/tr>\n",
       "  <\/tbody>\n",
       "<\/table>\n",
       "<\/div>"
      ]
     },
     "metadata":{
      
     },
     "output_type":"display_data"
    }
   ],
   "metadata":{
    "datalore":{
     "type":"CODE",
     "hide_input_from_viewers":false,
     "hide_output_from_viewers":false,
     "node_id":"UkO0ASXmYTnBpsUZfEPNsP"
    }
   }
  },
  {
   "cell_type":"code",
   "source":[
    "sns.set_context('notebook', font_scale=1)\n",
    "f, ax2 = plt.subplots(figsize = (12,7))\n",
    "sns.set_palette('Spectral')\n",
    "ax2 = sns.boxplot(data = df_goals, x='year', y='goals')\n",
    "ax2.set_title('Distribution of Goals of Each World Cup')\n",
    "plt.show()"
   ],
   "execution_count":8,
   "outputs":[
    {
     "data":{
      "image\/png":"[encoded data removed]"
     },
     "metadata":{
      "image\/png":{
       
      }
     },
     "output_type":"display_data"
    }
   ],
   "metadata":{
    "datalore":{
     "type":"CODE",
     "hide_input_from_viewers":false,
     "hide_output_from_viewers":false,
     "node_id":"tdYFiVkODrikK0GLD9Khxi"
    }
   }
  }
 ],
 "metadata":{
  "datalore":{
   "version":1,
   "computation_mode":"JUPYTER",
   "package_manager":"pip",
   "base_environment":"default",
   "packages":[
    
   ]
  }
 },
 "nbformat":4,
 "nbformat_minor":4
}