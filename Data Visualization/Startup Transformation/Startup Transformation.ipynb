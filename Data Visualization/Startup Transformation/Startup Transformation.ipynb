{
  "cells":[
    {
      "cell_type":"markdown",
      "source":[
        "# Startup Transformation\n",
        "In this project, we’ll work as a data analyst for a tech startup that is looking to improve its operations after a global pandemic has taken the world by storm.\n",
        "\n",
        "We will apply data transformation techniques to make better sense of the company’s data and help answer important questions such as:\n",
        "\n",
        "- Is the company in good financial health?\n",
        "- Does the company need to let go of any employees?\n",
        "- Should the company allow employees to work from home permanently?\n",
        "  \n",
        "Let’s get started!"
      ],
      "attachments":{
        
      },
      "metadata":{
        "jupyter":{
          "source_hidden":false,
          "outputs_hidden":false
        },
        "datalore":{
          "type":"MD",
          "sheet_delimiter":false
        }
      }
    },
    {
      "cell_type":"code",
      "source":[
        "#Import libraries \n",
        "from sklearn import preprocessing\n",
        "import matplotlib.pyplot as plt\n",
        "import pandas as pd\n",
        "import seaborn as sns\n",
        "import numpy as np"
      ],
      "execution_count":1,
      "outputs":[
        
      ],
      "metadata":{
        "jupyter":{
          "source_hidden":false,
          "outputs_hidden":false
        },
        "datalore":{
          "type":"CODE",
          "sheet_delimiter":false
        }
      }
    },
    {
      "cell_type":"markdown",
      "source":[
        "## Analyzing Revenue And Expenses \n",
        "\n",
        "The management team of the company we work for is concerned about the status of the company after a global pandemic.\n",
        "\n",
        "The CFO (Chief Financial Officer) asks us to perform some data analysis on the past six months of the company’s financial data, which has been loaded in the variable financial_data."
      ],
      "attachments":{
        
      },
      "metadata":{
        "jupyter":{
          "source_hidden":false,
          "outputs_hidden":false
        },
        "datalore":{
          "type":"MD",
          "sheet_delimiter":false
        }
      }
    },
    {
      "cell_type":"code",
      "source":[
        "# load in financial data\n",
        "financial_data = pd.read_csv('financial_data.csv')\n",
        "print(financial_data.head())"
      ],
      "execution_count":2,
      "outputs":[
        {
          "name":"stdout",
          "text":[
            "   Month  Revenue  Expenses\n",
            "0      1  1420000    510000\n",
            "1      2  1200000    532000\n",
            "2      3  1050000    551000\n",
            "3      4   920000    612000\n",
            "4      5   807000    628000\n"
          ],
          "output_type":"stream"
        }
      ],
      "metadata":{
        "jupyter":{
          "source_hidden":false,
          "outputs_hidden":false
        },
        "datalore":{
          "type":"CODE",
          "sheet_delimiter":false
        }
      }
    },
    {
      "cell_type":"markdown",
      "source":[
        "\n",
        "Notice that financial_data has three columns – Month, Revenue, and Expenses.\n",
        "\n",
        "Let's store each column in three separate variables called month, revenue, and expenses."
      ],
      "attachments":{
        
      },
      "metadata":{
        "jupyter":{
          "source_hidden":false,
          "outputs_hidden":false
        },
        "datalore":{
          "type":"MD",
          "sheet_delimiter":false
        }
      }
    },
    {
      "cell_type":"code",
      "source":[
        "month = financial_data['Month']\n",
        "revenue = financial_data['Revenue']\n",
        "expenses = financial_data['Expenses']"
      ],
      "execution_count":3,
      "outputs":[
        
      ],
      "metadata":{
        "jupyter":{
          "source_hidden":false,
          "outputs_hidden":false
        },
        "datalore":{
          "type":"CODE",
          "sheet_delimiter":false
        }
      }
    },
    {
      "cell_type":"markdown",
      "source":[
        "Let's plot the revenue over the last six months to see where we're heading: "
      ],
      "attachments":{
        
      },
      "metadata":{
        "jupyter":{
          "source_hidden":false,
          "outputs_hidden":false
        },
        "datalore":{
          "type":"MD",
          "sheet_delimiter":false
        }
      }
    },
    {
      "cell_type":"code",
      "source":[
        "plt.plot(month, revenue)\n",
        "plt.xlabel('Month')\n",
        "plt.ylabel('Amount ($)')\n",
        "plt.title('Revenue Over the Past Six Months')\n",
        "plt.show()"
      ],
      "execution_count":4,
      "outputs":[
        {
          "data":{
            "image\/png":"[encoded data removed]"
          },
          "metadata":{
            "image\/png":{
              
            }
          },
          "output_type":"display_data"
        }
      ],
      "metadata":{
        "jupyter":{
          "source_hidden":false,
          "outputs_hidden":false
        },
        "datalore":{
          "type":"CODE",
          "sheet_delimiter":false
        }
      }
    },
    {
      "cell_type":"markdown",
      "source":[
        "**Result:** Over the past six months the revenue has fallen from $$1,420,000 to $807,000"
      ],
      "attachments":{
        
      },
      "metadata":{
        "jupyter":{
          "source_hidden":false,
          "outputs_hidden":false
        },
        "datalore":{
          "type":"MD",
          "sheet_delimiter":false
        }
      }
    },
    {
      "cell_type":"markdown",
      "source":[
        "Let's now plot the expenses over the past six months "
      ],
      "attachments":{
        
      },
      "metadata":{
        "jupyter":{
          "source_hidden":false,
          "outputs_hidden":false
        },
        "datalore":{
          "type":"MD",
          "sheet_delimiter":false
        }
      }
    },
    {
      "cell_type":"code",
      "source":[
        "plt.clf()\n",
        "plt.plot(month, expenses)\n",
        "plt.xlabel('Month')\n",
        "plt.ylabel('Amount ($)')\n",
        "plt.title('Expenses Over the Past Six Months')\n",
        "plt.show()"
      ],
      "execution_count":5,
      "outputs":[
        {
          "data":{
            "image\/png":"[encoded data removed]"
          },
          "metadata":{
            "image\/png":{
              
            }
          },
          "output_type":"display_data"
        }
      ],
      "metadata":{
        "jupyter":{
          "source_hidden":false,
          "outputs_hidden":false
        },
        "datalore":{
          "type":"CODE",
          "sheet_delimiter":false
        }
      }
    },
    {
      "cell_type":"markdown",
      "source":[
        "**Results:** Our expense have risen up from $510,000 to 628,000"
      ],
      "attachments":{
        
      },
      "metadata":{
        "jupyter":{
          "source_hidden":false,
          "outputs_hidden":false
        },
        "datalore":{
          "type":"MD",
          "sheet_delimiter":false
        }
      }
    },
    {
      "cell_type":"markdown",
      "source":[
        "## Pie Chart and Collapsing Categories\n",
        "As shown, revenue seems to be quickly decreasing while expenses are increasing. If the current trend continues, expenses will soon surpass revenues, putting the company at risk.\n",
        "\n",
        "After we show this chart to the management team, they are alarmed. They conclude that expenses must be cut immediately and give us a new file to analyze called expenses.csv.\n",
        "\n",
        "Let's load it and print it out. "
      ],
      "attachments":{
        
      },
      "metadata":{
        "jupyter":{
          "source_hidden":false,
          "outputs_hidden":false
        },
        "datalore":{
          "type":"MD",
          "sheet_delimiter":false
        }
      }
    },
    {
      "cell_type":"code",
      "source":[
        "expense_overview = pd.read_csv('expenses.csv')\n",
        "print(expense_overview)"
      ],
      "execution_count":6,
      "outputs":[
        {
          "name":"stdout",
          "text":[
            "       Expense  Proportion\n",
            "0     Salaries        0.62\n",
            "1  Advertising        0.15\n",
            "2  Office Rent        0.15\n",
            "3    Equipment        0.03\n",
            "4    Utilities        0.03\n",
            "5      Supples        0.01\n",
            "6         Food        0.01\n"
          ],
          "output_type":"stream"
        }
      ],
      "metadata":{
        "jupyter":{
          "source_hidden":false,
          "outputs_hidden":false
        },
        "datalore":{
          "type":"CODE",
          "sheet_delimiter":false
        }
      }
    },
    {
      "cell_type":"markdown",
      "source":[
        "Notice that there are two columns:\n",
        "\n",
        "- **Expense:** indicates the expense category\n",
        "- **Proportion:** indicates how much of the overall expenses a specific category takes up\n",
        "  \n",
        "Let's store the Expense column in a variable called expense_categories and the Proportion column in a variable called proportions.\n",
        "\n",
        "**Note:** The categories of Equipment, Utilities, Supplies and Food, since they are small compared to the others, we are putting them in a single category with the name of others. "
      ],
      "attachments":{
        
      },
      "metadata":{
        "jupyter":{
          "source_hidden":false,
          "outputs_hidden":false
        },
        "datalore":{
          "type":"MD",
          "sheet_delimiter":false
        }
      }
    },
    {
      "cell_type":"code",
      "source":[
        "expense_categories = ['Salaries', 'Advertising', 'Office Rent', 'Other']\n",
        "proportions = [0.62, 0.15, 0.15, 0.08]"
      ],
      "execution_count":7,
      "outputs":[
        
      ],
      "metadata":{
        "jupyter":{
          "source_hidden":false,
          "outputs_hidden":false
        },
        "datalore":{
          "type":"CODE",
          "sheet_delimiter":false
        }
      }
    },
    {
      "cell_type":"markdown",
      "source":[
        "Let's graph our columns in a pie chart to visualize it better "
      ],
      "attachments":{
        
      },
      "metadata":{
        "jupyter":{
          "source_hidden":false,
          "outputs_hidden":false
        },
        "datalore":{
          "type":"MD",
          "sheet_delimiter":false
        }
      }
    },
    {
      "cell_type":"code",
      "source":[
        "plt.clf()\n",
        "plt.pie(proportions, labels = expense_categories)\n",
        "plt.title('Expense Categories')\n",
        "plt.axis('Equal')\n",
        "plt.tight_layout()\n",
        "plt.show()"
      ],
      "execution_count":8,
      "outputs":[
        {
          "data":{
            "image\/png":"[encoded data removed]"
          },
          "metadata":{
            "image\/png":{
              
            }
          },
          "output_type":"display_data"
        }
      ],
      "metadata":{
        "jupyter":{
          "source_hidden":false,
          "outputs_hidden":false
        },
        "datalore":{
          "type":"CODE",
          "sheet_delimiter":false
        }
      }
    },
    {
      "cell_type":"markdown",
      "source":[
        "It seems that Salaries, Advertising, and Office Rent make up most of the expenses, while the rest of the categories make up a small percentage. This simplified pie chart helps the management team see a big picture view of the company’s expenses without getting distracted by noisy data.\n",
        "\n",
        "**Results:** If the company wants to cut costs in a big way, the category we should focus on is the salary one. "
      ],
      "attachments":{
        
      },
      "metadata":{
        "jupyter":{
          "source_hidden":false,
          "outputs_hidden":false
        },
        "datalore":{
          "type":"MD",
          "sheet_delimiter":false
        }
      }
    },
    {
      "cell_type":"markdown",
      "source":[
        "## Employee Productivity \n",
        "Salaries make up 62% of expenses. The management team determines that to cut costs in a meaningful way, they must let go of some employees.\n",
        "\n",
        "Each employee at the company is assigned a productivity score based on their work. The management would like to keep the most highly productive employees and let go of the least productive employees.\n",
        "\n",
        "First, let's load the data and print it to see what it is all about. "
      ],
      "attachments":{
        
      },
      "metadata":{
        "jupyter":{
          "source_hidden":false,
          "outputs_hidden":false
        },
        "datalore":{
          "type":"MD",
          "sheet_delimiter":false
        }
      }
    },
    {
      "cell_type":"code",
      "source":[
        "employees = pd.read_csv('employees.csv')\n",
        "print(employees.head())"
      ],
      "execution_count":9,
      "outputs":[
        {
          "name":"stdout",
          "text":[
            "                Name  Salary  Productivity  Commute Time\n",
            "0     Mason Pender     87902         29.91         16.79\n",
            "1          Mia Rew     95672         49.91         44.48\n",
            "2   Jalisa Kroenke    177864         78.00         19.40\n",
            "3  Krystal Homeyer    186643         24.36         42.06\n",
            "4    Kiana Wishart    167148          4.08         25.58\n"
          ],
          "output_type":"stream"
        }
      ],
      "metadata":{
        "jupyter":{
          "source_hidden":false,
          "outputs_hidden":false
        },
        "datalore":{
          "type":"CODE",
          "sheet_delimiter":false
        }
      }
    },
    {
      "cell_type":"markdown",
      "source":[
        "We notice that there is a Productivity column, which indicates the productivity score assigned to that employee.\n",
        "\n",
        "Let's sort the employees' data frame (in ascending order) by the Productivity column and store the result in a variable called sorted_productivity."
      ],
      "attachments":{
        
      },
      "metadata":{
        "jupyter":{
          "source_hidden":false,
          "outputs_hidden":false
        },
        "datalore":{
          "type":"MD",
          "sheet_delimiter":false
        }
      }
    },
    {
      "cell_type":"code",
      "source":[
        "sorted_productivity = employees.sort_values(by=['Productivity'])\n",
        "print(sorted_productivity)"
      ],
      "execution_count":10,
      "outputs":[
        {
          "name":"stdout",
          "text":[
            "                  Name  Salary  Productivity  Commute Time\n",
            "259       Wilber Rye    111647          0.06         49.42\n",
            "92    Fredric Gandee    154469          0.24         22.48\n",
            "252  Johnson Fordham    168684          1.46         22.39\n",
            "178    Lilia Lemoine    167579          1.67         27.36\n",
            "162   Hilma Laughton     85506          1.79         36.41\n",
            "..                 ...     ...           ...           ...\n",
            "164      Miki Hartle     50856         99.54         31.39\n",
            "88        Darell Nau     30530         99.63         44.25\n",
            "23    Joaquina Neece     95562         99.66         48.65\n",
            "202    Janae Officer    110139         99.69         15.45\n",
            "6    Jacinta Dunford    130968         99.98         44.53\n",
            "\n",
            "[300 rows x 4 columns]\n"
          ],
          "output_type":"stream"
        }
      ],
      "metadata":{
        "jupyter":{
          "source_hidden":false,
          "outputs_hidden":false
        },
        "datalore":{
          "type":"CODE",
          "sheet_delimiter":false
        }
      }
    },
    {
      "cell_type":"markdown",
      "source":[
        "We should now see the employees with the lowest productivity scores at the top of the data frame. The company decides to let go of the 100 least productive employees. \n",
        "\n",
        "Let's store the first 100 rows of sorted_productivity in a new variable called employees_cut and print out the result.\n",
        "\n",
        "Unfortunately, this batch of employees won’t be so lucky."
      ],
      "attachments":{
        
      },
      "metadata":{
        "jupyter":{
          "source_hidden":false,
          "outputs_hidden":false
        },
        "datalore":{
          "type":"MD",
          "sheet_delimiter":false
        }
      }
    },
    {
      "cell_type":"code",
      "source":[
        "employees_cut = sorted_productivity.head(100)\n",
        "print(employees_cut)"
      ],
      "execution_count":11,
      "outputs":[
        {
          "name":"stdout",
          "text":[
            "                       Name  Salary  Productivity  Commute Time\n",
            "259            Wilber Rye    111647          0.06         49.42\n",
            "92         Fredric Gandee    154469          0.24         22.48\n",
            "252       Johnson Fordham    168684          1.46         22.39\n",
            "178         Lilia Lemoine    167579          1.67         27.36\n",
            "162        Hilma Laughton     85506          1.79         36.41\n",
            "..                      ...     ...           ...           ...\n",
            "43   Bernardo Klingenberg     55464         34.52         32.27\n",
            "186        Ashleigh Istre    178627         34.70         38.67\n",
            "288       Penni Kimbrough    142680         35.21         49.64\n",
            "269      Margot Mackenzie    114302         35.79         19.87\n",
            "218        Quinn Frampton     44000         36.36         34.12\n",
            "\n",
            "[100 rows x 4 columns]\n"
          ],
          "output_type":"stream"
        }
      ],
      "metadata":{
        "jupyter":{
          "source_hidden":false,
          "outputs_hidden":false
        },
        "datalore":{
          "type":"CODE",
          "sheet_delimiter":false
        }
      }
    },
    {
      "cell_type":"markdown",
      "source":[
        "## Commute Times and Log Transformation\n",
        "The COO (Chief Operating Officer) is debating whether to allow employees to continue to work from home post-pandemic. He first wants to take a look at roughly how long the average commute time is for employees at the company. He asks for out help to analyze this data.\n",
        "\n",
        "The employees data frame has a column called Commute Time that stores the commute time (in minutes) for each employee. Let's create a variable called commute_times that stores the Commute Time column."
      ],
      "attachments":{
        
      },
      "metadata":{
        "jupyter":{
          "source_hidden":false,
          "outputs_hidden":false
        },
        "datalore":{
          "type":"MD",
          "sheet_delimiter":false
        }
      }
    },
    {
      "cell_type":"code",
      "source":[
        "commute_times = sorted_productivity['Commute Time']"
      ],
      "execution_count":12,
      "outputs":[
        
      ],
      "metadata":{
        "jupyter":{
          "source_hidden":false,
          "outputs_hidden":false
        },
        "datalore":{
          "type":"CODE",
          "sheet_delimiter":false
        }
      }
    },
    {
      "cell_type":"markdown",
      "source":[
        "\n",
        "Let’s do some quick analysis on the commute times of employees.We'll be using print() and .describe() to print out descriptive statistics for commute_times.\n",
        "\n",
        "**What are the average and median commute times?** It might be worth it for the company to explore allowing remote work indefinitely so employees can save time during the day."
      ],
      "attachments":{
        
      },
      "metadata":{
        "jupyter":{
          "source_hidden":false,
          "outputs_hidden":false
        },
        "datalore":{
          "type":"MD",
          "sheet_delimiter":false
        }
      }
    },
    {
      "cell_type":"code",
      "source":[
        "print(commute_times.head())\n",
        "print(commute_times.describe())"
      ],
      "execution_count":13,
      "outputs":[
        {
          "name":"stdout",
          "text":[
            "259    49.42\n",
            "92     22.48\n",
            "252    22.39\n",
            "178    27.36\n",
            "162    36.41\n",
            "Name: Commute Time, dtype: float64\n",
            "count    300.000000\n",
            "mean      33.441700\n",
            "std       16.128369\n",
            "min        3.220000\n",
            "25%       21.667500\n",
            "50%       31.060000\n",
            "75%       42.190000\n",
            "max      101.780000\n",
            "Name: Commute Time, dtype: float64\n"
          ],
          "output_type":"stream"
        }
      ],
      "metadata":{
        "jupyter":{
          "source_hidden":false,
          "outputs_hidden":false
        },
        "datalore":{
          "type":"CODE",
          "sheet_delimiter":false
        }
      }
    },
    {
      "cell_type":"markdown",
      "source":[
        "**Results:** The mean time for commute is 33 minutes and the median is 31 minutes but there is a max commute of 1 hour 41 minutes"
      ],
      "attachments":{
        
      },
      "metadata":{
        "jupyter":{
          "source_hidden":false,
          "outputs_hidden":false
        },
        "datalore":{
          "type":"MD",
          "sheet_delimiter":false
        }
      }
    },
    {
      "cell_type":"markdown",
      "source":[
        "Let's explore the histogram of the commute times to see more clearly our data"
      ],
      "attachments":{
        
      },
      "metadata":{
        "jupyter":{
          "source_hidden":false,
          "outputs_hidden":false
        },
        "datalore":{
          "type":"MD",
          "sheet_delimiter":false
        }
      }
    },
    {
      "cell_type":"code",
      "source":[
        "plt.clf()\n",
        "plt.hist(commute_times)\n",
        "plt.title('Commute Times of Employees')\n",
        "plt.xlabel('Minutes')\n",
        "plt.ylabel('Count')\n",
        "plt.show()"
      ],
      "execution_count":14,
      "outputs":[
        {
          "data":{
            "image\/png":"[encoded data removed]"
          },
          "metadata":{
            "image\/png":{
              
            }
          },
          "output_type":"display_data"
        }
      ],
      "metadata":{
        "jupyter":{
          "source_hidden":false,
          "outputs_hidden":false
        },
        "datalore":{
          "type":"CODE",
          "sheet_delimiter":false
        }
      }
    },
    {
      "cell_type":"markdown",
      "source":[
        "The data seems to be skewed to the right. To make it more symmetrical, we might try applying a log transformation."
      ],
      "attachments":{
        
      },
      "metadata":{
        "jupyter":{
          "source_hidden":false,
          "outputs_hidden":false
        },
        "datalore":{
          "type":"MD",
          "sheet_delimiter":false
        }
      }
    },
    {
      "cell_type":"code",
      "source":[
        "commute_times_log = np.log(commute_times)\n",
        "plt.clf()\n",
        "plt.hist(commute_times_log)\n",
        "plt.title('Commute Times of Employees (Logged)')\n",
        "plt.xlabel('Minutes')\n",
        "plt.ylabel('Count')\n",
        "plt.show()"
      ],
      "execution_count":15,
      "outputs":[
        {
          "data":{
            "image\/png":"[encoded data removed]"
          },
          "metadata":{
            "image\/png":{
              
            }
          },
          "output_type":"display_data"
        }
      ],
      "metadata":{
        "jupyter":{
          "source_hidden":false,
          "outputs_hidden":false
        },
        "datalore":{
          "type":"CODE",
          "sheet_delimiter":false
        }
      }
    },
    {
      "cell_type":"markdown",
      "source":[
        "Notice how the shape of the data changes from being right skewed to a more symmetrical (and even slightly left-skewed) in shape. After applying log transformation, the transformed data is more “normal” than before."
      ],
      "attachments":{
        
      },
      "metadata":{
        "jupyter":{
          "source_hidden":false,
          "outputs_hidden":false
        },
        "datalore":{
          "type":"MD",
          "sheet_delimiter":false
        }
      }
    },
    {
      "cell_type":"code",
      "source":[
        
      ],
      "execution_count":null,
      "outputs":[
        
      ],
      "metadata":{
        "jupyter":{
          "source_hidden":false,
          "outputs_hidden":false
        },
        "datalore":{
          "type":"CODE",
          "sheet_delimiter":false
        }
      }
    }
  ],
  "metadata":{
    "datalore":{
      "version":1,
      "computation_mode":"JUPYTER",
      "package_manager":"pip",
      "base_environment":"default",
      "packages":[
        
      ]
    }
  },
  "nbformat":4,
  "nbformat_minor":4
}