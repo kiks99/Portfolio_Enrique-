{
  "cells":[
    {
      "cell_type":"markdown",
      "source":[
        "# A\/B Testing for Shoefly.com\n",
        "\n",
        "Our favorite online shoe store, ShoeFly.com is performing an A\/B Test. We have two different versions of an ad, which they have placed in emails, as well as in banner ads on Facebook, Twitter, and Google. We want to know how the two ads are performing on each of the different platforms on each day of the week. We are going to analyze the data using aggregate measures."
      ],
      "attachments":{
        
      },
      "metadata":{
        "jupyter":{
          "source_hidden":false,
          "outputs_hidden":false
        },
        "datalore":{
          "type":"MD",
          "sheet_delimiter":false
        }
      }
    },
    {
      "cell_type":"markdown",
      "source":[
        "- Analyzing Ad Sources"
      ],
      "attachments":{
        
      },
      "metadata":{
        "jupyter":{
          "source_hidden":false,
          "outputs_hidden":false
        },
        "datalore":{
          "type":"MD",
          "sheet_delimiter":false
        }
      }
    },
    {
      "cell_type":"code",
      "source":[
        "import pandas as pd\n",
        "\n",
        "ad_clicks = pd.read_csv('ad_clicks.csv')\n",
        "print(ad_clicks.head())"
      ],
      "execution_count":5,
      "outputs":[
        {
          "name":"stdout",
          "text":[
            "                                user_id  ... experimental_group\n",
            "0  008b7c6c-7272-471e-b90e-930d548bd8d7  ...                  A\n",
            "1  009abb94-5e14-4b6c-bb1c-4f4df7aa7557  ...                  B\n",
            "2  00f5d532-ed58-4570-b6d2-768df5f41aed  ...                  A\n",
            "3  011adc64-0f44-4fd9-a0bb-f1506d2ad439  ...                  B\n",
            "4  012137e6-7ae7-4649-af68-205b4702169c  ...                  B\n",
            "\n",
            "[5 rows x 5 columns]\n"
          ],
          "output_type":"stream"
        }
      ],
      "metadata":{
        "jupyter":{
          "source_hidden":false,
          "outputs_hidden":false
        },
        "datalore":{
          "type":"CODE",
          "sheet_delimiter":false
        }
      }
    },
    {
      "cell_type":"markdown",
      "source":[
        "We want to know which ad platform is getting the most views.\n",
        "\n",
        "How many views (i.e., rows of the table) came from each utm_source?"
      ],
      "attachments":{
        
      },
      "metadata":{
        "jupyter":{
          "source_hidden":false,
          "outputs_hidden":false
        },
        "datalore":{
          "type":"MD",
          "sheet_delimiter":false
        }
      }
    },
    {
      "cell_type":"code",
      "source":[
        "most_views = ad_clicks.groupby('utm_source').user_id.count().reset_index()\n",
        "print(most_views)"
      ],
      "execution_count":6,
      "outputs":[
        {
          "name":"stdout",
          "text":[
            "  utm_source  user_id\n",
            "0      email      255\n",
            "1   facebook      504\n",
            "2     google      680\n",
            "3    twitter      215\n"
          ],
          "output_type":"stream"
        }
      ],
      "metadata":{
        "jupyter":{
          "source_hidden":false,
          "outputs_hidden":false
        },
        "datalore":{
          "type":"CODE",
          "sheet_delimiter":false
        }
      }
    },
    {
      "cell_type":"markdown",
      "source":[
        "\n",
        "If the column ad_click_timestamp is not null, then someone actually clicked on the ad that was displayed.Let's make a new column called is_click, which is True if ad_click_timestamp is not null and False otherwise."
      ],
      "attachments":{
        
      },
      "metadata":{
        "jupyter":{
          "source_hidden":false,
          "outputs_hidden":false
        },
        "datalore":{
          "type":"MD",
          "sheet_delimiter":false
        }
      }
    },
    {
      "cell_type":"code",
      "source":[
        "ad_clicks['is_click'] = ~ad_clicks.ad_click_timestamp.isnull()\n",
        "print(ad_clicks.head())"
      ],
      "execution_count":7,
      "outputs":[
        {
          "name":"stdout",
          "text":[
            "                                user_id utm_source  ... experimental_group is_click\n",
            "0  008b7c6c-7272-471e-b90e-930d548bd8d7     google  ...                  A     True\n",
            "1  009abb94-5e14-4b6c-bb1c-4f4df7aa7557   facebook  ...                  B    False\n",
            "2  00f5d532-ed58-4570-b6d2-768df5f41aed    twitter  ...                  A    False\n",
            "3  011adc64-0f44-4fd9-a0bb-f1506d2ad439     google  ...                  B    False\n",
            "4  012137e6-7ae7-4649-af68-205b4702169c   facebook  ...                  B    False\n",
            "\n",
            "[5 rows x 6 columns]\n"
          ],
          "output_type":"stream"
        }
      ],
      "metadata":{
        "jupyter":{
          "source_hidden":false,
          "outputs_hidden":false
        },
        "datalore":{
          "type":"CODE",
          "sheet_delimiter":false
        }
      }
    },
    {
      "cell_type":"markdown",
      "source":[
        "\n",
        "We want to know the percent of people who clicked on ads from each utm_source. We'll start by grouping by utm_source and is_click and counting the number of user_id‘s in each of those groups."
      ],
      "attachments":{
        
      },
      "metadata":{
        "jupyter":{
          "source_hidden":false,
          "outputs_hidden":false
        },
        "datalore":{
          "type":"MD",
          "sheet_delimiter":false
        }
      }
    },
    {
      "cell_type":"code",
      "source":[
        "clicks_by_source = ad_clicks.groupby(['utm_source', 'is_click']).user_id.count().reset_index()\n",
        "print(clicks_by_source)"
      ],
      "execution_count":8,
      "outputs":[
        {
          "name":"stdout",
          "text":[
            "  utm_source  is_click  user_id\n",
            "0      email     False      175\n",
            "1      email      True       80\n",
            "2   facebook     False      324\n",
            "3   facebook      True      180\n",
            "4     google     False      441\n",
            "5     google      True      239\n",
            "6    twitter     False      149\n",
            "7    twitter      True       66\n"
          ],
          "output_type":"stream"
        }
      ],
      "metadata":{
        "jupyter":{
          "source_hidden":false,
          "outputs_hidden":false
        },
        "datalore":{
          "type":"CODE",
          "sheet_delimiter":false
        }
      }
    },
    {
      "cell_type":"markdown",
      "source":[
        "Now let's pivot the data so that the columns are is_click (either True or False), the index is utm_source and the values are user_id"
      ],
      "attachments":{
        
      },
      "metadata":{
        "jupyter":{
          "source_hidden":false,
          "outputs_hidden":false
        },
        "datalore":{
          "type":"MD",
          "sheet_delimiter":false
        }
      }
    },
    {
      "cell_type":"code",
      "source":[
        "clicks_pivot= clicks_by_source.pivot(\n",
        "    columns= 'is_click',\n",
        "    index= 'utm_source',\n",
        "    values= 'user_id'\n",
        ")\n",
        "print(clicks_pivot)"
      ],
      "execution_count":10,
      "outputs":[
        {
          "name":"stdout",
          "text":[
            "is_click    False  True\n",
            "utm_source             \n",
            "email         175    80\n",
            "facebook      324   180\n",
            "google        441   239\n",
            "twitter       149    66\n"
          ],
          "output_type":"stream"
        }
      ],
      "metadata":{
        "jupyter":{
          "source_hidden":false,
          "outputs_hidden":false
        },
        "datalore":{
          "type":"CODE",
          "sheet_delimiter":false
        }
      }
    },
    {
      "cell_type":"markdown",
      "source":[
        "Let's create a new column in clicks_pivot called percent_clicked which is equal to the percent of users who clicked on the ad from each utm_source.\n",
        "\n",
        "Was there a difference in click rates for each source?"
      ],
      "attachments":{
        
      },
      "metadata":{
        "jupyter":{
          "source_hidden":false,
          "outputs_hidden":false
        },
        "datalore":{
          "type":"MD",
          "sheet_delimiter":false
        }
      }
    },
    {
      "cell_type":"code",
      "source":[
        "clicks_pivot['percent_clicked'] = clicks_pivot[True] \/ (clicks_pivot[True] + clicks_pivot[False])\n",
        "print(clicks_pivot)"
      ],
      "execution_count":11,
      "outputs":[
        {
          "name":"stdout",
          "text":[
            "is_click    False  True  percent_clicked\n",
            "utm_source                              \n",
            "email         175    80         0.313725\n",
            "facebook      324   180         0.357143\n",
            "google        441   239         0.351471\n",
            "twitter       149    66         0.306977\n"
          ],
          "output_type":"stream"
        }
      ],
      "metadata":{
        "jupyter":{
          "source_hidden":false,
          "outputs_hidden":false
        },
        "datalore":{
          "type":"CODE",
          "sheet_delimiter":false
        }
      }
    },
    {
      "cell_type":"markdown",
      "source":[
        "- Analyzing an A\/B Test"
      ],
      "attachments":{
        
      },
      "metadata":{
        "jupyter":{
          "source_hidden":false,
          "outputs_hidden":false
        },
        "datalore":{
          "type":"MD",
          "sheet_delimiter":false
        }
      }
    },
    {
      "cell_type":"markdown",
      "source":[
        "The column experimental_group tells us whether the user was shown Ad A or Ad B.\n",
        "Were approximately the same number of people shown both ads?"
      ],
      "attachments":{
        
      },
      "metadata":{
        "jupyter":{
          "source_hidden":false,
          "outputs_hidden":false
        },
        "datalore":{
          "type":"MD",
          "sheet_delimiter":false
        }
      }
    },
    {
      "cell_type":"code",
      "source":[
        "number_of_people = ad_clicks.groupby('experimental_group').user_id.count().reset_index()\n",
        "print(number_of_people)"
      ],
      "execution_count":13,
      "outputs":[
        {
          "name":"stdout",
          "text":[
            "  experimental_group  user_id\n",
            "0                  A      827\n",
            "1                  B      827\n"
          ],
          "output_type":"stream"
        }
      ],
      "metadata":{
        "jupyter":{
          "source_hidden":false,
          "outputs_hidden":false
        },
        "datalore":{
          "type":"CODE",
          "sheet_delimiter":false
        }
      }
    },
    {
      "cell_type":"markdown",
      "source":[
        "Using the column is_click that we defined earlier, check to see if a greater percentage of users clicked on Ad A or Ad B"
      ],
      "attachments":{
        
      },
      "metadata":{
        "jupyter":{
          "source_hidden":false,
          "outputs_hidden":false
        },
        "datalore":{
          "type":"MD",
          "sheet_delimiter":false
        }
      }
    },
    {
      "cell_type":"code",
      "source":[
        "number_of_As_and_Bs = ad_clicks.groupby(['experimental_group', 'is_click']).user_id.count().reset_index()\n",
        "print(number_of_As_and_Bs)"
      ],
      "execution_count":14,
      "outputs":[
        {
          "name":"stdout",
          "text":[
            "  experimental_group  is_click  user_id\n",
            "0                  A     False      517\n",
            "1                  A      True      310\n",
            "2                  B     False      572\n",
            "3                  B      True      255\n"
          ],
          "output_type":"stream"
        }
      ],
      "metadata":{
        "jupyter":{
          "source_hidden":false,
          "outputs_hidden":false
        },
        "datalore":{
          "type":"CODE",
          "sheet_delimiter":false
        }
      }
    },
    {
      "cell_type":"markdown",
      "source":[
        "We think that the clicks might have changed by the day of the week. Let's start by creating two dataframes: a_clicks and b_clicks, which contain only the results for A group and B group, respectively. "
      ],
      "attachments":{
        
      },
      "metadata":{
        "jupyter":{
          "source_hidden":false,
          "outputs_hidden":false
        },
        "datalore":{
          "type":"MD",
          "sheet_delimiter":false
        }
      }
    },
    {
      "cell_type":"code",
      "source":[
        "a_clicks = ad_clicks[ad_clicks.experimental_group == 'A'].reset_index()\n",
        "b_clicks = ad_clicks[ad_clicks.experimental_group == 'B'].reset_index()\n",
        "print(a_clicks)\n",
        "print(b_clicks)"
      ],
      "execution_count":16,
      "outputs":[
        {
          "name":"stdout",
          "text":[
            "     index                               user_id  ... experimental_group is_click\n",
            "0        0  008b7c6c-7272-471e-b90e-930d548bd8d7  ...                  A     True\n",
            "1        2  00f5d532-ed58-4570-b6d2-768df5f41aed  ...                  A    False\n",
            "2        5  013b0072-7b72-40e7-b698-98b4d0c9967f  ...                  A    False\n",
            "3        6  0153d85b-7660-4c39-92eb-1e1acd023280  ...                  A    False\n",
            "4        7  01555297-d6e6-49ae-aeba-1b196fdbb09f  ...                  A    False\n",
            "..     ...                                   ...  ...                ...      ...\n",
            "822   1643  fceb13ea-fd8c-446a-a61f-f977d404330a  ...                  A    False\n",
            "823   1646  fd7d06ea-38b5-4ed9-acc9-777047db8c56  ...                  A    False\n",
            "824   1647  fe570a20-448f-40ed-930b-8482b8a7c231  ...                  A     True\n",
            "825   1649  fe8b5236-78f6-4192-9da6-a76bba67cfe6  ...                  A    False\n",
            "826   1652  ff3af0d6-b092-4c4d-9f2e-2bdd8f7c0732  ...                  A     True\n",
            "\n",
            "[827 rows x 7 columns]\n",
            "     index                               user_id  ... experimental_group is_click\n",
            "0        1  009abb94-5e14-4b6c-bb1c-4f4df7aa7557  ...                  B    False\n",
            "1        3  011adc64-0f44-4fd9-a0bb-f1506d2ad439  ...                  B    False\n",
            "2        4  012137e6-7ae7-4649-af68-205b4702169c  ...                  B    False\n",
            "3        9  01a210c3-fde0-4e6f-8efd-4f0e38730ae6  ...                  B     True\n",
            "4       10  01adb2e7-f711-4ae4-a7c6-29f48457eea1  ...                  B    False\n",
            "..     ...                                   ...  ...                ...      ...\n",
            "822   1645  fd2a5852-f0ef-4162-84a6-107a42dc46b5  ...                  B    False\n",
            "823   1648  fe6cfa5a-cc63-4770-8d56-c13ac8cf5bef  ...                  B     True\n",
            "824   1650  fed3db6d-8c92-40e3-a4fb-1fb9d7337eb1  ...                  B    False\n",
            "825   1651  ff3a22ff-521c-478c-87ca-7dc7b8f34372  ...                  B    False\n",
            "826   1653  ffdfe7ec-0c74-4623-8d90-d95d80f1ba34  ...                  B    False\n",
            "\n",
            "[827 rows x 7 columns]\n"
          ],
          "output_type":"stream"
        }
      ],
      "metadata":{
        "jupyter":{
          "source_hidden":false,
          "outputs_hidden":false
        },
        "datalore":{
          "type":"CODE",
          "sheet_delimiter":false
        }
      }
    },
    {
      "cell_type":"markdown",
      "source":[
        "For each group (a_clicks and b_clicks), we will calculate the percent of users who clicked on the ad by day."
      ],
      "attachments":{
        
      },
      "metadata":{
        "jupyter":{
          "source_hidden":false,
          "outputs_hidden":false
        },
        "datalore":{
          "type":"MD",
          "sheet_delimiter":false
        }
      }
    },
    {
      "cell_type":"code",
      "source":[
        "clicks_by_day_A = a_clicks.groupby(['day', 'is_click']).user_id.count().reset_index()\n",
        "clicks_by_day_B = b_clicks.groupby(['day', 'is_click']).user_id.count().reset_index()\n",
        "clicks_A_pivot = clicks_by_day_A.pivot(\n",
        "  columns = 'is_click',\n",
        "  index = 'day',\n",
        "  values = 'user_id'\n",
        ")\n",
        "clicks_A_pivot['percent_clicked'] = clicks_A_pivot[True] \/ (clicks_A_pivot[True] + clicks_A_pivot[False])\n",
        "clicks_B_pivot = clicks_by_day_B.pivot(\n",
        "  columns = 'is_click',\n",
        "  index = 'day',\n",
        "  values = 'user_id'\n",
        ")\n",
        "clicks_B_pivot['percent_clicked'] = clicks_B_pivot[True] \/ (clicks_B_pivot[True] + clicks_B_pivot[False])\n",
        "print(clicks_A_pivot)\n",
        "print(clicks_B_pivot)"
      ],
      "execution_count":17,
      "outputs":[
        {
          "name":"stdout",
          "text":[
            "is_click       False  True  percent_clicked\n",
            "day                                        \n",
            "1 - Monday        70    43         0.380531\n",
            "2 - Tuesday       76    43         0.361345\n",
            "3 - Wednesday     86    38         0.306452\n",
            "4 - Thursday      69    47         0.405172\n",
            "5 - Friday        77    51         0.398438\n",
            "6 - Saturday      73    45         0.381356\n",
            "7 - Sunday        66    43         0.394495\n",
            "is_click       False  True  percent_clicked\n",
            "day                                        \n",
            "1 - Monday        81    32         0.283186\n",
            "2 - Tuesday       74    45         0.378151\n",
            "3 - Wednesday     89    35         0.282258\n",
            "4 - Thursday      87    29         0.250000\n",
            "5 - Friday        90    38         0.296875\n",
            "6 - Saturday      76    42         0.355932\n",
            "7 - Sunday        75    34         0.311927\n"
          ],
          "output_type":"stream"
        }
      ],
      "metadata":{
        "jupyter":{
          "source_hidden":false,
          "outputs_hidden":false
        },
        "datalore":{
          "type":"CODE",
          "sheet_delimiter":false
        }
      }
    },
    {
      "cell_type":"markdown",
      "source":[
        "By comparing the result of each ad, we have come to the conclusion that ad A has more percent clicked than B ad. We recommend using the Ad A over the Ad B. "
      ],
      "attachments":{
        
      },
      "metadata":{
        "jupyter":{
          "source_hidden":false,
          "outputs_hidden":false
        },
        "datalore":{
          "type":"MD",
          "sheet_delimiter":false
        }
      }
    }
  ],
  "metadata":{
    "datalore":{
      "version":1,
      "computation_mode":"JUPYTER",
      "package_manager":"pip",
      "base_environment":"default",
      "packages":[
        
      ]
    }
  },
  "nbformat":4,
  "nbformat_minor":4
}