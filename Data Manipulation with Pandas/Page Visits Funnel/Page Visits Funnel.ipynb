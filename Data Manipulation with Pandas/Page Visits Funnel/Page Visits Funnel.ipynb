{
  "cells":[
    {
      "cell_type":"markdown",
      "source":[
        "# Page Visits Funnel \n",
        "\n",
        "Cool T-Shirts Inc. has asked us to analyze data on visits to their website. Our job is to build a funnel, which is a description of how many people continue to the next step of a multi-step process.\n",
        "\n",
        "In this case, our funnel is going to describe the following process:\n",
        "1. A user visits CollTShirts.com\n",
        "2. A user adds a t-shirt to their cart\n",
        "3. A user clicks \"checkout\"\n",
        "4. A user actually purchases a t-shirt "
      ],
      "attachments":{
        
      },
      "metadata":{
        "jupyter":{
          "source_hidden":false,
          "outputs_hidden":false
        },
        "datalore":{
          "type":"MD",
          "sheet_delimiter":false
        }
      }
    },
    {
      "cell_type":"code",
      "source":[
        "import pandas as pd\n",
        "\n",
        "visits = pd.read_csv('visits.csv')\n",
        "cart = pd.read_csv('cart.csv')\n",
        "checkout = pd.read_csv('checkout.csv')\n",
        "purchase = pd.read_csv('purchase.csv')\n",
        "\n",
        "#print(visits.head())\n",
        "#print(cart.head())\n",
        "#print(checkout.head())\n",
        "#print(purchase.head())"
      ],
      "execution_count":4,
      "outputs":[
        {
          "name":"stdout",
          "text":[
            "                                user_id        purchase_time\n",
            "0  4b44ace4-2721-47a0-b24b-15fbfa2abf85  2017-05-11 04:25:00\n",
            "1  02e684ae-a448-408f-a9ff-dcb4a5c99aac  2017-09-05 08:45:00\n",
            "2  4b4bc391-749e-4b90-ab8f-4f6e3c84d6dc  2017-11-20 20:49:00\n",
            "3  a5dbb25f-3c36-4103-9030-9f7c6241cd8d  2017-01-22 15:18:00\n",
            "4  46a3186d-7f5a-4ab9-87af-84d05bfd4867  2017-06-11 11:32:00\n"
          ],
          "output_type":"stream"
        }
      ],
      "metadata":{
        "jupyter":{
          "source_hidden":false,
          "outputs_hidden":false
        },
        "datalore":{
          "type":"CODE",
          "sheet_delimiter":false
        }
      }
    },
    {
      "cell_type":"markdown",
      "source":[
        "Let's combine visits and cart using a left merge "
      ],
      "attachments":{
        
      },
      "metadata":{
        "jupyter":{
          "source_hidden":false,
          "outputs_hidden":false
        },
        "datalore":{
          "type":"MD",
          "sheet_delimiter":false
        }
      }
    },
    {
      "cell_type":"code",
      "source":[
        "visits_cart_left = pd.merge(visits, cart, how='left')\n",
        "print(visits_cart_left)"
      ],
      "execution_count":5,
      "outputs":[
        {
          "name":"stdout",
          "text":[
            "                                   user_id  ...            cart_time\n",
            "0     943647ef-3682-4750-a2e1-918ba6f16188  ...                  NaN\n",
            "1     0c3a3dd0-fb64-4eac-bf84-ba069ce409f2  ...  2017-01-26 14:44:00\n",
            "2     6e0b2d60-4027-4d9a-babd-0e7d40859fb1  ...  2017-08-20 08:31:00\n",
            "3     6879527e-c5a6-4d14-b2da-50b85212b0ab  ...                  NaN\n",
            "4     a84327ff-5daa-4ba1-b789-d5b4caf81e96  ...                  NaN\n",
            "...                                    ...  ...                  ...\n",
            "1995  33913ac2-03da-45ae-8fc3-fea39df827c6  ...                  NaN\n",
            "1996  4f850132-b99d-4623-80e6-6e61d003577e  ...                  NaN\n",
            "1997  f0830b9b-1f5c-4e74-b63d-3f847cc6ce70  ...                  NaN\n",
            "1998  b01bffa7-63ba-4cd3-9d93-eb1477c23831  ...                  NaN\n",
            "1999  0336ca81-8d68-443f-9248-ac0b8ad147d5  ...                  NaN\n",
            "\n",
            "[2000 rows x 3 columns]\n"
          ],
          "output_type":"stream"
        }
      ],
      "metadata":{
        "jupyter":{
          "source_hidden":false,
          "outputs_hidden":false
        },
        "datalore":{
          "type":"CODE",
          "sheet_delimiter":false
        }
      }
    },
    {
      "cell_type":"markdown",
      "source":[
        "How many of the timestamps are null for the column cart_time?"
      ],
      "attachments":{
        
      },
      "metadata":{
        "jupyter":{
          "source_hidden":false,
          "outputs_hidden":false
        },
        "datalore":{
          "type":"MD",
          "sheet_delimiter":false
        }
      }
    },
    {
      "cell_type":"code",
      "source":[
        "null_cart_times = len(visits_cart_left[visits_cart_left.cart_time.isnull()])\n",
        "print(null_cart_times)"
      ],
      "execution_count":6,
      "outputs":[
        {
          "name":"stdout",
          "text":[
            "1652\n"
          ],
          "output_type":"stream"
        }
      ],
      "metadata":{
        "jupyter":{
          "source_hidden":false,
          "outputs_hidden":false
        },
        "datalore":{
          "type":"CODE",
          "sheet_delimiter":false
        }
      }
    },
    {
      "cell_type":"markdown",
      "source":[
        "What percent of users who visited Cool T-Shirts Inc. ended up not placing a t_shirt in their cart?"
      ],
      "attachments":{
        
      },
      "metadata":{
        "jupyter":{
          "source_hidden":false,
          "outputs_hidden":false
        },
        "datalore":{
          "type":"MD",
          "sheet_delimiter":false
        }
      }
    },
    {
      "cell_type":"code",
      "source":[
        "visit_cart_rows = len(visits_cart_left)\n",
        "percentage_null_carts = float(null_cart_times)\/visit_cart_rows\n",
        "print(percentage_null_carts)"
      ],
      "execution_count":7,
      "outputs":[
        {
          "name":"stdout",
          "text":[
            "0.826\n"
          ],
          "output_type":"stream"
        }
      ],
      "metadata":{
        "jupyter":{
          "source_hidden":false,
          "outputs_hidden":false
        },
        "datalore":{
          "type":"CODE",
          "sheet_delimiter":false
        }
      }
    },
    {
      "cell_type":"markdown",
      "source":[
        "Let's repeat the left merge for cart and checkout and count null values. What percentage of users put items in their cart, but did not proceed to checkout? "
      ],
      "attachments":{
        
      },
      "metadata":{
        "jupyter":{
          "source_hidden":false,
          "outputs_hidden":false
        },
        "datalore":{
          "type":"MD",
          "sheet_delimiter":false
        }
      }
    },
    {
      "cell_type":"code",
      "source":[
        "cart_checkout = pd.merge(cart, checkout, how='left')\n",
        "#print(cart_checkout)\n",
        "\n",
        "cart_checkout_rows = len(cart_checkout)\n",
        "null_checkout_times = len(cart_checkout[cart_checkout.checkout_time.isnull()])\n",
        "\n",
        "print(float(null_checkout_times)\/ cart_checkout_rows)"
      ],
      "execution_count":8,
      "outputs":[
        {
          "name":"stdout",
          "text":[
            "0.25311203319502074\n"
          ],
          "output_type":"stream"
        }
      ],
      "metadata":{
        "jupyter":{
          "source_hidden":false,
          "outputs_hidden":false
        },
        "datalore":{
          "type":"CODE",
          "sheet_delimiter":false
        }
      }
    },
    {
      "cell_type":"markdown",
      "source":[
        "Let's de the same process but for checkout to purchase"
      ],
      "attachments":{
        
      },
      "metadata":{
        "jupyter":{
          "source_hidden":false,
          "outputs_hidden":false
        },
        "datalore":{
          "type":"MD",
          "sheet_delimiter":false
        }
      }
    },
    {
      "cell_type":"code",
      "source":[
        "checkout_purchase = pd.merge(checkout, purchase, how='left')\n",
        "checkout_purchase_rows = len(checkout_purchase)\n",
        "null_purchase_times = len(checkout_purchase[checkout_purchase.purchase_time.isnull()])\n",
        "print(float(null_purchase_times)\/ checkout_purchase_rows) "
      ],
      "execution_count":9,
      "outputs":[
        {
          "name":"stdout",
          "text":[
            "0.1688963210702341\n"
          ],
          "output_type":"stream"
        }
      ],
      "metadata":{
        "jupyter":{
          "source_hidden":false,
          "outputs_hidden":false
        },
        "datalore":{
          "type":"CODE",
          "sheet_delimiter":false
        }
      }
    },
    {
      "cell_type":"markdown",
      "source":[
        "Conclusion: The weakest spot of the funnel is the time between the visit of the page and the checkout, it has the highest percentage of not completion between the three steps with an 82%. We might change their website to guide users to the checkout by making it more accessible or bring more attention to the customer.    "
      ],
      "attachments":{
        
      },
      "metadata":{
        "jupyter":{
          "source_hidden":false,
          "outputs_hidden":false
        },
        "datalore":{
          "type":"MD",
          "sheet_delimiter":false
        }
      }
    },
    {
      "cell_type":"markdown",
      "source":[
        "# Average Time to Purchase\n",
        "\n",
        "We are going to merge every DataFrame to calculate the average time from an initial visit to final purchase. We will add a column that is the difference between purchase_time and visit_time."
      ],
      "attachments":{
        
      },
      "metadata":{
        "jupyter":{
          "source_hidden":false,
          "outputs_hidden":false
        },
        "datalore":{
          "type":"MD",
          "sheet_delimiter":false
        }
      }
    },
    {
      "cell_type":"code",
      "source":[
        "all_data = visits.merge(cart, how='left').merge(checkout, how='left').merge(purchase, how='left')\n",
        "all_data['time_to_purchase'] = \\\n",
        "    all_data.purchase_time - \\\n",
        "    all_data.visit_time\n",
        "\n",
        "print(all_data.head())\n",
        "print(all_data.time_to_purchase)\n",
        "print(all_data.time_to_purchase.mean())"
      ],
      "execution_count":0,
      "outputs":[
        
      ],
      "metadata":{
        "jupyter":{
          "source_hidden":false,
          "outputs_hidden":false
        },
        "datalore":{
          "type":"CODE",
          "sheet_delimiter":false
        }
      }
    }
  ],
  "metadata":{
    "datalore":{
      "version":1,
      "computation_mode":"JUPYTER",
      "package_manager":"pip",
      "base_environment":"default",
      "packages":[
        
      ]
    }
  },
  "nbformat":4,
  "nbformat_minor":4
}