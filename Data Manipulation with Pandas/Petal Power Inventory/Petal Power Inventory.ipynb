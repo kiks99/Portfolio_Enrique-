{
  "cells":[
    {
      "cell_type":"markdown",
      "source":[
        "# Petal Power Inventory \n",
        "\n",
        "You're the lead data analyst for a chain of gardening stores called Petal Power. Help them analyze their inventory. "
      ],
      "attachments":{
        
      },
      "metadata":{
        "jupyter":{
          "source_hidden":false,
          "outputs_hidden":false
        },
        "datalore":{
          "type":"MD",
          "sheet_delimiter":false
        }
      }
    },
    {
      "cell_type":"code",
      "source":[
        "import pandas as pd\n",
        "\n",
        "inventory = pd.read_csv('inventory.csv')\n",
        "print(inventory.head())"
      ],
      "execution_count":2,
      "outputs":[
        {
          "name":"stdout",
          "text":[
            "        location  product_type product_description  quantity  price\n",
            "0  Staten Island         seeds               daisy         4   6.99\n",
            "1  Staten Island         seeds          calla lily        46  19.99\n",
            "2  Staten Island         seeds              tomato        85  13.99\n",
            "3  Staten Island  garden tools                rake         4  13.99\n",
            "4  Staten Island  garden tools         wheelbarrow         0  89.99\n"
          ],
          "output_type":"stream"
        }
      ],
      "metadata":{
        "jupyter":{
          "source_hidden":false,
          "outputs_hidden":false
        },
        "datalore":{
          "type":"CODE",
          "sheet_delimiter":false
        }
      }
    },
    {
      "cell_type":"markdown",
      "source":[
        "The first 10 rows represent data from your Staten Island location. Select these rows and save them to staten_island "
      ],
      "attachments":{
        
      },
      "metadata":{
        "jupyter":{
          "source_hidden":false,
          "outputs_hidden":false
        },
        "datalore":{
          "type":"MD",
          "sheet_delimiter":false
        }
      }
    },
    {
      "cell_type":"code",
      "source":[
        "staten_island = inventory[:10]\n",
        "print(staten_island)"
      ],
      "execution_count":3,
      "outputs":[
        {
          "name":"stdout",
          "text":[
            "        location  product_type         product_description  quantity  price\n",
            "0  Staten Island         seeds                       daisy         4   6.99\n",
            "1  Staten Island         seeds                  calla lily        46  19.99\n",
            "2  Staten Island         seeds                      tomato        85  13.99\n",
            "3  Staten Island  garden tools                        rake         4  13.99\n",
            "4  Staten Island  garden tools                 wheelbarrow         0  89.99\n",
            "5  Staten Island  garden tools                       spade        93  19.99\n",
            "6  Staten Island  pest_control               insect killer        74  12.99\n",
            "7  Staten Island  pest_control                 weed killer         8  23.99\n",
            "8  Staten Island       planter  20 inch terracotta planter         0  17.99\n",
            "9  Staten Island       planter      8 inch plastic planter        53   3.99\n"
          ],
          "output_type":"stream"
        }
      ],
      "metadata":{
        "jupyter":{
          "source_hidden":false,
          "outputs_hidden":false
        },
        "datalore":{
          "type":"CODE",
          "sheet_delimiter":false
        }
      }
    },
    {
      "cell_type":"markdown",
      "source":[
        "A customer just emailed you asking what products are sold at your Staten Island location. Select the column product_description from staten_island and save it to the variable product_request."
      ],
      "attachments":{
        
      },
      "metadata":{
        "jupyter":{
          "source_hidden":false,
          "outputs_hidden":false
        },
        "datalore":{
          "type":"MD",
          "sheet_delimiter":false
        }
      }
    },
    {
      "cell_type":"code",
      "source":[
        "product_request = staten_island['product_description']\n",
        "print(product_request)"
      ],
      "execution_count":4,
      "outputs":[
        {
          "name":"stdout",
          "text":[
            "0                         daisy\n",
            "1                    calla lily\n",
            "2                        tomato\n",
            "3                          rake\n",
            "4                   wheelbarrow\n",
            "5                         spade\n",
            "6                 insect killer\n",
            "7                   weed killer\n",
            "8    20 inch terracotta planter\n",
            "9        8 inch plastic planter\n",
            "Name: product_description, dtype: object\n"
          ],
          "output_type":"stream"
        }
      ],
      "metadata":{
        "jupyter":{
          "source_hidden":false,
          "outputs_hidden":false
        },
        "datalore":{
          "type":"CODE",
          "sheet_delimiter":false
        }
      }
    },
    {
      "cell_type":"markdown",
      "source":[
        "\n",
        "Another customer emails to ask what types of seeds are sold at the Brooklyn location."
      ],
      "attachments":{
        
      },
      "metadata":{
        "jupyter":{
          "source_hidden":false,
          "outputs_hidden":false
        },
        "datalore":{
          "type":"MD",
          "sheet_delimiter":false
        }
      }
    },
    {
      "cell_type":"code",
      "source":[
        "seed_request = inventory[(inventory.location == 'Brooklyn') & (inventory.product_type == 'seeds')]\n",
        "print(seed_request)"
      ],
      "execution_count":5,
      "outputs":[
        {
          "name":"stdout",
          "text":[
            "    location product_type product_description  quantity  price\n",
            "10  Brooklyn        seeds               daisy        50   6.99\n",
            "11  Brooklyn        seeds          calla lily         0  19.99\n",
            "12  Brooklyn        seeds              tomato         0  13.99\n"
          ],
          "output_type":"stream"
        }
      ],
      "metadata":{
        "jupyter":{
          "source_hidden":false,
          "outputs_hidden":false
        },
        "datalore":{
          "type":"CODE",
          "sheet_delimiter":false
        }
      }
    },
    {
      "cell_type":"markdown",
      "source":[
        "Let's add a column to inventory called in_stock which is True if quantity is greater than 0 and False if quantity equals 0  "
      ],
      "attachments":{
        
      },
      "metadata":{
        "jupyter":{
          "source_hidden":false,
          "outputs_hidden":false
        },
        "datalore":{
          "type":"MD",
          "sheet_delimiter":false
        }
      }
    },
    {
      "cell_type":"code",
      "source":[
        "get_in_stock = lambda x: True if x > 0 else False\n",
        "inventory['in_stock'] = inventory.quantity.apply(get_in_stock)\n",
        "print(inventory.head())"
      ],
      "execution_count":6,
      "outputs":[
        {
          "name":"stdout",
          "text":[
            "        location  product_type product_description  quantity  price  in_stock\n",
            "0  Staten Island         seeds               daisy         4   6.99      True\n",
            "1  Staten Island         seeds          calla lily        46  19.99      True\n",
            "2  Staten Island         seeds              tomato        85  13.99      True\n",
            "3  Staten Island  garden tools                rake         4  13.99      True\n",
            "4  Staten Island  garden tools         wheelbarrow         0  89.99     False\n"
          ],
          "output_type":"stream"
        }
      ],
      "metadata":{
        "jupyter":{
          "source_hidden":false,
          "outputs_hidden":false
        },
        "datalore":{
          "type":"CODE",
          "sheet_delimiter":false
        }
      }
    },
    {
      "cell_type":"markdown",
      "source":[
        "Petal Power wants to know how valuable their current inventory is. Create a column called total_value that is equal to price multiplied by quantity "
      ],
      "attachments":{
        
      },
      "metadata":{
        "jupyter":{
          "source_hidden":false,
          "outputs_hidden":false
        },
        "datalore":{
          "type":"MD",
          "sheet_delimiter":false
        }
      }
    },
    {
      "cell_type":"code",
      "source":[
        "inventory['total_value'] = inventory.price * inventory.quantity\n",
        "print(inventory['total_value'])"
      ],
      "execution_count":7,
      "outputs":[
        {
          "name":"stdout",
          "text":[
            "0       27.96\n",
            "1      919.54\n",
            "2     1189.15\n",
            "3       55.96\n",
            "4        0.00\n",
            "5     1859.07\n",
            "6      961.26\n",
            "7      191.92\n",
            "8        0.00\n",
            "9      211.47\n",
            "10     349.50\n",
            "11       0.00\n",
            "12       0.00\n",
            "13     209.85\n",
            "14    7379.18\n",
            "15     719.64\n",
            "16    1039.20\n",
            "17    1823.24\n",
            "18      89.95\n",
            "19     103.74\n",
            "20     398.43\n",
            "21    1899.05\n",
            "22     629.55\n",
            "23     293.79\n",
            "24    8819.02\n",
            "25     519.74\n",
            "26       0.00\n",
            "27     383.84\n",
            "28    1565.13\n",
            "Name: total_value, dtype: float64\n"
          ],
          "output_type":"stream"
        }
      ],
      "metadata":{
        "jupyter":{
          "source_hidden":false,
          "outputs_hidden":false
        },
        "datalore":{
          "type":"CODE",
          "sheet_delimiter":false
        }
      }
    },
    {
      "cell_type":"markdown",
      "source":[
        "The Marketing department wants a complete description of each product for their catalog."
      ],
      "attachments":{
        
      },
      "metadata":{
        "jupyter":{
          "source_hidden":false,
          "outputs_hidden":false
        },
        "datalore":{
          "type":"MD",
          "sheet_delimiter":false
        }
      }
    },
    {
      "cell_type":"code",
      "source":[
        "combine_lambda = lambda row: \\\n",
        "    '{} - {}'.format(row.product_type,\n",
        "                     row.product_description)\n",
        "inventory['full_description'] = inventory.apply(combine_lambda, axis=1)\n",
        "print(inventory)"
      ],
      "execution_count":8,
      "outputs":[
        {
          "name":"stdout",
          "text":[
            "         location  product_type         product_description  quantity  price  \\\n",
            "0   Staten Island         seeds                       daisy         4   6.99   \n",
            "1   Staten Island         seeds                  calla lily        46  19.99   \n",
            "2   Staten Island         seeds                      tomato        85  13.99   \n",
            "3   Staten Island  garden tools                        rake         4  13.99   \n",
            "4   Staten Island  garden tools                 wheelbarrow         0  89.99   \n",
            "5   Staten Island  garden tools                       spade        93  19.99   \n",
            "6   Staten Island  pest_control               insect killer        74  12.99   \n",
            "7   Staten Island  pest_control                 weed killer         8  23.99   \n",
            "8   Staten Island       planter  20 inch terracotta planter         0  17.99   \n",
            "9   Staten Island       planter      8 inch plastic planter        53   3.99   \n",
            "10       Brooklyn         seeds                       daisy        50   6.99   \n",
            "11       Brooklyn         seeds                  calla lily         0  19.99   \n",
            "12       Brooklyn         seeds                      tomato         0  13.99   \n",
            "13       Brooklyn  garden tools                        rake        15  13.99   \n",
            "14       Brooklyn  garden tools                 wheelbarrow        82  89.99   \n",
            "15       Brooklyn  garden tools                       spade        36  19.99   \n",
            "16       Brooklyn  pest_control               insect killer        80  12.99   \n",
            "17       Brooklyn  pest_control                 weed killer        76  23.99   \n",
            "18       Brooklyn       planter  20 inch terracotta planter         5  17.99   \n",
            "19       Brooklyn       planter      8 inch plastic planter        26   3.99   \n",
            "20         Queens         seeds                       daisy        57   6.99   \n",
            "21         Queens         seeds                  calla lily        95  19.99   \n",
            "22         Queens         seeds                      tomato        45  13.99   \n",
            "23         Queens  garden tools                        rake        21  13.99   \n",
            "24         Queens  garden tools                 wheelbarrow        98  89.99   \n",
            "25         Queens  garden tools                       spade        26  19.99   \n",
            "26         Queens  pest_control               insect killer         0  12.99   \n",
            "27         Queens  pest_control                 weed killer        16  23.99   \n",
            "28         Queens       planter  20 inch terracotta planter        87  17.99   \n",
            "\n",
            "    in_stock  total_value                      full_description  \n",
            "0       True        27.96                         seeds - daisy  \n",
            "1       True       919.54                    seeds - calla lily  \n",
            "2       True      1189.15                        seeds - tomato  \n",
            "3       True        55.96                   garden tools - rake  \n",
            "4      False         0.00            garden tools - wheelbarrow  \n",
            "5       True      1859.07                  garden tools - spade  \n",
            "6       True       961.26          pest_control - insect killer  \n",
            "7       True       191.92            pest_control - weed killer  \n",
            "8      False         0.00  planter - 20 inch terracotta planter  \n",
            "9       True       211.47      planter - 8 inch plastic planter  \n",
            "10      True       349.50                         seeds - daisy  \n",
            "11     False         0.00                    seeds - calla lily  \n",
            "12     False         0.00                        seeds - tomato  \n",
            "13      True       209.85                   garden tools - rake  \n",
            "14      True      7379.18            garden tools - wheelbarrow  \n",
            "15      True       719.64                  garden tools - spade  \n",
            "16      True      1039.20          pest_control - insect killer  \n",
            "17      True      1823.24            pest_control - weed killer  \n",
            "18      True        89.95  planter - 20 inch terracotta planter  \n",
            "19      True       103.74      planter - 8 inch plastic planter  \n",
            "20      True       398.43                         seeds - daisy  \n",
            "21      True      1899.05                    seeds - calla lily  \n",
            "22      True       629.55                        seeds - tomato  \n",
            "23      True       293.79                   garden tools - rake  \n",
            "24      True      8819.02            garden tools - wheelbarrow  \n",
            "25      True       519.74                  garden tools - spade  \n",
            "26     False         0.00          pest_control - insect killer  \n",
            "27      True       383.84            pest_control - weed killer  \n",
            "28      True      1565.13  planter - 20 inch terracotta planter  \n"
          ],
          "output_type":"stream"
        }
      ],
      "metadata":{
        "jupyter":{
          "source_hidden":false,
          "outputs_hidden":false
        },
        "datalore":{
          "type":"CODE",
          "sheet_delimiter":false
        }
      }
    }
  ],
  "metadata":{
    "datalore":{
      "version":1,
      "computation_mode":"JUPYTER",
      "package_manager":"pip",
      "base_environment":"default",
      "packages":[
        
      ]
    }
  },
  "nbformat":4,
  "nbformat_minor":4
}