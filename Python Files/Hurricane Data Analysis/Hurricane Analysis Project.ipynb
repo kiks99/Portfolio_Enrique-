{
  "cells":[
    {
      "cell_type":"markdown",
      "source":[
        "# Hurricane Analysis Project \n",
        "\n",
        "Hurricanes, also known as cyclones or typhoons, are one of the most powerful forces of nature on Earth. Due to climate change caused by human activity, the number and intensity of hurricanes have risen, calling for better preparation by the many communities that are devastated by them. As a concerned environmentalist, we want to look at data about the most powerful hurricanes that have occurred.\n",
        "\n",
        "We are going to begin by looking at the damage list. The list contains strings representing the total cost in USD($) caused by 34 category 5 hurricanes (wind speeds ≥ 157 mph (252 km\/h)) in the Atlantic region. For some of the hurricanes, damage data was not recorded (\"Damages not recorded\"), while the rest are written in the format \"Prefix-B\/M\", where B stands for billions (1000000000) and M stands for millions (1000000)."
      ],
      "attachments":{
        
      },
      "metadata":{
        "jupyter":{
          "source_hidden":false,
          "outputs_hidden":false
        },
        "datalore":{
          "type":"MD",
          "sheet_delimiter":false
        }
      }
    },
    {
      "cell_type":"code",
      "source":[
        "#Let's write a function that returns a new list of updated damages where the recorded data is converted \n",
        "#to float values and the missing data is retained as \"Damages not recorded\".\n",
        "\n",
        "# names of hurricanes\n",
        "names = ['Cuba I', 'San Felipe II Okeechobee', 'Bahamas', 'Cuba II', 'CubaBrownsville', 'Tampico',\n",
        "    'Labor Day', 'New England', 'Carol', 'Janet', 'Carla', 'Hattie', 'Beulah', 'Camille', 'Edith',\n",
        "    'Anita', 'David', 'Allen', 'Gilbert', 'Hugo', 'Andrew', 'Mitch', 'Isabel', 'Ivan', 'Emily',\n",
        "    'Katrina', 'Rita', 'Wilma', 'Dean', 'Felix', 'Matthew', 'Irma', 'Maria', 'Michael']\n",
        "\n",
        "# months of hurricanes\n",
        "months = ['October', 'September', 'September', 'November', 'August', 'September', 'September',\n",
        "    'September', 'September', 'September', 'September', 'October', 'September', 'August', 'September',\n",
        "    'September', 'August', 'August', 'September', 'September', 'August', 'October', 'September',\n",
        "    'September', 'July', 'August', 'September', 'October', 'August', 'September', 'October',\n",
        "    'September', 'September', 'October']\n",
        "\n",
        "# years of hurricanes\n",
        "years = [1924, 1928, 1932, 1932, 1933, 1933, 1935, 1938, 1953, 1955, 1961, 1961, 1967, 1969, 1971, 1977,\n",
        "    1979, 1980, 1988, 1989, 1992, 1998, 2003, 2004, 2005, 2005, 2005, 2005, 2007, 2007, 2016, 2017,\n",
        "    2017, 2018]\n",
        "\n",
        "# maximum sustained winds (mph) of hurricanes\n",
        "max_sustained_winds = [165, 160, 160, 175, 160, 160, 185, 160, 160, 175, 175, 160, 160, 175, 160, 175,\n",
        "    175, 190, 185, 160, 175, 180, 165, 165, 160, 175, 180, 185, 175, 175, 165, 180, 175, 160]\n",
        "\n",
        "# areas affected by each hurricane\n",
        "areas_affected = [['Central America', 'Mexico', 'Cuba', 'Florida', 'The Bahamas'], ['Lesser Antilles',\n",
        "    'The Bahamas', 'United States East Coast', 'Atlantic Canada'], ['The Bahamas',\n",
        "    'Northeastern United States'], ['Lesser Antilles', 'Jamaica', 'Cayman Islands', 'Cuba',\n",
        "    'The Bahamas', 'Bermuda'], ['The Bahamas', 'Cuba', 'Florida', 'Texas', 'Tamaulipas'],\n",
        "    ['Jamaica', 'Yucatn Peninsula'], ['The Bahamas', 'Florida', 'Georgia', \n",
        "    'The Carolinas', 'Virginia'], ['Southeastern United States', \n",
        "    'Northeastern United States', 'Southwestern Quebec'], ['Bermuda',\n",
        "    'New England', 'Atlantic Canada'], ['Lesser Antilles', 'Central America'], ['Texas', 'Louisiana',\n",
        "    'Midwestern United States'], ['Central America'], ['The Caribbean', 'Mexico', 'Texas'], ['Cuba',\n",
        "    'United States Gulf Coast'], ['The Caribbean', 'Central America', 'Mexico',\n",
        "    'United States Gulf Coast'], ['Mexico'], ['The Caribbean', 'United States East coast'],\n",
        "    ['The Caribbean', 'Yucatn Peninsula', 'Mexico', 'South Texas'], ['Jamaica', 'Venezuela',\n",
        "    'Central America', 'Hispaniola', 'Mexico'], ['The Caribbean', 'United States East Coast'],\n",
        "    ['The Bahamas', 'Florida', 'United States Gulf Coast'], ['Central America',\n",
        "    'Yucatn Peninsula', 'South Florida'], ['Greater Antilles', 'Bahamas', \n",
        "    'Eastern United States', 'Ontario'], ['The Caribbean', 'Venezuela', \n",
        "    'United States Gulf Coast'], ['Windward Islands', 'Jamaica', 'Mexico',\n",
        "    'Texas'], ['Bahamas', 'United States Gulf Coast'], ['Cuba', 'United States Gulf Coast'],\n",
        "    ['Greater Antilles', 'Central America', 'Florida'], ['The Caribbean', 'Central America'],\n",
        "    ['Nicaragua', 'Honduras'], ['Antilles', 'Venezuela', 'Colombia', 'United States East Coast',\n",
        "    'Atlantic Canada'], ['Cape Verde', 'The Caribbean', 'British Virgin Islands', 'U.S. Virgin Islands',\n",
        "    'Cuba', 'Florida'], ['Lesser Antilles', 'Virgin Islands', 'Puerto Rico', 'Dominican Republic',\n",
        "    'Turks and Caicos Islands'], ['Central America', 'United States Gulf Coast (especially Florida Panhandle)']]\n",
        "\n",
        "# damages (USD($)) of hurricanes\n",
        "damages = ['Damages not recorded', '100M', 'Damages not recorded', '40M', '27.9M', '5M',\n",
        "    'Damages not recorded', '306M', '2M', '65.8M', '326M', '60.3M', '208M', '1.42B', '25.4M',\n",
        "    'Damages not recorded', '1.54B', '1.24B', '7.1B', '10B', '26.5B', '6.2B', '5.37B', \n",
        "    '23.3B', '1.01B', '125B', '12B', '29.4B', '1.76B', '720M', '15.1B', '64.8B', '91.6B',\n",
        "    '25.1B']\n",
        "\n",
        "# deaths for each hurricane\n",
        "deaths = [90,4000,16,3103,179,184,408,682,5,1023,43,319,688,259,37,11,2068,269,318,107,65,19325,51,\n",
        "    124,17,1836,125,87,45,133,603,138,3057,74]"
      ],
      "execution_count":2,
      "outputs":[
        
      ],
      "metadata":{
        "jupyter":{
          "source_hidden":false,
          "outputs_hidden":false
        },
        "datalore":{
          "type":"CODE",
          "sheet_delimiter":false
        }
      }
    },
    {
      "cell_type":"code",
      "source":[
        "#Update Damages Data\n",
        "conversion = {\"M\": 1000000,\n",
        "              \"B\": 1000000000}\n",
        "\n",
        "# Convert damages data from string to float and return converted data as a list\n",
        "def convert_damages_data(damages):\n",
        "  updated_damages = []\n",
        "  for damage in damages:\n",
        "    if damage == \"Damages not recorded\":\n",
        "      updated_damages.append(damage)\n",
        "    if damage[-1] == 'M':\n",
        "      updated_damages.append(float(damage.strip('M'))*conversion[\"M\"])\n",
        "    if damage[-1] == 'B':\n",
        "      updated_damages.append(float(damage.strip('B'))*conversion[\"B\"])\n",
        "  return updated_damages \n",
        "\n",
        "updated_damages = convert_damages_data(damages)\n",
        "print(updated_damages)"
      ],
      "execution_count":3,
      "outputs":[
        {
          "name":"stdout",
          "text":[
            "['Damages not recorded', 100000000.0, 'Damages not recorded', 40000000.0, 27900000.0, 5000000.0, 'Damages not recorded', 306000000.0, 2000000.0, 65800000.0, 326000000.0, 60300000.0, 208000000.0, 1420000000.0, 25400000.0, 'Damages not recorded', 1540000000.0, 1240000000.0, 7100000000.0, 10000000000.0, 26500000000.0, 6200000000.0, 5370000000.0, 23300000000.0, 1010000000.0, 125000000000.0, 12000000000.0, 29400000000.0, 1760000000.0, 720000000.0, 15100000000.0, 64800000000.0, 91600000000.0, 25100000000.0]\n"
          ],
          "output_type":"stream"
        }
      ],
      "metadata":{
        "jupyter":{
          "source_hidden":false,
          "outputs_hidden":false
        },
        "datalore":{
          "type":"CODE",
          "sheet_delimiter":false
        }
      }
    },
    {
      "cell_type":"code",
      "source":[
        "#Let's write a function that constructs a dictionary made out of the lists, where the keys of the dictionary \n",
        "#are the names of the hurricanes, and the values are dictionaries themselves containing a key for each\n",
        "#piece of data (Name, Month, Year,Max Sustained Wind, Areas Affected, Damage, Death) about the hurricane.\n",
        "\n",
        "#Create a dictionary of hurricanes with hurricanes name as the key and a dictionary of hurricane data as the value. \n",
        "\n",
        "def create_dictionary(names, months, years, max_sustained_winds, areas_affected, updated_damages, deaths):\n",
        "  hurricanes = {}\n",
        "  num_hurricanes = len(names)\n",
        "\n",
        "  for i in range(num_hurricanes):\n",
        "    hurricanes[names[i]] = {\n",
        "      \"Name\": names[i], \n",
        "      \"Month\": months[i], \n",
        "      \"Year\": years[i], \n",
        "      \"Max Sustained Wind\": max_sustained_winds[i], \n",
        "      \"Areas Affected\": areas_affected[i], \n",
        "      \"Damage\": updated_damages[i], \n",
        "      \"Deaths\": deaths[i]}\n",
        "  return hurricanes\n",
        "hurricanes = create_dictionary(names, months, years, max_sustained_winds, areas_affected, updated_damages, deaths)\n",
        "print(hurricanes)"
      ],
      "execution_count":4,
      "outputs":[
        {
          "name":"stdout",
          "text":[
            "{'Cuba I': {'Name': 'Cuba I', 'Month': 'October', 'Year': 1924, 'Max Sustained Wind': 165, 'Areas Affected': ['Central America', 'Mexico', 'Cuba', 'Florida', 'The Bahamas'], 'Damage': 'Damages not recorded', 'Deaths': 90}, 'San Felipe II Okeechobee': {'Name': 'San Felipe II Okeechobee', 'Month': 'September', 'Year': 1928, 'Max Sustained Wind': 160, 'Areas Affected': ['Lesser Antilles', 'The Bahamas', 'United States East Coast', 'Atlantic Canada'], 'Damage': 100000000.0, 'Deaths': 4000}, 'Bahamas': {'Name': 'Bahamas', 'Month': 'September', 'Year': 1932, 'Max Sustained Wind': 160, 'Areas Affected': ['The Bahamas', 'Northeastern United States'], 'Damage': 'Damages not recorded', 'Deaths': 16}, 'Cuba II': {'Name': 'Cuba II', 'Month': 'November', 'Year': 1932, 'Max Sustained Wind': 175, 'Areas Affected': ['Lesser Antilles', 'Jamaica', 'Cayman Islands', 'Cuba', 'The Bahamas', 'Bermuda'], 'Damage': 40000000.0, 'Deaths': 3103}, 'CubaBrownsville': {'Name': 'CubaBrownsville', 'Month': 'August', 'Year': 1933, 'Max Sustained Wind': 160, 'Areas Affected': ['The Bahamas', 'Cuba', 'Florida', 'Texas', 'Tamaulipas'], 'Damage': 27900000.0, 'Deaths': 179}, 'Tampico': {'Name': 'Tampico', 'Month': 'September', 'Year': 1933, 'Max Sustained Wind': 160, 'Areas Affected': ['Jamaica', 'Yucatn Peninsula'], 'Damage': 5000000.0, 'Deaths': 184}, 'Labor Day': {'Name': 'Labor Day', 'Month': 'September', 'Year': 1935, 'Max Sustained Wind': 185, 'Areas Affected': ['The Bahamas', 'Florida', 'Georgia', 'The Carolinas', 'Virginia'], 'Damage': 'Damages not recorded', 'Deaths': 408}, 'New England': {'Name': 'New England', 'Month': 'September', 'Year': 1938, 'Max Sustained Wind': 160, 'Areas Affected': ['Southeastern United States', 'Northeastern United States', 'Southwestern Quebec'], 'Damage': 306000000.0, 'Deaths': 682}, 'Carol': {'Name': 'Carol', 'Month': 'September', 'Year': 1953, 'Max Sustained Wind': 160, 'Areas Affected': ['Bermuda', 'New England', 'Atlantic Canada'], 'Damage': 2000000.0, 'Deaths': 5}, 'Janet': {'Name': 'Janet', 'Month': 'September', 'Year': 1955, 'Max Sustained Wind': 175, 'Areas Affected': ['Lesser Antilles', 'Central America'], 'Damage': 65800000.0, 'Deaths': 1023}, 'Carla': {'Name': 'Carla', 'Month': 'September', 'Year': 1961, 'Max Sustained Wind': 175, 'Areas Affected': ['Texas', 'Louisiana', 'Midwestern United States'], 'Damage': 326000000.0, 'Deaths': 43}, 'Hattie': {'Name': 'Hattie', 'Month': 'October', 'Year': 1961, 'Max Sustained Wind': 160, 'Areas Affected': ['Central America'], 'Damage': 60300000.0, 'Deaths': 319}, 'Beulah': {'Name': 'Beulah', 'Month': 'September', 'Year': 1967, 'Max Sustained Wind': 160, 'Areas Affected': ['The Caribbean', 'Mexico', 'Texas'], 'Damage': 208000000.0, 'Deaths': 688}, 'Camille': {'Name': 'Camille', 'Month': 'August', 'Year': 1969, 'Max Sustained Wind': 175, 'Areas Affected': ['Cuba', 'United States Gulf Coast'], 'Damage': 1420000000.0, 'Deaths': 259}, 'Edith': {'Name': 'Edith', 'Month': 'September', 'Year': 1971, 'Max Sustained Wind': 160, 'Areas Affected': ['The Caribbean', 'Central America', 'Mexico', 'United States Gulf Coast'], 'Damage': 25400000.0, 'Deaths': 37}, 'Anita': {'Name': 'Anita', 'Month': 'September', 'Year': 1977, 'Max Sustained Wind': 175, 'Areas Affected': ['Mexico'], 'Damage': 'Damages not recorded', 'Deaths': 11}, 'David': {'Name': 'David', 'Month': 'August', 'Year': 1979, 'Max Sustained Wind': 175, 'Areas Affected': ['The Caribbean', 'United States East coast'], 'Damage': 1540000000.0, 'Deaths': 2068}, 'Allen': {'Name': 'Allen', 'Month': 'August', 'Year': 1980, 'Max Sustained Wind': 190, 'Areas Affected': ['The Caribbean', 'Yucatn Peninsula', 'Mexico', 'South Texas'], 'Damage': 1240000000.0, 'Deaths': 269}, 'Gilbert': {'Name': 'Gilbert', 'Month': 'September', 'Year': 1988, 'Max Sustained Wind': 185, 'Areas Affected': ['Jamaica', 'Venezuela', 'Central America', 'Hispaniola', 'Mexico'], 'Damage': 7100000000.0, 'Deaths': 318}, 'Hugo': {'Name': 'Hugo', 'Month': 'September', 'Year': 1989, 'Max Sustained Wind': 160, 'Areas Affected': ['The Caribbean', 'United States East Coast'], 'Damage': 10000000000.0, 'Deaths': 107}, 'Andrew': {'Name': 'Andrew', 'Month': 'August', 'Year': 1992, 'Max Sustained Wind': 175, 'Areas Affected': ['The Bahamas', 'Florida', 'United States Gulf Coast'], 'Damage': 26500000000.0, 'Deaths': 65}, 'Mitch': {'Name': 'Mitch', 'Month': 'October', 'Year': 1998, 'Max Sustained Wind': 180, 'Areas Affected': ['Central America', 'Yucatn Peninsula', 'South Florida'], 'Damage': 6200000000.0, 'Deaths': 19325}, 'Isabel': {'Name': 'Isabel', 'Month': 'September', 'Year': 2003, 'Max Sustained Wind': 165, 'Areas Affected': ['Greater Antilles', 'Bahamas', 'Eastern United States', 'Ontario'], 'Damage': 5370000000.0, 'Deaths': 51}, 'Ivan': {'Name': 'Ivan', 'Month': 'September', 'Year': 2004, 'Max Sustained Wind': 165, 'Areas Affected': ['The Caribbean', 'Venezuela', 'United States Gulf Coast'], 'Damage': 23300000000.0, 'Deaths': 124}, 'Emily': {'Name': 'Emily', 'Month': 'July', 'Year': 2005, 'Max Sustained Wind': 160, 'Areas Affected': ['Windward Islands', 'Jamaica', 'Mexico', 'Texas'], 'Damage': 1010000000.0, 'Deaths': 17}, 'Katrina': {'Name': 'Katrina', 'Month': 'August', 'Year': 2005, 'Max Sustained Wind': 175, 'Areas Affected': ['Bahamas', 'United States Gulf Coast'], 'Damage': 125000000000.0, 'Deaths': 1836}, 'Rita': {'Name': 'Rita', 'Month': 'September', 'Year': 2005, 'Max Sustained Wind': 180, 'Areas Affected': ['Cuba', 'United States Gulf Coast'], 'Damage': 12000000000.0, 'Deaths': 125}, 'Wilma': {'Name': 'Wilma', 'Month': 'October', 'Year': 2005, 'Max Sustained Wind': 185, 'Areas Affected': ['Greater Antilles', 'Central America', 'Florida'], 'Damage': 29400000000.0, 'Deaths': 87}, 'Dean': {'Name': 'Dean', 'Month': 'August', 'Year': 2007, 'Max Sustained Wind': 175, 'Areas Affected': ['The Caribbean', 'Central America'], 'Damage': 1760000000.0, 'Deaths': 45}, 'Felix': {'Name': 'Felix', 'Month': 'September', 'Year': 2007, 'Max Sustained Wind': 175, 'Areas Affected': ['Nicaragua', 'Honduras'], 'Damage': 720000000.0, 'Deaths': 133}, 'Matthew': {'Name': 'Matthew', 'Month': 'October', 'Year': 2016, 'Max Sustained Wind': 165, 'Areas Affected': ['Antilles', 'Venezuela', 'Colombia', 'United States East Coast', 'Atlantic Canada'], 'Damage': 15100000000.0, 'Deaths': 603}, 'Irma': {'Name': 'Irma', 'Month': 'September', 'Year': 2017, 'Max Sustained Wind': 180, 'Areas Affected': ['Cape Verde', 'The Caribbean', 'British Virgin Islands', 'U.S. Virgin Islands', 'Cuba', 'Florida'], 'Damage': 64800000000.0, 'Deaths': 138}, 'Maria': {'Name': 'Maria', 'Month': 'September', 'Year': 2017, 'Max Sustained Wind': 175, 'Areas Affected': ['Lesser Antilles', 'Virgin Islands', 'Puerto Rico', 'Dominican Republic', 'Turks and Caicos Islands'], 'Damage': 91600000000.0, 'Deaths': 3057}, 'Michael': {'Name': 'Michael', 'Month': 'October', 'Year': 2018, 'Max Sustained Wind': 160, 'Areas Affected': ['Central America', 'United States Gulf Coast (especially Florida Panhandle)'], 'Damage': 25100000000.0, 'Deaths': 74}}\n"
          ],
          "output_type":"stream"
        }
      ],
      "metadata":{
        "jupyter":{
          "source_hidden":false,
          "outputs_hidden":false
        },
        "datalore":{
          "type":"CODE",
          "sheet_delimiter":false
        }
      }
    },
    {
      "cell_type":"code",
      "source":[
        "#In addition to organizing the hurricanes in a dictionary with names as the key, we want to be able to \n",
        "#organize the hurricanes by year. Let's write a function that converts the current dictionary of \n",
        "#hurricanes to a new dictionary, where the keys are years and the values are lists containing a\n",
        "#dictionary for each hurricane that occurred in that year.\n",
        "\n",
        "years_dict = []\n",
        "for n, m, y, ma, a, da, z in zip(names, months, years, max_sustained_winds, areas_affected, updated_damages, deaths):\n",
        "  dict = {y: {'Name': n, 'Month': m, 'Year': y, 'Max_sustained_wind': ma, 'Areas_affected': a, 'Damage': da, 'Deaths': z}}\n",
        "  years_dict.append(dict)\n",
        "print(years_dict) "
      ],
      "execution_count":5,
      "outputs":[
        {
          "name":"stdout",
          "text":[
            "[{1924: {'Name': 'Cuba I', 'Month': 'October', 'Year': 1924, 'Max_sustained_wind': 165, 'Areas_affected': ['Central America', 'Mexico', 'Cuba', 'Florida', 'The Bahamas'], 'Damage': 'Damages not recorded', 'Deaths': 90}}, {1928: {'Name': 'San Felipe II Okeechobee', 'Month': 'September', 'Year': 1928, 'Max_sustained_wind': 160, 'Areas_affected': ['Lesser Antilles', 'The Bahamas', 'United States East Coast', 'Atlantic Canada'], 'Damage': 100000000.0, 'Deaths': 4000}}, {1932: {'Name': 'Bahamas', 'Month': 'September', 'Year': 1932, 'Max_sustained_wind': 160, 'Areas_affected': ['The Bahamas', 'Northeastern United States'], 'Damage': 'Damages not recorded', 'Deaths': 16}}, {1932: {'Name': 'Cuba II', 'Month': 'November', 'Year': 1932, 'Max_sustained_wind': 175, 'Areas_affected': ['Lesser Antilles', 'Jamaica', 'Cayman Islands', 'Cuba', 'The Bahamas', 'Bermuda'], 'Damage': 40000000.0, 'Deaths': 3103}}, {1933: {'Name': 'CubaBrownsville', 'Month': 'August', 'Year': 1933, 'Max_sustained_wind': 160, 'Areas_affected': ['The Bahamas', 'Cuba', 'Florida', 'Texas', 'Tamaulipas'], 'Damage': 27900000.0, 'Deaths': 179}}, {1933: {'Name': 'Tampico', 'Month': 'September', 'Year': 1933, 'Max_sustained_wind': 160, 'Areas_affected': ['Jamaica', 'Yucatn Peninsula'], 'Damage': 5000000.0, 'Deaths': 184}}, {1935: {'Name': 'Labor Day', 'Month': 'September', 'Year': 1935, 'Max_sustained_wind': 185, 'Areas_affected': ['The Bahamas', 'Florida', 'Georgia', 'The Carolinas', 'Virginia'], 'Damage': 'Damages not recorded', 'Deaths': 408}}, {1938: {'Name': 'New England', 'Month': 'September', 'Year': 1938, 'Max_sustained_wind': 160, 'Areas_affected': ['Southeastern United States', 'Northeastern United States', 'Southwestern Quebec'], 'Damage': 306000000.0, 'Deaths': 682}}, {1953: {'Name': 'Carol', 'Month': 'September', 'Year': 1953, 'Max_sustained_wind': 160, 'Areas_affected': ['Bermuda', 'New England', 'Atlantic Canada'], 'Damage': 2000000.0, 'Deaths': 5}}, {1955: {'Name': 'Janet', 'Month': 'September', 'Year': 1955, 'Max_sustained_wind': 175, 'Areas_affected': ['Lesser Antilles', 'Central America'], 'Damage': 65800000.0, 'Deaths': 1023}}, {1961: {'Name': 'Carla', 'Month': 'September', 'Year': 1961, 'Max_sustained_wind': 175, 'Areas_affected': ['Texas', 'Louisiana', 'Midwestern United States'], 'Damage': 326000000.0, 'Deaths': 43}}, {1961: {'Name': 'Hattie', 'Month': 'October', 'Year': 1961, 'Max_sustained_wind': 160, 'Areas_affected': ['Central America'], 'Damage': 60300000.0, 'Deaths': 319}}, {1967: {'Name': 'Beulah', 'Month': 'September', 'Year': 1967, 'Max_sustained_wind': 160, 'Areas_affected': ['The Caribbean', 'Mexico', 'Texas'], 'Damage': 208000000.0, 'Deaths': 688}}, {1969: {'Name': 'Camille', 'Month': 'August', 'Year': 1969, 'Max_sustained_wind': 175, 'Areas_affected': ['Cuba', 'United States Gulf Coast'], 'Damage': 1420000000.0, 'Deaths': 259}}, {1971: {'Name': 'Edith', 'Month': 'September', 'Year': 1971, 'Max_sustained_wind': 160, 'Areas_affected': ['The Caribbean', 'Central America', 'Mexico', 'United States Gulf Coast'], 'Damage': 25400000.0, 'Deaths': 37}}, {1977: {'Name': 'Anita', 'Month': 'September', 'Year': 1977, 'Max_sustained_wind': 175, 'Areas_affected': ['Mexico'], 'Damage': 'Damages not recorded', 'Deaths': 11}}, {1979: {'Name': 'David', 'Month': 'August', 'Year': 1979, 'Max_sustained_wind': 175, 'Areas_affected': ['The Caribbean', 'United States East coast'], 'Damage': 1540000000.0, 'Deaths': 2068}}, {1980: {'Name': 'Allen', 'Month': 'August', 'Year': 1980, 'Max_sustained_wind': 190, 'Areas_affected': ['The Caribbean', 'Yucatn Peninsula', 'Mexico', 'South Texas'], 'Damage': 1240000000.0, 'Deaths': 269}}, {1988: {'Name': 'Gilbert', 'Month': 'September', 'Year': 1988, 'Max_sustained_wind': 185, 'Areas_affected': ['Jamaica', 'Venezuela', 'Central America', 'Hispaniola', 'Mexico'], 'Damage': 7100000000.0, 'Deaths': 318}}, {1989: {'Name': 'Hugo', 'Month': 'September', 'Year': 1989, 'Max_sustained_wind': 160, 'Areas_affected': ['The Caribbean', 'United States East Coast'], 'Damage': 10000000000.0, 'Deaths': 107}}, {1992: {'Name': 'Andrew', 'Month': 'August', 'Year': 1992, 'Max_sustained_wind': 175, 'Areas_affected': ['The Bahamas', 'Florida', 'United States Gulf Coast'], 'Damage': 26500000000.0, 'Deaths': 65}}, {1998: {'Name': 'Mitch', 'Month': 'October', 'Year': 1998, 'Max_sustained_wind': 180, 'Areas_affected': ['Central America', 'Yucatn Peninsula', 'South Florida'], 'Damage': 6200000000.0, 'Deaths': 19325}}, {2003: {'Name': 'Isabel', 'Month': 'September', 'Year': 2003, 'Max_sustained_wind': 165, 'Areas_affected': ['Greater Antilles', 'Bahamas', 'Eastern United States', 'Ontario'], 'Damage': 5370000000.0, 'Deaths': 51}}, {2004: {'Name': 'Ivan', 'Month': 'September', 'Year': 2004, 'Max_sustained_wind': 165, 'Areas_affected': ['The Caribbean', 'Venezuela', 'United States Gulf Coast'], 'Damage': 23300000000.0, 'Deaths': 124}}, {2005: {'Name': 'Emily', 'Month': 'July', 'Year': 2005, 'Max_sustained_wind': 160, 'Areas_affected': ['Windward Islands', 'Jamaica', 'Mexico', 'Texas'], 'Damage': 1010000000.0, 'Deaths': 17}}, {2005: {'Name': 'Katrina', 'Month': 'August', 'Year': 2005, 'Max_sustained_wind': 175, 'Areas_affected': ['Bahamas', 'United States Gulf Coast'], 'Damage': 125000000000.0, 'Deaths': 1836}}, {2005: {'Name': 'Rita', 'Month': 'September', 'Year': 2005, 'Max_sustained_wind': 180, 'Areas_affected': ['Cuba', 'United States Gulf Coast'], 'Damage': 12000000000.0, 'Deaths': 125}}, {2005: {'Name': 'Wilma', 'Month': 'October', 'Year': 2005, 'Max_sustained_wind': 185, 'Areas_affected': ['Greater Antilles', 'Central America', 'Florida'], 'Damage': 29400000000.0, 'Deaths': 87}}, {2007: {'Name': 'Dean', 'Month': 'August', 'Year': 2007, 'Max_sustained_wind': 175, 'Areas_affected': ['The Caribbean', 'Central America'], 'Damage': 1760000000.0, 'Deaths': 45}}, {2007: {'Name': 'Felix', 'Month': 'September', 'Year': 2007, 'Max_sustained_wind': 175, 'Areas_affected': ['Nicaragua', 'Honduras'], 'Damage': 720000000.0, 'Deaths': 133}}, {2016: {'Name': 'Matthew', 'Month': 'October', 'Year': 2016, 'Max_sustained_wind': 165, 'Areas_affected': ['Antilles', 'Venezuela', 'Colombia', 'United States East Coast', 'Atlantic Canada'], 'Damage': 15100000000.0, 'Deaths': 603}}, {2017: {'Name': 'Irma', 'Month': 'September', 'Year': 2017, 'Max_sustained_wind': 180, 'Areas_affected': ['Cape Verde', 'The Caribbean', 'British Virgin Islands', 'U.S. Virgin Islands', 'Cuba', 'Florida'], 'Damage': 64800000000.0, 'Deaths': 138}}, {2017: {'Name': 'Maria', 'Month': 'September', 'Year': 2017, 'Max_sustained_wind': 175, 'Areas_affected': ['Lesser Antilles', 'Virgin Islands', 'Puerto Rico', 'Dominican Republic', 'Turks and Caicos Islands'], 'Damage': 91600000000.0, 'Deaths': 3057}}, {2018: {'Name': 'Michael', 'Month': 'October', 'Year': 2018, 'Max_sustained_wind': 160, 'Areas_affected': ['Central America', 'United States Gulf Coast (especially Florida Panhandle)'], 'Damage': 25100000000.0, 'Deaths': 74}}]\n"
          ],
          "output_type":"stream"
        }
      ],
      "metadata":{
        "jupyter":{
          "source_hidden":false,
          "outputs_hidden":false
        },
        "datalore":{
          "type":"CODE",
          "sheet_delimiter":false
        }
      }
    },
    {
      "cell_type":"code",
      "source":[
        "#We believe that knowing how often each of the areas of the Atlantic are affected by these strong hurricanes is important\n",
        "#for making preparations for future hurricanes.\n",
        "#Let's write a function that counts how often each area is listed as an affected area of a hurricane. Store and return the \n",
        "#results in a dictionary where the keys are the affected areas and the values are counts of how many times the areas were \n",
        "#affected.\n",
        "\n",
        "areas_count = {}\n",
        "\n",
        "for areas in areas_affected:\n",
        "  for i in areas:\n",
        "    if i not in areas_count:\n",
        "      areas_count[i] = 1\n",
        "    else:\n",
        "      areas_count[i] += 1\n",
        "print(areas_count)\n",
        "\n",
        "#Let's write a function that finds the area affected by the most hurricanes, and how often it was hit.\n",
        "def max_areas_affected(areas_count):\n",
        "  max_area = ''\n",
        "  max_count = 0\n",
        "\n",
        "  for area in areas_count:\n",
        "    if areas_count[area] > max_count:\n",
        "      max_area = area\n",
        "      max_count = areas_count[area]\n",
        "  return max_area, max_count\n",
        "\n",
        "max_area, max_count = max_areas_affected(areas_count)\n",
        "print(max_area, max_count)"
      ],
      "execution_count":6,
      "outputs":[
        {
          "name":"stdout",
          "text":[
            "{'Central America': 9, 'Mexico': 7, 'Cuba': 6, 'Florida': 6, 'The Bahamas': 7, 'Lesser Antilles': 4, 'United States East Coast': 3, 'Atlantic Canada': 3, 'Northeastern United States': 2, 'Jamaica': 4, 'Cayman Islands': 1, 'Bermuda': 2, 'Texas': 4, 'Tamaulipas': 1, 'Yucatn Peninsula': 3, 'Georgia': 1, 'The Carolinas': 1, 'Virginia': 1, 'Southeastern United States': 1, 'Southwestern Quebec': 1, 'New England': 1, 'Louisiana': 1, 'Midwestern United States': 1, 'The Caribbean': 8, 'United States Gulf Coast': 6, 'United States East coast': 1, 'South Texas': 1, 'Venezuela': 3, 'Hispaniola': 1, 'South Florida': 1, 'Greater Antilles': 2, 'Bahamas': 2, 'Eastern United States': 1, 'Ontario': 1, 'Windward Islands': 1, 'Nicaragua': 1, 'Honduras': 1, 'Antilles': 1, 'Colombia': 1, 'Cape Verde': 1, 'British Virgin Islands': 1, 'U.S. Virgin Islands': 1, 'Virgin Islands': 1, 'Puerto Rico': 1, 'Dominican Republic': 1, 'Turks and Caicos Islands': 1, 'United States Gulf Coast (especially Florida Panhandle)': 1}\n",
            "Central America 9\n"
          ],
          "output_type":"stream"
        }
      ],
      "metadata":{
        "jupyter":{
          "source_hidden":false,
          "outputs_hidden":false
        },
        "datalore":{
          "type":"CODE",
          "sheet_delimiter":false
        }
      }
    },
    {
      "cell_type":"code",
      "source":[
        "#Lets' write a function that finds the hurricane that caused the greatest number of deaths, and how many deaths it caused\n",
        "def fatality(hurricanes):\n",
        "  hurricanes_most_deaths = ''\n",
        "  number_of_deaths = 0\n",
        "\n",
        "  for hurricane in hurricanes:\n",
        "    if hurricanes[hurricane]['Deaths'] > number_of_deaths:\n",
        "      hurricane_most_deaths = hurricane\n",
        "      number_of_deaths = hurricanes[hurricane]['Deaths']\n",
        "  return number_of_deaths, hurricane_most_deaths \n",
        "\n",
        "max_fatality = fatality(hurricanes)\n",
        "print(max_fatality)"
      ],
      "execution_count":7,
      "outputs":[
        {
          "name":"stdout",
          "text":[
            "(19325, 'Mitch')\n"
          ],
          "output_type":"stream"
        }
      ],
      "metadata":{
        "jupyter":{
          "source_hidden":false,
          "outputs_hidden":false
        },
        "datalore":{
          "type":"CODE",
          "sheet_delimiter":false
        }
      }
    },
    {
      "cell_type":"code",
      "source":[
        "#Just as hurricanes are rated by their windspeed, we want to try rating hurricanes based on other metrics.\n",
        "#Let's write a function that rates hurricanes on a mortality scale according to the following ratings,\n",
        "# where the key is the rating and the value is the upper bound of deaths for that rating\n",
        "#mortality_scale = {0: 0, 1: 100, 2: 500, 3: 1000, 4: 10000}\n",
        "\n",
        "def mortality(hurricanes):\n",
        "  mortality_rates = {0:[], 1:[], 2:[], 3:[], 4:[]}\n",
        "  for hurricane in hurricanes:\n",
        "    rate = 0\n",
        "    deaths = hurricanes[hurricane]['Deaths']\n",
        "\n",
        "    if deaths < 100:\n",
        "      rate = 0\n",
        "    elif deaths >= 100 and deaths < 500:\n",
        "      rate = 1\n",
        "    elif deaths >= 500 and deaths < 1000:\n",
        "      rate = 2\n",
        "    elif deaths >= 1000 and deaths < 10000:\n",
        "      rate = 3\n",
        "    else: \n",
        "      rate = 4\n",
        "    \n",
        "    if rate not in mortality_rates:\n",
        "      mortality_rates[rate] = hurricanes[hurricane]\n",
        "    else:\n",
        "      mortality_rates[rate].append(hurricanes[hurricane]['Name'])\n",
        "  return mortality_rates\n",
        "\n",
        "mortality_rating = mortality(hurricanes)\n",
        "print(mortality_rating)"
      ],
      "execution_count":8,
      "outputs":[
        {
          "name":"stdout",
          "text":[
            "{0: ['Cuba I', 'Bahamas', 'Carol', 'Carla', 'Edith', 'Anita', 'Andrew', 'Isabel', 'Emily', 'Wilma', 'Dean', 'Michael'], 1: ['CubaBrownsville', 'Tampico', 'Labor Day', 'Hattie', 'Camille', 'Allen', 'Gilbert', 'Hugo', 'Ivan', 'Rita', 'Felix', 'Irma'], 2: ['New England', 'Beulah', 'Matthew'], 3: ['San Felipe II Okeechobee', 'Cuba II', 'Janet', 'David', 'Katrina', 'Maria'], 4: ['Mitch']}\n"
          ],
          "output_type":"stream"
        }
      ],
      "metadata":{
        "jupyter":{
          "source_hidden":false,
          "outputs_hidden":false
        },
        "datalore":{
          "type":"CODE",
          "sheet_delimiter":false
        }
      }
    },
    {
      "cell_type":"code",
      "source":[
        "#Let's write a function that finds the hurricane that caused the greatest damage, and how costly it was.\n",
        "def highest_damage(hurricanes):\n",
        "  highest_damage_hurricane = ''\n",
        "  max_cost = 0\n",
        "\n",
        "  for hurricane in hurricanes:\n",
        "    if hurricanes[hurricane]['Damage'] == 'Damages not recorded':\n",
        "      continue\n",
        "    if hurricanes[hurricane]['Damage'] > max_cost:\n",
        "      highest_damage_hurricane = hurricanes[hurricane]['Name']\n",
        "      max_cost = hurricanes[hurricane]['Damage']\n",
        "    return highest_damage_hurricane, max_cost\n",
        "\n",
        "highest_damage_hurricane = highest_damage(hurricanes)\n",
        "print(highest_damage_hurricane)"
      ],
      "execution_count":9,
      "outputs":[
        {
          "name":"stdout",
          "text":[
            "('San Felipe II Okeechobee', 100000000.0)\n"
          ],
          "output_type":"stream"
        }
      ],
      "metadata":{
        "jupyter":{
          "source_hidden":false,
          "outputs_hidden":false
        },
        "datalore":{
          "type":"CODE",
          "sheet_delimiter":false
        }
      }
    },
    {
      "cell_type":"code",
      "source":[
        "#Lastly, we want to rate hurricanes according to how much damage they cause. Let's write a function that rates\n",
        "# hurricanes on a damage scale according to the following ratings, where the key is the rating and the value is the\n",
        "#upper bound of damage for that rating.\n",
        "#damage_scale = {0: 0, 1: 100000000, 2: 1000000000, 3: 10000000000, 4: 50000000000}\n",
        "\n",
        "def damage_scaled(hurricanes):\n",
        "\n",
        "  damage_scale = {0: [], 1: [], 2: [], 3: [], 4: []}\n",
        "  for hurricane in hurricanes:\n",
        "    rate = 0\n",
        "    damage = hurricanes[hurricane]['Damage']\n",
        "\n",
        "    if damage == 'Damages not recorded':\n",
        "      continue\n",
        "    elif damage < 100000000:\n",
        "      rate = 0\n",
        "    elif damage >= 100000000 and damage < 1000000000:\n",
        "      rate = 1\n",
        "    elif damage >= 1000000000 and damage < 10000000000:\n",
        "      rate = 2\n",
        "    elif damage >= 10000000000 and damage < 50000000000:\n",
        "      rate = 3\n",
        "    else:\n",
        "      rate = 4\n",
        "\n",
        "    if rate not in damage_scale:\n",
        "      damage_scale[rate] = hurricanes[hurricane]\n",
        "    else: \n",
        "      damage_scale[rate].append(hurricanes[hurricane]['Name'])\n",
        "  return damage_scale\n",
        "\n",
        "damage_scale = damage_scaled(hurricanes)\n",
        "print(damage_scale)   "
      ],
      "execution_count":10,
      "outputs":[
        {
          "name":"stdout",
          "text":[
            "{0: ['Cuba II', 'CubaBrownsville', 'Tampico', 'Carol', 'Janet', 'Hattie', 'Edith'], 1: ['San Felipe II Okeechobee', 'New England', 'Carla', 'Beulah', 'Felix'], 2: ['Camille', 'David', 'Allen', 'Gilbert', 'Mitch', 'Isabel', 'Emily', 'Dean'], 3: ['Hugo', 'Andrew', 'Ivan', 'Rita', 'Wilma', 'Matthew', 'Michael'], 4: ['Katrina', 'Irma', 'Maria']}\n"
          ],
          "output_type":"stream"
        }
      ],
      "metadata":{
        "jupyter":{
          "source_hidden":false,
          "outputs_hidden":false
        },
        "datalore":{
          "type":"CODE",
          "sheet_delimiter":false
        }
      }
    }
  ],
  "metadata":{
    "datalore":{
      "version":1,
      "computation_mode":"JUPYTER",
      "package_manager":"pip",
      "base_environment":"default",
      "packages":[
        
      ]
    }
  },
  "nbformat":4,
  "nbformat_minor":4
}