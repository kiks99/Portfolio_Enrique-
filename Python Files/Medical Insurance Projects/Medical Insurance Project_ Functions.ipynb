{
  "cells":[
    {
      "cell_type":"markdown",
      "source":[
        "# Medical Insurance Project\n",
        "\n",
        "We are gonna suposse we are a medical professional curious about how certain factors \n",
        "contribute to medical insurance costs. We are gonna use a formula to estimate a person's yearly insurance costs using factor such as age, sex, BMI, num of children and smoking and how they affect the prediction.\n",
        "Sex & Smoker have only two values: (0, 1)"
      ],
      "attachments":{
        
      },
      "metadata":{
        "jupyter":{
          "source_hidden":false,
          "outputs_hidden":false
        },
        "datalore":{
          "type":"MD",
          "sheet_delimiter":false
        }
      }
    },
    {
      "cell_type":"code",
      "source":[
        "def insurance_cost(age, sex, bmi, num_of_children, smoker):\n",
        "    insurance_cost = 250 * age - 128 * sex + 370 * bmi + 425 * num_of_children + 24000 * smoker - 12500\n",
        "    print(\"This person insurance cost is $\" + str(insurance_cost) + \" dollars.\")\n",
        "    return insurance_cost\n",
        "\n",
        "insurance_cost(28, 0, 26.2, 3, 0)\n",
        "#result = $5469\n",
        "\n",
        "#Let's watch what happens when we add 4 years to our age\n",
        "insurance_cost(32, 0, 26.2, 3, 0)\n",
        "#result = $6469\n",
        "\n",
        "#Let's change our BMI by 3.1 \n",
        "insurance_cost(28, 0, 29.3, 3, 0)\n",
        "#result = $6616\n",
        "\n",
        "#Let's see Male vs. Female factor\n",
        "insurance_cost(28, 1, 26.2, 3, 0)\n",
        "#result = $5341\n",
        "\n",
        "#What about num of children??\n",
        "insurance_cost(28, 0, 26.2, 5, 0)\n",
        "#result = $6319\n",
        "\n",
        "#Finally let's see what does smoking affect the cost\n",
        "insurance_cost(28, 0, 26.2, 3, 1)\n",
        "#result = $29469"
      ],
      "execution_count":1,
      "outputs":[
        {
          "name":"stdout",
          "text":[
            "This person insurance cost is $5469.0 dollars.\n",
            "This person insurance cost is $6469.0 dollars.\n",
            "This person insurance cost is $6616.0 dollars.\n",
            "This person insurance cost is $5341.0 dollars.\n",
            "This person insurance cost is $6319.0 dollars.\n",
            "This person insurance cost is $29469.0 dollars.\n"
          ],
          "output_type":"stream"
        },
        {
          "data":{
            "text\/plain":[
              "29469.0"
            ]
          },
          "metadata":{
            
          },
          "output_type":"display_data"
        }
      ],
      "metadata":{
        "jupyter":{
          "source_hidden":false,
          "outputs_hidden":false
        },
        "datalore":{
          "type":"CODE",
          "sheet_delimiter":false
        }
      }
    },
    {
      "cell_type":"markdown",
      "source":[
        "Conclussion: Wow! Smoking really affects your insurance cost, more than any other factor we had. "
      ],
      "attachments":{
        
      },
      "metadata":{
        "jupyter":{
          "source_hidden":false,
          "outputs_hidden":false
        },
        "datalore":{
          "type":"MD",
          "sheet_delimiter":false
        }
      }
    },
    {
      "cell_type":"code",
      "source":[
        
      ],
      "execution_count":0,
      "outputs":[
        
      ],
      "metadata":{
        "jupyter":{
          "source_hidden":false,
          "outputs_hidden":false
        },
        "datalore":{
          "type":"CODE",
          "sheet_delimiter":false
        }
      }
    }
  ],
  "metadata":{
    "datalore":{
      "version":1,
      "computation_mode":"REACTIVE",
      "package_manager":"pip",
      "base_environment":"default",
      "packages":[
        
      ]
    }
  },
  "nbformat":4,
  "nbformat_minor":4
}