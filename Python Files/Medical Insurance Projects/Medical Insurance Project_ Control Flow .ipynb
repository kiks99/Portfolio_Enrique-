{
  "cells":[
    {
      "cell_type":"markdown",
      "source":[
        "# Medical Insurance Project: Control Flow \n",
        "\n",
        "In this project, we are going to use Control Flow to examine how factors such as age, sex, BMI, number of children, and smoking status contribute to medical insurance costs. We are gonna give advice to people on how to lower their medical insurance costs "
      ],
      "attachments":{
        
      },
      "metadata":{
        "jupyter":{
          "source_hidden":false,
          "outputs_hidden":false
        },
        "datalore":{
          "type":"MD",
          "sheet_delimiter":false
        }
      }
    },
    {
      "cell_type":"code",
      "source":[
        "def analyze_smoker(smoker_status):\n",
        "  if smoker_status == 1:\n",
        "    print(\"To lower your cost, you should consider quitting smoking.\")\n",
        "  else:\n",
        "    print(\"Smoking is not an issue for you.\")\n",
        "\n",
        "def analyze_bmi(bmi_value):\n",
        "  if bmi_value > 30:\n",
        "    print(\"Your BMI is in the obese range. To lower your cost, you should significantly lower your BMI.\")\n",
        "  elif bmi_value >= 25 and bmi_value <= 30:\n",
        "    print(\"Your BMI is in the overweight range. To lower your cost, you should lower your BMI.\")\n",
        "  elif bmi_value >= 18.5 and bmi_value < 25:\n",
        "    print(\"Your BMI is in a healthy range.\")\n",
        "  else:\n",
        "    print(\"Your BMI is in the underweight range. Increasing your BMI will not help lower your cost, but it will help improve your health.\")\n",
        "\n",
        "# Function to estimate insurance cost:\n",
        "def estimate_insurance_cost(name, age, sex, bmi, num_of_children, smoker):\n",
        "  estimated_cost = 250*age - 128*sex + 370*bmi + 425*num_of_children + 24000*smoker - 12500\n",
        "  print(name + \"'s Estimated Insurance Cost: $\" + str(estimated_cost) + \" dollars.\")\n",
        "  analyze_smoker(smoker)\n",
        "  analyze_bmi(bmi)\n",
        "  return estimated_cost"
      ],
      "execution_count":1,
      "outputs":[
        
      ],
      "metadata":{
        "jupyter":{
          "source_hidden":false,
          "outputs_hidden":false
        },
        "datalore":{
          "type":"CODE",
          "sheet_delimiter":false
        }
      }
    },
    {
      "cell_type":"code",
      "source":[
        "# Estimate Keanu's insurance cost and my insurance cost\n",
        "keanu_insurance_cost = estimate_insurance_cost(name = 'Keanu', age = 29, sex = 1, bmi = 26.2, num_of_children = 3, smoker = 1)\n",
        "\n",
        "my_insurance_cost = estimate_insurance_cost(name = 'Enrique', age = 21, sex = 1, bmi = 22, num_of_children = 0, smoker = 1)"
      ],
      "execution_count":2,
      "outputs":[
        {
          "name":"stdout",
          "text":[
            "Keanu's Estimated Insurance Cost: $29591.0 dollars.\n",
            "To lower your cost, you should consider quitting smoking.\n",
            "Your BMI is in the overweight range. To lower your cost, you should lower your BMI.\n",
            "Enrique's Estimated Insurance Cost: $24762 dollars.\n",
            "To lower your cost, you should consider quitting smoking.\n",
            "Your BMI is in a healthy range.\n"
          ],
          "output_type":"stream"
        }
      ],
      "metadata":{
        "jupyter":{
          "source_hidden":false,
          "outputs_hidden":false
        },
        "datalore":{
          "type":"CODE",
          "sheet_delimiter":false
        }
      }
    }
  ],
  "metadata":{
    "datalore":{
      "version":1,
      "computation_mode":"REACTIVE",
      "package_manager":"pip",
      "base_environment":"default",
      "packages":[
        
      ]
    }
  },
  "nbformat":4,
  "nbformat_minor":4
}