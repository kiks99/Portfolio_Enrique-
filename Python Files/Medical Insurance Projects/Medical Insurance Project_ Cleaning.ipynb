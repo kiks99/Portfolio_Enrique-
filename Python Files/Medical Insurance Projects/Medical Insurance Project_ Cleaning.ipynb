{
  "cells":[
    {
      "cell_type":"markdown",
      "source":[
        "# Medical Insurance Project: Cleaning Information\n",
        "\n",
        "We are going to clean up some patient records, which are currently stored in one large string. We will use Python string methods to obtain and clean up medcial data so that it is easier to read and analyze. The string medical_data stores the medical records for 10 individuals. Each record is separated by a ; and contains the name, age, BMI (body mass index), and insurance costs for and individual in that order."
      ],
      "attachments":{
        
      },
      "metadata":{
        "jupyter":{
          "source_hidden":false,
          "outputs_hidden":false
        },
        "datalore":{
          "type":"MD",
          "sheet_delimiter":false
        }
      }
    },
    {
      "cell_type":"code",
      "source":[
        "medical_data = \\\n",
        "\"\"\"Marina Allison   ,27   ,   31.1 , \n",
        "#7010.0   ;Markus Valdez   ,   30, \n",
        "22.4,   #4050.0 ;Connie Ballard ,43 \n",
        ",   25.3 , #12060.0 ;Darnell Weber   \n",
        ",   35   , 20.6   , #7500.0;\n",
        "Sylvie Charles   ,22, 22.1 \n",
        ",#3022.0   ;   Vinay Padilla,24,   \n",
        "26.9 ,#4620.0 ;Meredith Santiago, 51   , \n",
        "29.3 ,#16330.0;   Andre Mccarty, \n",
        "19,22.7 , #2900.0 ; \n",
        "Lorena Hodson ,65, 33.1 , #19370.0; \n",
        "Isaac Vu ,34, 24.8,   #7045.0\"\"\""
      ],
      "execution_count":1,
      "outputs":[
        
      ],
      "metadata":{
        "jupyter":{
          "source_hidden":false,
          "outputs_hidden":false
        },
        "datalore":{
          "type":"CODE",
          "sheet_delimiter":false
        }
      }
    },
    {
      "cell_type":"markdown",
      "source":[
        "- We want to replace every # with an $ "
      ],
      "attachments":{
        
      },
      "metadata":{
        "jupyter":{
          "source_hidden":false,
          "outputs_hidden":false
        },
        "datalore":{
          "type":"MD",
          "sheet_delimiter":false
        }
      }
    },
    {
      "cell_type":"code",
      "source":[
        "updated_medical_data = medical_data.replace(\"#\", \"$\")\n",
        "print(updated_medical_data)"
      ],
      "execution_count":3,
      "outputs":[
        {
          "name":"stdout",
          "text":[
            "Marina Allison   ,27   ,   31.1 , \n",
            "$7010.0   ;Markus Valdez   ,   30, \n",
            "22.4,   $4050.0 ;Connie Ballard ,43 \n",
            ",   25.3 , $12060.0 ;Darnell Weber   \n",
            ",   35   , 20.6   , $7500.0;\n",
            "Sylvie Charles   ,22, 22.1 \n",
            ",$3022.0   ;   Vinay Padilla,24,   \n",
            "26.9 ,$4620.0 ;Meredith Santiago, 51   , \n",
            "29.3 ,$16330.0;   Andre Mccarty, \n",
            "19,22.7 , $2900.0 ; \n",
            "Lorena Hodson ,65, 33.1 , $19370.0; \n",
            "Isaac Vu ,34, 24.8,   $7045.0\n"
          ],
          "output_type":"stream"
        }
      ],
      "metadata":{
        "jupyter":{
          "source_hidden":false,
          "outputs_hidden":false
        },
        "datalore":{
          "type":"CODE",
          "sheet_delimiter":false
        }
      }
    },
    {
      "cell_type":"markdown",
      "source":[
        "- Let's see how many records we have in our medical data"
      ],
      "attachments":{
        
      },
      "metadata":{
        "jupyter":{
          "source_hidden":false,
          "outputs_hidden":false
        },
        "datalore":{
          "type":"MD",
          "sheet_delimiter":false
        }
      }
    },
    {
      "cell_type":"code",
      "source":[
        "num_records = 0\n",
        "for record in updated_medical_data:\n",
        "  if record == \"$\":\n",
        "    num_records += 1\n",
        "print(\"There are {0} medical records in the data.\".format(num_records))"
      ],
      "execution_count":4,
      "outputs":[
        {
          "name":"stdout",
          "text":[
            "There are 10 medical records in the data.\n"
          ],
          "output_type":"stream"
        }
      ],
      "metadata":{
        "jupyter":{
          "source_hidden":false,
          "outputs_hidden":false
        },
        "datalore":{
          "type":"CODE",
          "sheet_delimiter":false
        }
      }
    },
    {
      "cell_type":"markdown",
      "source":[
        "- We are gonna split the medical data by the \";\""
      ],
      "attachments":{
        
      },
      "metadata":{
        "jupyter":{
          "source_hidden":false,
          "outputs_hidden":false
        },
        "datalore":{
          "type":"MD",
          "sheet_delimiter":false
        }
      }
    },
    {
      "cell_type":"code",
      "source":[
        "medical_data_split = updated_medical_data.split(\";\")\n",
        "print(medical_data_split)"
      ],
      "execution_count":5,
      "outputs":[
        {
          "name":"stdout",
          "text":[
            "['Marina Allison   ,27   ,   31.1 , \\n$7010.0   ', 'Markus Valdez   ,   30, \\n22.4,   $4050.0 ', 'Connie Ballard ,43 \\n,   25.3 , $12060.0 ', 'Darnell Weber   \\n,   35   , 20.6   , $7500.0', '\\nSylvie Charles   ,22, 22.1 \\n,$3022.0   ', '   Vinay Padilla,24,   \\n26.9 ,$4620.0 ', 'Meredith Santiago, 51   , \\n29.3 ,$16330.0', '   Andre Mccarty, \\n19,22.7 , $2900.0 ', ' \\nLorena Hodson ,65, 33.1 , $19370.0', ' \\nIsaac Vu ,34, 24.8,   $7045.0']\n"
          ],
          "output_type":"stream"
        }
      ],
      "metadata":{
        "jupyter":{
          "source_hidden":false,
          "outputs_hidden":false
        },
        "datalore":{
          "type":"CODE",
          "sheet_delimiter":false
        }
      }
    },
    {
      "cell_type":"markdown",
      "source":[
        "- Adding every data divided in medical_data_split into a list"
      ],
      "attachments":{
        
      },
      "metadata":{
        "jupyter":{
          "source_hidden":false,
          "outputs_hidden":false
        },
        "datalore":{
          "type":"MD",
          "sheet_delimiter":false
        }
      }
    },
    {
      "cell_type":"code",
      "source":[
        "medical_records = []\n",
        "\n",
        "for record in medical_data_split:\n",
        "  medical_records.append(record.split(','))\n",
        "\n",
        "print(medical_records) "
      ],
      "execution_count":6,
      "outputs":[
        {
          "name":"stdout",
          "text":[
            "[['Marina Allison   ', '27   ', '   31.1 ', ' \\n$7010.0   '], ['Markus Valdez   ', '   30', ' \\n22.4', '   $4050.0 '], ['Connie Ballard ', '43 \\n', '   25.3 ', ' $12060.0 '], ['Darnell Weber   \\n', '   35   ', ' 20.6   ', ' $7500.0'], ['\\nSylvie Charles   ', '22', ' 22.1 \\n', '$3022.0   '], ['   Vinay Padilla', '24', '   \\n26.9 ', '$4620.0 '], ['Meredith Santiago', ' 51   ', ' \\n29.3 ', '$16330.0'], ['   Andre Mccarty', ' \\n19', '22.7 ', ' $2900.0 '], [' \\nLorena Hodson ', '65', ' 33.1 ', ' $19370.0'], [' \\nIsaac Vu ', '34', ' 24.8', '   $7045.0']]\n"
          ],
          "output_type":"stream"
        }
      ],
      "metadata":{
        "jupyter":{
          "source_hidden":false,
          "outputs_hidden":false
        },
        "datalore":{
          "type":"CODE",
          "sheet_delimiter":false
        }
      }
    },
    {
      "cell_type":"markdown",
      "source":[
        "- Let's clean the data"
      ],
      "attachments":{
        
      },
      "metadata":{
        "jupyter":{
          "source_hidden":false,
          "outputs_hidden":false
        },
        "datalore":{
          "type":"MD",
          "sheet_delimiter":false
        }
      }
    },
    {
      "cell_type":"code",
      "source":[
        "medical_records_clean = []\n",
        "for record in medical_records:\n",
        "  record_clean = []\n",
        "  for item in record:\n",
        "    record_clean.append(item.strip())\n",
        "  medical_records_clean.append(record_clean)\n",
        "print(medical_records_clean)"
      ],
      "execution_count":7,
      "outputs":[
        {
          "name":"stdout",
          "text":[
            "[['Marina Allison', '27', '31.1', '$7010.0'], ['Markus Valdez', '30', '22.4', '$4050.0'], ['Connie Ballard', '43', '25.3', '$12060.0'], ['Darnell Weber', '35', '20.6', '$7500.0'], ['Sylvie Charles', '22', '22.1', '$3022.0'], ['Vinay Padilla', '24', '26.9', '$4620.0'], ['Meredith Santiago', '51', '29.3', '$16330.0'], ['Andre Mccarty', '19', '22.7', '$2900.0'], ['Lorena Hodson', '65', '33.1', '$19370.0'], ['Isaac Vu', '34', '24.8', '$7045.0']]\n"
          ],
          "output_type":"stream"
        }
      ],
      "metadata":{
        "jupyter":{
          "source_hidden":false,
          "outputs_hidden":false
        },
        "datalore":{
          "type":"CODE",
          "sheet_delimiter":false
        }
      }
    },
    {
      "cell_type":"markdown",
      "source":[
        "- We are gonna UPPER every name"
      ],
      "attachments":{
        
      },
      "metadata":{
        "jupyter":{
          "source_hidden":false,
          "outputs_hidden":false
        },
        "datalore":{
          "type":"MD",
          "sheet_delimiter":false
        }
      }
    },
    {
      "cell_type":"code",
      "source":[
        "for record in medical_records_clean:\n",
        "    record[0] = record[0].upper()\n",
        "    print(record[0])"
      ],
      "execution_count":9,
      "outputs":[
        {
          "name":"stdout",
          "text":[
            "MARINA ALLISON\n",
            "MARKUS VALDEZ\n",
            "CONNIE BALLARD\n",
            "DARNELL WEBER\n",
            "SYLVIE CHARLES\n",
            "VINAY PADILLA\n",
            "MEREDITH SANTIAGO\n",
            "ANDRE MCCARTY\n",
            "LORENA HODSON\n",
            "ISAAC VU\n"
          ],
          "output_type":"stream"
        }
      ],
      "metadata":{
        "jupyter":{
          "source_hidden":false,
          "outputs_hidden":false
        },
        "datalore":{
          "type":"CODE",
          "sheet_delimiter":false
        }
      }
    },
    {
      "cell_type":"markdown",
      "source":[
        "- Creating the lists to separate every factor into each list "
      ],
      "attachments":{
        
      },
      "metadata":{
        "jupyter":{
          "source_hidden":false,
          "outputs_hidden":false
        },
        "datalore":{
          "type":"MD",
          "sheet_delimiter":false
        }
      }
    },
    {
      "cell_type":"code",
      "source":[
        "names = []\n",
        "ages = []\n",
        "bmis = []\n",
        "insurance_costs = []\n",
        "\n",
        "for record in medical_records_clean:\n",
        "  names.append(record[0])\n",
        "  ages.append(record[1])\n",
        "  bmis.append(record[2])\n",
        "  insurance_costs.append(record[3])\n",
        "\n",
        "print(names)\n",
        "print(ages)\n",
        "print(bmis)\n",
        "print(insurance_costs)"
      ],
      "execution_count":10,
      "outputs":[
        {
          "name":"stdout",
          "text":[
            "['MARINA ALLISON', 'MARKUS VALDEZ', 'CONNIE BALLARD', 'DARNELL WEBER', 'SYLVIE CHARLES', 'VINAY PADILLA', 'MEREDITH SANTIAGO', 'ANDRE MCCARTY', 'LORENA HODSON', 'ISAAC VU']\n",
            "['27', '30', '43', '35', '22', '24', '51', '19', '65', '34']\n",
            "['31.1', '22.4', '25.3', '20.6', '22.1', '26.9', '29.3', '22.7', '33.1', '24.8']\n",
            "['$7010.0', '$4050.0', '$12060.0', '$7500.0', '$3022.0', '$4620.0', '$16330.0', '$2900.0', '$19370.0', '$7045.0']\n"
          ],
          "output_type":"stream"
        }
      ],
      "metadata":{
        "jupyter":{
          "source_hidden":false,
          "outputs_hidden":false
        },
        "datalore":{
          "type":"CODE",
          "sheet_delimiter":false
        }
      }
    },
    {
      "cell_type":"markdown",
      "source":[
        "- Calculating the average BMI"
      ],
      "attachments":{
        
      },
      "metadata":{
        "jupyter":{
          "source_hidden":false,
          "outputs_hidden":false
        },
        "datalore":{
          "type":"MD",
          "sheet_delimiter":false
        }
      }
    },
    {
      "cell_type":"code",
      "source":[
        "total_bmi = 0\n",
        "for bmi in bmis:\n",
        "  total_bmi += float(bmi)\n",
        "\n",
        "average_bmi = total_bmi \/ len(bmis)\n",
        "print(\"Average BMI: \" + str(float(average_bmi)))"
      ],
      "execution_count":11,
      "outputs":[
        {
          "name":"stdout",
          "text":[
            "Average BMI: 25.830000000000002\n"
          ],
          "output_type":"stream"
        }
      ],
      "metadata":{
        "jupyter":{
          "source_hidden":false,
          "outputs_hidden":false
        },
        "datalore":{
          "type":"CODE",
          "sheet_delimiter":false
        }
      }
    },
    {
      "cell_type":"markdown",
      "source":[
        "- Calculating the average income"
      ],
      "attachments":{
        
      },
      "metadata":{
        "jupyter":{
          "source_hidden":false,
          "outputs_hidden":false
        },
        "datalore":{
          "type":"MD",
          "sheet_delimiter":false
        }
      }
    },
    {
      "cell_type":"code",
      "source":[
        " \n",
        "insurance_cost_clean = []\n",
        "for insurance_cost in insurance_costs:\n",
        "    insurance_cost_clean.append(insurance_cost[1:])\n",
        "#print(insurance_cost_clean)\n",
        "\n",
        "total_insurance = 0\n",
        "for insurance_cost in insurance_cost_clean:\n",
        "    total_insurance += float(insurance_cost)\n",
        "print(total_insurance)\n",
        "\n",
        "average_insurance_cost = total_insurance \/ len(insurance_costs)\n",
        "print(\"Average Insurance Cost: $\" + str(float(average_insurance_cost)))\n"
      ],
      "execution_count":14,
      "outputs":[
        {
          "name":"stdout",
          "text":[
            "83907.0\n",
            "Average Insurance Cost: $8390.7\n"
          ],
          "output_type":"stream"
        }
      ],
      "metadata":{
        "jupyter":{
          "source_hidden":false,
          "outputs_hidden":false
        },
        "datalore":{
          "type":"CODE",
          "sheet_delimiter":false
        }
      }
    },
    {
      "cell_type":"markdown",
      "source":[
        "- Let's see how's everyone's medical data"
      ],
      "attachments":{
        
      },
      "metadata":{
        "jupyter":{
          "source_hidden":false,
          "outputs_hidden":false
        },
        "datalore":{
          "type":"MD",
          "sheet_delimiter":false
        }
      }
    },
    {
      "cell_type":"code",
      "source":[
        "for i in range(len(medical_records_clean)):\n",
        "    print(f\"{names[i].lower()} is {ages[i]} years old with a BMI of {bmis[i]} and an insurance cost of {insurance_costs[i]}\")"
      ],
      "execution_count":15,
      "outputs":[
        {
          "name":"stdout",
          "text":[
            "marina allison is 27 years old with a BMI of 31.1 and an insurance cost of $7010.0\n",
            "markus valdez is 30 years old with a BMI of 22.4 and an insurance cost of $4050.0\n",
            "connie ballard is 43 years old with a BMI of 25.3 and an insurance cost of $12060.0\n",
            "darnell weber is 35 years old with a BMI of 20.6 and an insurance cost of $7500.0\n",
            "sylvie charles is 22 years old with a BMI of 22.1 and an insurance cost of $3022.0\n",
            "vinay padilla is 24 years old with a BMI of 26.9 and an insurance cost of $4620.0\n",
            "meredith santiago is 51 years old with a BMI of 29.3 and an insurance cost of $16330.0\n",
            "andre mccarty is 19 years old with a BMI of 22.7 and an insurance cost of $2900.0\n",
            "lorena hodson is 65 years old with a BMI of 33.1 and an insurance cost of $19370.0\n",
            "isaac vu is 34 years old with a BMI of 24.8 and an insurance cost of $7045.0\n"
          ],
          "output_type":"stream"
        }
      ],
      "metadata":{
        "jupyter":{
          "source_hidden":false,
          "outputs_hidden":false
        },
        "datalore":{
          "type":"CODE",
          "sheet_delimiter":false
        }
      }
    }
  ],
  "metadata":{
    "datalore":{
      "version":1,
      "computation_mode":"JUPYTER",
      "package_manager":"pip",
      "base_environment":"default",
      "packages":[
        
      ]
    }
  },
  "nbformat":4,
  "nbformat_minor":4
}