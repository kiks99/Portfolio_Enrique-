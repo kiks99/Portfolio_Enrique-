{
  "cells":[
    {
      "cell_type":"markdown",
      "source":[
        "\n",
        "# Medical Insurance Project: Dictionaries \n",
        "We've been asked to do a program that organizes and updates medical records efficiently. In this project, we are going to use dictionaries to create a database of medical records for patients."
      ],
      "attachments":{
        
      },
      "metadata":{
        "jupyter":{
          "source_hidden":false,
          "outputs_hidden":false
        },
        "datalore":{
          "type":"MD",
          "sheet_delimiter":false
        }
      }
    },
    {
      "cell_type":"code",
      "source":[
        "#Creating and storing our patients and their insurance cost in a dictionary\n",
        "medical_costs = {\"Marina\": 6607.0, \"Vinay\": 3225.0}\n",
        "medical_costs.update({\"Connie\": 8886.0, \"Isaac\": 16444.0, \"Valentina\": 6420.0})\n",
        "#We noticed that Vinay's insurance cost was incorrectly inputted. Let's update it.\n",
        "medical_costs[\"Vinay\"] = 3325.0\n",
        "print(medical_costs)"
      ],
      "execution_count":1,
      "outputs":[
        {
          "name":"stdout",
          "text":[
            "{'Marina': 6607.0, 'Vinay': 3325.0, 'Connie': 8886.0, 'Isaac': 16444.0, 'Valentina': 6420.0}\n"
          ],
          "output_type":"stream"
        }
      ],
      "metadata":{
        "jupyter":{
          "source_hidden":false,
          "outputs_hidden":false
        },
        "datalore":{
          "type":"CODE",
          "sheet_delimiter":false
        }
      }
    },
    {
      "cell_type":"code",
      "source":[
        "#Let's calculate the total and average insurance cost \n",
        "total_cost = 0\n",
        "for item in medical_costs.values():\n",
        "  total_cost += item\n",
        "#print(total_cost)\n",
        "average_cost = total_cost \/ len(medical_costs)\n",
        "print(\"Average insurance Cost: \" + str(average_cost))"
      ],
      "execution_count":2,
      "outputs":[
        {
          "name":"stdout",
          "text":[
            "Average insurance Cost: 8336.4\n"
          ],
          "output_type":"stream"
        }
      ],
      "metadata":{
        "jupyter":{
          "source_hidden":false,
          "outputs_hidden":false
        },
        "datalore":{
          "type":"CODE",
          "sheet_delimiter":false
        }
      }
    },
    {
      "cell_type":"code",
      "source":[
        "#List Comprehension to Dictionary \n",
        "# We've been asked to create a second dictionary that maps patient names to their ages \n",
        "names = [\"Marina\", \"Vinay\", \"Connie\", \"Isaac\", \"Valentina\"]\n",
        "ages = [27, 24, 43, 35, 52]\n",
        "#Zipping both lists together\n",
        "zipped_ages = zip(names, ages)\n",
        "#Using list comprehension we make a dictionary\n",
        "names_to_ages = {key: value for key, value in zipped_ages}\n",
        "print(names_to_ages)\n",
        "\n",
        "#Let's get Marina's age using the .get method\n",
        "marinas_age = names_to_ages.get(\"Marina\", None)\n",
        "print(\"Marina´s age is \" + str(marinas_age))"
      ],
      "execution_count":3,
      "outputs":[
        {
          "name":"stdout",
          "text":[
            "{'Marina': 27, 'Vinay': 24, 'Connie': 43, 'Isaac': 35, 'Valentina': 52}\n",
            "Marina´s age is 27\n"
          ],
          "output_type":"stream"
        }
      ],
      "metadata":{
        "jupyter":{
          "source_hidden":false,
          "outputs_hidden":false
        },
        "datalore":{
          "type":"CODE",
          "sheet_delimiter":false
        }
      }
    },
    {
      "cell_type":"code",
      "source":[
        "#Let’s create a third dictionary to represent a database of medical records that contains information such as \n",
        "# a patient’s name, age, sex, gender, BMI, number of children, smoker status, and insurance cost.\n",
        "medical_records = {\"Marina\": {\"Age\": 27, \"Sex\": \"Female\", \"BMI\": 31.1, \"Children\": 2, \"Smoker\": \\\n",
        "    \"Non-smoker\", \"Insurance_cost\": 6607.0}, \"Vinay\": {\"Age\": 24, \"Sex\": \"Male\", \"BMI\": 26.9, \"Children\": 0, \\\n",
        "    \"Smoker\": \"Non-smoker\", \"Insurance_cost\": 3225.0}, \"Connie\": {\"Age\": 43, \"Sex\": \"Female\", \"BMI\": 25.3, \"Children\": 3,\\\n",
        "    \"Smoker\": \"Non-smoker\", \"Insurance_cost\": 8886.0}, \"Isaac\": {\"Age\": 35, \"Sex\": \"Male\", \"BMI\": 20.6, \"Children\": 4,\\\n",
        "    \"Smoker\": \"Smoker\", \"Insurance_cost\": 16444.0}, \"Valentina\": {\"Age\": 52, \"Sex\": \"Female\", \"BMI\": 18.7,\\\n",
        "    \"Children\": 1, \"Smoker\": \"Non-smoker\", \"Insurance_cost\": 6420.0}}\n",
        "\n",
        "print(medical_records)\n",
        "print(\"Connies insurance cost is \" + str(medical_records[\"Connie\"][\"Insurance_cost\"]) + \" dollars.\")\n",
        "medical_records.pop(\"Vinay\")\n",
        "\n",
        "for name, record in medical_records.items():\n",
        "  print(\"{0} is a {1} year old {2} {3} with a BMI of {4} and insurance cost of {5}\".format(name, record[\"Age\"],\\\n",
        "  record[\"Sex\"], record[\"Smoker\"], record[\"BMI\"], record[\"Insurance_cost\"]))"
      ],
      "execution_count":4,
      "outputs":[
        {
          "name":"stdout",
          "text":[
            "{'Marina': {'Age': 27, 'Sex': 'Female', 'BMI': 31.1, 'Children': 2, 'Smoker': 'Non-smoker', 'Insurance_cost': 6607.0}, 'Vinay': {'Age': 24, 'Sex': 'Male', 'BMI': 26.9, 'Children': 0, 'Smoker': 'Non-smoker', 'Insurance_cost': 3225.0}, 'Connie': {'Age': 43, 'Sex': 'Female', 'BMI': 25.3, 'Children': 3, 'Smoker': 'Non-smoker', 'Insurance_cost': 8886.0}, 'Isaac': {'Age': 35, 'Sex': 'Male', 'BMI': 20.6, 'Children': 4, 'Smoker': 'Smoker', 'Insurance_cost': 16444.0}, 'Valentina': {'Age': 52, 'Sex': 'Female', 'BMI': 18.7, 'Children': 1, 'Smoker': 'Non-smoker', 'Insurance_cost': 6420.0}}\n",
            "Connies insurance cost is 8886.0 dollars.\n",
            "Marina is a 27 year old Female Non-smoker with a BMI of 31.1 and insurance cost of 6607.0\n",
            "Connie is a 43 year old Female Non-smoker with a BMI of 25.3 and insurance cost of 8886.0\n",
            "Isaac is a 35 year old Male Smoker with a BMI of 20.6 and insurance cost of 16444.0\n",
            "Valentina is a 52 year old Female Non-smoker with a BMI of 18.7 and insurance cost of 6420.0\n"
          ],
          "output_type":"stream"
        }
      ],
      "metadata":{
        "jupyter":{
          "source_hidden":false,
          "outputs_hidden":false
        },
        "datalore":{
          "type":"CODE",
          "sheet_delimiter":false
        }
      }
    }
  ],
  "metadata":{
    "datalore":{
      "version":1,
      "computation_mode":"REACTIVE",
      "package_manager":"pip",
      "base_environment":"default",
      "packages":[
        
      ]
    }
  },
  "nbformat":4,
  "nbformat_minor":4
}