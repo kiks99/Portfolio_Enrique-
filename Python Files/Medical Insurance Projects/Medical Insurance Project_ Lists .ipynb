{
  "cells":[
    {
      "cell_type":"markdown",
      "source":[
        "# Insurance vs Costs Project\n",
        "We are interested in analyzing medical insurance cost data efficiently without writing a lot of repetitive code. In this project,, we will use loops to iterate through and analyze medical insurance cost data. "
      ],
      "attachments":{
        
      },
      "metadata":{
        "jupyter":{
          "source_hidden":false,
          "outputs_hidden":false
        },
        "datalore":{
          "type":"MD",
          "sheet_delimiter":false
        }
      }
    },
    {
      "cell_type":"code",
      "source":[
        "#Data we are gonna use:\n",
        "names = [\"Judith\", \"Abel\", \"Tyson\", \"Martha\", \"Beverley\", \"David\", \"Anabel\"]\n",
        "estimated_insurance_costs = [1000.0, 2000.0, 3000.0, 4000.0, 5000.0, 6000.0, 7000.0]\n",
        "actual_insurance_costs = [1100.0, 2200.0, 3300.0, 4400.0, 5500.0, 6600.0, 7700.0]\n",
        "\n",
        "#Calculating Average Insurance Cost\n",
        "total_cost = 0\n",
        "\n",
        "for insurance_cost in actual_insurance_costs:\n",
        "  total_cost += insurance_cost \n",
        "\n",
        "average_cost = total_cost \/ len(actual_insurance_costs)\n",
        "\n",
        "print(\"Average Insurance Cost: {0} dollars.\".format(average_cost))"
      ],
      "execution_count":1,
      "outputs":[
        {
          "name":"stdout",
          "text":[
            "Average Insurance Cost: 4400.0 dollars.\n"
          ],
          "output_type":"stream"
        }
      ],
      "metadata":{
        "jupyter":{
          "source_hidden":false,
          "outputs_hidden":false
        },
        "datalore":{
          "type":"CODE",
          "sheet_delimiter":false
        }
      }
    },
    {
      "cell_type":"code",
      "source":[
        "#Checking the actual cost of every name in the list and cheking where are them in the average cost\n",
        "print(\"Insurance Cost List: \")\n",
        "for i in range(len(names)):\n",
        "  name = names[i]\n",
        "  insurance_cost = actual_insurance_costs[i]\n",
        "  print(\"The insurance cost for {0} is {1} dollars\".format(name, insurance_cost))\n",
        "  if insurance_cost > average_cost:\n",
        "    print(\"The insurance cost for \" + name + \" is above average\")\n",
        "  elif insurance_cost < average_cost:\n",
        "    print(\"The insurance cost for \" + name + \" is below average\")\n",
        "  else:\n",
        "    print(\"The insurance cost for \" + name + \" is equal to the average\")"
      ],
      "execution_count":2,
      "outputs":[
        {
          "name":"stdout",
          "text":[
            "Insurance Cost List: \n",
            "The insurance cost for Judith is 1100.0 dollars\n",
            "The insurance cost for Judith is below average\n",
            "The insurance cost for Abel is 2200.0 dollars\n",
            "The insurance cost for Abel is below average\n",
            "The insurance cost for Tyson is 3300.0 dollars\n",
            "The insurance cost for Tyson is below average\n",
            "The insurance cost for Martha is 4400.0 dollars\n",
            "The insurance cost for Martha is equal to the average\n",
            "The insurance cost for Beverley is 5500.0 dollars\n",
            "The insurance cost for Beverley is above average\n",
            "The insurance cost for David is 6600.0 dollars\n",
            "The insurance cost for David is above average\n",
            "The insurance cost for Anabel is 7700.0 dollars\n",
            "The insurance cost for Anabel is above average\n"
          ],
          "output_type":"stream"
        }
      ],
      "metadata":{
        "jupyter":{
          "source_hidden":false,
          "outputs_hidden":false
        },
        "datalore":{
          "type":"CODE",
          "sheet_delimiter":false
        }
      }
    },
    {
      "cell_type":"code",
      "source":[
        "#Updating the estimated insurance list\n",
        "updated_estimated_costs = [cost * (11\/10) for cost in estimated_insurance_costs]\n",
        "print(\"Updated Insurance Costs:\")\n",
        "print(updated_estimated_costs)\n",
        "  "
      ],
      "execution_count":3,
      "outputs":[
        {
          "name":"stdout",
          "text":[
            "Updated Insurance Costs:\n",
            "[1100.0, 2200.0, 3300.0000000000005, 4400.0, 5500.0, 6600.000000000001, 7700.000000000001]\n"
          ],
          "output_type":"stream"
        }
      ],
      "metadata":{
        "jupyter":{
          "source_hidden":false,
          "outputs_hidden":false
        },
        "datalore":{
          "type":"CODE",
          "sheet_delimiter":false
        }
      }
    }
  ],
  "metadata":{
    "datalore":{
      "version":1,
      "computation_mode":"REACTIVE",
      "package_manager":"pip",
      "base_environment":"default",
      "packages":[
        
      ]
    }
  },
  "nbformat":4,
  "nbformat_minor":4
}