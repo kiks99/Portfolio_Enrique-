{
  "cells":[
    {
      "cell_type":"markdown",
      "source":[
        "# Medical Insuranc Project: Classes\n",
        "\n",
        "We've been asked to develop a system that makes it easier to organize patient data. You will create a class that does the following \n",
        "- Take in patient parameters regarding their personal information \n",
        "- Contain methods that allow users to update their information\n",
        "- Give patients insight into their potential medical fees"
      ],
      "attachments":{
        
      },
      "metadata":{
        "jupyter":{
          "source_hidden":false,
          "outputs_hidden":false
        },
        "datalore":{
          "type":"MD",
          "sheet_delimiter":false
        }
      }
    },
    {
      "cell_type":"code",
      "source":[
        "class Patient:\n",
        "  def __init__(self, name, age, sex, bmi, num_of_children, smoker):\n",
        "    self.name = name\n",
        "    self.age = age\n",
        "    self.sex = sex\n",
        "    self.bmi = bmi\n",
        "    self.num_of_children = num_of_children\n",
        "    self.smoker = smoker\n",
        "  \n",
        "  def estimated_insurance_cost(self):\n",
        "    estimated_cost = 250 * self.age - 128 * self.sex + 370 * self.bmi + 425 * self.num_of_children + 24000 * self.smoker - 12500\n",
        "    print(\"{0}'s estimated insurance cost is {1} dollars.\".format(self.name, estimated_cost)) \n",
        "  def update_age(self, new_age):\n",
        "    self.age = new_age\n",
        "    print(\"{0} is now {1} years old\".format(self.name, self.age))\n",
        "  \n",
        "  def update_num_children(self, new_num_children):\n",
        "    self.num_of_children = new_num_children\n",
        "    if self.num_of_children == 1:\n",
        "      print(\"{0} has {1} child.\".format(self.name, self.num_of_children))\n",
        "    else:\n",
        "      print(\"{0} has {1} children\".format(self.name, self.num_of_children))\n",
        "  \n",
        "  def patient_profile(self):\n",
        "    patient_information = {}\n",
        "    patient_information[\"Name\"] = self.name\n",
        "    patient_information[\"Age\"] = self.age\n",
        "    patient_information[\"Sex\"] = self.sex\n",
        "    patient_information[\"BMI\"] = self.bmi\n",
        "    patient_information[\"Number of Children\"] = self.num_of_children\n",
        "    patient_information[\"Smojer\"] = self.smoker\n",
        "    return patient_information\n",
        "\n",
        "patient1 = Patient(\"John Doe\", 25, 1, 22.2, 0, 0)\n",
        "print(patient1.smoker)\n",
        "patient1.estimated_insurance_cost()\n",
        "patient1.update_age(26)\n",
        "patient1.estimated_insurance_cost()\n",
        "patient1.update_num_children(1)\n",
        "patient1.estimated_insurance_cost()\n",
        "patient1_profile = patient1.patient_profile()\n",
        "print(patient1_profile)"
      ],
      "execution_count":3,
      "outputs":[
        {
          "name":"stdout",
          "text":[
            "0\n",
            "John Doe's estimated insurance cost is 1836.0 dollars.\n",
            "John Doe is now 26 years old\n",
            "John Doe's estimated insurance cost is 2086.0 dollars.\n",
            "John Doe has 1 child.\n",
            "John Doe's estimated insurance cost is 2511.0 dollars.\n",
            "{'Name': 'John Doe', 'Age': 26, 'Sex': 1, 'BMI': 22.2, 'Number of Children': 1, 'Smojer': 0}\n"
          ],
          "output_type":"stream"
        }
      ],
      "metadata":{
        "jupyter":{
          "source_hidden":false,
          "outputs_hidden":false
        },
        "datalore":{
          "type":"CODE",
          "sheet_delimiter":false
        }
      }
    }
  ],
  "metadata":{
    "datalore":{
      "version":1,
      "computation_mode":"JUPYTER",
      "package_manager":"pip",
      "base_environment":"default",
      "packages":[
        
      ]
    }
  },
  "nbformat":4,
  "nbformat_minor":4
}