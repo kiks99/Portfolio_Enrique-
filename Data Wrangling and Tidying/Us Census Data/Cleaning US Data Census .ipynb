{
  "cells":[
    {
      "cell_type":"markdown",
      "source":[
        "# Cleaning US Census Data\n",
        "\n",
        "We just got hired as a Data Analyst at the Census Bureau, which collects census data and creates interesting visualizations and insights from it. The person who had the job before us left all the data they had for the most recent census on multiple csv files. They didn't use pandas, they would just look through these csv files manually whenever they wanted to find something. Sometimes they would copy and paste certain numbers into Excels to make charts. The thought of it makes us shiver, this is not scalable or repeatable.\n",
        "\n",
        "Our boss wants us to make some scatter plots and histograms by the end of the day. Can we get this data into pandas and into reasonable shape so that we can make these histograms? Let's find out !"
      ],
      "attachments":{
        
      },
      "metadata":{
        "jupyter":{
          "source_hidden":false,
          "outputs_hidden":false
        },
        "datalore":{
          "type":"MD",
          "sheet_delimiter":false
        }
      }
    },
    {
      "cell_type":"code",
      "source":[
        "import pandas as pd\n",
        "import numpy as np\n",
        "import matplotlib.pyplot as plt\n",
        "import glob "
      ],
      "execution_count":10,
      "outputs":[
        
      ],
      "metadata":{
        "jupyter":{
          "source_hidden":false,
          "outputs_hidden":false
        },
        "datalore":{
          "type":"CODE",
          "sheet_delimiter":false
        }
      }
    },
    {
      "cell_type":"markdown",
      "source":[
        "The first visualization our boss wants us to make is a scatter plot that shows average income in a state vs. proportion of women in the state. Take a look at the csv files in our folder. How are they named? What kind of information do they hold? Will they help us make this graph?\n",
        "\n",
        "It will be easier to inspect this data once we have it in a DataFrame.We can´t even call .head() on these csv's! By using glob we will loop through the census files available and load them into DataFrames. Then, concatenate all of those DataFrames together into one DataFrame. "
      ],
      "attachments":{
        
      },
      "metadata":{
        "jupyter":{
          "source_hidden":false,
          "outputs_hidden":false
        },
        "datalore":{
          "type":"MD",
          "sheet_delimiter":false
        }
      }
    },
    {
      "cell_type":"code",
      "source":[
        "files = glob.glob(\"state*.csv\")\n",
        "state_list = []\n",
        "for filename in files:\n",
        "  data = pd.read_csv(filename)\n",
        "  state_list.append(data)\n",
        "us_census = pd.concat(state_list)\n",
        "#print(us_census)"
      ],
      "execution_count":11,
      "outputs":[
        
      ],
      "metadata":{
        "jupyter":{
          "source_hidden":false,
          "outputs_hidden":false
        },
        "datalore":{
          "type":"CODE",
          "sheet_delimiter":false
        }
      }
    },
    {
      "cell_type":"markdown",
      "source":[
        "Let's look at the .columns and the .dtypes of the us_census DataFrame. Are those data types going to hinder us as we try to make histograms?   "
      ],
      "attachments":{
        
      },
      "metadata":{
        "jupyter":{
          "source_hidden":false,
          "outputs_hidden":false
        },
        "datalore":{
          "type":"MD",
          "sheet_delimiter":false
        }
      }
    },
    {
      "cell_type":"code",
      "source":[
        "print(us_census.columns)\n",
        "print(us_census.dtypes)"
      ],
      "execution_count":12,
      "outputs":[
        {
          "name":"stdout",
          "text":[
            "Index(['Unnamed: 0', 'State', 'TotalPop', 'Hispanic', 'White', 'Black',\n",
            "       'Native', 'Asian', 'Pacific', 'Income', 'GenderPop'],\n",
            "      dtype='object')\n",
            "Unnamed: 0     int64\n",
            "State         object\n",
            "TotalPop       int64\n",
            "Hispanic      object\n",
            "White         object\n",
            "Black         object\n",
            "Native        object\n",
            "Asian         object\n",
            "Pacific       object\n",
            "Income        object\n",
            "GenderPop     object\n",
            "dtype: object\n"
          ],
          "output_type":"stream"
        }
      ],
      "metadata":{
        "jupyter":{
          "source_hidden":false,
          "outputs_hidden":false
        },
        "datalore":{
          "type":"CODE",
          "sheet_delimiter":false
        }
      }
    },
    {
      "cell_type":"markdown",
      "source":[
        "Let's look at the .head of the DataFrame so that we can understand why some of these dtypes are objects instead of integers or floats. Let's start to make a plan on how to convert these columns into the right types for manipulation.   "
      ],
      "attachments":{
        
      },
      "metadata":{
        "jupyter":{
          "source_hidden":false,
          "outputs_hidden":false
        },
        "datalore":{
          "type":"MD",
          "sheet_delimiter":false
        }
      }
    },
    {
      "cell_type":"code",
      "source":[
        "print(us_census.head())"
      ],
      "execution_count":13,
      "outputs":[
        {
          "name":"stdout",
          "text":[
            "   Unnamed: 0       State  TotalPop             Hispanic                White  \\\n",
            "0           0     Alabama   4830620  3.7516156462584975%     61.878656462585%   \n",
            "1           1      Alaska    733375   5.909580838323351%  60.910179640718574%   \n",
            "2           2     Arizona   6641928  29.565921052631502%  57.120000000000026%   \n",
            "3           3    Arkansas   2958208   6.215474452554738%   71.13781021897813%   \n",
            "4           4  California  38421464  37.291874687968054%   40.21578881677474%   \n",
            "\n",
            "                 Black                Native                Asian  \\\n",
            "0   31.25297619047618%   0.4532312925170065%  1.0502551020408146%   \n",
            "1  2.8485029940119775%    16.39101796407186%   5.450299401197604%   \n",
            "2  3.8509868421052658%     4.35506578947368%   2.876578947368419%   \n",
            "3  18.968759124087573%   0.5229197080291965%  1.1423357664233578%   \n",
            "4   5.677396405391911%  0.40529206190713685%  13.052234148776776%   \n",
            "\n",
            "                Pacific              Income            GenderPop  \n",
            "0  0.03435374149659865%  $43296.35860306644    2341093M_2489527F  \n",
            "1   1.0586826347305378%  $70354.74390243902      384160M_349215F  \n",
            "2  0.16763157894736833%  $54207.82095490716    3299088M_3342840F  \n",
            "3  0.14686131386861315%  $41935.63396778917    1451913M_1506295F  \n",
            "4  0.35141038442336353%  $67264.78230266465  19087135M_19334329F  \n"
          ],
          "output_type":"stream"
        }
      ],
      "metadata":{
        "jupyter":{
          "source_hidden":false,
          "outputs_hidden":false
        },
        "datalore":{
          "type":"CODE",
          "sheet_delimiter":false
        }
      }
    },
    {
      "cell_type":"markdown",
      "source":[
        "Let's delete the unamed: 0 column we won't need it for the analysis "
      ],
      "attachments":{
        
      },
      "metadata":{
        "jupyter":{
          "source_hidden":false,
          "outputs_hidden":false
        },
        "datalore":{
          "type":"MD",
          "sheet_delimiter":false
        }
      }
    },
    {
      "cell_type":"code",
      "source":[
        "del us_census[\"Unnamed: 0\"]"
      ],
      "execution_count":14,
      "outputs":[
        
      ],
      "metadata":{
        "jupyter":{
          "source_hidden":false,
          "outputs_hidden":false
        },
        "datalore":{
          "type":"CODE",
          "sheet_delimiter":false
        }
      }
    },
    {
      "cell_type":"markdown",
      "source":[
        "We will use Regex to turn the Income column into a format that is ready for conversion into a numerical type."
      ],
      "attachments":{
        
      },
      "metadata":{
        "jupyter":{
          "source_hidden":false,
          "outputs_hidden":false
        },
        "datalore":{
          "type":"MD",
          "sheet_delimiter":false
        }
      }
    },
    {
      "cell_type":"code",
      "source":[
        "us_census.Income = us_census.Income.replace('[\\$,]', '', regex=True)\n",
        "us_census.Income = pd.to_numeric(us_census.Income)\n",
        "print(us_census.head())\n",
        "print(us_census.dtypes)"
      ],
      "execution_count":15,
      "outputs":[
        {
          "name":"stdout",
          "text":[
            "        State  TotalPop             Hispanic                White  \\\n",
            "0     Alabama   4830620  3.7516156462584975%     61.878656462585%   \n",
            "1      Alaska    733375   5.909580838323351%  60.910179640718574%   \n",
            "2     Arizona   6641928  29.565921052631502%  57.120000000000026%   \n",
            "3    Arkansas   2958208   6.215474452554738%   71.13781021897813%   \n",
            "4  California  38421464  37.291874687968054%   40.21578881677474%   \n",
            "\n",
            "                 Black                Native                Asian  \\\n",
            "0   31.25297619047618%   0.4532312925170065%  1.0502551020408146%   \n",
            "1  2.8485029940119775%    16.39101796407186%   5.450299401197604%   \n",
            "2  3.8509868421052658%     4.35506578947368%   2.876578947368419%   \n",
            "3  18.968759124087573%   0.5229197080291965%  1.1423357664233578%   \n",
            "4   5.677396405391911%  0.40529206190713685%  13.052234148776776%   \n",
            "\n",
            "                Pacific        Income            GenderPop  \n",
            "0  0.03435374149659865%  43296.358603    2341093M_2489527F  \n",
            "1   1.0586826347305378%  70354.743902      384160M_349215F  \n",
            "2  0.16763157894736833%  54207.820955    3299088M_3342840F  \n",
            "3  0.14686131386861315%  41935.633968    1451913M_1506295F  \n",
            "4  0.35141038442336353%  67264.782303  19087135M_19334329F  \n",
            "State         object\n",
            "TotalPop       int64\n",
            "Hispanic      object\n",
            "White         object\n",
            "Black         object\n",
            "Native        object\n",
            "Asian         object\n",
            "Pacific       object\n",
            "Income       float64\n",
            "GenderPop     object\n",
            "dtype: object\n"
          ],
          "output_type":"stream"
        }
      ],
      "metadata":{
        "jupyter":{
          "source_hidden":false,
          "outputs_hidden":false
        },
        "datalore":{
          "type":"CODE",
          "sheet_delimiter":false
        }
      }
    },
    {
      "cell_type":"markdown",
      "source":[
        "Let's look at the GenderPop column, we are going to want to separate this into two columns, the Men column, and the Women column. Take the \"M\" and \"F\" letters out and convert the columns into a numerical type"
      ],
      "attachments":{
        
      },
      "metadata":{
        "jupyter":{
          "source_hidden":false,
          "outputs_hidden":false
        },
        "datalore":{
          "type":"MD",
          "sheet_delimiter":false
        }
      }
    },
    {
      "cell_type":"code",
      "source":[
        "us_census[\"GenderPop_split\"] = us_census.GenderPop.str.split('_')\n",
        "us_census[\"Men\"] = us_census[\"GenderPop_split\"].str.get(0)\n",
        "us_census[\"Women\"] = us_census[\"GenderPop_split\"].str.get(1)\n",
        "us_census.Men = us_census.Men.replace('M', '', regex=True)\n",
        "us_census.Women = us_census.Women.replace('F', '', regex=True)\n",
        "us_census.Men = pd.to_numeric(us_census.Men)\n",
        "us_census.Women = pd.to_numeric(us_census.Women)\n",
        "del us_census[\"GenderPop\"]\n",
        "del us_census[\"GenderPop_split\"]\n",
        "print(us_census.head())\n",
        "print(us_census.dtypes)"
      ],
      "execution_count":16,
      "outputs":[
        {
          "name":"stdout",
          "text":[
            "        State  TotalPop             Hispanic                White  \\\n",
            "0     Alabama   4830620  3.7516156462584975%     61.878656462585%   \n",
            "1      Alaska    733375   5.909580838323351%  60.910179640718574%   \n",
            "2     Arizona   6641928  29.565921052631502%  57.120000000000026%   \n",
            "3    Arkansas   2958208   6.215474452554738%   71.13781021897813%   \n",
            "4  California  38421464  37.291874687968054%   40.21578881677474%   \n",
            "\n",
            "                 Black                Native                Asian  \\\n",
            "0   31.25297619047618%   0.4532312925170065%  1.0502551020408146%   \n",
            "1  2.8485029940119775%    16.39101796407186%   5.450299401197604%   \n",
            "2  3.8509868421052658%     4.35506578947368%   2.876578947368419%   \n",
            "3  18.968759124087573%   0.5229197080291965%  1.1423357664233578%   \n",
            "4   5.677396405391911%  0.40529206190713685%  13.052234148776776%   \n",
            "\n",
            "                Pacific        Income       Men       Women  \n",
            "0  0.03435374149659865%  43296.358603   2341093   2489527.0  \n",
            "1   1.0586826347305378%  70354.743902    384160    349215.0  \n",
            "2  0.16763157894736833%  54207.820955   3299088   3342840.0  \n",
            "3  0.14686131386861315%  41935.633968   1451913   1506295.0  \n",
            "4  0.35141038442336353%  67264.782303  19087135  19334329.0  \n",
            "State        object\n",
            "TotalPop      int64\n",
            "Hispanic     object\n",
            "White        object\n",
            "Black        object\n",
            "Native       object\n",
            "Asian        object\n",
            "Pacific      object\n",
            "Income      float64\n",
            "Men           int64\n",
            "Women       float64\n",
            "dtype: object\n"
          ],
          "output_type":"stream"
        }
      ],
      "metadata":{
        "jupyter":{
          "source_hidden":false,
          "outputs_hidden":false
        },
        "datalore":{
          "type":"CODE",
          "sheet_delimiter":false
        }
      }
    },
    {
      "cell_type":"markdown",
      "source":[
        " Now we are ready to make the graphs our boss wants us to do"
      ],
      "attachments":{
        
      },
      "metadata":{
        "jupyter":{
          "source_hidden":false,
          "outputs_hidden":false
        },
        "datalore":{
          "type":"MD",
          "sheet_delimiter":false
        }
      }
    },
    {
      "cell_type":"code",
      "source":[
        "plt.scatter(us_census.Women, us_census.Income) \n",
        "plt.show()"
      ],
      "execution_count":18,
      "outputs":[
        {
          "data":{
            "image\/png":"[encoded data removed]"
          },
          "metadata":{
            "image\/png":{
              
            }
          },
          "output_type":"display_data"
        }
      ],
      "metadata":{
        "jupyter":{
          "source_hidden":false,
          "outputs_hidden":false
        },
        "datalore":{
          "type":"CODE",
          "sheet_delimiter":false
        }
      }
    },
    {
      "cell_type":"markdown",
      "source":[
        "We want to double check our work. We know from experience that these monstrous csv files probably have nan values in them! Let's print out your column with the number of women per state to see."
      ],
      "attachments":{
        
      },
      "metadata":{
        "jupyter":{
          "source_hidden":false,
          "outputs_hidden":false
        },
        "datalore":{
          "type":"MD",
          "sheet_delimiter":false
        }
      }
    },
    {
      "cell_type":"code",
      "source":[
        "print(us_census.Women)"
      ],
      "execution_count":19,
      "outputs":[
        {
          "name":"stdout",
          "text":[
            "0     2489527.0\n",
            "1      349215.0\n",
            "2     3342840.0\n",
            "3     1506295.0\n",
            "4    19334329.0\n",
            "5     2630239.0\n",
            "0     1444150.0\n",
            "1      318031.0\n",
            "2     4195682.0\n",
            "3     3497739.0\n",
            "4      937789.0\n",
            "5     2890732.0\n",
            "0     4561386.0\n",
            "1     1051703.0\n",
            "2    10131373.0\n",
            "3     5049925.0\n",
            "4      353677.0\n",
            "5     5913084.0\n",
            "0     1558931.0\n",
            "1     1453125.0\n",
            "2     2233145.0\n",
            "3     2364097.0\n",
            "4      679019.0\n",
            "5           NaN\n",
            "0           NaN\n",
            "1     3455936.0\n",
            "2     5038598.0\n",
            "3     2727005.0\n",
            "4     1536358.0\n",
            "5     3081445.0\n",
            "0     3081445.0\n",
            "1           NaN\n",
            "2      939759.0\n",
            "3     1390901.0\n",
            "4      670717.0\n",
            "5     4561386.0\n",
            "0     5123362.0\n",
            "1      696428.0\n",
            "2      806083.0\n",
            "3     6556862.0\n",
            "4     3333382.0\n",
            "5     1558931.0\n",
            "0     5913084.0\n",
            "1     1942789.0\n",
            "2     1990780.0\n",
            "3     6534215.0\n",
            "4     1869213.0\n",
            "5      543273.0\n",
            "0     2630239.0\n",
            "1     1841615.0\n",
            "2      478041.0\n",
            "3      340810.0\n",
            "4    10045763.0\n",
            "5     5123362.0\n",
            "0      543273.0\n",
            "1     2455167.0\n",
            "2      419713.0\n",
            "3     3331859.0\n",
            "4    13367298.0\n",
            "5     1444150.0\n",
            "Name: Women, dtype: float64\n"
          ],
          "output_type":"stream"
        }
      ],
      "metadata":{
        "jupyter":{
          "source_hidden":false,
          "outputs_hidden":false
        },
        "datalore":{
          "type":"CODE",
          "sheet_delimiter":false
        }
      }
    },
    {
      "cell_type":"markdown",
      "source":[
        "We can fill in those nans by using pandas’ .fillna() function.We have the TotalPop per state, and we have the Men per state. As an estimate for the nan values in the Women column, we could use the TotalPop of that state minus the Men for that state.\n",
        "\n",
        "We will print out the Women column after filling the nan values to see if it worked!"
      ],
      "attachments":{
        
      },
      "metadata":{
        "jupyter":{
          "source_hidden":false,
          "outputs_hidden":false
        },
        "datalore":{
          "type":"MD",
          "sheet_delimiter":false
        }
      }
    },
    {
      "cell_type":"code",
      "source":[
        "us_census = us_census.fillna(value ={\n",
        "  \"Women\": us_census.TotalPop - us_census.Men\n",
        "})\n",
        "print(us_census.Women)"
      ],
      "execution_count":20,
      "outputs":[
        {
          "name":"stdout",
          "text":[
            "0     2489527.0\n",
            "1      349215.0\n",
            "2     3342840.0\n",
            "3     1506295.0\n",
            "4    19334329.0\n",
            "5     2630239.0\n",
            "0     1444150.0\n",
            "1      318031.0\n",
            "2     4195682.0\n",
            "3     3497739.0\n",
            "4      937789.0\n",
            "5     2890732.0\n",
            "0     4561386.0\n",
            "1     1051703.0\n",
            "2    10131373.0\n",
            "3     5049925.0\n",
            "4      353677.0\n",
            "5     5913084.0\n",
            "0     1558931.0\n",
            "1     1453125.0\n",
            "2     2233145.0\n",
            "3     2364097.0\n",
            "4      679019.0\n",
            "5     3057895.0\n",
            "0     3057895.0\n",
            "1     3455936.0\n",
            "2     5038598.0\n",
            "3     2727005.0\n",
            "4     1536358.0\n",
            "5     3081445.0\n",
            "0     3081445.0\n",
            "1      504536.0\n",
            "2      939759.0\n",
            "3     1390901.0\n",
            "4      670717.0\n",
            "5     4561386.0\n",
            "0     5123362.0\n",
            "1      696428.0\n",
            "2      806083.0\n",
            "3     6556862.0\n",
            "4     3333382.0\n",
            "5     1558931.0\n",
            "0     5913084.0\n",
            "1     1942789.0\n",
            "2     1990780.0\n",
            "3     6534215.0\n",
            "4     1869213.0\n",
            "5      543273.0\n",
            "0     2630239.0\n",
            "1     1841615.0\n",
            "2      478041.0\n",
            "3      340810.0\n",
            "4    10045763.0\n",
            "5     5123362.0\n",
            "0      543273.0\n",
            "1     2455167.0\n",
            "2      419713.0\n",
            "3     3331859.0\n",
            "4    13367298.0\n",
            "5     1444150.0\n",
            "Name: Women, dtype: float64\n"
          ],
          "output_type":"stream"
        }
      ],
      "metadata":{
        "jupyter":{
          "source_hidden":false,
          "outputs_hidden":false
        },
        "datalore":{
          "type":"CODE",
          "sheet_delimiter":false
        }
      }
    },
    {
      "cell_type":"markdown",
      "source":[
        "We forgot to check for duplicates in the data! Let's check if there are and drop them. "
      ],
      "attachments":{
        
      },
      "metadata":{
        "jupyter":{
          "source_hidden":false,
          "outputs_hidden":false
        },
        "datalore":{
          "type":"MD",
          "sheet_delimiter":false
        }
      }
    },
    {
      "cell_type":"code",
      "source":[
        "\n",
        "print(us_census.duplicated())\n",
        "us_census = us_census.drop_duplicates()\n",
        "print(us_census.duplicated())"
      ],
      "execution_count":22,
      "outputs":[
        {
          "name":"stdout",
          "text":[
            "0    False\n",
            "1    False\n",
            "2    False\n",
            "3    False\n",
            "4    False\n",
            "5    False\n",
            "0    False\n",
            "1    False\n",
            "2    False\n",
            "3    False\n",
            "4    False\n",
            "5    False\n",
            "0    False\n",
            "1    False\n",
            "2    False\n",
            "3    False\n",
            "4    False\n",
            "5    False\n",
            "0    False\n",
            "1    False\n",
            "2    False\n",
            "3    False\n",
            "4    False\n",
            "5    False\n",
            "0     True\n",
            "1    False\n",
            "2    False\n",
            "3    False\n",
            "4    False\n",
            "5    False\n",
            "0     True\n",
            "1    False\n",
            "2    False\n",
            "3    False\n",
            "4    False\n",
            "5     True\n",
            "0    False\n",
            "1    False\n",
            "2    False\n",
            "3    False\n",
            "4    False\n",
            "5     True\n",
            "0     True\n",
            "1    False\n",
            "2    False\n",
            "3    False\n",
            "4    False\n",
            "5    False\n",
            "0     True\n",
            "1    False\n",
            "2    False\n",
            "3    False\n",
            "4    False\n",
            "5     True\n",
            "0     True\n",
            "1    False\n",
            "2    False\n",
            "3    False\n",
            "4    False\n",
            "5     True\n",
            "dtype: bool\n",
            "0    False\n",
            "1    False\n",
            "2    False\n",
            "3    False\n",
            "4    False\n",
            "5    False\n",
            "0    False\n",
            "1    False\n",
            "2    False\n",
            "3    False\n",
            "4    False\n",
            "5    False\n",
            "0    False\n",
            "1    False\n",
            "2    False\n",
            "3    False\n",
            "4    False\n",
            "5    False\n",
            "0    False\n",
            "1    False\n",
            "2    False\n",
            "3    False\n",
            "4    False\n",
            "5    False\n",
            "1    False\n",
            "2    False\n",
            "3    False\n",
            "4    False\n",
            "5    False\n",
            "1    False\n",
            "2    False\n",
            "3    False\n",
            "4    False\n",
            "0    False\n",
            "1    False\n",
            "2    False\n",
            "3    False\n",
            "4    False\n",
            "1    False\n",
            "2    False\n",
            "3    False\n",
            "4    False\n",
            "5    False\n",
            "1    False\n",
            "2    False\n",
            "3    False\n",
            "4    False\n",
            "1    False\n",
            "2    False\n",
            "3    False\n",
            "4    False\n",
            "dtype: bool\n"
          ],
          "output_type":"stream"
        }
      ],
      "metadata":{
        "jupyter":{
          "source_hidden":false,
          "outputs_hidden":false
        },
        "datalore":{
          "type":"CODE",
          "sheet_delimiter":false
        }
      }
    },
    {
      "cell_type":"markdown",
      "source":[
        "\n",
        "Le'ts make the scatterplot again. Now, it should be perfect! Our job is secure, for now."
      ],
      "attachments":{
        
      },
      "metadata":{
        "jupyter":{
          "source_hidden":false,
          "outputs_hidden":false
        },
        "datalore":{
          "type":"MD",
          "sheet_delimiter":false
        }
      }
    },
    {
      "cell_type":"code",
      "source":[
        "plt.scatter(us_census.Women, us_census.Income) \n",
        "plt.title('Women vs. Income')\n",
        "plt.xlabel('Percentage')\n",
        "plt.ylabel('Income')\n",
        "plt.show()"
      ],
      "execution_count":25,
      "outputs":[
        {
          "data":{
            "image\/png":"[encoded data removed]"
          },
          "metadata":{
            "image\/png":{
              
            }
          },
          "output_type":"display_data"
        }
      ],
      "metadata":{
        "jupyter":{
          "source_hidden":false,
          "outputs_hidden":false
        },
        "datalore":{
          "type":"CODE",
          "sheet_delimiter":false
        }
      }
    },
    {
      "cell_type":"markdown",
      "source":[
        "Now let's make a scatterplot to see the difference between women and men vs. Income"
      ],
      "attachments":{
        
      },
      "metadata":{
        "jupyter":{
          "source_hidden":false,
          "outputs_hidden":false
        },
        "datalore":{
          "type":"MD",
          "sheet_delimiter":false
        }
      }
    },
    {
      "cell_type":"code",
      "source":[
        "plt.clf()\n",
        "plt.scatter(us_census.Men, us_census.Income)\n",
        "plt.scatter(us_census.Women, us_census.Income)\n",
        "plt.title(\"Women Income vs. Men Income\")\n",
        "plt.show()"
      ],
      "execution_count":34,
      "outputs":[
        {
          "data":{
            "image\/png":"[encoded data removed]"
          },
          "metadata":{
            "image\/png":{
              
            }
          },
          "output_type":"display_data"
        }
      ],
      "metadata":{
        "jupyter":{
          "source_hidden":false,
          "outputs_hidden":false
        },
        "datalore":{
          "type":"CODE",
          "sheet_delimiter":false
        }
      }
    },
    {
      "cell_type":"markdown",
      "source":[
        "Now, our boss wants us to make a bunch of histograms out of the race data that we have. Let's look at the .columns again to see what the race categories are."
      ],
      "attachments":{
        
      },
      "metadata":{
        "jupyter":{
          "source_hidden":false,
          "outputs_hidden":false
        },
        "datalore":{
          "type":"MD",
          "sheet_delimiter":false
        }
      }
    },
    {
      "cell_type":"code",
      "source":[
        "print(us_census.columns)"
      ],
      "execution_count":26,
      "outputs":[
        {
          "name":"stdout",
          "text":[
            "Index(['State', 'TotalPop', 'Hispanic', 'White', 'Black', 'Native', 'Asian',\n",
            "       'Pacific', 'Income', 'Men', 'Women'],\n",
            "      dtype='object')\n"
          ],
          "output_type":"stream"
        }
      ],
      "metadata":{
        "jupyter":{
          "source_hidden":false,
          "outputs_hidden":false
        },
        "datalore":{
          "type":"CODE",
          "sheet_delimiter":false
        }
      }
    },
    {
      "cell_type":"markdown",
      "source":[
        "Let's try to make a histogram for each one!\n",
        "\n",
        "We will have to get the columns into a numerical format, and those percentage signs will have to go.\n",
        "\n",
        "Let's not forget to fill the nan values with something that makes sense! we probably dropped the duplicate rows when making our last graph, but it would’t hurt to check for duplicates again."
      ],
      "attachments":{
        
      },
      "metadata":{
        "jupyter":{
          "source_hidden":false,
          "outputs_hidden":false
        },
        "datalore":{
          "type":"MD",
          "sheet_delimiter":false
        }
      }
    },
    {
      "cell_type":"code",
      "source":[
        "us_census.Hispanic = us_census.Hispanic.replace('[%]', '', regex=True)\n",
        "us_census.Hispanic = pd.to_numeric(us_census.Hispanic)\n",
        "us_census.White = us_census.White.replace('[%]', '', regex=True)\n",
        "us_census.White = pd.to_numeric(us_census.White)\n",
        "us_census.Black = us_census.Black.replace('[%]', '', regex=True)\n",
        "us_census.Black = pd.to_numeric(us_census.Black)\n",
        "us_census.Native = us_census.Native.replace('[%]', '', regex=True)\n",
        "us_census.Native = pd.to_numeric(us_census.Native)\n",
        "us_census.Asian = us_census.Asian.replace('[%]', '', regex=True)\n",
        "us_census.Asian = pd.to_numeric(us_census.Asian)\n",
        "us_census.Pacific = us_census.Pacific.replace('[%]', '', regex=True)\n",
        "us_census.Pacific = pd.to_numeric(us_census.Pacific)\n",
        "us_census = us_census.fillna(value ={\n",
        "  \"Pacific\": (100 - us_census.Hispanic - us_census.White - us_census.Black - us_census.Native - us_census.Asian)\n",
        "})\n",
        "\n",
        "plt.clf()\n",
        "plt.hist(us_census.Hispanic)\n",
        "plt.title(\"Hispanic Population Histogram \")\n",
        "plt.show()\n",
        "\n",
        "plt.clf()\n",
        "plt.hist(us_census.Black)\n",
        "plt.title(\"Black Population Histogram \")\n",
        "plt.show()\n",
        "\n",
        "plt.clf()\n",
        "plt.hist(us_census.White)\n",
        "plt.title(\"White Population Histogram \")\n",
        "plt.show()\n",
        "\n",
        "plt.clf()\n",
        "plt.hist(us_census.Native)\n",
        "plt.title(\"Native Population Histogram \")\n",
        "plt.show()\n",
        "\n",
        "plt.clf()\n",
        "plt.hist(us_census.Asian)\n",
        "plt.title(\"Asian Population Histogram \")\n",
        "plt.show()\n",
        "\n",
        "plt.clf()\n",
        "plt.hist(us_census.Black)\n",
        "plt.title(\"Pacific Population Histogram \")\n",
        "plt.show()"
      ],
      "execution_count":38,
      "outputs":[
        {
          "data":{
            "image\/png":"[encoded data removed]"
          },
          "metadata":{
            "image\/png":{
              
            }
          },
          "output_type":"display_data"
        }
      ],
      "metadata":{
        "jupyter":{
          "source_hidden":false,
          "outputs_hidden":false
        },
        "datalore":{
          "type":"CODE",
          "sheet_delimiter":false
        }
      }
    }
  ],
  "metadata":{
    "datalore":{
      "version":1,
      "computation_mode":"JUPYTER",
      "package_manager":"pip",
      "base_environment":"default",
      "packages":[
        {
          "name":"glob2",
          "version":"0.7",
          "source":"PIP"
        }
      ]
    }
  },
  "nbformat":4,
  "nbformat_minor":4
}