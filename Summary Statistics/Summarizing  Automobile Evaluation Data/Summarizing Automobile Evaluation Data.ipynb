{
  "cells":[
    {
      "cell_type":"markdown",
      "source":[
        "# Summarizing Automobile Evaluation Data\n",
        "In the following project, we’ll use what we’ve learned about summarizing categorical data to analyze a sample from a popular open source dataset. This dataset contains information on the cost and physical attributes of several thousand cars. Originally, this dataset was used to train a classification model that assigned an acceptability score\/category to cars based on these attributes.\n",
        "\n",
        "The car evaluation dataset has been sourced from the UCI Machine Learning Repository and has been slightly modified for this project. Specifically, one additional field manufacturer_country has been simulated for illustrative purposes. You can read more about the details, features, and original uses of this dataset in research on the UCI data description page."
      ],
      "attachments":{
        
      },
      "metadata":{
        "jupyter":{
          "source_hidden":false,
          "outputs_hidden":false
        },
        "datalore":{
          "type":"MD",
          "sheet_delimiter":false
        }
      }
    },
    {
      "cell_type":"code",
      "source":[
        "import pandas as pd\n",
        "import numpy as np"
      ],
      "execution_count":2,
      "outputs":[
        
      ],
      "metadata":{
        "jupyter":{
          "source_hidden":false,
          "outputs_hidden":false
        },
        "datalore":{
          "type":"CODE",
          "sheet_delimiter":false
        }
      }
    },
    {
      "cell_type":"code",
      "source":[
        "#Loading data \n",
        "car_eval = pd.read_csv('car_eval_dataset.csv')\n",
        "#Checking the head of the dataset\n",
        "print(car_eval.head())"
      ],
      "execution_count":3,
      "outputs":[
        {
          "name":"stdout",
          "text":[
            "  buying_cost maintenance_cost doors capacity luggage safety acceptability  \\\n",
            "0       vhigh              low     4        4   small    med         unacc   \n",
            "1       vhigh              med     3        4   small   high           acc   \n",
            "2         med             high     3        2     med   high         unacc   \n",
            "3         low              med     4     more     big    low         unacc   \n",
            "4         low             high     2     more     med   high           acc   \n",
            "\n",
            "  manufacturer_country  \n",
            "0                China  \n",
            "1               France  \n",
            "2        United States  \n",
            "3        United States  \n",
            "4          South Korea  \n"
          ],
          "output_type":"stream"
        }
      ],
      "metadata":{
        "jupyter":{
          "source_hidden":false,
          "outputs_hidden":false
        },
        "datalore":{
          "type":"CODE",
          "sheet_delimiter":false
        }
      }
    },
    {
      "cell_type":"markdown",
      "source":[
        "\n",
        "## Summarizing Manufacturer Country\n",
        "*manufacturer_country* is a nominal categorical variable that indicates the country of the manufacturer of each car reviewed. Let's create a table of frequencies of all the cars reviewed by manufacturer_country. What is the modal category? Which country appears 4th most frequently? "
      ],
      "attachments":{
        
      },
      "metadata":{
        "jupyter":{
          "source_hidden":false,
          "outputs_hidden":false
        },
        "datalore":{
          "type":"MD",
          "sheet_delimiter":false
        }
      }
    },
    {
      "cell_type":"code",
      "source":[
        "manufacturer_country_frequency = car_eval.manufacturer_country.value_counts()\n",
        "print(manufacturer_country_frequency)"
      ],
      "execution_count":4,
      "outputs":[
        {
          "name":"stdout",
          "text":[
            "Japan            228\n",
            "Germany          218\n",
            "South Korea      159\n",
            "United States    138\n",
            "Italy             97\n",
            "France            87\n",
            "China             73\n",
            "Name: manufacturer_country, dtype: int64\n"
          ],
          "output_type":"stream"
        }
      ],
      "metadata":{
        "jupyter":{
          "source_hidden":false,
          "outputs_hidden":false
        },
        "datalore":{
          "type":"CODE",
          "sheet_delimiter":false
        }
      }
    },
    {
      "cell_type":"markdown",
      "source":[
        "**Results:** The modal category is Japan, the 4th most frequent manufacturer is United States"
      ],
      "attachments":{
        
      },
      "metadata":{
        "jupyter":{
          "source_hidden":false,
          "outputs_hidden":false
        },
        "datalore":{
          "type":"MD",
          "sheet_delimiter":false
        }
      }
    },
    {
      "cell_type":"markdown",
      "source":[
        "Let's calculate a table of proportions for countries that appear in manufacturer_country in the dataset. What percentage of cars were manufactured in Japan?\n",
        "\n"
      ],
      "attachments":{
        
      },
      "metadata":{
        "jupyter":{
          "source_hidden":false,
          "outputs_hidden":false
        },
        "datalore":{
          "type":"MD",
          "sheet_delimiter":false
        }
      }
    },
    {
      "cell_type":"code",
      "source":[
        "manufacturer_country_proportions = car_eval.manufacturer_country.value_counts(normalize = True)\n",
        "print(manufacturer_country_proportions)"
      ],
      "execution_count":5,
      "outputs":[
        {
          "name":"stdout",
          "text":[
            "Japan            0.228\n",
            "Germany          0.218\n",
            "South Korea      0.159\n",
            "United States    0.138\n",
            "Italy            0.097\n",
            "France           0.087\n",
            "China            0.073\n",
            "Name: manufacturer_country, dtype: float64\n"
          ],
          "output_type":"stream"
        }
      ],
      "metadata":{
        "jupyter":{
          "source_hidden":false,
          "outputs_hidden":false
        },
        "datalore":{
          "type":"CODE",
          "sheet_delimiter":false
        }
      }
    },
    {
      "cell_type":"markdown",
      "source":[
        "**Results:** 22.8 % of the cars are manufactured in Japan"
      ],
      "attachments":{
        
      },
      "metadata":{
        "jupyter":{
          "source_hidden":false,
          "outputs_hidden":false
        },
        "datalore":{
          "type":"MD",
          "sheet_delimiter":false
        }
      }
    },
    {
      "cell_type":"markdown",
      "source":[
        "## Summarizing Buying Costs\n",
        "\n",
        "*buying_cost* is a categorical variable which describes the cost of buying any car in the dataset. Let's check out a list of the possible values for this variable."
      ],
      "attachments":{
        
      },
      "metadata":{
        "jupyter":{
          "source_hidden":false,
          "outputs_hidden":false
        },
        "datalore":{
          "type":"MD",
          "sheet_delimiter":false
        }
      }
    },
    {
      "cell_type":"code",
      "source":[
        "print(car_eval.buying_cost.unique())"
      ],
      "execution_count":6,
      "outputs":[
        {
          "name":"stdout",
          "text":[
            "['vhigh' 'med' 'low' 'high']\n"
          ],
          "output_type":"stream"
        }
      ],
      "metadata":{
        "jupyter":{
          "source_hidden":false,
          "outputs_hidden":false
        },
        "datalore":{
          "type":"CODE",
          "sheet_delimiter":false
        }
      }
    },
    {
      "cell_type":"markdown",
      "source":[
        "*buying_cost* is an ordinal categorical variable, which means we can create an order associated with the values in the data and perform additional numeric operations on the variable. We will create a new list, *buying_cost_categories*, that contains the unique values in buying_cost, ordered from lowest to highest."
      ],
      "attachments":{
        
      },
      "metadata":{
        "jupyter":{
          "source_hidden":false,
          "outputs_hidden":false
        },
        "datalore":{
          "type":"MD",
          "sheet_delimiter":false
        }
      }
    },
    {
      "cell_type":"code",
      "source":[
        "buying_cost_categories = ['low', 'med', 'high', 'vhigh']"
      ],
      "execution_count":7,
      "outputs":[
        
      ],
      "metadata":{
        "jupyter":{
          "source_hidden":false,
          "outputs_hidden":false
        },
        "datalore":{
          "type":"CODE",
          "sheet_delimiter":false
        }
      }
    },
    {
      "cell_type":"code",
      "source":[
        "# Converting the buying cost column into a Categorical column\n",
        "\n",
        "car_eval.buying_cost = pd.Categorical(car_eval.buying_cost, buying_cost_categories, ordered = True)"
      ],
      "execution_count":8,
      "outputs":[
        
      ],
      "metadata":{
        "jupyter":{
          "source_hidden":false,
          "outputs_hidden":false
        },
        "datalore":{
          "type":"CODE",
          "sheet_delimiter":false
        }
      }
    },
    {
      "cell_type":"code",
      "source":[
        "# Calculating the median using cat codes and the categorical buying costs column\n",
        "buying_cost_index = np.median(car_eval.buying_cost.cat.codes)\n",
        "print(buying_cost_index)\n",
        "buying_cost_median = buying_cost_categories[int(buying_cost_index)]\n",
        "print(buying_cost_median)"
      ],
      "execution_count":9,
      "outputs":[
        {
          "name":"stdout",
          "text":[
            "1.0\n",
            "med\n"
          ],
          "output_type":"stream"
        }
      ],
      "metadata":{
        "jupyter":{
          "source_hidden":false,
          "outputs_hidden":false
        },
        "datalore":{
          "type":"CODE",
          "sheet_delimiter":false
        }
      }
    },
    {
      "cell_type":"markdown",
      "source":[
        "**Results:** The median buying cost for an automobile is med"
      ],
      "attachments":{
        
      },
      "metadata":{
        "jupyter":{
          "source_hidden":false,
          "outputs_hidden":false
        },
        "datalore":{
          "type":"MD",
          "sheet_delimiter":false
        }
      }
    },
    {
      "cell_type":"markdown",
      "source":[
        "## Summarizing Luggage Capacity\n",
        "\n",
        "*luggage* is a categorical variable in the car evaluations dataset that records the luggage capacity for each reviewed car. Let's calculate a table of proportions for this variable and print the result."
      ],
      "attachments":{
        
      },
      "metadata":{
        "jupyter":{
          "source_hidden":false,
          "outputs_hidden":false
        },
        "datalore":{
          "type":"MD",
          "sheet_delimiter":false
        }
      }
    },
    {
      "cell_type":"code",
      "source":[
        "luggage_proportions = car_eval.luggage.value_counts(dropna = False ,normalize = True)\n",
        "print(luggage_proportions)"
      ],
      "execution_count":10,
      "outputs":[
        {
          "name":"stdout",
          "text":[
            "small    0.339\n",
            "med      0.333\n",
            "big      0.328\n",
            "Name: luggage, dtype: float64\n"
          ],
          "output_type":"stream"
        }
      ],
      "metadata":{
        "jupyter":{
          "source_hidden":false,
          "outputs_hidden":false
        },
        "datalore":{
          "type":"CODE",
          "sheet_delimiter":false
        }
      }
    },
    {
      "cell_type":"markdown",
      "source":[
        "**Results:** There is not a big difference between luggage capacity in automobiles in their three categories (small, median & big)"
      ],
      "attachments":{
        
      },
      "metadata":{
        "jupyter":{
          "source_hidden":false,
          "outputs_hidden":false
        },
        "datalore":{
          "type":"MD",
          "sheet_delimiter":false
        }
      }
    },
    {
      "cell_type":"markdown",
      "source":[
        "## Summarizing Passenger Capacity\n",
        "*doors* is a categorical variable in the car evaluation dataset that records the number of doors for each reviewed car. Let's find the number of cars that have 5 or more doors. We can identify cars with 5+ doors by looking for cars that have a value of '5more' in the doors column. Print your result."
      ],
      "attachments":{
        
      },
      "metadata":{
        "jupyter":{
          "source_hidden":false,
          "outputs_hidden":false
        },
        "datalore":{
          "type":"MD",
          "sheet_delimiter":false
        }
      }
    },
    {
      "cell_type":"code",
      "source":[
        "frequency = np.sum(car_eval[\"doors\"] == '5more')\n",
        "print(frequency)\n",
        "proportion = np.mean(car_eval[\"doors\"] == '5more')\n",
        "print(proportion)"
      ],
      "execution_count":11,
      "outputs":[
        {
          "name":"stdout",
          "text":[
            "246\n",
            "0.246\n"
          ],
          "output_type":"stream"
        }
      ],
      "metadata":{
        "jupyter":{
          "source_hidden":false,
          "outputs_hidden":false
        },
        "datalore":{
          "type":"CODE",
          "sheet_delimiter":false
        }
      }
    },
    {
      "cell_type":"markdown",
      "source":[
        "**Results:** There is a proportion of 24.6 % of cars who have more than 5 doors. "
      ],
      "attachments":{
        
      },
      "metadata":{
        "jupyter":{
          "source_hidden":false,
          "outputs_hidden":false
        },
        "datalore":{
          "type":"MD",
          "sheet_delimiter":false
        }
      }
    }
  ],
  "metadata":{
    "datalore":{
      "version":1,
      "computation_mode":"JUPYTER",
      "package_manager":"pip",
      "base_environment":"default",
      "packages":[
        
      ]
    }
  },
  "nbformat":4,
  "nbformat_minor":4
}