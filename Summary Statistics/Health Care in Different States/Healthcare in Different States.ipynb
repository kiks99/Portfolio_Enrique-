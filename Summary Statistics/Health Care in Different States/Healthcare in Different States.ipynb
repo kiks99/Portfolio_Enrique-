{
  "cells":[
    {
      "cell_type":"markdown",
      "source":[
        "# Healthcare in Different States\n",
        "In this project, we will use boxplots to investigate the way hospitals in different states across the United States charge their patients for medical procedures. The data originally came from the United State Health and Human Services Department.\n",
        "\n",
        "Let’s use boxplots to find more meaning in this data!"
      ],
      "attachments":{
        
      },
      "metadata":{
        "jupyter":{
          "source_hidden":false,
          "outputs_hidden":false
        },
        "datalore":{
          "type":"MD",
          "sheet_delimiter":false
        }
      }
    },
    {
      "cell_type":"code",
      "source":[
        "#Import libraries \n",
        "import pandas as pd\n",
        "from matplotlib import pyplot as plt"
      ],
      "execution_count":1,
      "outputs":[
        
      ],
      "metadata":{
        "jupyter":{
          "source_hidden":false,
          "outputs_hidden":false
        },
        "datalore":{
          "type":"CODE",
          "sheet_delimiter":false
        }
      }
    },
    {
      "cell_type":"code",
      "source":[
        "#Load data\n",
        "healthcare = pd.read_csv(\"healthcare.csv\")\n",
        "print(healthcare.head())"
      ],
      "execution_count":2,
      "outputs":[
        {
          "name":"stdout",
          "text":[
            "                             DRG Definition  Provider Id  \\\n",
            "0  039 - EXTRACRANIAL PROCEDURES W\/O CC\/MCC        10001   \n",
            "1  039 - EXTRACRANIAL PROCEDURES W\/O CC\/MCC        10005   \n",
            "2  039 - EXTRACRANIAL PROCEDURES W\/O CC\/MCC        10006   \n",
            "3  039 - EXTRACRANIAL PROCEDURES W\/O CC\/MCC        10011   \n",
            "4  039 - EXTRACRANIAL PROCEDURES W\/O CC\/MCC        10016   \n",
            "\n",
            "                      Provider Name     Provider Street Address Provider City  \\\n",
            "0  SOUTHEAST ALABAMA MEDICAL CENTER      1108 ROSS CLARK CIRCLE        DOTHAN   \n",
            "1     MARSHALL MEDICAL CENTER SOUTH  2505 U S HIGHWAY 431 NORTH          BOAZ   \n",
            "2    ELIZA COFFEE MEMORIAL HOSPITAL          205 MARENGO STREET      FLORENCE   \n",
            "3                 ST VINCENT'S EAST  50 MEDICAL PARK EAST DRIVE    BIRMINGHAM   \n",
            "4     SHELBY BAPTIST MEDICAL CENTER     1000 FIRST STREET NORTH     ALABASTER   \n",
            "\n",
            "  Provider State  Provider Zip Code Hospital Referral Region Description  \\\n",
            "0             AL              36301                          AL - Dothan   \n",
            "1             AL              35957                      AL - Birmingham   \n",
            "2             AL              35631                      AL - Birmingham   \n",
            "3             AL              35235                      AL - Birmingham   \n",
            "4             AL              35007                      AL - Birmingham   \n",
            "\n",
            "    Total Discharges    Average Covered Charges    Average Total Payments   \\\n",
            "0                  91                   32963.07                   5777.24   \n",
            "1                  14                   15131.85                   5787.57   \n",
            "2                  24                   37560.37                   5434.95   \n",
            "3                  25                   13998.28                   5417.56   \n",
            "4                  18                   31633.27                   5658.33   \n",
            "\n",
            "   Average Medicare Payments  \n",
            "0                    4763.73  \n",
            "1                    4976.71  \n",
            "2                    4453.79  \n",
            "3                    4129.16  \n",
            "4                    4851.44  \n"
          ],
          "output_type":"stream"
        }
      ],
      "metadata":{
        "jupyter":{
          "source_hidden":false,
          "outputs_hidden":false
        },
        "datalore":{
          "type":"CODE",
          "sheet_delimiter":false
        }
      }
    },
    {
      "cell_type":"code",
      "source":[
        "print(healthcare.dtypes)"
      ],
      "execution_count":6,
      "outputs":[
        {
          "name":"stdout",
          "text":[
            "DRG Definition                           object\n",
            "Provider Id                               int64\n",
            "Provider Name                            object\n",
            "Provider Street Address                  object\n",
            "Provider City                            object\n",
            "Provider State                           object\n",
            "Provider Zip Code                         int64\n",
            "Hospital Referral Region Description     object\n",
            " Total Discharges                         int64\n",
            " Average Covered Charges                float64\n",
            " Average Total Payments                 float64\n",
            "Average Medicare Payments               float64\n",
            "dtype: object\n"
          ],
          "output_type":"stream"
        }
      ],
      "metadata":{
        "jupyter":{
          "source_hidden":false,
          "outputs_hidden":false
        },
        "datalore":{
          "type":"CODE",
          "sheet_delimiter":false
        }
      }
    },
    {
      "cell_type":"markdown",
      "source":[
        "## Investigating the Data\n",
        "We’re going to focus on only the ways in which hospitals charge patients for chest pain. But we could do this for any of the diagnoses in our dataset. Let's print healthcare[\"DRG Definition\"].unique() to see all of the different diagnoses in our dataset.\n",
        "\n",
        "Can we find the official name of the diagnosis related to chest pain?"
      ],
      "attachments":{
        
      },
      "metadata":{
        "jupyter":{
          "source_hidden":false,
          "outputs_hidden":false
        },
        "datalore":{
          "type":"MD",
          "sheet_delimiter":false
        }
      }
    },
    {
      "cell_type":"code",
      "source":[
        "print(healthcare[\"DRG Definition\"].unique())"
      ],
      "execution_count":7,
      "outputs":[
        {
          "name":"stdout",
          "text":[
            "['039 - EXTRACRANIAL PROCEDURES W\/O CC\/MCC'\n",
            " '057 - DEGENERATIVE NERVOUS SYSTEM DISORDERS W\/O MCC'\n",
            " '069 - TRANSIENT ISCHEMIA'\n",
            " '064 - INTRACRANIAL HEMORRHAGE OR CEREBRAL INFARCTION W MCC'\n",
            " '065 - INTRACRANIAL HEMORRHAGE OR CEREBRAL INFARCTION W CC'\n",
            " '066 - INTRACRANIAL HEMORRHAGE OR CEREBRAL INFARCTION W\/O CC\/MCC'\n",
            " '074 - CRANIAL & PERIPHERAL NERVE DISORDERS W\/O MCC'\n",
            " '101 - SEIZURES W\/O MCC' '149 - DYSEQUILIBRIUM'\n",
            " '176 - PULMONARY EMBOLISM W\/O MCC'\n",
            " '177 - RESPIRATORY INFECTIONS & INFLAMMATIONS W MCC'\n",
            " '189 - PULMONARY EDEMA & RESPIRATORY FAILURE'\n",
            " '178 - RESPIRATORY INFECTIONS & INFLAMMATIONS W CC'\n",
            " '190 - CHRONIC OBSTRUCTIVE PULMONARY DISEASE W MCC'\n",
            " '191 - CHRONIC OBSTRUCTIVE PULMONARY DISEASE W CC'\n",
            " '193 - SIMPLE PNEUMONIA & PLEURISY W MCC'\n",
            " '194 - SIMPLE PNEUMONIA & PLEURISY W CC'\n",
            " '192 - CHRONIC OBSTRUCTIVE PULMONARY DISEASE W\/O CC\/MCC'\n",
            " '195 - SIMPLE PNEUMONIA & PLEURISY W\/O CC\/MCC'\n",
            " '202 - BRONCHITIS & ASTHMA W CC\/MCC'\n",
            " '203 - BRONCHITIS & ASTHMA W\/O CC\/MCC'\n",
            " '207 - RESPIRATORY SYSTEM DIAGNOSIS W VENTILATOR SUPPORT 96+ HOURS'\n",
            " '238 - MAJOR CARDIOVASC PROCEDURES W\/O MCC'\n",
            " '252 - OTHER VASCULAR PROCEDURES W MCC'\n",
            " '253 - OTHER VASCULAR PROCEDURES W CC'\n",
            " '208 - RESPIRATORY SYSTEM DIAGNOSIS W VENTILATOR SUPPORT <96 HOURS'\n",
            " '254 - OTHER VASCULAR PROCEDURES W\/O CC\/MCC'\n",
            " '291 - HEART FAILURE & SHOCK W MCC'\n",
            " '243 - PERMANENT CARDIAC PACEMAKER IMPLANT W CC'\n",
            " '244 - PERMANENT CARDIAC PACEMAKER IMPLANT W\/O CC\/MCC'\n",
            " '246 - PERC CARDIOVASC PROC W DRUG-ELUTING STENT W MCC OR 4+ VESSELS\/STENTS'\n",
            " '247 - PERC CARDIOVASC PROC W DRUG-ELUTING STENT W\/O MCC'\n",
            " '249 - PERC CARDIOVASC PROC W NON-DRUG-ELUTING STENT W\/O MCC'\n",
            " '251 - PERC CARDIOVASC PROC W\/O CORONARY ARTERY STENT W\/O MCC'\n",
            " '280 - ACUTE MYOCARDIAL INFARCTION, DISCHARGED ALIVE W MCC'\n",
            " '292 - HEART FAILURE & SHOCK W CC'\n",
            " '281 - ACUTE MYOCARDIAL INFARCTION, DISCHARGED ALIVE W CC'\n",
            " '282 - ACUTE MYOCARDIAL INFARCTION, DISCHARGED ALIVE W\/O CC\/MCC'\n",
            " '286 - CIRCULATORY DISORDERS EXCEPT AMI, W CARD CATH W MCC'\n",
            " '287 - CIRCULATORY DISORDERS EXCEPT AMI, W CARD CATH W\/O MCC'\n",
            " '293 - HEART FAILURE & SHOCK W\/O CC\/MCC'\n",
            " '300 - PERIPHERAL VASCULAR DISORDERS W CC'\n",
            " '301 - PERIPHERAL VASCULAR DISORDERS W\/O CC\/MCC'\n",
            " '303 - ATHEROSCLEROSIS W\/O MCC' '305 - HYPERTENSION W\/O MCC'\n",
            " '308 - CARDIAC ARRHYTHMIA & CONDUCTION DISORDERS W MCC'\n",
            " '312 - SYNCOPE & COLLAPSE'\n",
            " '309 - CARDIAC ARRHYTHMIA & CONDUCTION DISORDERS W CC'\n",
            " '310 - CARDIAC ARRHYTHMIA & CONDUCTION DISORDERS W\/O CC\/MCC'\n",
            " '313 - CHEST PAIN' '314 - OTHER CIRCULATORY SYSTEM DIAGNOSES W MCC'\n",
            " '315 - OTHER CIRCULATORY SYSTEM DIAGNOSES W CC'\n",
            " '330 - MAJOR SMALL & LARGE BOWEL PROCEDURES W CC'\n",
            " '377 - G.I. HEMORRHAGE W MCC'\n",
            " '329 - MAJOR SMALL & LARGE BOWEL PROCEDURES W MCC'\n",
            " '372 - MAJOR GASTROINTESTINAL DISORDERS & PERITONEAL INFECTIONS W CC'\n",
            " '378 - G.I. HEMORRHAGE W CC' '379 - G.I. HEMORRHAGE W\/O CC\/MCC'\n",
            " '389 - G.I. OBSTRUCTION W CC' '390 - G.I. OBSTRUCTION W\/O CC\/MCC'\n",
            " '391 - ESOPHAGITIS, GASTROENT & MISC DIGEST DISORDERS W MCC'\n",
            " '394 - OTHER DIGESTIVE SYSTEM DIAGNOSES W CC'\n",
            " '439 - DISORDERS OF PANCREAS EXCEPT MALIGNANCY W CC'\n",
            " '392 - ESOPHAGITIS, GASTROENT & MISC DIGEST DISORDERS W\/O MCC'\n",
            " '460 - SPINAL FUSION EXCEPT CERVICAL W\/O MCC'\n",
            " '473 - CERVICAL SPINAL FUSION W\/O CC\/MCC'\n",
            " '418 - LAPAROSCOPIC CHOLECYSTECTOMY W\/O C.D.E. W CC'\n",
            " '419 - LAPAROSCOPIC CHOLECYSTECTOMY W\/O C.D.E. W\/O CC\/MCC'\n",
            " '469 - MAJOR JOINT REPLACEMENT OR REATTACHMENT OF LOWER EXTREMITY W MCC'\n",
            " '470 - MAJOR JOINT REPLACEMENT OR REATTACHMENT OF LOWER EXTREMITY W\/O MCC'\n",
            " '480 - HIP & FEMUR PROCEDURES EXCEPT MAJOR JOINT W MCC'\n",
            " '481 - HIP & FEMUR PROCEDURES EXCEPT MAJOR JOINT W CC'\n",
            " '536 - FRACTURES OF HIP & PELVIS W\/O MCC'\n",
            " '482 - HIP & FEMUR PROCEDURES EXCEPT MAJOR JOINT W\/O CC\/MCC'\n",
            " '552 - MEDICAL BACK PROBLEMS W\/O MCC'\n",
            " '491 - BACK & NECK PROC EXC SPINAL FUSION W\/O CC\/MCC'\n",
            " '563 - FX, SPRN, STRN & DISL EXCEPT FEMUR, HIP, PELVIS & THIGH W\/O MCC'\n",
            " '602 - CELLULITIS W MCC' '603 - CELLULITIS W\/O MCC' '638 - DIABETES W CC'\n",
            " '640 - MISC DISORDERS OF NUTRITION,METABOLISM,FLUIDS\/ELECTROLYTES W MCC'\n",
            " '682 - RENAL FAILURE W MCC'\n",
            " '641 - MISC DISORDERS OF NUTRITION,METABOLISM,FLUIDS\/ELECTROLYTES W\/O MCC'\n",
            " '683 - RENAL FAILURE W CC' '684 - RENAL FAILURE W\/O CC\/MCC'\n",
            " '689 - KIDNEY & URINARY TRACT INFECTIONS W MCC'\n",
            " '690 - KIDNEY & URINARY TRACT INFECTIONS W\/O MCC'\n",
            " '811 - RED BLOOD CELL DISORDERS W MCC'\n",
            " '698 - OTHER KIDNEY & URINARY TRACT DIAGNOSES W MCC'\n",
            " '699 - OTHER KIDNEY & URINARY TRACT DIAGNOSES W CC'\n",
            " '812 - RED BLOOD CELL DISORDERS W\/O MCC'\n",
            " '853 - INFECTIOUS & PARASITIC DISEASES W O.R. PROCEDURE W MCC'\n",
            " '885 - PSYCHOSES' '870 - SEPTICEMIA OR SEVERE SEPSIS W MV 96+ HOURS'\n",
            " '871 - SEPTICEMIA OR SEVERE SEPSIS W\/O MV 96+ HOURS W MCC'\n",
            " '872 - SEPTICEMIA OR SEVERE SEPSIS W\/O MV 96+ HOURS W\/O MCC'\n",
            " '897 - ALCOHOL\/DRUG ABUSE OR DEPENDENCE W\/O REHABILITATION THERAPY W\/O MCC'\n",
            " '948 - SIGNS & SYMPTOMS W\/O MCC'\n",
            " '917 - POISONING & TOXIC EFFECTS OF DRUGS W MCC'\n",
            " '918 - POISONING & TOXIC EFFECTS OF DRUGS W\/O MCC']\n"
          ],
          "output_type":"stream"
        }
      ],
      "metadata":{
        "jupyter":{
          "source_hidden":false,
          "outputs_hidden":false
        },
        "datalore":{
          "type":"CODE",
          "sheet_delimiter":false
        }
      }
    },
    {
      "cell_type":"markdown",
      "source":[
        "As we've seen, there are plenty of procedures to look forward to in our investigation, but right now the one we are interested in is '313 - CHEST PAIN' so let's aislate it to a variable. "
      ],
      "attachments":{
        
      },
      "metadata":{
        "jupyter":{
          "source_hidden":false,
          "outputs_hidden":false
        },
        "datalore":{
          "type":"MD",
          "sheet_delimiter":false
        }
      }
    },
    {
      "cell_type":"code",
      "source":[
        "chest_pain = healthcare[healthcare['DRG Definition'] == '313 - CHEST PAIN']"
      ],
      "execution_count":8,
      "outputs":[
        
      ],
      "metadata":{
        "jupyter":{
          "source_hidden":false,
          "outputs_hidden":false
        },
        "datalore":{
          "type":"CODE",
          "sheet_delimiter":false
        }
      }
    },
    {
      "cell_type":"markdown",
      "source":[
        "## Separating by State \n",
        "We now want to separate the dataset by state. Eventually, we’ll use a for loop to do this for every state, but for now, let’s prove to ourselves that we can make a boxplot for one state. We'll be using the state of New York for this example. "
      ],
      "attachments":{
        
      },
      "metadata":{
        "jupyter":{
          "source_hidden":false,
          "outputs_hidden":false
        },
        "datalore":{
          "type":"MD",
          "sheet_delimiter":false
        }
      }
    },
    {
      "cell_type":"code",
      "source":[
        "new_york_chest_pain = chest_pain[chest_pain['Provider State'] == 'NY']"
      ],
      "execution_count":9,
      "outputs":[
        
      ],
      "metadata":{
        "jupyter":{
          "source_hidden":false,
          "outputs_hidden":false
        },
        "datalore":{
          "type":"CODE",
          "sheet_delimiter":false
        }
      }
    },
    {
      "cell_type":"markdown",
      "source":[
        "We now have all of the hospitals in New York that have diagnosed chest pain. We now want to find the average cost of those diagnoses. These values are stored in the column ' Average Covered Charges '. "
      ],
      "attachments":{
        
      },
      "metadata":{
        "jupyter":{
          "source_hidden":false,
          "outputs_hidden":false
        },
        "datalore":{
          "type":"MD",
          "sheet_delimiter":false
        }
      }
    },
    {
      "cell_type":"code",
      "source":[
        "costs = new_york_chest_pain[' Average Covered Charges '].values"
      ],
      "execution_count":10,
      "outputs":[
        
      ],
      "metadata":{
        "jupyter":{
          "source_hidden":false,
          "outputs_hidden":false
        },
        "datalore":{
          "type":"CODE",
          "sheet_delimiter":false
        }
      }
    },
    {
      "cell_type":"markdown",
      "source":[
        "Let's now make the box plot for this particular state"
      ],
      "attachments":{
        
      },
      "metadata":{
        "jupyter":{
          "source_hidden":false,
          "outputs_hidden":false
        },
        "datalore":{
          "type":"MD",
          "sheet_delimiter":false
        }
      }
    },
    {
      "cell_type":"code",
      "source":[
        "plt.boxplot(costs)\n",
        "plt.title('Average Covered Charges for Chest Pain in New York')\n",
        "plt.ylabel('Costs')\n",
        "plt.show()"
      ],
      "execution_count":12,
      "outputs":[
        {
          "data":{
            "image\/png":"[encoded data removed]"
          },
          "metadata":{
            "image\/png":{
              
            }
          },
          "output_type":"display_data"
        }
      ],
      "metadata":{
        "jupyter":{
          "source_hidden":false,
          "outputs_hidden":false
        },
        "datalore":{
          "type":"CODE",
          "sheet_delimiter":false
        }
      }
    },
    {
      "cell_type":"markdown",
      "source":[
        "## Making Boxplots for every State \n",
        "\n",
        "Nice work! We’ve made a boxplot for one state. But how does that state compare to the others? Let’s make a boxplot for every state! \n",
        "\n",
        "To begin, we first need to create a list of all the states in our dataset. We can once again use the unique() function. We used this function when we looked at all of the diagnoses.\n",
        "\n",
        "Let's find all of the unique states from the dataset chest_pain and store them in a variable named states."
      ],
      "attachments":{
        
      },
      "metadata":{
        "jupyter":{
          "source_hidden":false,
          "outputs_hidden":false
        },
        "datalore":{
          "type":"MD",
          "sheet_delimiter":false
        }
      }
    },
    {
      "cell_type":"code",
      "source":[
        "states = chest_pain['Provider State'].unique()\n",
        "print(states)"
      ],
      "execution_count":13,
      "outputs":[
        {
          "name":"stdout",
          "text":[
            "['MA' 'AL' 'AK' 'AZ' 'AR' 'CA' 'CO' 'CT' 'DE' 'DC' 'FL' 'GA' 'HI' 'ID'\n",
            " 'IL' 'IN' 'IA' 'KS' 'KY' 'LA' 'ME' 'MD' 'MI' 'MN' 'MS' 'MO' 'MT' 'NE'\n",
            " 'NV' 'NH' 'NJ' 'NM' 'NY' 'NC' 'ND' 'OH' 'OK' 'OR' 'PA' 'RI' 'SC' 'SD'\n",
            " 'TN' 'TX' 'UT' 'VT' 'VA' 'WA' 'WV' 'WI' 'WY']\n"
          ],
          "output_type":"stream"
        }
      ],
      "metadata":{
        "jupyter":{
          "source_hidden":false,
          "outputs_hidden":false
        },
        "datalore":{
          "type":"CODE",
          "sheet_delimiter":false
        }
      }
    },
    {
      "cell_type":"markdown",
      "source":[
        "\n",
        "We’ll now use a for loop to separate the dataset into a dataset for each state"
      ],
      "attachments":{
        
      },
      "metadata":{
        "jupyter":{
          "source_hidden":false,
          "outputs_hidden":false
        },
        "datalore":{
          "type":"MD",
          "sheet_delimiter":false
        }
      }
    },
    {
      "cell_type":"code",
      "source":[
        "datasets = []\n",
        "for state in states:\n",
        "  datasets.append(chest_pain[chest_pain['Provider State'] == state][' Average Covered Charges '].values)\n",
        "#print(datasets)"
      ],
      "execution_count":15,
      "outputs":[
        
      ],
      "metadata":{
        "jupyter":{
          "source_hidden":false,
          "outputs_hidden":false
        },
        "datalore":{
          "type":"CODE",
          "sheet_delimiter":false
        }
      }
    },
    {
      "cell_type":"code",
      "source":[
        "plt.clf()\n",
        "plt.figure(figsize=(25,7))\n",
        "plt.boxplot(datasets, labels= states)\n",
        "plt.title('Average Covered charges for Chest Pain in Every State')\n",
        "plt.show()"
      ],
      "execution_count":30,
      "outputs":[
        {
          "data":{
            "text\/plain":[
              "<Figure size 432x288 with 0 Axes>"
            ],
            "image\/png":"[encoded data removed]"
          },
          "metadata":{
            "image\/png":{
              
            }
          },
          "output_type":"display_data"
        }
      ],
      "metadata":{
        "jupyter":{
          "source_hidden":false,
          "outputs_hidden":false
        },
        "datalore":{
          "type":"CODE",
          "sheet_delimiter":false
        }
      }
    },
    {
      "cell_type":"markdown",
      "source":[
        "## Part 2: analizing boxplots for Alcohol and Drug Abuse "
      ],
      "attachments":{
        
      },
      "metadata":{
        "jupyter":{
          "source_hidden":false,
          "outputs_hidden":false
        },
        "datalore":{
          "type":"MD",
          "sheet_delimiter":false
        }
      }
    },
    {
      "cell_type":"markdown",
      "source":[
        "We'll be using everything learned until now to develop a similar boxplot of all states and the total discharges for people with alcohol or drug abuse who need rehabilitation.  "
      ],
      "attachments":{
        
      },
      "metadata":{
        "jupyter":{
          "source_hidden":false,
          "outputs_hidden":false
        },
        "datalore":{
          "type":"MD",
          "sheet_delimiter":false
        }
      }
    },
    {
      "cell_type":"code",
      "source":[
        "alcohol_drug_abuse = healthcare[healthcare['DRG Definition'] ==  '897 - ALCOHOL\/DRUG ABUSE OR DEPENDENCE W\/O REHABILITATION THERAPY W\/O MCC']\n",
        "print(alcohol_drug_abuse)"
      ],
      "execution_count":21,
      "outputs":[
        {
          "name":"stdout",
          "text":[
            "                                           DRG Definition  Provider Id  \\\n",
            "158141  897 - ALCOHOL\/DRUG ABUSE OR DEPENDENCE W\/O REH...        10001   \n",
            "158142  897 - ALCOHOL\/DRUG ABUSE OR DEPENDENCE W\/O REH...        10006   \n",
            "158143  897 - ALCOHOL\/DRUG ABUSE OR DEPENDENCE W\/O REH...        10009   \n",
            "158144  897 - ALCOHOL\/DRUG ABUSE OR DEPENDENCE W\/O REH...        10023   \n",
            "158145  897 - ALCOHOL\/DRUG ABUSE OR DEPENDENCE W\/O REH...        10029   \n",
            "...                                                   ...          ...   \n",
            "159050  897 - ALCOHOL\/DRUG ABUSE OR DEPENDENCE W\/O REH...       520113   \n",
            "159051  897 - ALCOHOL\/DRUG ABUSE OR DEPENDENCE W\/O REH...       520138   \n",
            "159052  897 - ALCOHOL\/DRUG ABUSE OR DEPENDENCE W\/O REH...       520139   \n",
            "159053  897 - ALCOHOL\/DRUG ABUSE OR DEPENDENCE W\/O REH...       520177   \n",
            "159054  897 - ALCOHOL\/DRUG ABUSE OR DEPENDENCE W\/O REH...       530014   \n",
            "\n",
            "                              Provider Name    Provider Street Address  \\\n",
            "158141     SOUTHEAST ALABAMA MEDICAL CENTER     1108 ROSS CLARK CIRCLE   \n",
            "158142       ELIZA COFFEE MEMORIAL HOSPITAL         205 MARENGO STREET   \n",
            "158143             HARTSELLE MEDICAL CENTER  201 PINE STREET NORTHWEST   \n",
            "158144         BAPTIST MEDICAL CENTER SOUTH  2105 EAST SOUTH BOULEVARD   \n",
            "158145  EAST ALABAMA MEDICAL CENTER AND SNF     2000 PEPPERELL PARKWAY   \n",
            "...                                     ...                        ...   \n",
            "159050                     BAY AREA MED CTR              3100 SHORE DR   \n",
            "159051       AURORA ST LUKES MEDICAL CENTER        2900 W OKLAHOMA AVE   \n",
            "159052     AURORA WEST ALLIS MEDICAL CENTER         8901 W LINCOLN AVE   \n",
            "159053         FROEDTERT MEM LUTHERAN HSPTL       9200 W WISCONSIN AVE   \n",
            "159054     CHEYENNE REGIONAL MEDICAL CENTER       214 EAST 23RD STREET   \n",
            "\n",
            "       Provider City Provider State  Provider Zip Code  \\\n",
            "158141        DOTHAN             AL              36301   \n",
            "158142      FLORENCE             AL              35631   \n",
            "158143     HARTSELLE             AL              35640   \n",
            "158144    MONTGOMERY             AL              36116   \n",
            "158145       OPELIKA             AL              36801   \n",
            "...              ...            ...                ...   \n",
            "159050     MARINETTE             WI              54143   \n",
            "159051     MILWAUKEE             WI              53215   \n",
            "159052    WEST ALLIS             WI              53227   \n",
            "159053     MILWAUKEE             WI              53226   \n",
            "159054      CHEYENNE             WY              82001   \n",
            "\n",
            "       Hospital Referral Region Description   Total Discharges   \\\n",
            "158141                          AL - Dothan                  47   \n",
            "158142                      AL - Birmingham                  14   \n",
            "158143                      AL - Birmingham                  42   \n",
            "158144                      AL - Montgomery                  14   \n",
            "158145                      AL - Birmingham                  14   \n",
            "...                                     ...                 ...   \n",
            "159050                       WI - Green Bay                  16   \n",
            "159051                       WI - Milwaukee                  80   \n",
            "159052                       WI - Milwaukee                  13   \n",
            "159053                       WI - Milwaukee                  17   \n",
            "159054                    CO - Fort Collins                  14   \n",
            "\n",
            "         Average Covered Charges    Average Total Payments   \\\n",
            "158141                   12254.78                   3620.57   \n",
            "158142                   10866.42                   3289.78   \n",
            "158143                   12409.78                   3500.00   \n",
            "158144                   17288.35                   4213.71   \n",
            "158145                    5622.64                   3829.64   \n",
            "...                           ...                       ...   \n",
            "159050                   11398.43                   3903.00   \n",
            "159051                   19580.33                   5003.68   \n",
            "159052                   16574.84                   4104.53   \n",
            "159053                   20394.11                   6608.52   \n",
            "159054                   16873.64                   5592.21   \n",
            "\n",
            "        Average Medicare Payments  \n",
            "158141                    2924.82  \n",
            "158142                    2492.64  \n",
            "158143                    2780.66  \n",
            "158144                    3248.00  \n",
            "158145                    2808.07  \n",
            "...                           ...  \n",
            "159050                    2922.50  \n",
            "159051                    4067.32  \n",
            "159052                    2990.15  \n",
            "159053                    5752.29  \n",
            "159054                    4705.00  \n",
            "\n",
            "[906 rows x 12 columns]\n"
          ],
          "output_type":"stream"
        }
      ],
      "metadata":{
        "jupyter":{
          "source_hidden":false,
          "outputs_hidden":false
        },
        "datalore":{
          "type":"CODE",
          "sheet_delimiter":false
        }
      }
    },
    {
      "cell_type":"code",
      "source":[
        "states_abuse = alcohol_drug_abuse['Provider State'].unique()\n",
        "print(states_abuse)"
      ],
      "execution_count":22,
      "outputs":[
        {
          "name":"stdout",
          "text":[
            "['AL' 'AK' 'AZ' 'AR' 'CA' 'CO' 'CT' 'DE' 'DC' 'FL' 'GA' 'HI' 'ID' 'IL'\n",
            " 'MA' 'IN' 'IA' 'KS' 'KY' 'LA' 'ME' 'MD' 'MI' 'MN' 'MS' 'MO' 'MT' 'NE'\n",
            " 'NV' 'NH' 'NJ' 'NM' 'NY' 'NC' 'ND' 'OH' 'OK' 'OR' 'PA' 'RI' 'SC' 'SD'\n",
            " 'TN' 'TX' 'UT' 'VT' 'VA' 'WA' 'WV' 'WI' 'WY']\n"
          ],
          "output_type":"stream"
        }
      ],
      "metadata":{
        "jupyter":{
          "source_hidden":false,
          "outputs_hidden":false
        },
        "datalore":{
          "type":"CODE",
          "sheet_delimiter":false
        }
      }
    },
    {
      "cell_type":"code",
      "source":[
        "datasets_abuse = []\n",
        "for state in states_abuse:\n",
        "  datasets_abuse.append(alcohol_drug_abuse[alcohol_drug_abuse['Provider State'] == state][' Total Discharges '].values)\n",
        "print(datasets_abuse)"
      ],
      "execution_count":24,
      "outputs":[
        {
          "name":"stdout",
          "text":[
            "[array([ 47,  14,  42,  14,  14,  15,  38,  13,  11,  34, 276,  22,  24,\n",
            "        92,  13, 201]), array([12, 13]), array([11, 23, 14, 12, 15, 12, 13]), array([13, 18, 36, 52, 32, 36, 12, 25]), array([ 99,  48,  17,  31,  12,  16,  13,  24,  24,  53,  14,  11,  17,\n",
            "        11,  26,  12,  15,  19,  11,  13,  12,  33,  13,  17,  29,  11,\n",
            "        11,  12,  20,  14,  11,  14,  23,  11,  18,  32,  15,  12,  18,\n",
            "        11,  13,  12, 134,  15,  44,  22,  15,  13,  15,  13,  11,  84,\n",
            "        14,  14,  93,  24,  11,  28,  17,  14, 117, 510]), array([14, 14, 21, 19, 11, 22, 18, 26, 43]), array([27, 39, 13, 21, 18, 13, 12, 26, 66, 21, 57, 13, 19, 24, 12, 28, 22,\n",
            "       53, 15]), array([52, 21]), array([13, 17, 33, 17]), array([ 32,  26,  96,  31,  13,  80,  42,  25,  11,  11,  13,  13,  13,\n",
            "        19,  42,  15,  12,  12,  12,  14,  11,  33,  20,  14,  18,  11,\n",
            "        21,  13,  29,  12,  20,  45,  46,  20,  60,  19,  65,  32,  16,\n",
            "        22,  11,  15,  15,  34,  15,  58,  16,  17,  13,  12,  12,  11,\n",
            "       137,  15,  29]), array([16, 31, 28, 17, 20, 12, 37, 12, 28, 12, 24, 32, 91, 11]), array([22]), array([23, 18, 21]), array([ 43,  77,  14,  14,  11,  57,  16,  17,  12,  12,  31, 138,  61,\n",
            "        13, 103,  16, 228,  19, 269,  30,  32,  19,  12,  11, 148,  11,\n",
            "        15, 215,  17,  26,  23, 209,  31, 453, 128,  29,  14,  44, 109,\n",
            "        22,  14, 145,  14,  35,  17,  40,  15,  17,  13,  71,  33,  24,\n",
            "        15,  19,  38,  40,  17,  27,  11,  12]), array([  16,   19,   22,   24,   12,   41,   22,   21,   21,   16,   12,\n",
            "         23,   52,   98,   34,  132,   22,   14,   14, 1571,   13,   24,\n",
            "         38,   14,   58,   22,   83,   46,   20,   14,   21,   22,   13,\n",
            "         42,   27,   21,   29,   56,   13,  114,   51,   14,   29,   24]), array([20, 30, 11, 17, 25, 13, 11, 11, 63, 25, 17, 37, 63, 29, 39, 33, 23,\n",
            "       14]), array([11, 34, 26, 38, 32, 12, 24, 76, 35, 21, 12, 11, 23, 18, 33, 13]), array([18, 12, 12, 30, 48, 25]), array([116,  38,  14,  22,  15,  40,  82,  29,  60,  15,  55,  11,  31,\n",
            "        15,  21]), array([36, 11, 17, 12, 19, 16]), array([ 15, 239,  29,  11,  27, 122,  93,  49]), array([ 16,  11,  11,  26,  31,  17,  37,  36,  16,  33,  41,  16,  18,\n",
            "       181,  32,  22,  53,  24,  19,  42,  17,  27,  37,  14]), array([229,  22,  12,  14,  31,  27,  38,  30,  23,  18,  14,  11,  12,\n",
            "        12,  37,  33,  16,  30,  14,  25,  55,  17,  44,  19,  15,  25,\n",
            "        45,  12,  36,  27,  35,  12,  19,  83,  15]), array([ 26,  19,  31,  41,  40,  48,  16,  20,  37,  40,  45,  18,  21,\n",
            "       138,  16,  45,  53,  19,  65,  12,  16]), array([ 22,  13,  15,  14,  12,  27,  21,  57,  51,  14,  46,  11,  20,\n",
            "        14,  13, 116]), array([60, 57, 18, 12, 19, 21, 24, 15, 43, 32, 82, 29, 76, 13, 25, 11, 60,\n",
            "       13, 67, 12, 19, 12, 26, 16, 26, 32, 15, 17]), array([11, 19, 28, 11]), array([29, 22, 11, 15]), array([36, 51, 12, 53, 24, 13, 14, 17, 13]), array([17, 16, 16, 21, 11, 13, 15, 30]), array([ 16,  12,  20,  13,  23,  14,  15,  30,  31,  25,  19,  16,  22,\n",
            "        24,  24,  19,  21,  63,  14,  12,  11,  11, 156,  99,  35,  35,\n",
            "        34,  66,  23,  74,  14,  17]), array([18, 16, 13, 13, 23, 11]), array([ 11,  14,  93,  11,  27,  12,  13, 107, 124,  53,  13,  30,  25,\n",
            "       190,  17,  48, 164,  70,  28,  53,  14,  13,  40,  78,  34,  24,\n",
            "        47,  21,  26,  19,  58,  25,  28,  15,  38,  21,  21,  96,  33,\n",
            "        24, 296,  43,  13,  17,  14,  61,  17,  16,  44,  43,  32,  46,\n",
            "        39,  70,  95, 262,  15,  68,  41,  62,  39,  30,  39,  11,  37,\n",
            "        25,  24,  11,  25,  19,  58,  31,  23,  18,  21,  49,  37, 115]), array([ 36,  27,  14,  57,  39,  26,  20,  25,  16,  67,  13,  35,  31,\n",
            "        16,  33,  18, 163,  31,  35,  71,  29,  12,  13,  99,  15]), array([17, 49, 20]), array([ 17,  32,  12,  14, 110,  14, 161,  12,  54,  18,  11,  19,  14,\n",
            "        37,  13,  17,  12,  25,  12,  63,  11,  12,  21,  75,  21,  15,\n",
            "        29,  15,  13,  11,  17,  13,  73,  17,  29,  46, 431]), array([25, 12, 31, 11, 58, 69, 34, 14, 15, 18, 32]), array([12, 14, 18, 30, 14, 12, 24, 14, 11, 14]), array([ 22,  49,  91,  24,  24,  58,  12,  23,  11,  15,  11,  13,  11,\n",
            "        16,  11,  13,  39,  26,  77,  27,  15,  17,  68,  26,  30,  12,\n",
            "        12,  17,  78,  14,  12,  14,  29,  28,  14,  22,  12,  11, 154,\n",
            "       122,  13]), array([ 19, 199,  23,  12,  43,  18]), array([19, 22, 15, 13, 15, 14, 11, 23, 16, 15, 13, 22, 74]), array([11, 14, 32, 16, 22]), array([11, 17, 16, 14, 21, 12, 30, 11, 15, 13, 91, 51, 72]), array([13, 11, 13, 13, 33, 13, 11, 21, 12, 14, 13, 12, 11, 11, 14, 55, 13,\n",
            "       21, 12, 11, 14, 27, 11, 18]), array([34, 52, 18, 32]), array([24, 43]), array([19, 21, 16, 13, 13, 15, 72, 22, 29, 15, 26, 21, 19, 13, 13, 11, 11,\n",
            "       15, 13, 12]), array([ 15,  62,  13, 105,  16,  18,  28, 118,  23,  16,  12,  21,  19,\n",
            "        13,  37,  12,  25,  14,  12,  12]), array([29, 18, 12, 33, 13, 14]), array([31, 57, 18, 17, 13, 81, 31, 21, 40, 24, 37, 37, 38, 46, 25, 51, 33,\n",
            "       16, 44, 66, 21, 16, 80, 13, 17]), array([14])]\n"
          ],
          "output_type":"stream"
        }
      ],
      "metadata":{
        "jupyter":{
          "source_hidden":false,
          "outputs_hidden":false
        },
        "datalore":{
          "type":"CODE",
          "sheet_delimiter":false
        }
      }
    },
    {
      "cell_type":"code",
      "source":[
        "plt.clf()\n",
        "plt.figure(figsize=(20,5))\n",
        "plt.boxplot(datasets_abuse, labels= states)\n",
        "plt.title('Total Discharge of Alcohol and Drug Abuse for Every State')\n",
        "plt.show()"
      ],
      "execution_count":31,
      "outputs":[
        {
          "data":{
            "text\/plain":[
              "<Figure size 432x288 with 0 Axes>"
            ],
            "image\/png":"[encoded data removed]"
          },
          "metadata":{
            "image\/png":{
              
            }
          },
          "output_type":"display_data"
        }
      ],
      "metadata":{
        "jupyter":{
          "source_hidden":false,
          "outputs_hidden":false
        },
        "datalore":{
          "type":"CODE",
          "sheet_delimiter":false
        }
      }
    },
    {
      "cell_type":"markdown",
      "source":[
        "**Results:** In this visualization, the box plots become very small because there is an outlier in the state of Illinois that has an extreme case of total discharges arousing between the 1500 and 1600 . This is considered a serious and extreme case to be look forward to. "
      ],
      "attachments":{
        
      },
      "metadata":{
        "jupyter":{
          "source_hidden":false,
          "outputs_hidden":false
        },
        "datalore":{
          "type":"MD",
          "sheet_delimiter":false
        }
      }
    }
  ],
  "metadata":{
    "datalore":{
      "version":1,
      "computation_mode":"JUPYTER",
      "package_manager":"pip",
      "base_environment":"default",
      "packages":[
        
      ]
    }
  },
  "nbformat":4,
  "nbformat_minor":4
}