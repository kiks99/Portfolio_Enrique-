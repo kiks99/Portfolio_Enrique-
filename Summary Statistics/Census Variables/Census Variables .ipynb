{
  "cells":[
    {
      "cell_type":"markdown",
      "source":[
        "# Census Variables\n",
        "We have decided to volunteer for our local community by offering to clean their recently collected census data. \n",
        "The census dataframe is composed of simulated census data to represent demographics of a small community in the U.S. The description of this dataset is as follows:\n",
        " - **first_name:**\tThe respondent’s first name.\n",
        "- **last_name:**\tThe respondent’s last name.\n",
        "- **birth_year:**\tThe respondent’s year of birth.\n",
        "- **voted:**\tIf the respondent participated in the current voting cycle.\n",
        "- **num_children:**\tThe number of children the respondent has.\n",
        "- **income_year:**\tThe average yearly income the respondent earns.\n",
        "- **higher_tax:**\tThe respondent’s answer to the question: “Rate your agreement with the statement: the wealthy should pay higher taxes.”\n",
        "- **marital_status:**\tThe respondent’s current marital status.\n",
        " "
      ],
      "attachments":{
        
      },
      "metadata":{
        "jupyter":{
          "source_hidden":false,
          "outputs_hidden":false
        },
        "datalore":{
          "type":"MD",
          "sheet_delimiter":false
        }
      }
    },
    {
      "cell_type":"code",
      "source":[
        "#Import libraries\n",
        "import numpy as np\n",
        "import pandas as pd\n",
        "pd.set_option('display.max_columns', None)"
      ],
      "execution_count":66,
      "outputs":[
        
      ],
      "metadata":{
        "jupyter":{
          "source_hidden":false,
          "outputs_hidden":false
        },
        "datalore":{
          "type":"CODE",
          "sheet_delimiter":false
        }
      }
    },
    {
      "cell_type":"code",
      "source":[
        "# Read in the census dataframe\n",
        "census = pd.read_csv('census_data.csv', index_col=0)\n",
        "#Calling the first 5 rows of the DataFrame\n",
        "print(census.head())"
      ],
      "execution_count":67,
      "outputs":[
        {
          "name":"stdout",
          "text":[
            "  first_name  last_name birth_year  voted  num_children  income_year  \\\n",
            "0     Denise      Ratke       2005  False             0     92129.41   \n",
            "1       Hali  Cummerata       1987  False             0     75649.17   \n",
            "2    Salomon        Orn       1992   True             2    166313.45   \n",
            "3     Sarina   Schiller       1965  False             2     71704.81   \n",
            "4       Gust  Abernathy       1945  False             2    143316.08   \n",
            "\n",
            "       higher_tax marital_status  \n",
            "0        disagree         single  \n",
            "1         neutral       divorced  \n",
            "2           agree         single  \n",
            "3  strongly agree        married  \n",
            "4           agree        married  \n"
          ],
          "output_type":"stream"
        }
      ],
      "metadata":{
        "jupyter":{
          "source_hidden":false,
          "outputs_hidden":false
        },
        "datalore":{
          "type":"CODE",
          "sheet_delimiter":false
        }
      }
    },
    {
      "cell_type":"code",
      "source":[
        "#Checking the data types of every column\n",
        "print(census.dtypes)"
      ],
      "execution_count":68,
      "outputs":[
        {
          "name":"stdout",
          "text":[
            "first_name         object\n",
            "last_name          object\n",
            "birth_year         object\n",
            "voted                bool\n",
            "num_children        int64\n",
            "income_year       float64\n",
            "higher_tax         object\n",
            "marital_status     object\n",
            "dtype: object\n"
          ],
          "output_type":"stream"
        }
      ],
      "metadata":{
        "jupyter":{
          "source_hidden":false,
          "outputs_hidden":false
        },
        "datalore":{
          "type":"CODE",
          "sheet_delimiter":false
        }
      }
    },
    {
      "cell_type":"markdown",
      "source":[
        "## Inspecting Data Types\n",
        "The manager of the census would like to know the average birth year of the respondents. We were able to see from .dtypes that birth_year has been assigned the str datatype whereas it should be expressed in int. Let's see the unique values of the variable using the .unique() method."
      ],
      "attachments":{
        
      },
      "metadata":{
        "jupyter":{
          "source_hidden":false,
          "outputs_hidden":false
        },
        "datalore":{
          "type":"MD",
          "sheet_delimiter":false
        }
      }
    },
    {
      "cell_type":"code",
      "source":[
        "#Checking the unique values of the birth year column\n",
        "print(census['birth_year'].unique())"
      ],
      "execution_count":69,
      "outputs":[
        {
          "name":"stdout",
          "text":[
            "['2005' '1987' '1992' '1965' '1945' '1951' '1963' '1949' '1950' '1971'\n",
            " '2007' '1944' '1995' '1973' '1946' '1954' '1994' '1989' '1947' '1993'\n",
            " '1976' '1984' 'missing' '1966' '1941' '2000' '1953' '1956' '1960' '2001'\n",
            " '1980' '1955' '1985' '1996' '1968' '1979' '2006' '1962' '1981' '1959'\n",
            " '1977' '1978' '1983' '1957' '1961' '1982' '2002' '1998' '1999' '1952'\n",
            " '1940' '1986' '1958']\n"
          ],
          "output_type":"stream"
        }
      ],
      "metadata":{
        "jupyter":{
          "source_hidden":false,
          "outputs_hidden":false
        },
        "datalore":{
          "type":"CODE",
          "sheet_delimiter":false
        }
      }
    },
    {
      "cell_type":"markdown",
      "source":[
        "## Altering Data\n",
        "There appears to be a missing value in the birth_year column. With some research, we found that the respondent’s birth year is 1967. Let's replace the missing values with this number and change the column to a int data type. "
      ],
      "attachments":{
        
      },
      "metadata":{
        "jupyter":{
          "source_hidden":false,
          "outputs_hidden":false
        },
        "datalore":{
          "type":"MD",
          "sheet_delimiter":false
        }
      }
    },
    {
      "cell_type":"code",
      "source":[
        "census['birth_year'] = census['birth_year'].replace(['missing'], 1967)\n",
        "print(census['birth_year'].unique())\n",
        "#Changing the birth_year type to int\n",
        "census['birth_year'] = census['birth_year'].astype('int')\n",
        "print(census['birth_year'].dtypes)"
      ],
      "execution_count":70,
      "outputs":[
        {
          "name":"stdout",
          "text":[
            "['2005' '1987' '1992' '1965' '1945' '1951' '1963' '1949' '1950' '1971'\n",
            " '2007' '1944' '1995' '1973' '1946' '1954' '1994' '1989' '1947' '1993'\n",
            " '1976' '1984' 1967 '1966' '1941' '2000' '1953' '1956' '1960' '2001'\n",
            " '1980' '1955' '1985' '1996' '1968' '1979' '2006' '1962' '1981' '1959'\n",
            " '1977' '1978' '1983' '1957' '1961' '1982' '2002' '1998' '1999' '1952'\n",
            " '1940' '1986' '1958']\n",
            "int64\n"
          ],
          "output_type":"stream"
        }
      ],
      "metadata":{
        "jupyter":{
          "source_hidden":false,
          "outputs_hidden":false
        },
        "datalore":{
          "type":"CODE",
          "sheet_delimiter":false
        }
      }
    },
    {
      "cell_type":"markdown",
      "source":[
        "Our Manager wants to know the average birth year of the respondents of the census "
      ],
      "attachments":{
        
      },
      "metadata":{
        "jupyter":{
          "source_hidden":false,
          "outputs_hidden":false
        },
        "datalore":{
          "type":"MD",
          "sheet_delimiter":false
        }
      }
    },
    {
      "cell_type":"code",
      "source":[
        "print(census['birth_year'].mean())"
      ],
      "execution_count":71,
      "outputs":[
        {
          "name":"stdout",
          "text":[
            "1973.4\n"
          ],
          "output_type":"stream"
        }
      ],
      "metadata":{
        "jupyter":{
          "source_hidden":false,
          "outputs_hidden":false
        },
        "datalore":{
          "type":"CODE",
          "sheet_delimiter":false
        }
      }
    },
    {
      "cell_type":"markdown",
      "source":[
        "\n",
        "## Ordering High Tax Values\n",
        "Our manager would like to set an order to the higher_tax variable so that: strongly disagree < disagree < neutral < agree < strongly agree.Let's convert the higher_tax variable to the category data type with the appropriate order, then print the new order using the .unique() method."
      ],
      "attachments":{
        
      },
      "metadata":{
        "jupyter":{
          "source_hidden":false,
          "outputs_hidden":false
        },
        "datalore":{
          "type":"MD",
          "sheet_delimiter":false
        }
      }
    },
    {
      "cell_type":"code",
      "source":[
        "print(census['higher_tax'].unique())"
      ],
      "execution_count":72,
      "outputs":[
        {
          "name":"stdout",
          "text":[
            "['disagree' 'neutral' 'agree' 'strongly agree' 'strongly disagree']\n"
          ],
          "output_type":"stream"
        }
      ],
      "metadata":{
        "jupyter":{
          "source_hidden":false,
          "outputs_hidden":false
        },
        "datalore":{
          "type":"CODE",
          "sheet_delimiter":false
        }
      }
    },
    {
      "cell_type":"code",
      "source":[
        "census['higher_tax'] = pd.Categorical(census['higher_tax'], ['strongly disagree', 'disagree', 'neutral', 'agree', 'strongly agree'], ordered=True)\n",
        "print(census['higher_tax'].unique())"
      ],
      "execution_count":73,
      "outputs":[
        {
          "name":"stdout",
          "text":[
            "['disagree', 'neutral', 'agree', 'strongly agree', 'strongly disagree']\n",
            "Categories (5, object): ['strongly disagree' < 'disagree' < 'neutral' < 'agree' < 'strongly agree']\n"
          ],
          "output_type":"stream"
        }
      ],
      "metadata":{
        "jupyter":{
          "source_hidden":false,
          "outputs_hidden":false
        },
        "datalore":{
          "type":"CODE",
          "sheet_delimiter":false
        }
      }
    },
    {
      "cell_type":"code",
      "source":[
        "census['higher_tax_codes'] = census['higher_tax'].cat.codes\n",
        "print(census.head())"
      ],
      "execution_count":74,
      "outputs":[
        {
          "name":"stdout",
          "text":[
            "  first_name  last_name  birth_year  voted  num_children  income_year  \\\n",
            "0     Denise      Ratke        2005  False             0     92129.41   \n",
            "1       Hali  Cummerata        1987  False             0     75649.17   \n",
            "2    Salomon        Orn        1992   True             2    166313.45   \n",
            "3     Sarina   Schiller        1965  False             2     71704.81   \n",
            "4       Gust  Abernathy        1945  False             2    143316.08   \n",
            "\n",
            "       higher_tax marital_status  higher_tax_codes  \n",
            "0        disagree         single                 1  \n",
            "1         neutral       divorced                 2  \n",
            "2           agree         single                 3  \n",
            "3  strongly agree        married                 4  \n",
            "4           agree        married                 3  \n"
          ],
          "output_type":"stream"
        }
      ],
      "metadata":{
        "jupyter":{
          "source_hidden":false,
          "outputs_hidden":false
        },
        "datalore":{
          "type":"CODE",
          "sheet_delimiter":false
        }
      }
    },
    {
      "cell_type":"markdown",
      "source":[
        "## Checking median of High Tax Values \n",
        "Our manager would also like to know the median sentiment of the respondents on the issue of higher taxes for the wealthy. Label encode the higher_tax variable and print the median using the pandas .catcodes & .median() methods."
      ],
      "attachments":{
        
      },
      "metadata":{
        "jupyter":{
          "source_hidden":false,
          "outputs_hidden":false
        },
        "datalore":{
          "type":"MD",
          "sheet_delimiter":false
        }
      }
    },
    {
      "cell_type":"code",
      "source":[
        "median_index = np.median(census['higher_tax_codes'])\n",
        "print(median_index)"
      ],
      "execution_count":75,
      "outputs":[
        {
          "name":"stdout",
          "text":[
            "2.0\n"
          ],
          "output_type":"stream"
        }
      ],
      "metadata":{
        "jupyter":{
          "source_hidden":false,
          "outputs_hidden":false
        },
        "datalore":{
          "type":"CODE",
          "sheet_delimiter":false
        }
      }
    },
    {
      "cell_type":"code",
      "source":[
        "median_index_status = census.higher_tax[int(median_index)]\n",
        "print(median_index_status)"
      ],
      "execution_count":76,
      "outputs":[
        {
          "name":"stdout",
          "text":[
            "agree\n"
          ],
          "output_type":"stream"
        }
      ],
      "metadata":{
        "jupyter":{
          "source_hidden":false,
          "outputs_hidden":false
        },
        "datalore":{
          "type":"CODE",
          "sheet_delimiter":false
        }
      }
    },
    {
      "cell_type":"markdown",
      "source":[
        "## One-Hot-Encoding Marital Status\n",
        "Let's create a new variable called marital_codes by Label Encoding the marital_status variable. This could help the Census team use machine learning to predict if a respondent thinks the wealthy should pay higher taxes based on their marital status."
      ],
      "attachments":{
        
      },
      "metadata":{
        "jupyter":{
          "source_hidden":false,
          "outputs_hidden":false
        },
        "datalore":{
          "type":"MD",
          "sheet_delimiter":false
        }
      }
    },
    {
      "cell_type":"code",
      "source":[
        "print(census.marital_status.unique())"
      ],
      "execution_count":77,
      "outputs":[
        {
          "name":"stdout",
          "text":[
            "['single' 'divorced' 'married' 'widowed']\n"
          ],
          "output_type":"stream"
        }
      ],
      "metadata":{
        "jupyter":{
          "source_hidden":false,
          "outputs_hidden":false
        },
        "datalore":{
          "type":"CODE",
          "sheet_delimiter":false
        }
      }
    },
    {
      "cell_type":"code",
      "source":[
        "census.marital_status = pd.Categorical(census.marital_status, ['single', 'married', 'divorced', 'widowed'], ordered=True)\n",
        "print(census.marital_status.unique())"
      ],
      "execution_count":78,
      "outputs":[
        {
          "name":"stdout",
          "text":[
            "['single', 'divorced', 'married', 'widowed']\n",
            "Categories (4, object): ['single' < 'married' < 'divorced' < 'widowed']\n"
          ],
          "output_type":"stream"
        }
      ],
      "metadata":{
        "jupyter":{
          "source_hidden":false,
          "outputs_hidden":false
        },
        "datalore":{
          "type":"CODE",
          "sheet_delimiter":false
        }
      }
    },
    {
      "cell_type":"code",
      "source":[
        "census['marital_codes'] = census.marital_status.cat.codes\n",
        "print(census.head())"
      ],
      "execution_count":79,
      "outputs":[
        {
          "name":"stdout",
          "text":[
            "  first_name  last_name  birth_year  voted  num_children  income_year  \\\n",
            "0     Denise      Ratke        2005  False             0     92129.41   \n",
            "1       Hali  Cummerata        1987  False             0     75649.17   \n",
            "2    Salomon        Orn        1992   True             2    166313.45   \n",
            "3     Sarina   Schiller        1965  False             2     71704.81   \n",
            "4       Gust  Abernathy        1945  False             2    143316.08   \n",
            "\n",
            "       higher_tax marital_status  higher_tax_codes  marital_codes  \n",
            "0        disagree         single                 1              0  \n",
            "1         neutral       divorced                 2              2  \n",
            "2           agree         single                 3              0  \n",
            "3  strongly agree        married                 4              1  \n",
            "4           agree        married                 3              1  \n"
          ],
          "output_type":"stream"
        }
      ],
      "metadata":{
        "jupyter":{
          "source_hidden":false,
          "outputs_hidden":false
        },
        "datalore":{
          "type":"CODE",
          "sheet_delimiter":false
        }
      }
    },
    {
      "cell_type":"code",
      "source":[
        "marital_codes_median = np.median(census.marital_codes)\n",
        "print(marital_codes_median)"
      ],
      "execution_count":80,
      "outputs":[
        {
          "name":"stdout",
          "text":[
            "1.0\n"
          ],
          "output_type":"stream"
        }
      ],
      "metadata":{
        "jupyter":{
          "source_hidden":false,
          "outputs_hidden":false
        },
        "datalore":{
          "type":"CODE",
          "sheet_delimiter":false
        }
      }
    },
    {
      "cell_type":"code",
      "source":[
        "marital_codes_median_status = census.marital_status[int(marital_codes_median)]\n",
        "print(marital_codes_median_status)"
      ],
      "execution_count":81,
      "outputs":[
        {
          "name":"stdout",
          "text":[
            "divorced\n"
          ],
          "output_type":"stream"
        }
      ],
      "metadata":{
        "jupyter":{
          "source_hidden":false,
          "outputs_hidden":false
        },
        "datalore":{
          "type":"CODE",
          "sheet_delimiter":false
        }
      }
    },
    {
      "cell_type":"markdown",
      "source":[
        "Let's One-Hot Encode marital_status to create binary variables of each category"
      ],
      "attachments":{
        
      },
      "metadata":{
        "jupyter":{
          "source_hidden":false,
          "outputs_hidden":false
        },
        "datalore":{
          "type":"MD",
          "sheet_delimiter":false
        }
      }
    },
    {
      "cell_type":"code",
      "source":[
        "census = pd.get_dummies(data= census, columns= ['marital_status'])\n",
        "print(census.head())"
      ],
      "execution_count":82,
      "outputs":[
        {
          "name":"stdout",
          "text":[
            "  first_name  last_name  birth_year  voted  num_children  income_year  \\\n",
            "0     Denise      Ratke        2005  False             0     92129.41   \n",
            "1       Hali  Cummerata        1987  False             0     75649.17   \n",
            "2    Salomon        Orn        1992   True             2    166313.45   \n",
            "3     Sarina   Schiller        1965  False             2     71704.81   \n",
            "4       Gust  Abernathy        1945  False             2    143316.08   \n",
            "\n",
            "       higher_tax  higher_tax_codes  marital_codes  marital_status_single  \\\n",
            "0        disagree                 1              0                      1   \n",
            "1         neutral                 2              2                      0   \n",
            "2           agree                 3              0                      1   \n",
            "3  strongly agree                 4              1                      0   \n",
            "4           agree                 3              1                      0   \n",
            "\n",
            "   marital_status_married  marital_status_divorced  marital_status_widowed  \n",
            "0                       0                        0                       0  \n",
            "1                       0                        1                       0  \n",
            "2                       0                        0                       0  \n",
            "3                       1                        0                       0  \n",
            "4                       1                        0                       0  \n"
          ],
          "output_type":"stream"
        }
      ],
      "metadata":{
        "jupyter":{
          "source_hidden":false,
          "outputs_hidden":false
        },
        "datalore":{
          "type":"CODE",
          "sheet_delimiter":false
        }
      }
    },
    {
      "cell_type":"markdown",
      "source":[
        "## Age group categories \n",
        "Let's create a new variable called age_group, which groups respondents based on their birth year. The groups should be in five-year increments, e.g., 25-30, 31-35, etc. Then label encode the age_group variable to assist the Census team in the event they would like to use machine learning to predict if a respondent thinks the wealthy should pay higher taxes based on their age group."
      ],
      "attachments":{
        
      },
      "metadata":{
        "jupyter":{
          "source_hidden":false,
          "outputs_hidden":false
        },
        "datalore":{
          "type":"MD",
          "sheet_delimiter":false
        }
      }
    },
    {
      "cell_type":"code",
      "source":[
        "census['age'] = 2022 - census['birth_year']"
      ],
      "execution_count":83,
      "outputs":[
        
      ],
      "metadata":{
        "jupyter":{
          "source_hidden":false,
          "outputs_hidden":false
        },
        "datalore":{
          "type":"CODE",
          "sheet_delimiter":false
        }
      }
    },
    {
      "cell_type":"code",
      "source":[
        "age_bins = np.arange(min(census['age']) - 5, 100, 5)"
      ],
      "execution_count":84,
      "outputs":[
        
      ],
      "metadata":{
        "jupyter":{
          "source_hidden":false,
          "outputs_hidden":false
        },
        "datalore":{
          "type":"CODE",
          "sheet_delimiter":false
        }
      }
    },
    {
      "cell_type":"code",
      "source":[
        "census['age_group'] = pd.cut(census['age'], bins=age_bins)\n",
        "print(census.head())"
      ],
      "execution_count":85,
      "outputs":[
        {
          "name":"stdout",
          "text":[
            "  first_name  last_name  birth_year  voted  num_children  income_year  \\\n",
            "0     Denise      Ratke        2005  False             0     92129.41   \n",
            "1       Hali  Cummerata        1987  False             0     75649.17   \n",
            "2    Salomon        Orn        1992   True             2    166313.45   \n",
            "3     Sarina   Schiller        1965  False             2     71704.81   \n",
            "4       Gust  Abernathy        1945  False             2    143316.08   \n",
            "\n",
            "       higher_tax  higher_tax_codes  marital_codes  marital_status_single  \\\n",
            "0        disagree                 1              0                      1   \n",
            "1         neutral                 2              2                      0   \n",
            "2           agree                 3              0                      1   \n",
            "3  strongly agree                 4              1                      0   \n",
            "4           agree                 3              1                      0   \n",
            "\n",
            "   marital_status_married  marital_status_divorced  marital_status_widowed  \\\n",
            "0                       0                        0                       0   \n",
            "1                       0                        1                       0   \n",
            "2                       0                        0                       0   \n",
            "3                       1                        0                       0   \n",
            "4                       1                        0                       0   \n",
            "\n",
            "   age age_group  \n",
            "0   17  (15, 20]  \n",
            "1   35  (30, 35]  \n",
            "2   30  (25, 30]  \n",
            "3   57  (55, 60]  \n",
            "4   77  (75, 80]  \n"
          ],
          "output_type":"stream"
        }
      ],
      "metadata":{
        "jupyter":{
          "source_hidden":false,
          "outputs_hidden":false
        },
        "datalore":{
          "type":"CODE",
          "sheet_delimiter":false
        }
      }
    }
  ],
  "metadata":{
    "datalore":{
      "version":1,
      "computation_mode":"JUPYTER",
      "package_manager":"pip",
      "base_environment":"default",
      "packages":[
        
      ]
    }
  },
  "nbformat":4,
  "nbformat_minor":4
}