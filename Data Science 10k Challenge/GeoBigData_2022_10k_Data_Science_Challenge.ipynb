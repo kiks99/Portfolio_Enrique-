{
  "cells": [
    {
      "cell_type": "markdown",
      "metadata": {
        "id": "IF-me0lgEpYi"
      },
      "source": [
        "Maquina Virtual"
      ]
    },
    {
      "cell_type": "code",
      "source": [
        "# find information about my Linux installation\n",
        "!lsb_release -a"
      ],
      "metadata": {
        "colab": {
          "base_uri": "https://localhost:8080/"
        },
        "id": "n74aZARs_tG1",
        "outputId": "13134f7c-a78a-45bd-e7e7-b54774454ded"
      },
      "execution_count": null,
      "outputs": [
        {
          "output_type": "stream",
          "name": "stdout",
          "text": [
            "No LSB modules are available.\n",
            "Distributor ID:\tUbuntu\n",
            "Description:\tUbuntu 18.04.6 LTS\n",
            "Release:\t18.04\n",
            "Codename:\tbionic\n"
          ]
        }
      ]
    },
    {
      "cell_type": "code",
      "execution_count": null,
      "metadata": {
        "colab": {
          "base_uri": "https://localhost:8080/"
        },
        "id": "EW24ah0ERe_k",
        "outputId": "39b211a2-6ef3-4c90-f3af-8435a7fa0dc6"
      },
      "outputs": [
        {
          "output_type": "stream",
          "name": "stdout",
          "text": [
            "CPU(s):              2\n",
            "Thread(s) per core:  2\n",
            "Core(s) per socket:  1\n",
            "Socket(s):           1\n",
            "Model name:          Intel(R) Xeon(R) CPU @ 2.20GHz\n"
          ]
        }
      ],
      "source": [
        "# Gather information about your CPU infrastructure\n",
        "!lscpu | grep -E '^Model name|^Thread|^Core|^Socket|^CPU\\('"
      ]
    },
    {
      "cell_type": "code",
      "source": [
        "# show the space you have available on your virtual computer\n",
        "!free -m -h"
      ],
      "metadata": {
        "colab": {
          "base_uri": "https://localhost:8080/"
        },
        "id": "eOUslny30IXN",
        "outputId": "5690d33f-d5f7-4309-ce9f-b145ef2022cd"
      },
      "execution_count": null,
      "outputs": [
        {
          "output_type": "stream",
          "name": "stdout",
          "text": [
            "              total        used        free      shared  buff/cache   available\n",
            "Mem:            12G        792M        9.4G        1.2M        2.5G         11G\n",
            "Swap:            0B          0B          0B\n"
          ]
        }
      ]
    },
    {
      "cell_type": "code",
      "source": [
        "#informs about the space storage in our system \n",
        "!df -h"
      ],
      "metadata": {
        "colab": {
          "base_uri": "https://localhost:8080/"
        },
        "id": "sEIZ9U-R0UI9",
        "outputId": "b6af8dbc-ee32-4969-874a-bdb2072041e9"
      },
      "execution_count": null,
      "outputs": [
        {
          "output_type": "stream",
          "name": "stdout",
          "text": [
            "Filesystem      Size  Used Avail Use% Mounted on\n",
            "overlay         108G   23G   86G  21% /\n",
            "tmpfs            64M     0   64M   0% /dev\n",
            "shm             5.8G     0  5.8G   0% /dev/shm\n",
            "/dev/root       2.0G  1.1G  910M  54% /sbin/docker-init\n",
            "tmpfs           6.4G   32K  6.4G   1% /var/colab\n",
            "/dev/sda1        41G   24G   17G  59% /etc/hosts\n",
            "tmpfs           6.4G     0  6.4G   0% /proc/acpi\n",
            "tmpfs           6.4G     0  6.4G   0% /proc/scsi\n",
            "tmpfs           6.4G     0  6.4G   0% /sys/firmware\n"
          ]
        }
      ]
    },
    {
      "cell_type": "code",
      "source": [
        "# list information about block devices \n",
        "!lsblk -d -o name,rota"
      ],
      "metadata": {
        "colab": {
          "base_uri": "https://localhost:8080/"
        },
        "id": "ouYNz1s10aXr",
        "outputId": "87117f84-310e-4d0c-e173-d3b80c1d9e67"
      },
      "execution_count": null,
      "outputs": [
        {
          "output_type": "stream",
          "name": "stdout",
          "text": [
            "NAME  ROTA\n",
            "loop0    0\n",
            "sda      0\n"
          ]
        }
      ]
    },
    {
      "cell_type": "markdown",
      "source": [
        "Instalación de Requerimientos"
      ],
      "metadata": {
        "id": "qM5X32-Q0dN1"
      }
    },
    {
      "cell_type": "code",
      "execution_count": null,
      "metadata": {
        "id": "TrxTL-CnEvvR"
      },
      "outputs": [],
      "source": [
        "# installs our Java SE 11 Platform Specification with the apt-get method  \n",
        "!apt-get install openjdk-11-jdk-headless -qq > /dev/null\n",
        "# installs apache spark from the web with the command wget\n",
        "!wget -q https://archive.apache.org/dist/spark/spark-3.2.2/spark-3.2.2-bin-hadoop3.2.tgz\n",
        "#used to get a .tar archive of the spark \n",
        "!tar xf spark-3.2.2-bin-hadoop3.2.tgz\n",
        "# uses pip to install the findspark library on python\n",
        "!pip -q install findspark"
      ]
    },
    {
      "cell_type": "code",
      "execution_count": null,
      "metadata": {
        "colab": {
          "base_uri": "https://localhost:8080/"
        },
        "id": "bDTbRe9mF4Jx",
        "outputId": "733de07e-52d6-4ec1-e275-3758b029605d"
      },
      "outputs": [
        {
          "output_type": "stream",
          "name": "stdout",
          "text": [
            "openjdk version \"11.0.16\" 2022-07-19\n",
            "OpenJDK Runtime Environment (build 11.0.16+8-post-Ubuntu-0ubuntu118.04)\n",
            "OpenJDK 64-Bit Server VM (build 11.0.16+8-post-Ubuntu-0ubuntu118.04, mixed mode, sharing)\n"
          ]
        }
      ],
      "source": [
        "# make sure what version on java we got installed \n",
        "! java -version"
      ]
    },
    {
      "cell_type": "code",
      "execution_count": null,
      "metadata": {
        "id": "MlGo6CQiFHVP"
      },
      "outputs": [],
      "source": [
        "# import os and assign the environment variables of JAVA HOME & SPARK HOME\n",
        "import os\n",
        "os.environ[\"JAVA_HOME\"] = \"/usr/lib/jvm/java-11-openjdk-amd64\"\n",
        "os.environ[\"SPARK_HOME\"] = \"/content/spark-3.2.2-bin-hadoop3.2\""
      ]
    },
    {
      "cell_type": "code",
      "execution_count": null,
      "metadata": {
        "id": "WBP7STCmK-ru",
        "colab": {
          "base_uri": "https://localhost:8080/"
        },
        "outputId": "5e0aee0c-2b69-4eca-ab87-b67b2b27c941"
      },
      "outputs": [
        {
          "output_type": "stream",
          "name": "stdout",
          "text": [
            "\u001b[K     |████████████████████████████████| 281.4 MB 45 kB/s \n",
            "\u001b[K     |████████████████████████████████| 199 kB 63.3 MB/s \n",
            "\u001b[?25h  Building wheel for pyspark (setup.py) ... \u001b[?25l\u001b[?25hdone\n"
          ]
        }
      ],
      "source": [
        "# install the pyspark library to manage spark on python \n",
        "!pip -q install pyspark"
      ]
    },
    {
      "cell_type": "code",
      "execution_count": null,
      "metadata": {
        "colab": {
          "base_uri": "https://localhost:8080/"
        },
        "id": "0zCM53AzFHi0",
        "outputId": "bfbb4046-db75-4d49-cbb8-c231e0b622fc"
      },
      "outputs": [
        {
          "output_type": "stream",
          "name": "stdout",
          "text": [
            "\u001b[K     |████████████████████████████████| 1.0 MB 16.7 MB/s \n",
            "\u001b[K     |████████████████████████████████| 1.0 MB 58.8 MB/s \n",
            "\u001b[K     |████████████████████████████████| 67 kB 5.9 MB/s \n",
            "\u001b[K     |████████████████████████████████| 6.3 MB 57.7 MB/s \n",
            "\u001b[K     |████████████████████████████████| 16.7 MB 37.4 MB/s \n",
            "\u001b[?25h"
          ]
        }
      ],
      "source": [
        "# geopandas work with geoespacial data easier \n",
        "# attrs releives you from writing object protocols (bunker methods)\n",
        "# shapely for manipulation and analysis of planar geometric objects\n",
        "# rtree is a python wrapper for spatial indexing \n",
        "# apache sedona is a cluster computing system for processing large-scale spatial data\n",
        "!pip -q install geopandas attrs shapely rtree apache-sedona[spark]"
      ]
    },
    {
      "cell_type": "markdown",
      "source": [
        "Descarga de Bases de Datos Listas para el Análisis"
      ],
      "metadata": {
        "id": "pm8U3jwS1sGN"
      }
    },
    {
      "cell_type": "code",
      "source": [
        "#Descarga de Bases de Datos SCINCE 2020 y DENUE Mayo 2022\n",
        "# Get SCINCE database\n",
        "!gdown 1fLXusjBYsIxjvWolnmeaZXxKY4kaCjfL\n",
        "# Get DENUE database\n",
        "!gdown 1dWUkR4gxf8ngaF9y4mfn8OJmsIbAYYgP"
      ],
      "metadata": {
        "colab": {
          "base_uri": "https://localhost:8080/"
        },
        "id": "pGImqYqXHX7q",
        "outputId": "2b645638-2e8e-4728-ae3b-56795dcba2cb"
      },
      "execution_count": null,
      "outputs": [
        {
          "output_type": "stream",
          "name": "stdout",
          "text": [
            "Downloading...\n",
            "From: https://drive.google.com/uc?id=1fLXusjBYsIxjvWolnmeaZXxKY4kaCjfL\n",
            "To: /content/SCINCE_Parquets.zip\n",
            "100% 1.07G/1.07G [00:12<00:00, 84.2MB/s]\n",
            "Downloading...\n",
            "From: https://drive.google.com/uc?id=1dWUkR4gxf8ngaF9y4mfn8OJmsIbAYYgP\n",
            "To: /content/DENUE_Parquets.zip\n",
            "100% 486M/486M [00:05<00:00, 93.1MB/s]\n"
          ]
        }
      ]
    },
    {
      "cell_type": "markdown",
      "metadata": {
        "id": "GLN2kRDjREcB"
      },
      "source": [
        "Descompactar los Datos"
      ]
    },
    {
      "cell_type": "code",
      "execution_count": null,
      "metadata": {
        "colab": {
          "base_uri": "https://localhost:8080/"
        },
        "id": "oIZr5GwhRG1D",
        "outputId": "db66d6ea-32bb-4879-fc81-6fb201d24c29"
      },
      "outputs": [
        {
          "output_type": "stream",
          "name": "stdout",
          "text": [
            "/content/DENUE_Parquets.zip  /content/SCINCE_Parquets.zip\n"
          ]
        }
      ],
      "source": [
        "!ls /content/*.zip"
      ]
    },
    {
      "cell_type": "code",
      "execution_count": null,
      "metadata": {
        "id": "LhkTKoZcRgd9"
      },
      "outputs": [],
      "source": [
        "!unzip /content/DENUE_Parquets.zip -d /content/DENUE_Parquets/ &> /dev/null"
      ]
    },
    {
      "cell_type": "code",
      "execution_count": null,
      "metadata": {
        "id": "-G2Y00INSQbC"
      },
      "outputs": [],
      "source": [
        "!unzip /content/SCINCE_Parquets.zip -d /content/SCINCE_Parquets/ &> /dev/null"
      ]
    },
    {
      "cell_type": "code",
      "source": [
        "!ls /content/DENUE_Parquets"
      ],
      "metadata": {
        "colab": {
          "base_uri": "https://localhost:8080/"
        },
        "id": "Aj4fL_pw1C1Q",
        "outputId": "7c1ce2b5-7681-4ec1-9679-8c0531b99161"
      },
      "execution_count": null,
      "outputs": [
        {
          "output_type": "stream",
          "name": "stdout",
          "text": [
            "01.parquet  07.parquet\t13.parquet    18.parquet  24.parquet  30.parquet\n",
            "02.parquet  08.parquet\t14.parquet    19.parquet  25.parquet  31.parquet\n",
            "03.parquet  09.parquet\t15_1.parquet  20.parquet  26.parquet  32.parquet\n",
            "04.parquet  10.parquet\t15_2.parquet  21.parquet  27.parquet\n",
            "05.parquet  11.parquet\t16.parquet    22.parquet  28.parquet\n",
            "06.parquet  12.parquet\t17.parquet    23.parquet  29.parquet\n"
          ]
        }
      ]
    },
    {
      "cell_type": "code",
      "source": [
        "!ls /content/SCINCE_Parquets/SCINCE_Parquets"
      ],
      "metadata": {
        "colab": {
          "base_uri": "https://localhost:8080/"
        },
        "id": "0tQaasHGZtzA",
        "outputId": "d8ae43ca-945a-422d-d8fb-0be43022180c"
      },
      "execution_count": null,
      "outputs": [
        {
          "output_type": "stream",
          "name": "stdout",
          "text": [
            "01_AGS.parquet\t 09_CDMX.parquet  17_MOR.parquet    25_SIN.parquet\n",
            "02_BC.parquet\t 10_DGO.parquet   18_NAY.parquet    26_SON.parquet\n",
            "03_BCS.parquet\t 11_GTO.parquet   19_NL.parquet     27_TAB.parquet\n",
            "04_CAMP.parquet  12_GRO.parquet   20_OAX.parquet    28_TAMS.parquet\n",
            "05_COAH.parquet  13_HGO.parquet   21_PUE.parquet    29_TLAX.parquet\n",
            "06_COL.parquet\t 14_JAL.parquet   22_QRO.parquet    30_VER.parquet\n",
            "07_CHIS.parquet  15_MEX.parquet   23_Q_ROO.parquet  31_YUC.parquet\n",
            "08_CHIH.parquet  16_MICH.parquet  24_SLP.parquet    32_ZAC.parquet\n"
          ]
        }
      ]
    },
    {
      "cell_type": "markdown",
      "source": [
        "Inicio de Apache Spark y Apache Sedona"
      ],
      "metadata": {
        "id": "6GvLgMXF1L3h"
      }
    },
    {
      "cell_type": "code",
      "execution_count": null,
      "metadata": {
        "colab": {
          "base_uri": "https://localhost:8080/"
        },
        "id": "2RyhZF4HFf1J",
        "outputId": "021f7fd2-2a9e-4436-c45a-d4595be35b94"
      },
      "outputs": [
        {
          "output_type": "execute_result",
          "data": {
            "text/plain": [
              "True"
            ]
          },
          "metadata": {},
          "execution_count": 18
        }
      ],
      "source": [
        "# import the necessary libraries \n",
        "import findspark\n",
        "findspark.init()\n",
        "import shapely\n",
        "import pandas as pd \n",
        "import geopandas as gpd\n",
        "from pyspark.sql import SparkSession\n",
        "from pyspark import SparkContext\n",
        "from pyspark import SparkConf\n",
        "from sedona.register import SedonaRegistrator\n",
        "from sedona.utils import SedonaKryoRegistrator, KryoSerializer\n",
        "spark = SparkSession. \\\n",
        "builder. \\\n",
        "appName('GeoBigData'). \\\n",
        "config(\"spark.serializer\", KryoSerializer.getName). \\\n",
        "config(\"spark.executor.memory\", \"5g\"). \\\n",
        "config(\"spark.driver.memory\", \"10g\"). \\\n",
        "config('spark.driver.maxResultSize', '5g'). \\\n",
        "config(\"spark.kryo.registrator\", SedonaKryoRegistrator.getName). \\\n",
        "config('spark.jars.packages',\n",
        "           'org.apache.sedona:sedona-python-adapter-3.0_2.12:1.2.0-incubating,'\n",
        "           'org.datasyslab:geotools-wrapper:1.1.0-25.2'). \\\n",
        "getOrCreate()\n",
        "SedonaRegistrator.registerAll(spark)"
      ]
    },
    {
      "cell_type": "markdown",
      "metadata": {
        "id": "l_2ojrBdQHUz"
      },
      "source": [
        "Leer Datos"
      ]
    },
    {
      "cell_type": "code",
      "execution_count": null,
      "metadata": {
        "colab": {
          "base_uri": "https://localhost:8080/"
        },
        "id": "ut387qQlaF-E",
        "outputId": "381d181f-150c-470d-e6fc-81ec0373ed60"
      },
      "outputs": [
        {
          "output_type": "stream",
          "name": "stdout",
          "text": [
            "root\n",
            " |-- CVEGEO: string (nullable = true)\n",
            " |-- VIV17_R: double (nullable = true)\n",
            " |-- VIV18_R: double (nullable = true)\n",
            " |-- VIV23_R: double (nullable = true)\n",
            " |-- VIV24_R: double (nullable = true)\n",
            " |-- VIV25_R: double (nullable = true)\n",
            " |-- geometry: geometry (nullable = true)\n",
            "\n",
            "+----------------+-------+-------+-------+-------+-------+--------------------+\n",
            "|          CVEGEO|VIV17_R|VIV18_R|VIV23_R|VIV24_R|VIV25_R|            geometry|\n",
            "+----------------+-------+-------+-------+-------+-------+--------------------+\n",
            "|1900100010021003|  100.0|    0.0|  100.0|    0.0|  100.0|POLYGON ((2660122...|\n",
            "|1900100010021004|  100.0|    0.0|  100.0|    0.0|  100.0|POLYGON ((2659382...|\n",
            "|1900100010021009|  100.0|    0.0|  100.0|    0.0|  100.0|POLYGON ((2659967...|\n",
            "|1900100010021010|  100.0|    0.0|  100.0|    0.0|  100.0|POLYGON ((2660118...|\n",
            "|1900100010021012|  100.0|    0.0|  100.0|    0.0|  100.0|POLYGON ((2659492...|\n",
            "|1900100010021014|  100.0|    0.0|  100.0|    0.0|  100.0|POLYGON ((2659889...|\n",
            "|1900100010021015|  100.0|    0.0|  100.0|    0.0|  100.0|POLYGON ((2659985...|\n",
            "|1900100010021016|   -8.0|   -8.0|   -8.0|   -8.0|   -8.0|POLYGON ((2659648...|\n",
            "|1900100010021019|  100.0|    0.0|  100.0|    0.0|  100.0|POLYGON ((2659661...|\n",
            "|1900100010021024|  100.0|    0.0|  100.0|    0.0|  100.0|POLYGON ((2659553...|\n",
            "|1900100010021032|   -8.0|   -8.0|   -8.0|   -8.0|   -8.0|POLYGON ((2659722...|\n",
            "|1900100010021034|   -6.0|   -6.0|   -6.0|   -6.0|   -6.0|POLYGON ((2659438...|\n",
            "|1900100010021040|  100.0|    0.0|  100.0|    0.0|  100.0|POLYGON ((2659578...|\n",
            "|1900100010021049|  100.0|    0.0|  100.0|    0.0|  100.0|POLYGON ((2659844...|\n",
            "|1900100010021052|   -6.0|   -6.0|   -6.0|   -6.0|   -6.0|POLYGON ((2659854...|\n",
            "|1900100010036001|   -6.0|   -6.0|   -6.0|   -6.0|   -6.0|POLYGON ((2660034...|\n",
            "|1900100010036008|   -8.0|   -8.0|   -8.0|   -8.0|   -8.0|POLYGON ((2660596...|\n",
            "|1900100010036009|  100.0|    0.0|  100.0|    0.0|  100.0|POLYGON ((2660714...|\n",
            "|1900100010036011|  100.0|    0.0|  100.0|    0.0|  100.0|POLYGON ((2660803...|\n",
            "|1900100010036013|   -8.0|   -8.0|   -8.0|   -8.0|   -8.0|POLYGON ((2660958...|\n",
            "+----------------+-------+-------+-------+-------+-------+--------------------+\n",
            "only showing top 20 rows\n",
            "\n"
          ]
        }
      ],
      "source": [
        "BD_MANZANAS = spark.read.parquet(f\"/content/SCINCE_Parquets/SCINCE_Parquets/19_NL.parquet\")\n",
        "# Nuestras variables \n",
        "# VIV17_R Porcentaje de viviendas que tiene agua entubada  \n",
        "# VIV18_R Porcentaje de viviendas que NO tienen agua entubada \n",
        "# VIV23_R Porcentaje de viviendas que tienen drenaje \n",
        "# VIV24_R Porcentaje de viviendas que NO tienen drenaje \n",
        "# VIV25_R Porcentaje de viviendas que tienen drenaje, red electrica y agua entubada. \n",
        "\n",
        "BD_MANZANAS_VVVVV = BD_MANZANAS.select('CVEGEO', 'VIV17_R', 'VIV18_R', 'VIV23_R', 'VIV24_R', 'VIV25_R', 'geometry')\n",
        "BD_MANZANAS_VVVVV.cache()\n",
        "BD_MANZANAS_VVVVV.printSchema()\n",
        "BD_MANZANAS_VVVVV.show()"
      ]
    },
    {
      "cell_type": "code",
      "execution_count": null,
      "metadata": {
        "id": "gPD2yRXja56L"
      },
      "outputs": [],
      "source": [
        "BD_MANZANAS_VVVVV.createOrReplaceTempView(\"manzanas\")"
      ]
    },
    {
      "cell_type": "code",
      "execution_count": null,
      "metadata": {
        "colab": {
          "base_uri": "https://localhost:8080/"
        },
        "id": "q0cMVBuBa8rn",
        "outputId": "e2b2c114-1db3-4e66-b273-5c0e7342b004"
      },
      "outputs": [
        {
          "output_type": "stream",
          "name": "stdout",
          "text": [
            "+----------------+-------+-------+-------+-------+-------+--------------------+\n",
            "|          CVEGEO|VIV17_R|VIV18_R|VIV23_R|VIV24_R|VIV25_R|            geometry|\n",
            "+----------------+-------+-------+-------+-------+-------+--------------------+\n",
            "|1900100010021003|  100.0|    0.0|  100.0|    0.0|  100.0|POLYGON ((2660122...|\n",
            "|1900100010021004|  100.0|    0.0|  100.0|    0.0|  100.0|POLYGON ((2659382...|\n",
            "|1900100010021009|  100.0|    0.0|  100.0|    0.0|  100.0|POLYGON ((2659967...|\n",
            "|1900100010021010|  100.0|    0.0|  100.0|    0.0|  100.0|POLYGON ((2660118...|\n",
            "|1900100010021012|  100.0|    0.0|  100.0|    0.0|  100.0|POLYGON ((2659492...|\n",
            "|1900100010021014|  100.0|    0.0|  100.0|    0.0|  100.0|POLYGON ((2659889...|\n",
            "|1900100010021015|  100.0|    0.0|  100.0|    0.0|  100.0|POLYGON ((2659985...|\n",
            "|1900100010021016|    0.0|    0.0|    0.0|    0.0|    0.0|POLYGON ((2659648...|\n",
            "|1900100010021019|  100.0|    0.0|  100.0|    0.0|  100.0|POLYGON ((2659661...|\n",
            "|1900100010021024|  100.0|    0.0|  100.0|    0.0|  100.0|POLYGON ((2659553...|\n",
            "|1900100010021032|    0.0|    0.0|    0.0|    0.0|    0.0|POLYGON ((2659722...|\n",
            "|1900100010021034|    0.0|    0.0|    0.0|    0.0|    0.0|POLYGON ((2659438...|\n",
            "|1900100010021040|  100.0|    0.0|  100.0|    0.0|  100.0|POLYGON ((2659578...|\n",
            "|1900100010021049|  100.0|    0.0|  100.0|    0.0|  100.0|POLYGON ((2659844...|\n",
            "|1900100010021052|    0.0|    0.0|    0.0|    0.0|    0.0|POLYGON ((2659854...|\n",
            "|1900100010036001|    0.0|    0.0|    0.0|    0.0|    0.0|POLYGON ((2660034...|\n",
            "|1900100010036008|    0.0|    0.0|    0.0|    0.0|    0.0|POLYGON ((2660596...|\n",
            "|1900100010036009|  100.0|    0.0|  100.0|    0.0|  100.0|POLYGON ((2660714...|\n",
            "|1900100010036011|  100.0|    0.0|  100.0|    0.0|  100.0|POLYGON ((2660803...|\n",
            "|1900100010036013|    0.0|    0.0|    0.0|    0.0|    0.0|POLYGON ((2660958...|\n",
            "+----------------+-------+-------+-------+-------+-------+--------------------+\n",
            "only showing top 20 rows\n",
            "\n"
          ]
        }
      ],
      "source": [
        "BD_MZA_VVVVV_CORREGIDO = spark.sql(\"\"\"select \n",
        "                                  CVEGEO,\n",
        "                                  if( (isnull(VIV17_R) or VIV17_R < 0 ), 0, VIV17_R) as VIV17_R, \n",
        "                                  if( (isnull(VIV18_R) or VIV18_R < 0 ), 0, VIV18_R) as VIV18_R,\n",
        "                                  if( (isnull(VIV23_R) or VIV23_R < 0 ), 0, VIV23_R) as VIV23_R,\n",
        "                                  if( (isnull(VIV24_R) or VIV24_R < 0 ), 0, VIV24_R) as VIV24_R,\n",
        "                                  if( (isnull(VIV25_R) or VIV25_R < 0 ), 0, VIV25_R) as VIV25_R,                                  \n",
        "                                  geometry\n",
        "                             from manzanas \"\"\")\n",
        "\n",
        "BD_MZA_VVVVV_CORREGIDO.cache()\n",
        "BD_MZA_VVVVV_CORREGIDO.show()"
      ]
    },
    {
      "cell_type": "code",
      "execution_count": null,
      "metadata": {
        "colab": {
          "base_uri": "https://localhost:8080/"
        },
        "id": "6nj9t03kbPo2",
        "outputId": "62b4313e-9e2e-4500-c350-5b74fe06bec8"
      },
      "outputs": [
        {
          "output_type": "stream",
          "name": "stdout",
          "text": [
            "+----------------+-------+-------+-------+-------+-------+--------------------+--------------------+\n",
            "|          CVEGEO|VIV17_R|VIV18_R|VIV23_R|VIV24_R|VIV25_R|            geometry|            features|\n",
            "+----------------+-------+-------+-------+-------+-------+--------------------+--------------------+\n",
            "|1900100010021003|  100.0|    0.0|  100.0|    0.0|  100.0|POLYGON ((2660122...|[100.0,0.0,100.0,...|\n",
            "|1900100010021004|  100.0|    0.0|  100.0|    0.0|  100.0|POLYGON ((2659382...|[100.0,0.0,100.0,...|\n",
            "|1900100010021009|  100.0|    0.0|  100.0|    0.0|  100.0|POLYGON ((2659967...|[100.0,0.0,100.0,...|\n",
            "|1900100010021010|  100.0|    0.0|  100.0|    0.0|  100.0|POLYGON ((2660118...|[100.0,0.0,100.0,...|\n",
            "|1900100010021012|  100.0|    0.0|  100.0|    0.0|  100.0|POLYGON ((2659492...|[100.0,0.0,100.0,...|\n",
            "|1900100010021014|  100.0|    0.0|  100.0|    0.0|  100.0|POLYGON ((2659889...|[100.0,0.0,100.0,...|\n",
            "|1900100010021015|  100.0|    0.0|  100.0|    0.0|  100.0|POLYGON ((2659985...|[100.0,0.0,100.0,...|\n",
            "|1900100010021016|    0.0|    0.0|    0.0|    0.0|    0.0|POLYGON ((2659648...|           (5,[],[])|\n",
            "|1900100010021019|  100.0|    0.0|  100.0|    0.0|  100.0|POLYGON ((2659661...|[100.0,0.0,100.0,...|\n",
            "|1900100010021024|  100.0|    0.0|  100.0|    0.0|  100.0|POLYGON ((2659553...|[100.0,0.0,100.0,...|\n",
            "|1900100010021032|    0.0|    0.0|    0.0|    0.0|    0.0|POLYGON ((2659722...|           (5,[],[])|\n",
            "|1900100010021034|    0.0|    0.0|    0.0|    0.0|    0.0|POLYGON ((2659438...|           (5,[],[])|\n",
            "|1900100010021040|  100.0|    0.0|  100.0|    0.0|  100.0|POLYGON ((2659578...|[100.0,0.0,100.0,...|\n",
            "|1900100010021049|  100.0|    0.0|  100.0|    0.0|  100.0|POLYGON ((2659844...|[100.0,0.0,100.0,...|\n",
            "|1900100010021052|    0.0|    0.0|    0.0|    0.0|    0.0|POLYGON ((2659854...|           (5,[],[])|\n",
            "|1900100010036001|    0.0|    0.0|    0.0|    0.0|    0.0|POLYGON ((2660034...|           (5,[],[])|\n",
            "|1900100010036008|    0.0|    0.0|    0.0|    0.0|    0.0|POLYGON ((2660596...|           (5,[],[])|\n",
            "|1900100010036009|  100.0|    0.0|  100.0|    0.0|  100.0|POLYGON ((2660714...|[100.0,0.0,100.0,...|\n",
            "|1900100010036011|  100.0|    0.0|  100.0|    0.0|  100.0|POLYGON ((2660803...|[100.0,0.0,100.0,...|\n",
            "|1900100010036013|    0.0|    0.0|    0.0|    0.0|    0.0|POLYGON ((2660958...|           (5,[],[])|\n",
            "+----------------+-------+-------+-------+-------+-------+--------------------+--------------------+\n",
            "only showing top 20 rows\n",
            "\n"
          ]
        }
      ],
      "source": [
        "from pyspark.ml.feature import VectorAssembler\n",
        "from pyspark.ml.clustering import KMeans\n",
        "\n",
        "vecAssembler = VectorAssembler(inputCols=[\"VIV17_R\", \"VIV18_R\", \"VIV23_R\", \"VIV24_R\", \"VIV25_R\"], outputCol=\"features\")\n",
        "BD_MZA_VVVVV_CORREGIDO_VEC = vecAssembler.transform(BD_MZA_VVVVV_CORREGIDO)\n",
        "BD_MZA_VVVVV_CORREGIDO_VEC.cache()\n",
        "BD_MZA_VVVVV_CORREGIDO_VEC.show()"
      ]
    },
    {
      "cell_type": "code",
      "execution_count": null,
      "metadata": {
        "colab": {
          "base_uri": "https://localhost:8080/"
        },
        "id": "8U_hIPZ_bZOr",
        "outputId": "1937ef84-6d96-470c-c952-6d95d86a87f2"
      },
      "outputs": [
        {
          "output_type": "stream",
          "name": "stdout",
          "text": [
            "+----------------+-------+-------+-------+-------+-------+--------------------+--------------------+----------+\n",
            "|          CVEGEO|VIV17_R|VIV18_R|VIV23_R|VIV24_R|VIV25_R|            geometry|            features|prediction|\n",
            "+----------------+-------+-------+-------+-------+-------+--------------------+--------------------+----------+\n",
            "|1900100010021003|  100.0|    0.0|  100.0|    0.0|  100.0|POLYGON ((2660122...|[100.0,0.0,100.0,...|         0|\n",
            "|1900100010021004|  100.0|    0.0|  100.0|    0.0|  100.0|POLYGON ((2659382...|[100.0,0.0,100.0,...|         0|\n",
            "|1900100010021009|  100.0|    0.0|  100.0|    0.0|  100.0|POLYGON ((2659967...|[100.0,0.0,100.0,...|         0|\n",
            "|1900100010021010|  100.0|    0.0|  100.0|    0.0|  100.0|POLYGON ((2660118...|[100.0,0.0,100.0,...|         0|\n",
            "|1900100010021012|  100.0|    0.0|  100.0|    0.0|  100.0|POLYGON ((2659492...|[100.0,0.0,100.0,...|         0|\n",
            "|1900100010021014|  100.0|    0.0|  100.0|    0.0|  100.0|POLYGON ((2659889...|[100.0,0.0,100.0,...|         0|\n",
            "|1900100010021015|  100.0|    0.0|  100.0|    0.0|  100.0|POLYGON ((2659985...|[100.0,0.0,100.0,...|         0|\n",
            "|1900100010021016|    0.0|    0.0|    0.0|    0.0|    0.0|POLYGON ((2659648...|           (5,[],[])|         1|\n",
            "|1900100010021019|  100.0|    0.0|  100.0|    0.0|  100.0|POLYGON ((2659661...|[100.0,0.0,100.0,...|         0|\n",
            "|1900100010021024|  100.0|    0.0|  100.0|    0.0|  100.0|POLYGON ((2659553...|[100.0,0.0,100.0,...|         0|\n",
            "|1900100010021032|    0.0|    0.0|    0.0|    0.0|    0.0|POLYGON ((2659722...|           (5,[],[])|         1|\n",
            "|1900100010021034|    0.0|    0.0|    0.0|    0.0|    0.0|POLYGON ((2659438...|           (5,[],[])|         1|\n",
            "|1900100010021040|  100.0|    0.0|  100.0|    0.0|  100.0|POLYGON ((2659578...|[100.0,0.0,100.0,...|         0|\n",
            "|1900100010021049|  100.0|    0.0|  100.0|    0.0|  100.0|POLYGON ((2659844...|[100.0,0.0,100.0,...|         0|\n",
            "|1900100010021052|    0.0|    0.0|    0.0|    0.0|    0.0|POLYGON ((2659854...|           (5,[],[])|         1|\n",
            "|1900100010036001|    0.0|    0.0|    0.0|    0.0|    0.0|POLYGON ((2660034...|           (5,[],[])|         1|\n",
            "|1900100010036008|    0.0|    0.0|    0.0|    0.0|    0.0|POLYGON ((2660596...|           (5,[],[])|         1|\n",
            "|1900100010036009|  100.0|    0.0|  100.0|    0.0|  100.0|POLYGON ((2660714...|[100.0,0.0,100.0,...|         0|\n",
            "|1900100010036011|  100.0|    0.0|  100.0|    0.0|  100.0|POLYGON ((2660803...|[100.0,0.0,100.0,...|         0|\n",
            "|1900100010036013|    0.0|    0.0|    0.0|    0.0|    0.0|POLYGON ((2660958...|           (5,[],[])|         1|\n",
            "+----------------+-------+-------+-------+-------+-------+--------------------+--------------------+----------+\n",
            "only showing top 20 rows\n",
            "\n"
          ]
        }
      ],
      "source": [
        "kmeans = KMeans(k=3, seed=1, maxIter=250) \n",
        "model = kmeans.fit(BD_MZA_VVVVV_CORREGIDO_VEC.select('features'))\n",
        "transformed = model.transform(BD_MZA_VVVVV_CORREGIDO_VEC)\n",
        "transformed.show()"
      ]
    },
    {
      "cell_type": "code",
      "source": [
        "transformed_df = transformed.toPandas()\n",
        "transformed_df.head()"
      ],
      "metadata": {
        "colab": {
          "base_uri": "https://localhost:8080/",
          "height": 337
        },
        "id": "my3y8EsGkvky",
        "outputId": "83ea50f7-7bc3-408e-b840-8edeebcc082a"
      },
      "execution_count": null,
      "outputs": [
        {
          "output_type": "execute_result",
          "data": {
            "text/plain": [
              "             CVEGEO  VIV17_R  VIV18_R  VIV23_R  VIV24_R  VIV25_R  \\\n",
              "0  1900100010021003    100.0      0.0    100.0      0.0    100.0   \n",
              "1  1900100010021004    100.0      0.0    100.0      0.0    100.0   \n",
              "2  1900100010021009    100.0      0.0    100.0      0.0    100.0   \n",
              "3  1900100010021010    100.0      0.0    100.0      0.0    100.0   \n",
              "4  1900100010021012    100.0      0.0    100.0      0.0    100.0   \n",
              "\n",
              "                                            geometry  \\\n",
              "0  POLYGON ((2660122.713600002 1545140.4112000018...   \n",
              "1  POLYGON ((2659382.2437999994 1545032.092000000...   \n",
              "2  POLYGON ((2659967.5650999993 1545076.190099999...   \n",
              "3  POLYGON ((2660118.3082000017 1545008.925700001...   \n",
              "4  POLYGON ((2659492.5195000023 1545005.809500001...   \n",
              "\n",
              "                          features  prediction  \n",
              "0  [100.0, 0.0, 100.0, 0.0, 100.0]           0  \n",
              "1  [100.0, 0.0, 100.0, 0.0, 100.0]           0  \n",
              "2  [100.0, 0.0, 100.0, 0.0, 100.0]           0  \n",
              "3  [100.0, 0.0, 100.0, 0.0, 100.0]           0  \n",
              "4  [100.0, 0.0, 100.0, 0.0, 100.0]           0  "
            ],
            "text/html": [
              "\n",
              "  <div id=\"df-65224554-4090-4d38-a26e-3ce624d3d7e7\">\n",
              "    <div class=\"colab-df-container\">\n",
              "      <div>\n",
              "<style scoped>\n",
              "    .dataframe tbody tr th:only-of-type {\n",
              "        vertical-align: middle;\n",
              "    }\n",
              "\n",
              "    .dataframe tbody tr th {\n",
              "        vertical-align: top;\n",
              "    }\n",
              "\n",
              "    .dataframe thead th {\n",
              "        text-align: right;\n",
              "    }\n",
              "</style>\n",
              "<table border=\"1\" class=\"dataframe\">\n",
              "  <thead>\n",
              "    <tr style=\"text-align: right;\">\n",
              "      <th></th>\n",
              "      <th>CVEGEO</th>\n",
              "      <th>VIV17_R</th>\n",
              "      <th>VIV18_R</th>\n",
              "      <th>VIV23_R</th>\n",
              "      <th>VIV24_R</th>\n",
              "      <th>VIV25_R</th>\n",
              "      <th>geometry</th>\n",
              "      <th>features</th>\n",
              "      <th>prediction</th>\n",
              "    </tr>\n",
              "  </thead>\n",
              "  <tbody>\n",
              "    <tr>\n",
              "      <th>0</th>\n",
              "      <td>1900100010021003</td>\n",
              "      <td>100.0</td>\n",
              "      <td>0.0</td>\n",
              "      <td>100.0</td>\n",
              "      <td>0.0</td>\n",
              "      <td>100.0</td>\n",
              "      <td>POLYGON ((2660122.713600002 1545140.4112000018...</td>\n",
              "      <td>[100.0, 0.0, 100.0, 0.0, 100.0]</td>\n",
              "      <td>0</td>\n",
              "    </tr>\n",
              "    <tr>\n",
              "      <th>1</th>\n",
              "      <td>1900100010021004</td>\n",
              "      <td>100.0</td>\n",
              "      <td>0.0</td>\n",
              "      <td>100.0</td>\n",
              "      <td>0.0</td>\n",
              "      <td>100.0</td>\n",
              "      <td>POLYGON ((2659382.2437999994 1545032.092000000...</td>\n",
              "      <td>[100.0, 0.0, 100.0, 0.0, 100.0]</td>\n",
              "      <td>0</td>\n",
              "    </tr>\n",
              "    <tr>\n",
              "      <th>2</th>\n",
              "      <td>1900100010021009</td>\n",
              "      <td>100.0</td>\n",
              "      <td>0.0</td>\n",
              "      <td>100.0</td>\n",
              "      <td>0.0</td>\n",
              "      <td>100.0</td>\n",
              "      <td>POLYGON ((2659967.5650999993 1545076.190099999...</td>\n",
              "      <td>[100.0, 0.0, 100.0, 0.0, 100.0]</td>\n",
              "      <td>0</td>\n",
              "    </tr>\n",
              "    <tr>\n",
              "      <th>3</th>\n",
              "      <td>1900100010021010</td>\n",
              "      <td>100.0</td>\n",
              "      <td>0.0</td>\n",
              "      <td>100.0</td>\n",
              "      <td>0.0</td>\n",
              "      <td>100.0</td>\n",
              "      <td>POLYGON ((2660118.3082000017 1545008.925700001...</td>\n",
              "      <td>[100.0, 0.0, 100.0, 0.0, 100.0]</td>\n",
              "      <td>0</td>\n",
              "    </tr>\n",
              "    <tr>\n",
              "      <th>4</th>\n",
              "      <td>1900100010021012</td>\n",
              "      <td>100.0</td>\n",
              "      <td>0.0</td>\n",
              "      <td>100.0</td>\n",
              "      <td>0.0</td>\n",
              "      <td>100.0</td>\n",
              "      <td>POLYGON ((2659492.5195000023 1545005.809500001...</td>\n",
              "      <td>[100.0, 0.0, 100.0, 0.0, 100.0]</td>\n",
              "      <td>0</td>\n",
              "    </tr>\n",
              "  </tbody>\n",
              "</table>\n",
              "</div>\n",
              "      <button class=\"colab-df-convert\" onclick=\"convertToInteractive('df-65224554-4090-4d38-a26e-3ce624d3d7e7')\"\n",
              "              title=\"Convert this dataframe to an interactive table.\"\n",
              "              style=\"display:none;\">\n",
              "        \n",
              "  <svg xmlns=\"http://www.w3.org/2000/svg\" height=\"24px\"viewBox=\"0 0 24 24\"\n",
              "       width=\"24px\">\n",
              "    <path d=\"M0 0h24v24H0V0z\" fill=\"none\"/>\n",
              "    <path d=\"M18.56 5.44l.94 2.06.94-2.06 2.06-.94-2.06-.94-.94-2.06-.94 2.06-2.06.94zm-11 1L8.5 8.5l.94-2.06 2.06-.94-2.06-.94L8.5 2.5l-.94 2.06-2.06.94zm10 10l.94 2.06.94-2.06 2.06-.94-2.06-.94-.94-2.06-.94 2.06-2.06.94z\"/><path d=\"M17.41 7.96l-1.37-1.37c-.4-.4-.92-.59-1.43-.59-.52 0-1.04.2-1.43.59L10.3 9.45l-7.72 7.72c-.78.78-.78 2.05 0 2.83L4 21.41c.39.39.9.59 1.41.59.51 0 1.02-.2 1.41-.59l7.78-7.78 2.81-2.81c.8-.78.8-2.07 0-2.86zM5.41 20L4 18.59l7.72-7.72 1.47 1.35L5.41 20z\"/>\n",
              "  </svg>\n",
              "      </button>\n",
              "      \n",
              "  <style>\n",
              "    .colab-df-container {\n",
              "      display:flex;\n",
              "      flex-wrap:wrap;\n",
              "      gap: 12px;\n",
              "    }\n",
              "\n",
              "    .colab-df-convert {\n",
              "      background-color: #E8F0FE;\n",
              "      border: none;\n",
              "      border-radius: 50%;\n",
              "      cursor: pointer;\n",
              "      display: none;\n",
              "      fill: #1967D2;\n",
              "      height: 32px;\n",
              "      padding: 0 0 0 0;\n",
              "      width: 32px;\n",
              "    }\n",
              "\n",
              "    .colab-df-convert:hover {\n",
              "      background-color: #E2EBFA;\n",
              "      box-shadow: 0px 1px 2px rgba(60, 64, 67, 0.3), 0px 1px 3px 1px rgba(60, 64, 67, 0.15);\n",
              "      fill: #174EA6;\n",
              "    }\n",
              "\n",
              "    [theme=dark] .colab-df-convert {\n",
              "      background-color: #3B4455;\n",
              "      fill: #D2E3FC;\n",
              "    }\n",
              "\n",
              "    [theme=dark] .colab-df-convert:hover {\n",
              "      background-color: #434B5C;\n",
              "      box-shadow: 0px 1px 3px 1px rgba(0, 0, 0, 0.15);\n",
              "      filter: drop-shadow(0px 1px 2px rgba(0, 0, 0, 0.3));\n",
              "      fill: #FFFFFF;\n",
              "    }\n",
              "  </style>\n",
              "\n",
              "      <script>\n",
              "        const buttonEl =\n",
              "          document.querySelector('#df-65224554-4090-4d38-a26e-3ce624d3d7e7 button.colab-df-convert');\n",
              "        buttonEl.style.display =\n",
              "          google.colab.kernel.accessAllowed ? 'block' : 'none';\n",
              "\n",
              "        async function convertToInteractive(key) {\n",
              "          const element = document.querySelector('#df-65224554-4090-4d38-a26e-3ce624d3d7e7');\n",
              "          const dataTable =\n",
              "            await google.colab.kernel.invokeFunction('convertToInteractive',\n",
              "                                                     [key], {});\n",
              "          if (!dataTable) return;\n",
              "\n",
              "          const docLinkHtml = 'Like what you see? Visit the ' +\n",
              "            '<a target=\"_blank\" href=https://colab.research.google.com/notebooks/data_table.ipynb>data table notebook</a>'\n",
              "            + ' to learn more about interactive tables.';\n",
              "          element.innerHTML = '';\n",
              "          dataTable['output_type'] = 'display_data';\n",
              "          await google.colab.output.renderOutput(dataTable, element);\n",
              "          const docLink = document.createElement('div');\n",
              "          docLink.innerHTML = docLinkHtml;\n",
              "          element.appendChild(docLink);\n",
              "        }\n",
              "      </script>\n",
              "    </div>\n",
              "  </div>\n",
              "  "
            ]
          },
          "metadata": {},
          "execution_count": 25
        }
      ]
    },
    {
      "cell_type": "code",
      "source": [
        "transformed_df.to_csv(\"transformed.csv\")"
      ],
      "metadata": {
        "id": "PUoof_pg-3GF"
      },
      "execution_count": null,
      "outputs": []
    },
    {
      "cell_type": "code",
      "source": [
        "import numpy as np\n",
        "from scipy import stats\n",
        "\n",
        "#VIV17_R estadisticos\n",
        "viv17 = transformed_df[\"VIV17_R\"]\n",
        "mean_viv17 = np.average(viv17)\n",
        "median_viv17 = np.median(viv17)\n",
        "mode_viv17 = stats.mode(viv17)\n",
        "sd_viv17 = np.std(viv17)\n",
        "print(\"Promedio VIV17_R\",mean_viv17)\n",
        "print(\"Mediana VIV17_R\", median_viv17)\n",
        "print(\"Moda VIV17_R\", mode_viv17)\n",
        "print(\"Desviación estándar VIV17_R\",sd_viv17)"
      ],
      "metadata": {
        "colab": {
          "base_uri": "https://localhost:8080/"
        },
        "id": "wXkaSnZPoAY5",
        "outputId": "ecd3acc5-7ea5-43fd-8900-e6915074686f"
      },
      "execution_count": null,
      "outputs": [
        {
          "output_type": "stream",
          "name": "stdout",
          "text": [
            "Promedio VIV17_R 79.17777258263523\n",
            "Mediana VIV17_R 100.0\n",
            "Moda VIV17_R ModeResult(mode=array([100.]), count=array([58501]))\n",
            "Desviación estándar VIV17_R 40.26508107944985\n"
          ]
        }
      ]
    },
    {
      "cell_type": "code",
      "source": [
        "#VIV18_R estadisticos\n",
        "viv18 = transformed_df[\"VIV18_R\"]\n",
        "mean_viv18 = np.average(viv18)\n",
        "median_viv18 = np.median(viv18)\n",
        "mode_viv18 = stats.mode(viv18)\n",
        "sd_viv18 = np.std(viv18)\n",
        "print(\"Promedio VIV18_R\",mean_viv18)\n",
        "print(\"Mediana VIV18_R\", median_viv18)\n",
        "print(\"Moda VIV18_R\", mode_viv18)\n",
        "print(\"Desviación estándar VIV18_R\",sd_viv18)"
      ],
      "metadata": {
        "colab": {
          "base_uri": "https://localhost:8080/"
        },
        "id": "ROaxFHkrwEDe",
        "outputId": "2187477e-853b-41fb-8215-d09587cb51f2"
      },
      "execution_count": null,
      "outputs": [
        {
          "output_type": "stream",
          "name": "stdout",
          "text": [
            "Promedio VIV18_R 0.15583609325280862\n",
            "Mediana VIV18_R 0.0\n",
            "Moda VIV18_R ModeResult(mode=array([0.]), count=array([76733]))\n",
            "Desviación estándar VIV18_R 3.2545644391086945\n"
          ]
        }
      ]
    },
    {
      "cell_type": "code",
      "source": [
        "#VIV23_R estadisticos\n",
        "viv23 = transformed_df[\"VIV23_R\"]\n",
        "mean_viv23 = np.average(viv23)\n",
        "median_viv23 = np.median(viv23)\n",
        "mode_viv23 = stats.mode(viv23)\n",
        "sd_viv23 = np.std(viv23)\n",
        "print(\"Promedio VIV23_R\",mean_viv23)\n",
        "print(\"Mediana VIV23_R\", median_viv23)\n",
        "print(\"Moda VIV23_R\", mode_viv23)\n",
        "print(\"Desviación estándar VIV23_R\",sd_viv23)"
      ],
      "metadata": {
        "id": "UVMIqIYyxJWu",
        "colab": {
          "base_uri": "https://localhost:8080/"
        },
        "outputId": "4a4ecb46-0b1d-4471-f772-89d0f19c7b9d"
      },
      "execution_count": null,
      "outputs": [
        {
          "output_type": "stream",
          "name": "stdout",
          "text": [
            "Promedio VIV23_R 79.14974089226574\n",
            "Mediana VIV23_R 100.0\n",
            "Moda VIV23_R ModeResult(mode=array([100.]), count=array([58294]))\n",
            "Desviación estándar VIV23_R 40.23050854203673\n"
          ]
        }
      ]
    },
    {
      "cell_type": "code",
      "source": [
        "#VIV24_R estadisticos\n",
        "viv24 = transformed_df[\"VIV24_R\"]\n",
        "mean_viv24 = np.average(viv24)\n",
        "median_viv24 = np.median(viv24)\n",
        "mode_viv24 = stats.mode(viv24)\n",
        "sd_viv24 = np.std(viv24)\n",
        "print(\"Promedio VIV24_R\",mean_viv24)\n",
        "print(\"Mediana VIV24_R\", median_viv24)\n",
        "print(\"Moda VIV24_R\", mode_viv24)\n",
        "print(\"Desviación estándar VIV24_R\",sd_viv24)"
      ],
      "metadata": {
        "colab": {
          "base_uri": "https://localhost:8080/"
        },
        "id": "70E4kU0j6D2N",
        "outputId": "d15f4b33-a682-4f82-9e57-3dc9e1ec93a2"
      },
      "execution_count": null,
      "outputs": [
        {
          "output_type": "stream",
          "name": "stdout",
          "text": [
            "Promedio VIV24_R 0.11244236638742776\n",
            "Mediana VIV24_R 0.0\n",
            "Moda VIV24_R ModeResult(mode=array([0.]), count=array([76755]))\n",
            "Desviación estándar VIV24_R 2.48085765827168\n"
          ]
        }
      ]
    },
    {
      "cell_type": "code",
      "source": [
        "#VIV25_R estadisticos\n",
        "viv25 = transformed_df[\"VIV25_R\"]\n",
        "mean_viv25 = np.average(viv25)\n",
        "median_viv25 = np.median(viv25)\n",
        "mode_viv25 = stats.mode(viv25)\n",
        "sd_viv25 = np.std(viv25)\n",
        "print(\"Promedio VIV25_R\",mean_viv25)\n",
        "print(\"Mediana VIV25_R\", median_viv25)\n",
        "print(\"Moda VIV25_R\", mode_viv25)\n",
        "print(\"Desviación estándar VIV25_R\",sd_viv25)"
      ],
      "metadata": {
        "colab": {
          "base_uri": "https://localhost:8080/"
        },
        "id": "EVbpRyt-7GW1",
        "outputId": "8a3a1eb8-75bf-4d4c-9a7a-e7e33f300e19"
      },
      "execution_count": null,
      "outputs": [
        {
          "output_type": "stream",
          "name": "stdout",
          "text": [
            "Promedio VIV25_R 78.80074550295475\n",
            "Mediana VIV25_R 100.0\n",
            "Moda VIV25_R ModeResult(mode=array([100.]), count=array([56372]))\n",
            "Desviación estándar VIV25_R 40.30157200709878\n"
          ]
        }
      ]
    },
    {
      "cell_type": "code",
      "source": [
        "import matplotlib.pyplot as plt\n",
        "import seaborn as sns\n",
        "# Histograma viv17\n",
        "plt.hist(viv17, range = (0,100), bins = 7 , color = 'blue')\n",
        "plt.title(\"Histograma de la variable VIV17_R\")\n",
        "plt.xlabel(\"Porcentaje\")\n",
        "plt.ylabel(\"Cantidad\")\n",
        "plt.show()\n",
        "# Histograma viv18\n",
        "plt.clf()\n",
        "plt.hist(viv18, range = (0,100), bins = 7 , color = 'red')\n",
        "plt.title(\"Histograma de la variable VIV18_R\")\n",
        "plt.xlabel(\"Porcentaje\")\n",
        "plt.ylabel(\"Cantidad\")\n",
        "\n",
        "plt.show()"
      ],
      "metadata": {
        "colab": {
          "base_uri": "https://localhost:8080/",
          "height": 573
        },
        "id": "I8vByzDh7ZjG",
        "outputId": "cf2b47ec-c06c-42d0-eed8-17817d363a31"
      },
      "execution_count": null,
      "outputs": [
        {
          "output_type": "display_data",
          "data": {
            "text/plain": [
              "<Figure size 432x288 with 1 Axes>"
            ],
            "image/png": "[encoded data removed]"
          },
          "metadata": {
            "needs_background": "light"
          }
        },
        {
          "output_type": "display_data",
          "data": {
            "text/plain": [
              "<Figure size 432x288 with 1 Axes>"
            ],
            "image/png": "[encoded data removed]"
          },
          "metadata": {
            "needs_background": "light"
          }
        }
      ]
    },
    {
      "cell_type": "code",
      "source": [
        "sns.boxplot(data = transformed_df)\n",
        "plt.legend()\n",
        "plt.show()"
      ],
      "metadata": {
        "colab": {
          "base_uri": "https://localhost:8080/",
          "height": 283
        },
        "id": "MJeWuTjQE361",
        "outputId": "22528384-6921-4cdb-bab4-b35269fd8d66"
      },
      "execution_count": null,
      "outputs": [
        {
          "output_type": "stream",
          "name": "stderr",
          "text": [
            "WARNING:matplotlib.legend:No handles with labels found to put in legend.\n"
          ]
        },
        {
          "output_type": "display_data",
          "data": {
            "text/plain": [
              "<Figure size 432x288 with 1 Axes>"
            ],
            "image/png": "[encoded data removed]"
          },
          "metadata": {
            "needs_background": "light"
          }
        }
      ]
    },
    {
      "cell_type": "code",
      "execution_count": null,
      "metadata": {
        "colab": {
          "base_uri": "https://localhost:8080/"
        },
        "id": "qRki0SzLeR0g",
        "outputId": "2ee576bd-5d55-4c98-f70d-1350003ed0fd"
      },
      "outputs": [
        {
          "output_type": "stream",
          "name": "stdout",
          "text": [
            "+----------+------------------+---------------------+--------------------+-------------------+--------------------+------+\n",
            "|prediction|mean_agua_entubada|mean_no_agua_entubada|        mean_drenaje|    mean_no_drenaje|    mean_3_servicios|conteo|\n",
            "+----------+------------------+---------------------+--------------------+-------------------+--------------------+------+\n",
            "|         1|0.5886100876635751|  0.10243933426502351|0.026203786050057173|0.19903443018676154|0.026203786050057173| 15742|\n",
            "|         2| 36.28899999999999|   29.932666666666677|   77.58933333333334| 7.1629999999999985|  28.476999999999997|   300|\n",
            "|         0| 99.68565944252109| 0.023070234442931443|   99.59222679769643|0.05537709382639082|   99.39310288254852| 60953|\n",
            "+----------+------------------+---------------------+--------------------+-------------------+--------------------+------+\n",
            "\n"
          ]
        }
      ],
      "source": [
        "transformed.createOrReplaceTempView(\"result_kmeans\")\n",
        "clusters = spark.sql(\"\"\" select prediction, \n",
        "    mean(VIV17_R) as mean_agua_entubada, \n",
        "    mean(VIV18_R) as mean_no_agua_entubada,\n",
        "    mean(VIV23_R) as mean_drenaje,\n",
        "    mean(VIV24_R) as mean_no_drenaje,\n",
        "    mean(VIV25_R) as mean_3_servicios,\n",
        "    count(*) as conteo\n",
        "from result_kmeans group by prediction order by mean_agua_entubada\"\"\")\n",
        "\n",
        "clusters.show()"
      ]
    },
    {
      "cell_type": "code",
      "execution_count": null,
      "metadata": {
        "id": "aW-4GNPWg4v0"
      },
      "outputs": [],
      "source": [
        "df_clusters = clusters.toPandas()"
      ]
    },
    {
      "cell_type": "code",
      "execution_count": null,
      "metadata": {
        "colab": {
          "base_uri": "https://localhost:8080/",
          "height": 143
        },
        "id": "S7ScqcZWg8xN",
        "outputId": "bc364ed5-2a2b-4dbc-a0a1-51670f8697ad"
      },
      "outputs": [
        {
          "output_type": "execute_result",
          "data": {
            "text/plain": [
              "   prediction  mean_agua_entubada  mean_no_agua_entubada  mean_drenaje  \\\n",
              "0           1            0.588610               0.102439      0.026204   \n",
              "1           2           36.289000              29.932667     77.589333   \n",
              "2           0           99.685659               0.023070     99.592227   \n",
              "\n",
              "   mean_no_drenaje  mean_3_servicios  conteo  \n",
              "0         0.199034          0.026204   15742  \n",
              "1         7.163000         28.477000     300  \n",
              "2         0.055377         99.393103   60953  "
            ],
            "text/html": [
              "\n",
              "  <div id=\"df-fed568d3-c194-4787-a3d8-000dfcb6d0af\">\n",
              "    <div class=\"colab-df-container\">\n",
              "      <div>\n",
              "<style scoped>\n",
              "    .dataframe tbody tr th:only-of-type {\n",
              "        vertical-align: middle;\n",
              "    }\n",
              "\n",
              "    .dataframe tbody tr th {\n",
              "        vertical-align: top;\n",
              "    }\n",
              "\n",
              "    .dataframe thead th {\n",
              "        text-align: right;\n",
              "    }\n",
              "</style>\n",
              "<table border=\"1\" class=\"dataframe\">\n",
              "  <thead>\n",
              "    <tr style=\"text-align: right;\">\n",
              "      <th></th>\n",
              "      <th>prediction</th>\n",
              "      <th>mean_agua_entubada</th>\n",
              "      <th>mean_no_agua_entubada</th>\n",
              "      <th>mean_drenaje</th>\n",
              "      <th>mean_no_drenaje</th>\n",
              "      <th>mean_3_servicios</th>\n",
              "      <th>conteo</th>\n",
              "    </tr>\n",
              "  </thead>\n",
              "  <tbody>\n",
              "    <tr>\n",
              "      <th>0</th>\n",
              "      <td>1</td>\n",
              "      <td>0.588610</td>\n",
              "      <td>0.102439</td>\n",
              "      <td>0.026204</td>\n",
              "      <td>0.199034</td>\n",
              "      <td>0.026204</td>\n",
              "      <td>15742</td>\n",
              "    </tr>\n",
              "    <tr>\n",
              "      <th>1</th>\n",
              "      <td>2</td>\n",
              "      <td>36.289000</td>\n",
              "      <td>29.932667</td>\n",
              "      <td>77.589333</td>\n",
              "      <td>7.163000</td>\n",
              "      <td>28.477000</td>\n",
              "      <td>300</td>\n",
              "    </tr>\n",
              "    <tr>\n",
              "      <th>2</th>\n",
              "      <td>0</td>\n",
              "      <td>99.685659</td>\n",
              "      <td>0.023070</td>\n",
              "      <td>99.592227</td>\n",
              "      <td>0.055377</td>\n",
              "      <td>99.393103</td>\n",
              "      <td>60953</td>\n",
              "    </tr>\n",
              "  </tbody>\n",
              "</table>\n",
              "</div>\n",
              "      <button class=\"colab-df-convert\" onclick=\"convertToInteractive('df-fed568d3-c194-4787-a3d8-000dfcb6d0af')\"\n",
              "              title=\"Convert this dataframe to an interactive table.\"\n",
              "              style=\"display:none;\">\n",
              "        \n",
              "  <svg xmlns=\"http://www.w3.org/2000/svg\" height=\"24px\"viewBox=\"0 0 24 24\"\n",
              "       width=\"24px\">\n",
              "    <path d=\"M0 0h24v24H0V0z\" fill=\"none\"/>\n",
              "    <path d=\"M18.56 5.44l.94 2.06.94-2.06 2.06-.94-2.06-.94-.94-2.06-.94 2.06-2.06.94zm-11 1L8.5 8.5l.94-2.06 2.06-.94-2.06-.94L8.5 2.5l-.94 2.06-2.06.94zm10 10l.94 2.06.94-2.06 2.06-.94-2.06-.94-.94-2.06-.94 2.06-2.06.94z\"/><path d=\"M17.41 7.96l-1.37-1.37c-.4-.4-.92-.59-1.43-.59-.52 0-1.04.2-1.43.59L10.3 9.45l-7.72 7.72c-.78.78-.78 2.05 0 2.83L4 21.41c.39.39.9.59 1.41.59.51 0 1.02-.2 1.41-.59l7.78-7.78 2.81-2.81c.8-.78.8-2.07 0-2.86zM5.41 20L4 18.59l7.72-7.72 1.47 1.35L5.41 20z\"/>\n",
              "  </svg>\n",
              "      </button>\n",
              "      \n",
              "  <style>\n",
              "    .colab-df-container {\n",
              "      display:flex;\n",
              "      flex-wrap:wrap;\n",
              "      gap: 12px;\n",
              "    }\n",
              "\n",
              "    .colab-df-convert {\n",
              "      background-color: #E8F0FE;\n",
              "      border: none;\n",
              "      border-radius: 50%;\n",
              "      cursor: pointer;\n",
              "      display: none;\n",
              "      fill: #1967D2;\n",
              "      height: 32px;\n",
              "      padding: 0 0 0 0;\n",
              "      width: 32px;\n",
              "    }\n",
              "\n",
              "    .colab-df-convert:hover {\n",
              "      background-color: #E2EBFA;\n",
              "      box-shadow: 0px 1px 2px rgba(60, 64, 67, 0.3), 0px 1px 3px 1px rgba(60, 64, 67, 0.15);\n",
              "      fill: #174EA6;\n",
              "    }\n",
              "\n",
              "    [theme=dark] .colab-df-convert {\n",
              "      background-color: #3B4455;\n",
              "      fill: #D2E3FC;\n",
              "    }\n",
              "\n",
              "    [theme=dark] .colab-df-convert:hover {\n",
              "      background-color: #434B5C;\n",
              "      box-shadow: 0px 1px 3px 1px rgba(0, 0, 0, 0.15);\n",
              "      filter: drop-shadow(0px 1px 2px rgba(0, 0, 0, 0.3));\n",
              "      fill: #FFFFFF;\n",
              "    }\n",
              "  </style>\n",
              "\n",
              "      <script>\n",
              "        const buttonEl =\n",
              "          document.querySelector('#df-fed568d3-c194-4787-a3d8-000dfcb6d0af button.colab-df-convert');\n",
              "        buttonEl.style.display =\n",
              "          google.colab.kernel.accessAllowed ? 'block' : 'none';\n",
              "\n",
              "        async function convertToInteractive(key) {\n",
              "          const element = document.querySelector('#df-fed568d3-c194-4787-a3d8-000dfcb6d0af');\n",
              "          const dataTable =\n",
              "            await google.colab.kernel.invokeFunction('convertToInteractive',\n",
              "                                                     [key], {});\n",
              "          if (!dataTable) return;\n",
              "\n",
              "          const docLinkHtml = 'Like what you see? Visit the ' +\n",
              "            '<a target=\"_blank\" href=https://colab.research.google.com/notebooks/data_table.ipynb>data table notebook</a>'\n",
              "            + ' to learn more about interactive tables.';\n",
              "          element.innerHTML = '';\n",
              "          dataTable['output_type'] = 'display_data';\n",
              "          await google.colab.output.renderOutput(dataTable, element);\n",
              "          const docLink = document.createElement('div');\n",
              "          docLink.innerHTML = docLinkHtml;\n",
              "          element.appendChild(docLink);\n",
              "        }\n",
              "      </script>\n",
              "    </div>\n",
              "  </div>\n",
              "  "
            ]
          },
          "metadata": {},
          "execution_count": 59
        }
      ],
      "source": [
        "df_clusters"
      ]
    },
    {
      "cell_type": "code",
      "execution_count": null,
      "metadata": {
        "id": "U12mjX-9g1e8"
      },
      "outputs": [],
      "source": [
        "import numpy as np\n",
        "import matplotlib.pyplot as plt"
      ]
    },
    {
      "cell_type": "code",
      "execution_count": null,
      "metadata": {
        "colab": {
          "base_uri": "https://localhost:8080/",
          "height": 628
        },
        "id": "5hoAkKUlhBH5",
        "outputId": "b71b217a-3344-4ca6-d8d0-a58c63812e99"
      },
      "outputs": [
        {
          "output_type": "display_data",
          "data": {
            "text/plain": [
              "<Figure size 720x720 with 1 Axes>"
            ],
            "image/png": "[encoded data removed]"
          },
          "metadata": {
            "needs_background": "light"
          }
        }
      ],
      "source": [
        "categories = df_clusters.columns[1:-1].values\n",
        "cluster_0 = df_clusters.where(df_clusters.prediction==0).dropna().values[0][1:-1]\n",
        "cluster_1 = df_clusters.where(df_clusters.prediction==1).dropna().values[0][1:-1]\n",
        "cluster_2 = df_clusters.where(df_clusters.prediction==2).dropna().values[0][1:-1]\n",
        "\n",
        "cluster_0 = [*cluster_0,cluster_0[0]]\n",
        "cluster_1 = [*cluster_1,cluster_1[0]]\n",
        "cluster_2 = [*cluster_2,cluster_2[0]]\n",
        "\n",
        "label_loc = np.linspace(start=0, stop=2 * np.pi, num=len(cluster_0))\n",
        "\n",
        "plt.figure(figsize=(10, 10))\n",
        "plt.subplot(polar=True)\n",
        "plt.plot(label_loc, cluster_0, label='Cluster 0')\n",
        "plt.plot(label_loc, cluster_1, label='Cluster 1')\n",
        "plt.plot(label_loc, cluster_2, label='Cluster 2')\n",
        "plt.title('Comparacion de clusters', size=20)\n",
        "lines, labels = plt.thetagrids(np.degrees(label_loc), labels=categories)\n",
        "plt.legend()\n",
        "plt.show()"
      ]
    },
    {
      "cell_type": "code",
      "execution_count": null,
      "metadata": {
        "id": "7MjmckWmg17v"
      },
      "outputs": [],
      "source": [
        "# Verde: Cluster 0\n",
        "# Amarillo: Cluster 2\n",
        "# Rojo: Cluster 1"
      ]
    },
    {
      "cell_type": "markdown",
      "source": [
        "Visualización de Datos"
      ],
      "metadata": {
        "id": "cYZU9KoY71Ui"
      }
    },
    {
      "cell_type": "code",
      "execution_count": null,
      "metadata": {
        "id": "e-vSoxWZuxCg"
      },
      "outputs": [],
      "source": [
        "df_manzanas = spark.sql(\"\"\"select VIV17_R as agua_entubada,\n",
        "                                  VIV18_R as agua_no_entubada,\n",
        "                                  VIV23_R as drenaje,\n",
        "                                  VIV24_R as no_drenaje,\n",
        "                                  VIV25_R as 3_servicios,\n",
        "                                  geometry,\n",
        "                                  prediction \n",
        "                           from result_kmeans\"\"\").toPandas()\n",
        "geopandas_df_grid = gpd.GeoDataFrame(df_manzanas, geometry=\"geometry\")\n",
        "geopandas_df_grid = geopandas_df_grid.set_crs('PROJCS[\"Mexico_ITRF2008_LCC\",GEOGCS[\"Mexico_ITRF2008\",DATUM[\"Mexico_ITRF2008\",SPHEROID[\"GRS_1980\",6378137,298.257222101],TOWGS84[0,0,0,0,0,0,0]],PRIMEM[\"Greenwich\",0],UNIT[\"Degree\",0.0174532925199433]],PROJECTION[\"Lambert_Conformal_Conic_2SP\",AUTHORITY[\"EPSG\",\"9802\"]],PARAMETER[\"Central_Meridian\",-102],PARAMETER[\"Latitude_Of_Origin\",12],PARAMETER[\"False_Easting\",2500000],PARAMETER[\"False_Northing\",0],PARAMETER[\"Standard_Parallel_1\",17.5],PARAMETER[\"Standard_Parallel_2\",29.5],PARAMETER[\"Scale_Factor\",1],UNIT[\"Meter\",1,AUTHORITY[\"EPSG\",\"9001\"]],AUTHORITY[\"EPSG\",\"6372\"]]')\n",
        "geopandas_df_grid = geopandas_df_grid.to_crs(\"EPSG:4326\")\n",
        "#geopandas_df_grid.to_file(\"/content/drive/MyDrive/GeoBigDataNube2022/resultados/manzanas_kmeans.shp\")"
      ]
    },
    {
      "cell_type": "code",
      "execution_count": null,
      "metadata": {
        "id": "zlScRAQ7lRxO"
      },
      "outputs": [],
      "source": [
        "import folium\n",
        "import webbrowser"
      ]
    },
    {
      "cell_type": "code",
      "source": [
        "def rank_colormap(gdf):\n",
        "  if gdf['properties']['prediction'] is 0:\n",
        "    return 'green'\n",
        "  if gdf['properties']['prediction'] is 2:\n",
        "    return 'yellow'\n",
        "  if gdf['properties']['prediction'] is 1:\n",
        "    return 'red'"
      ],
      "metadata": {
        "id": "ecYa8bTLuCkU"
      },
      "execution_count": null,
      "outputs": []
    },
    {
      "cell_type": "code",
      "source": [
        "m = folium.Map(location=[25.6507071,-100.2866162], zoom_start=14)\n",
        "\n",
        "folium.GeoJson(data = geopandas_df_grid, name=\"Estratos\",style_function = lambda feature: {\n",
        "   'fillColor': rank_colormap(feature),\n",
        "   'color': rank_colormap(feature),\n",
        "   'weight': '0.5',\n",
        "   'fill': True,\n",
        "   'fill_opacity': '1'\n",
        "}).add_to(m)"
      ],
      "metadata": {
        "colab": {
          "base_uri": "https://localhost:8080/"
        },
        "id": "OOHGwlAszDvO",
        "outputId": "a9ef6349-0e91-4504-c9ae-9a5148b37c8c"
      },
      "execution_count": null,
      "outputs": [
        {
          "output_type": "execute_result",
          "data": {
            "text/plain": [
              "<folium.features.GeoJson at 0x7f0b19efb810>"
            ]
          },
          "metadata": {},
          "execution_count": 66
        }
      ]
    },
    {
      "cell_type": "code",
      "execution_count": null,
      "metadata": {
        "id": "YBj4By6hF-UK",
        "colab": {
          "base_uri": "https://localhost:8080/"
        },
        "outputId": "38328214-65eb-4afe-c6eb-0c11f49eb4c0"
      },
      "outputs": [
        {
          "output_type": "execute_result",
          "data": {
            "text/plain": [
              "False"
            ]
          },
          "metadata": {},
          "execution_count": 68
        }
      ],
      "source": [
        "# Despliegue del Mapa\n",
        "m.save(\"map.html\")\n",
        "webbrowser.open(\"map.html\")"
      ]
    },
    {
      "cell_type": "markdown",
      "source": [
        "Mapa de Densidad de Farmacias"
      ],
      "metadata": {
        "id": "y39tOaksCQah"
      }
    },
    {
      "cell_type": "code",
      "execution_count": null,
      "metadata": {
        "id": "WV9eziSrKNMv",
        "colab": {
          "base_uri": "https://localhost:8080/"
        },
        "outputId": "beb94a68-0e9d-44b0-a58c-47a8bf279ba1"
      },
      "outputs": [
        {
          "output_type": "execute_result",
          "data": {
            "text/plain": [
              "186092"
            ]
          },
          "metadata": {},
          "execution_count": 69
        }
      ],
      "source": [
        "BD_DENUE = spark.read.parquet(f\"/content/DENUE_Parquets/19.parquet\")\n",
        "BD_DENUE.createOrReplaceTempView(\"denue\")\n",
        "BD_DENUE.cache()\n",
        "BD_DENUE.count()"
      ]
    },
    {
      "cell_type": "code",
      "execution_count": null,
      "metadata": {
        "id": "NPV2WeDiKaHd"
      },
      "outputs": [],
      "source": [
        "Influencia_Agua = spark.sql(\"\"\"select \n",
        "                                  CVEGEO,\n",
        "                                  VIV17_R as agua_entubada,\n",
        "                                  VIV18_R as agua_no_entubada,\n",
        "                                  VIV23_R as drenaje,\n",
        "                                  VIV24_R as no_drenaje,\n",
        "                                  VIV25_R as servicios_3,\n",
        "                                  result_kmeans.geometry,\n",
        "                                  prediction,\n",
        "                                  count(*) as n_agua\n",
        "                           from result_kmeans,\n",
        "                                denue\n",
        "                            where denue.codigo_act in ('221312') and\n",
        "                                  ST_Intersects(result_kmeans.geometry , ST_Buffer(denue.geometry,1500)) \n",
        "                            group by CVEGEO, agua_entubada, agua_no_entubada, drenaje, no_drenaje, servicios_3, result_kmeans.geometry,prediction \"\"\").toPandas()\n",
        "\n",
        "Influencia_Agua_SHP = gpd.GeoDataFrame(Influencia_Agua, geometry=\"geometry\")\n",
        "Influencia_Agua_SHP = Influencia_Agua_SHP.set_crs('PROJCS[\"Mexico_ITRF2008_LCC\",GEOGCS[\"Mexico_ITRF2008\",DATUM[\"Mexico_ITRF2008\",SPHEROID[\"GRS_1980\",6378137,298.257222101],TOWGS84[0,0,0,0,0,0,0]],PRIMEM[\"Greenwich\",0],UNIT[\"Degree\",0.0174532925199433]],PROJECTION[\"Lambert_Conformal_Conic_2SP\",AUTHORITY[\"EPSG\",\"9802\"]],PARAMETER[\"Central_Meridian\",-102],PARAMETER[\"Latitude_Of_Origin\",12],PARAMETER[\"False_Easting\",2500000],PARAMETER[\"False_Northing\",0],PARAMETER[\"Standard_Parallel_1\",17.5],PARAMETER[\"Standard_Parallel_2\",29.5],PARAMETER[\"Scale_Factor\",1],UNIT[\"Meter\",1,AUTHORITY[\"EPSG\",\"9001\"]],AUTHORITY[\"EPSG\",\"6372\"]]')\n",
        "Influencia_Agua_SHP = Influencia_Agua_SHP.to_crs(\"EPSG:4326\")\n"
      ]
    },
    {
      "cell_type": "code",
      "source": [
        "Influencia_Agua_SHP"
      ],
      "metadata": {
        "colab": {
          "base_uri": "https://localhost:8080/",
          "height": 867
        },
        "id": "L2BVj_UGU2j9",
        "outputId": "5d7fb698-ab03-48f1-a6fa-9d48683e3f32"
      },
      "execution_count": null,
      "outputs": [
        {
          "output_type": "execute_result",
          "data": {
            "text/plain": [
              "                 CVEGEO  agua_entubada  agua_no_entubada  drenaje  no_drenaje  \\\n",
              "0      1902900010060017          100.0               0.0    100.0         0.0   \n",
              "1      1900900010621043            0.0               0.0      0.0         0.0   \n",
              "2      1900900010369023            0.0               0.0      0.0         0.0   \n",
              "3      190090001034A003          100.0               0.0    100.0         0.0   \n",
              "4      190090001034A007          100.0               0.0    100.0         0.0   \n",
              "...                 ...            ...               ...      ...         ...   \n",
              "22247  1900200010230005          100.0               0.0    100.0         0.0   \n",
              "22248  1900200010211025           75.0               0.0    100.0         0.0   \n",
              "22249  1900600010526011          100.0               0.0    100.0         0.0   \n",
              "22250  1900604030193020          100.0               0.0    100.0         0.0   \n",
              "22251  1900604030282005          100.0               0.0    100.0         0.0   \n",
              "\n",
              "       servicios_3                                           geometry  \\\n",
              "0            100.0  POLYGON ((-99.67391 24.88797, -99.67398 24.887...   \n",
              "1              0.0  POLYGON ((-99.99811 25.57883, -99.99808 25.578...   \n",
              "2              0.0  POLYGON ((-99.98334 25.58664, -99.98333 25.586...   \n",
              "3            100.0  POLYGON ((-99.98162 25.59045, -99.98195 25.590...   \n",
              "4            100.0  POLYGON ((-99.98041 25.59014, -99.98075 25.590...   \n",
              "...            ...                                                ...   \n",
              "22247        100.0  POLYGON ((-99.53892 26.31261, -99.53980 26.312...   \n",
              "22248         75.0  POLYGON ((-99.53878 26.31348, -99.53967 26.313...   \n",
              "22249        100.0  POLYGON ((-100.18028 25.78143, -100.18058 25.7...   \n",
              "22250        100.0  POLYGON ((-100.17284 25.79973, -100.17328 25.7...   \n",
              "22251        100.0  POLYGON ((-100.17255 25.79713, -100.17256 25.7...   \n",
              "\n",
              "       prediction  n_farma  \n",
              "0               0        1  \n",
              "1               1        1  \n",
              "2               1        1  \n",
              "3               0        1  \n",
              "4               0        1  \n",
              "...           ...      ...  \n",
              "22247           0        1  \n",
              "22248           0        1  \n",
              "22249           0        1  \n",
              "22250           0        1  \n",
              "22251           0        1  \n",
              "\n",
              "[22252 rows x 9 columns]"
            ],
            "text/html": [
              "\n",
              "  <div id=\"df-26a6eee5-6656-4ec5-bca1-36c457f76b13\">\n",
              "    <div class=\"colab-df-container\">\n",
              "      <div>\n",
              "<style scoped>\n",
              "    .dataframe tbody tr th:only-of-type {\n",
              "        vertical-align: middle;\n",
              "    }\n",
              "\n",
              "    .dataframe tbody tr th {\n",
              "        vertical-align: top;\n",
              "    }\n",
              "\n",
              "    .dataframe thead th {\n",
              "        text-align: right;\n",
              "    }\n",
              "</style>\n",
              "<table border=\"1\" class=\"dataframe\">\n",
              "  <thead>\n",
              "    <tr style=\"text-align: right;\">\n",
              "      <th></th>\n",
              "      <th>CVEGEO</th>\n",
              "      <th>agua_entubada</th>\n",
              "      <th>agua_no_entubada</th>\n",
              "      <th>drenaje</th>\n",
              "      <th>no_drenaje</th>\n",
              "      <th>servicios_3</th>\n",
              "      <th>geometry</th>\n",
              "      <th>prediction</th>\n",
              "      <th>n_farma</th>\n",
              "    </tr>\n",
              "  </thead>\n",
              "  <tbody>\n",
              "    <tr>\n",
              "      <th>0</th>\n",
              "      <td>1902900010060017</td>\n",
              "      <td>100.0</td>\n",
              "      <td>0.0</td>\n",
              "      <td>100.0</td>\n",
              "      <td>0.0</td>\n",
              "      <td>100.0</td>\n",
              "      <td>POLYGON ((-99.67391 24.88797, -99.67398 24.887...</td>\n",
              "      <td>0</td>\n",
              "      <td>1</td>\n",
              "    </tr>\n",
              "    <tr>\n",
              "      <th>1</th>\n",
              "      <td>1900900010621043</td>\n",
              "      <td>0.0</td>\n",
              "      <td>0.0</td>\n",
              "      <td>0.0</td>\n",
              "      <td>0.0</td>\n",
              "      <td>0.0</td>\n",
              "      <td>POLYGON ((-99.99811 25.57883, -99.99808 25.578...</td>\n",
              "      <td>1</td>\n",
              "      <td>1</td>\n",
              "    </tr>\n",
              "    <tr>\n",
              "      <th>2</th>\n",
              "      <td>1900900010369023</td>\n",
              "      <td>0.0</td>\n",
              "      <td>0.0</td>\n",
              "      <td>0.0</td>\n",
              "      <td>0.0</td>\n",
              "      <td>0.0</td>\n",
              "      <td>POLYGON ((-99.98334 25.58664, -99.98333 25.586...</td>\n",
              "      <td>1</td>\n",
              "      <td>1</td>\n",
              "    </tr>\n",
              "    <tr>\n",
              "      <th>3</th>\n",
              "      <td>190090001034A003</td>\n",
              "      <td>100.0</td>\n",
              "      <td>0.0</td>\n",
              "      <td>100.0</td>\n",
              "      <td>0.0</td>\n",
              "      <td>100.0</td>\n",
              "      <td>POLYGON ((-99.98162 25.59045, -99.98195 25.590...</td>\n",
              "      <td>0</td>\n",
              "      <td>1</td>\n",
              "    </tr>\n",
              "    <tr>\n",
              "      <th>4</th>\n",
              "      <td>190090001034A007</td>\n",
              "      <td>100.0</td>\n",
              "      <td>0.0</td>\n",
              "      <td>100.0</td>\n",
              "      <td>0.0</td>\n",
              "      <td>100.0</td>\n",
              "      <td>POLYGON ((-99.98041 25.59014, -99.98075 25.590...</td>\n",
              "      <td>0</td>\n",
              "      <td>1</td>\n",
              "    </tr>\n",
              "    <tr>\n",
              "      <th>...</th>\n",
              "      <td>...</td>\n",
              "      <td>...</td>\n",
              "      <td>...</td>\n",
              "      <td>...</td>\n",
              "      <td>...</td>\n",
              "      <td>...</td>\n",
              "      <td>...</td>\n",
              "      <td>...</td>\n",
              "      <td>...</td>\n",
              "    </tr>\n",
              "    <tr>\n",
              "      <th>22247</th>\n",
              "      <td>1900200010230005</td>\n",
              "      <td>100.0</td>\n",
              "      <td>0.0</td>\n",
              "      <td>100.0</td>\n",
              "      <td>0.0</td>\n",
              "      <td>100.0</td>\n",
              "      <td>POLYGON ((-99.53892 26.31261, -99.53980 26.312...</td>\n",
              "      <td>0</td>\n",
              "      <td>1</td>\n",
              "    </tr>\n",
              "    <tr>\n",
              "      <th>22248</th>\n",
              "      <td>1900200010211025</td>\n",
              "      <td>75.0</td>\n",
              "      <td>0.0</td>\n",
              "      <td>100.0</td>\n",
              "      <td>0.0</td>\n",
              "      <td>75.0</td>\n",
              "      <td>POLYGON ((-99.53878 26.31348, -99.53967 26.313...</td>\n",
              "      <td>0</td>\n",
              "      <td>1</td>\n",
              "    </tr>\n",
              "    <tr>\n",
              "      <th>22249</th>\n",
              "      <td>1900600010526011</td>\n",
              "      <td>100.0</td>\n",
              "      <td>0.0</td>\n",
              "      <td>100.0</td>\n",
              "      <td>0.0</td>\n",
              "      <td>100.0</td>\n",
              "      <td>POLYGON ((-100.18028 25.78143, -100.18058 25.7...</td>\n",
              "      <td>0</td>\n",
              "      <td>1</td>\n",
              "    </tr>\n",
              "    <tr>\n",
              "      <th>22250</th>\n",
              "      <td>1900604030193020</td>\n",
              "      <td>100.0</td>\n",
              "      <td>0.0</td>\n",
              "      <td>100.0</td>\n",
              "      <td>0.0</td>\n",
              "      <td>100.0</td>\n",
              "      <td>POLYGON ((-100.17284 25.79973, -100.17328 25.7...</td>\n",
              "      <td>0</td>\n",
              "      <td>1</td>\n",
              "    </tr>\n",
              "    <tr>\n",
              "      <th>22251</th>\n",
              "      <td>1900604030282005</td>\n",
              "      <td>100.0</td>\n",
              "      <td>0.0</td>\n",
              "      <td>100.0</td>\n",
              "      <td>0.0</td>\n",
              "      <td>100.0</td>\n",
              "      <td>POLYGON ((-100.17255 25.79713, -100.17256 25.7...</td>\n",
              "      <td>0</td>\n",
              "      <td>1</td>\n",
              "    </tr>\n",
              "  </tbody>\n",
              "</table>\n",
              "<p>22252 rows × 9 columns</p>\n",
              "</div>\n",
              "      <button class=\"colab-df-convert\" onclick=\"convertToInteractive('df-26a6eee5-6656-4ec5-bca1-36c457f76b13')\"\n",
              "              title=\"Convert this dataframe to an interactive table.\"\n",
              "              style=\"display:none;\">\n",
              "        \n",
              "  <svg xmlns=\"http://www.w3.org/2000/svg\" height=\"24px\"viewBox=\"0 0 24 24\"\n",
              "       width=\"24px\">\n",
              "    <path d=\"M0 0h24v24H0V0z\" fill=\"none\"/>\n",
              "    <path d=\"M18.56 5.44l.94 2.06.94-2.06 2.06-.94-2.06-.94-.94-2.06-.94 2.06-2.06.94zm-11 1L8.5 8.5l.94-2.06 2.06-.94-2.06-.94L8.5 2.5l-.94 2.06-2.06.94zm10 10l.94 2.06.94-2.06 2.06-.94-2.06-.94-.94-2.06-.94 2.06-2.06.94z\"/><path d=\"M17.41 7.96l-1.37-1.37c-.4-.4-.92-.59-1.43-.59-.52 0-1.04.2-1.43.59L10.3 9.45l-7.72 7.72c-.78.78-.78 2.05 0 2.83L4 21.41c.39.39.9.59 1.41.59.51 0 1.02-.2 1.41-.59l7.78-7.78 2.81-2.81c.8-.78.8-2.07 0-2.86zM5.41 20L4 18.59l7.72-7.72 1.47 1.35L5.41 20z\"/>\n",
              "  </svg>\n",
              "      </button>\n",
              "      \n",
              "  <style>\n",
              "    .colab-df-container {\n",
              "      display:flex;\n",
              "      flex-wrap:wrap;\n",
              "      gap: 12px;\n",
              "    }\n",
              "\n",
              "    .colab-df-convert {\n",
              "      background-color: #E8F0FE;\n",
              "      border: none;\n",
              "      border-radius: 50%;\n",
              "      cursor: pointer;\n",
              "      display: none;\n",
              "      fill: #1967D2;\n",
              "      height: 32px;\n",
              "      padding: 0 0 0 0;\n",
              "      width: 32px;\n",
              "    }\n",
              "\n",
              "    .colab-df-convert:hover {\n",
              "      background-color: #E2EBFA;\n",
              "      box-shadow: 0px 1px 2px rgba(60, 64, 67, 0.3), 0px 1px 3px 1px rgba(60, 64, 67, 0.15);\n",
              "      fill: #174EA6;\n",
              "    }\n",
              "\n",
              "    [theme=dark] .colab-df-convert {\n",
              "      background-color: #3B4455;\n",
              "      fill: #D2E3FC;\n",
              "    }\n",
              "\n",
              "    [theme=dark] .colab-df-convert:hover {\n",
              "      background-color: #434B5C;\n",
              "      box-shadow: 0px 1px 3px 1px rgba(0, 0, 0, 0.15);\n",
              "      filter: drop-shadow(0px 1px 2px rgba(0, 0, 0, 0.3));\n",
              "      fill: #FFFFFF;\n",
              "    }\n",
              "  </style>\n",
              "\n",
              "      <script>\n",
              "        const buttonEl =\n",
              "          document.querySelector('#df-26a6eee5-6656-4ec5-bca1-36c457f76b13 button.colab-df-convert');\n",
              "        buttonEl.style.display =\n",
              "          google.colab.kernel.accessAllowed ? 'block' : 'none';\n",
              "\n",
              "        async function convertToInteractive(key) {\n",
              "          const element = document.querySelector('#df-26a6eee5-6656-4ec5-bca1-36c457f76b13');\n",
              "          const dataTable =\n",
              "            await google.colab.kernel.invokeFunction('convertToInteractive',\n",
              "                                                     [key], {});\n",
              "          if (!dataTable) return;\n",
              "\n",
              "          const docLinkHtml = 'Like what you see? Visit the ' +\n",
              "            '<a target=\"_blank\" href=https://colab.research.google.com/notebooks/data_table.ipynb>data table notebook</a>'\n",
              "            + ' to learn more about interactive tables.';\n",
              "          element.innerHTML = '';\n",
              "          dataTable['output_type'] = 'display_data';\n",
              "          await google.colab.output.renderOutput(dataTable, element);\n",
              "          const docLink = document.createElement('div');\n",
              "          docLink.innerHTML = docLinkHtml;\n",
              "          element.appendChild(docLink);\n",
              "        }\n",
              "      </script>\n",
              "    </div>\n",
              "  </div>\n",
              "  "
            ]
          },
          "metadata": {},
          "execution_count": 73
        }
      ]
    },
    {
      "cell_type": "code",
      "source": [
        "m2 = folium.Map(location=[25.6507071,-100.2866162], zoom_start=13)"
      ],
      "metadata": {
        "id": "1XS6bypKWHJE"
      },
      "execution_count": null,
      "outputs": []
    },
    {
      "cell_type": "code",
      "source": [
        "folium.Choropleth(\n",
        "    geo_data=Influencia_Agua_SHP.to_json(drop_id=True),\n",
        "    name=\"Aguas\",\n",
        "    data=Influencia_Agua_SHP,\n",
        "    columns=[\"CVEGEO\", \"n_agua\"],\n",
        "    key_on=\"feature.properties.CVEGEO\",\n",
        "    fill_color=\"Spectral\",\n",
        "    fill_opacity=0.7,\n",
        "    line_opacity=0.2,\n",
        "    legend_name=\"Compañias de Agua\",\n",
        ").add_to(m2)\n"
      ],
      "metadata": {
        "id": "Lq-O_utg5VLg",
        "colab": {
          "base_uri": "https://localhost:8080/"
        },
        "outputId": "957b3a54-d705-45cd-9d54-a7b6164a08a3"
      },
      "execution_count": null,
      "outputs": [
        {
          "output_type": "execute_result",
          "data": {
            "text/plain": [
              "<folium.features.Choropleth at 0x7f0b11771fd0>"
            ]
          },
          "metadata": {},
          "execution_count": 78
        }
      ]
    },
    {
      "cell_type": "code",
      "source": [
        "m2.save(\"map_2.html\")\n",
        "webbrowser.open(\"map_2.html\")"
      ],
      "metadata": {
        "colab": {
          "base_uri": "https://localhost:8080/"
        },
        "id": "v6MhbehAfBVf",
        "outputId": "c3de49cd-704d-4269-95ca-d79b46358984"
      },
      "execution_count": null,
      "outputs": [
        {
          "output_type": "execute_result",
          "data": {
            "text/plain": [
              "False"
            ]
          },
          "metadata": {},
          "execution_count": 79
        }
      ]
    },
    {
      "cell_type": "markdown",
      "source": [
        "FIN."
      ],
      "metadata": {
        "id": "Ont_Pho9YRHV"
      }
    }
  ],
  "metadata": {
    "colab": {
      "collapsed_sections": [],
      "provenance": []
    },
    "kernelspec": {
      "display_name": "Python 3",
      "name": "python3"
    },
    "language_info": {
      "name": "python"
    }
  },
  "nbformat": 4,
  "nbformat_minor": 0
}