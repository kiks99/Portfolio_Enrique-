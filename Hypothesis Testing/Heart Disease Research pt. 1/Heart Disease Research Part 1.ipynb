{
  "cells":[
    {
      "cell_type":"markdown",
      "source":[
        "# Heart Disease Research Part I\n",
        "In this project, we’ll investigate some data from a sample of patients who were evaluated for heart disease at the Cleveland Clinic Foundation. The data was downloaded from the UCI Machine Learning Repository and then cleaned for analysis. The principal investigators responsible for data collection were:\n",
        "\n",
        "- Hungarian Institute of Cardiology. Budapest: Andras Janosi, M.D.\n",
        "- University Hospital, Zurich, Switzerland: William Steinbrunn, M.D.\n",
        "- University Hospital, Basel, Switzerland: Matthias Pfisterer, M.D.\n",
        "- V.A. Medical Center, Long Beach and Cleveland Clinic Foundation: Robert Detrano, M.D., Ph.D."
      ],
      "attachments":{
        
      },
      "metadata":{
        "jupyter":{
          "source_hidden":false,
          "outputs_hidden":false
        },
        "datalore":{
          "type":"MD",
          "sheet_delimiter":false
        }
      }
    },
    {
      "cell_type":"code",
      "source":[
        "# import libraries\n",
        "import pandas as pd\n",
        "import numpy as np\n",
        "from scipy.stats import ttest_1samp\n",
        "from scipy.stats import binom_test"
      ],
      "execution_count":1,
      "outputs":[
        
      ],
      "metadata":{
        "jupyter":{
          "source_hidden":false,
          "outputs_hidden":false
        },
        "datalore":{
          "type":"CODE",
          "sheet_delimiter":false
        }
      }
    },
    {
      "cell_type":"code",
      "source":[
        "# load data\n",
        "heart = pd.read_csv('heart_disease.csv')\n",
        "\n",
        "yes_hd = heart[heart.heart_disease == 'presence']\n",
        "no_hd = heart[heart.heart_disease == 'absence']"
      ],
      "execution_count":2,
      "outputs":[
        
      ],
      "metadata":{
        "jupyter":{
          "source_hidden":false,
          "outputs_hidden":false
        },
        "datalore":{
          "type":"CODE",
          "sheet_delimiter":false
        }
      }
    },
    {
      "cell_type":"markdown",
      "source":[
        "## Cholesterol Analysis\n",
        "\n",
        "The full dataset has been loaded for us as heart, then split into two subsets:\n",
        "\n",
        "- **yes_hd**, which contains data for patients with heart disease\n",
        "- **no_hd**, which contains data for patients without heart disease\n",
        "  \n",
        "For this project, we’ll investigate the following variables:\n",
        "\n",
        "- **chol:** serum cholestorol in mg\/dl\n",
        "- **fbs:** An indicator for whether fasting blood sugar is greater than 120 mg\/dl (1 = true; 0 = false)\n",
        "\n",
        "To start, we’ll investigate cholesterol levels for patients with heart disease. We'll use the dataset yes_hd to save cholesterol levels for patients with heart disease as a variable named chol_hd."
      ],
      "attachments":{
        
      },
      "metadata":{
        "jupyter":{
          "source_hidden":false,
          "outputs_hidden":false
        },
        "datalore":{
          "type":"MD",
          "sheet_delimiter":false
        }
      }
    },
    {
      "cell_type":"code",
      "source":[
        "chol_hd = yes_hd.chol"
      ],
      "execution_count":3,
      "outputs":[
        
      ],
      "metadata":{
        "jupyter":{
          "source_hidden":false,
          "outputs_hidden":false
        },
        "datalore":{
          "type":"CODE",
          "sheet_delimiter":false
        }
      }
    },
    {
      "cell_type":"markdown",
      "source":[
        "In general, total cholesterol over 240 mg\/dl is considered “high” (and therefore unhealthy). We will calculate the mean cholesterol level for patients who were diagnosed with heart disease and print it out. Is it higher than 240 mg\/dl?"
      ],
      "attachments":{
        
      },
      "metadata":{
        "jupyter":{
          "source_hidden":false,
          "outputs_hidden":false
        },
        "datalore":{
          "type":"MD",
          "sheet_delimiter":false
        }
      }
    },
    {
      "cell_type":"code",
      "source":[
        "print(np.mean(chol_hd))"
      ],
      "execution_count":4,
      "outputs":[
        {
          "name":"stdout",
          "text":[
            "251.4748201438849\n"
          ],
          "output_type":"stream"
        }
      ],
      "metadata":{
        "jupyter":{
          "source_hidden":false,
          "outputs_hidden":false
        },
        "datalore":{
          "type":"CODE",
          "sheet_delimiter":false
        }
      }
    },
    {
      "cell_type":"markdown",
      "source":[
        "Do people with heart disease have high cholesterol levels (greater than or equal to 240 mg\/dl) on average? Let's work with a hyphotesis tool that we can use to test the following null and alternative hypotheses:\n",
        "\n",
        "- **Null:** People with heart disease have an average cholesterol level equal to 240 mg\/dl\n",
        "- **Alternative:** People with heart disease have an average cholesterol level that is greater than 240 mg\/dl\n",
        "  \n",
        "**Note:** Unfortunately, the scipy.stats function we’ve been using does not (at the time of writing) have an alternative parameter to change the alternative hypothesis for this test. Therefore, we’ll have to run a two-sided test. However, since we calculated earlier that the average cholesterol level for heart disease patients is greater than 240 mg\/dl, we can calculate the p-value for the one-sided test indicated above simply by dividing the two-sided p-value in half."
      ],
      "attachments":{
        
      },
      "metadata":{
        "jupyter":{
          "source_hidden":false,
          "outputs_hidden":false
        },
        "datalore":{
          "type":"MD",
          "sheet_delimiter":false
        }
      }
    },
    {
      "cell_type":"code",
      "source":[
        "tstat, pval = ttest_1samp(chol_hd, 240)\n",
        "real_pval = pval\/2\n",
        "print(real_pval)"
      ],
      "execution_count":5,
      "outputs":[
        {
          "name":"stdout",
          "text":[
            "0.0035411033905155707\n"
          ],
          "output_type":"stream"
        }
      ],
      "metadata":{
        "jupyter":{
          "source_hidden":false,
          "outputs_hidden":false
        },
        "datalore":{
          "type":"CODE",
          "sheet_delimiter":false
        }
      }
    },
    {
      "cell_type":"markdown",
      "source":[
        "**Result:** p value of 0.0035, a significant value that indicates the alternative hypothesis is true. This suggests that heart disease patients have an average cholesterol level higher than 240 mg\/dl"
      ],
      "attachments":{
        
      },
      "metadata":{
        "jupyter":{
          "source_hidden":false,
          "outputs_hidden":false
        },
        "datalore":{
          "type":"MD",
          "sheet_delimiter":false
        }
      }
    },
    {
      "cell_type":"markdown",
      "source":[
        "We'll repeat the previous steps in order to run the same hypothesis test, but for patients in the sample who were not diagnosed with heart disease. Do patients without heart disease have average cholesterol levels significantly above 240 mg\/dl?"
      ],
      "attachments":{
        
      },
      "metadata":{
        "jupyter":{
          "source_hidden":false,
          "outputs_hidden":false
        },
        "datalore":{
          "type":"MD",
          "sheet_delimiter":false
        }
      }
    },
    {
      "cell_type":"code",
      "source":[
        "chol_no_hd = no_hd.chol\n",
        "print(np.mean(chol_no_hd))"
      ],
      "execution_count":6,
      "outputs":[
        {
          "name":"stdout",
          "text":[
            "242.640243902439\n"
          ],
          "output_type":"stream"
        }
      ],
      "metadata":{
        "jupyter":{
          "source_hidden":false,
          "outputs_hidden":false
        },
        "datalore":{
          "type":"CODE",
          "sheet_delimiter":false
        }
      }
    },
    {
      "cell_type":"code",
      "source":[
        "tstat_no_hd, pval_no_hd = ttest_1samp(chol_no_hd, 240)\n",
        "real_pval_no_hd = pval_no_hd\n",
        "print(real_pval_no_hd)  "
      ],
      "execution_count":7,
      "outputs":[
        {
          "name":"stdout",
          "text":[
            "0.5279424046444101\n"
          ],
          "output_type":"stream"
        }
      ],
      "metadata":{
        "jupyter":{
          "source_hidden":false,
          "outputs_hidden":false
        },
        "datalore":{
          "type":"CODE",
          "sheet_delimiter":false
        }
      }
    },
    {
      "cell_type":"markdown",
      "source":[
        "**Results:** p value = 0.52 , no significance so the null hyphotesis is true."
      ],
      "attachments":{
        
      },
      "metadata":{
        "jupyter":{
          "source_hidden":false,
          "outputs_hidden":false
        },
        "datalore":{
          "type":"MD",
          "sheet_delimiter":false
        }
      }
    },
    {
      "cell_type":"markdown",
      "source":[
        "## Fasting Blood Sugar Analysis \n",
        "\n",
        "Let’s now return to the full dataset (saved as heart). How many patients are there in this dataset? Let's save the number of patients as num_patients and print it out."
      ],
      "attachments":{
        
      },
      "metadata":{
        "jupyter":{
          "source_hidden":false,
          "outputs_hidden":false
        },
        "datalore":{
          "type":"MD",
          "sheet_delimiter":false
        }
      }
    },
    {
      "cell_type":"code",
      "source":[
        "num_patients = len(heart)\n",
        "print(num_patients)"
      ],
      "execution_count":8,
      "outputs":[
        {
          "name":"stdout",
          "text":[
            "303\n"
          ],
          "output_type":"stream"
        }
      ],
      "metadata":{
        "jupyter":{
          "source_hidden":false,
          "outputs_hidden":false
        },
        "datalore":{
          "type":"CODE",
          "sheet_delimiter":false
        }
      }
    },
    {
      "cell_type":"markdown",
      "source":[
        "Remember that the fbs column of this dataset indicates whether or not a patient’s fasting blood sugar was greater than 120 mg\/dl (1 means that their fasting blood sugar was greater than 120 mg\/dl; 0 means it was less than or equal to 120 mg\/dl).\n",
        "\n",
        "Let's calculate the number of patients with fasting blood sugar greater than 120. Save this number as num_highfbs_patients and print it out"
      ],
      "attachments":{
        
      },
      "metadata":{
        "jupyter":{
          "source_hidden":false,
          "outputs_hidden":false
        },
        "datalore":{
          "type":"MD",
          "sheet_delimiter":false
        }
      }
    },
    {
      "cell_type":"code",
      "source":[
        "num_highfbs_patients = np.sum(heart.fbs)\n",
        "print(num_highfbs_patients)"
      ],
      "execution_count":9,
      "outputs":[
        {
          "name":"stdout",
          "text":[
            "45.0\n"
          ],
          "output_type":"stream"
        }
      ],
      "metadata":{
        "jupyter":{
          "source_hidden":false,
          "outputs_hidden":false
        },
        "datalore":{
          "type":"CODE",
          "sheet_delimiter":false
        }
      }
    },
    {
      "cell_type":"markdown",
      "source":[
        "Sometimes, part of an analysis will involve comparing a sample to known population values to see if the sample appears to be representative of the general population.\n",
        "\n",
        "By some estimates, about 8% of the U.S. population had diabetes (diagnosed or undiagnosed) in 1988 when this data was collected. While there are multiple tests that contribute to a diabetes diagnosis, fasting blood sugar levels greater than 120 mg\/dl can be indicative of diabetes (or at least, pre-diabetes). If this sample were representative of the population, approximately how many people would you expect to have diabetes? Let's calculate and print out this number.\n",
        "\n",
        "Is this value similar to the number of patients with a resting blood sugar above 120 mg\/dl — or different?"
      ],
      "attachments":{
        
      },
      "metadata":{
        "jupyter":{
          "source_hidden":false,
          "outputs_hidden":false
        },
        "datalore":{
          "type":"MD",
          "sheet_delimiter":false
        }
      }
    },
    {
      "cell_type":"code",
      "source":[
        "proportion_fbs = (num_highfbs_patients \/ num_patients) * 100\n",
        "print(proportion_fbs)"
      ],
      "execution_count":10,
      "outputs":[
        {
          "name":"stdout",
          "text":[
            "14.85148514851485\n"
          ],
          "output_type":"stream"
        }
      ],
      "metadata":{
        "jupyter":{
          "source_hidden":false,
          "outputs_hidden":false
        },
        "datalore":{
          "type":"CODE",
          "sheet_delimiter":false
        }
      }
    },
    {
      "cell_type":"markdown",
      "source":[
        "**Results:** about 14.85 % of the population of this dataset has diabetes or pre-diabetes"
      ],
      "attachments":{
        
      },
      "metadata":{
        "jupyter":{
          "source_hidden":false,
          "outputs_hidden":false
        },
        "datalore":{
          "type":"MD",
          "sheet_delimiter":false
        }
      }
    },
    {
      "cell_type":"markdown",
      "source":[
        "Does this sample come from a population in which the rate of fbs > 120 mg\/dl is equal to 8%? Let's try to choose one of these hyphotesis using statistic tools:\n",
        "\n",
        "- **Null:** This sample was drawn from a population where 8% of people have fasting blood sugar > 120 mg\/dl\n",
        "- **Alternative:** This sample was drawn from a population where more than 8% of people have fasting blood sugar > 120 mg\/dl"
      ],
      "attachments":{
        
      },
      "metadata":{
        "jupyter":{
          "source_hidden":false,
          "outputs_hidden":false
        },
        "datalore":{
          "type":"MD",
          "sheet_delimiter":false
        }
      }
    },
    {
      "cell_type":"code",
      "source":[
        "p_value_fbs = binom_test(45, 303, 0.08, alternative='greater')\n",
        "print(p_value_fbs)"
      ],
      "execution_count":11,
      "outputs":[
        {
          "name":"stdout",
          "text":[
            "4.689471951448875e-05\n"
          ],
          "output_type":"stream"
        }
      ],
      "metadata":{
        "jupyter":{
          "source_hidden":false,
          "outputs_hidden":false
        },
        "datalore":{
          "type":"CODE",
          "sheet_delimiter":false
        }
      }
    },
    {
      "cell_type":"markdown",
      "source":[
        "**Results:** the p-value is significant so we choose the alternative hypothesis "
      ],
      "attachments":{
        
      },
      "metadata":{
        "jupyter":{
          "source_hidden":false,
          "outputs_hidden":false
        },
        "datalore":{
          "type":"MD",
          "sheet_delimiter":false
        }
      }
    }
  ],
  "metadata":{
    "datalore":{
      "version":1,
      "computation_mode":"JUPYTER",
      "package_manager":"pip",
      "base_environment":"default",
      "packages":[
        
      ]
    }
  },
  "nbformat":4,
  "nbformat_minor":4
}