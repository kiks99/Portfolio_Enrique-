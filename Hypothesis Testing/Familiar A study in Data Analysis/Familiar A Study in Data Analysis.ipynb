{
  "cells":[
    {
      "cell_type":"markdown",
      "source":[
        "# Familiar: A Study In Data Analysis\n",
        "Welcome to Familiar, a startup in the new market of blood transfusion! We’ve joined the team because you appreciate the flexible hours and extremely intelligent team, but the overeager doorman welcoming you into the office is a nice way to start your workday (well, work-evening).\n",
        "\n",
        "Familiar has fallen into some tough times lately, so we’re hoping to help them make some insights about their product and help move the needle (so to speak)."
      ],
      "attachments":{
        
      },
      "metadata":{
        "jupyter":{
          "source_hidden":false,
          "outputs_hidden":false
        },
        "datalore":{
          "type":"MD",
          "sheet_delimiter":false
        }
      }
    },
    {
      "cell_type":"code",
      "source":[
        "#Loading Data\n",
        "import pandas as pd\n",
        "import numpy as np\n",
        "from scipy.stats import ttest_1samp\n",
        "from scipy.stats import chi2_contingency"
      ],
      "execution_count":14,
      "outputs":[
        
      ],
      "metadata":{
        "jupyter":{
          "source_hidden":false,
          "outputs_hidden":false
        },
        "datalore":{
          "type":"CODE",
          "sheet_delimiter":false
        }
      }
    },
    {
      "cell_type":"markdown",
      "source":[
        "## What Can Familiar Do For You?\n",
        "\n",
        "The Familiar team has provided us with some data on lifespans for subscribers to two different packages, the Vein Pack and the Artery Pack! This data has been loaded as a dataframe named lifespans. Let's use the .head() method to print out the first five rows and take a look!"
      ],
      "attachments":{
        
      },
      "metadata":{
        "jupyter":{
          "source_hidden":false,
          "outputs_hidden":false
        },
        "datalore":{
          "type":"MD",
          "sheet_delimiter":false
        }
      }
    },
    {
      "cell_type":"code",
      "source":[
        "# Load datasets\n",
        "lifespans = pd.read_csv('familiar_lifespan.csv')\n",
        "iron = pd.read_csv('familiar_iron.csv')\n",
        "print(lifespans.head())"
      ],
      "execution_count":15,
      "outputs":[
        {
          "name":"stdout",
          "text":[
            "     pack   lifespan\n",
            "0    vein  76.255090\n",
            "1  artery  76.404504\n",
            "2  artery  75.952442\n",
            "3  artery  76.923082\n",
            "4  artery  73.771212\n"
          ],
          "output_type":"stream"
        }
      ],
      "metadata":{
        "jupyter":{
          "source_hidden":false,
          "outputs_hidden":false
        },
        "datalore":{
          "type":"CODE",
          "sheet_delimiter":false
        }
      }
    },
    {
      "cell_type":"markdown",
      "source":[
        "The first thing we want to know is whether Familiar’s most basic package, the Vein Pack, actually has a significant impact on the subscribers. It would be a marketing goldmine if we can show that subscribers to the Vein Pack live longer than other people.\n",
        "\n",
        "We'll extract the life spans of subscribers to the 'vein' pack and save the data into a variable called vein_pack_lifespans."
      ],
      "attachments":{
        
      },
      "metadata":{
        "jupyter":{
          "source_hidden":false,
          "outputs_hidden":false
        },
        "datalore":{
          "type":"MD",
          "sheet_delimiter":false
        }
      }
    },
    {
      "cell_type":"code",
      "source":[
        "vein_pack_lifespans = lifespans[lifespans.pack == 'vein']\n",
        "print(vein_pack_lifespans.head())"
      ],
      "execution_count":16,
      "outputs":[
        {
          "name":"stdout",
          "text":[
            "    pack   lifespan\n",
            "0   vein  76.255090\n",
            "7   vein  74.502021\n",
            "8   vein  76.937674\n",
            "9   vein  74.838006\n",
            "11  vein  77.484756\n"
          ],
          "output_type":"stream"
        }
      ],
      "metadata":{
        "jupyter":{
          "source_hidden":false,
          "outputs_hidden":false
        },
        "datalore":{
          "type":"CODE",
          "sheet_delimiter":false
        }
      }
    },
    {
      "cell_type":"markdown",
      "source":[
        "Next, we'll use np.mean() to calculate the average lifespan for Vein Pack subscribers and print the result. Is it longer than 73 years?"
      ],
      "attachments":{
        
      },
      "metadata":{
        "jupyter":{
          "source_hidden":false,
          "outputs_hidden":false
        },
        "datalore":{
          "type":"MD",
          "sheet_delimiter":false
        }
      }
    },
    {
      "cell_type":"code",
      "source":[
        "mean_vein_lifespans = np.mean(vein_pack_lifespans.lifespan)\n",
        "print(mean_vein_lifespans)"
      ],
      "execution_count":17,
      "outputs":[
        {
          "name":"stdout",
          "text":[
            "76.16901335636044\n"
          ],
          "output_type":"stream"
        }
      ],
      "metadata":{
        "jupyter":{
          "source_hidden":false,
          "outputs_hidden":false
        },
        "datalore":{
          "type":"CODE",
          "sheet_delimiter":false
        }
      }
    },
    {
      "cell_type":"markdown",
      "source":[
        "\n",
        "We’d like to find out if the average lifespan of a Vein Pack subscriber is significantly different from the average life expectancy of 73 years.\n",
        "\n",
        "Import the statistical test from scipy.stats that we would use to test the following null and alternative hypotheses:\n",
        "\n",
        "- **Null:** The average lifespan of a Vein Pack subscriber is 73 years.\n",
        "- **Alternative:** The average lifespan of a Vein Pack subscriber is NOT 73 years."
      ],
      "attachments":{
        
      },
      "metadata":{
        "jupyter":{
          "source_hidden":false,
          "outputs_hidden":false
        },
        "datalore":{
          "type":"MD",
          "sheet_delimiter":false
        }
      }
    },
    {
      "cell_type":"code",
      "source":[
        "tstat, pval = ttest_1samp(vein_pack_lifespans.lifespan, 73)\n",
        "print(pval)"
      ],
      "execution_count":18,
      "outputs":[
        {
          "name":"stdout",
          "text":[
            "5.972157921433211e-07\n"
          ],
          "output_type":"stream"
        }
      ],
      "metadata":{
        "jupyter":{
          "source_hidden":false,
          "outputs_hidden":false
        },
        "datalore":{
          "type":"CODE",
          "sheet_delimiter":false
        }
      }
    },
    {
      "cell_type":"markdown",
      "source":[
        "**Results:** Since the pval is minor than our significant threshold of 0.05 we reject our null hypothesis and conclude that the average lifespan of a Vein Pack subscriber is NOT 73 years.  "
      ],
      "attachments":{
        
      },
      "metadata":{
        "jupyter":{
          "source_hidden":false,
          "outputs_hidden":false
        },
        "datalore":{
          "type":"MD",
          "sheet_delimiter":false
        }
      }
    },
    {
      "cell_type":"markdown",
      "source":[
        "## Upselling Familiar: Pumping Life Into The Company\n",
        "\n",
        "\n",
        "In order to differentiate Familiar’s different product lines, we’d like to compare this lifespan data between our different packages. Our next step up from the Vein Pack is the Artery Pack.\n",
        "\n",
        "Let’s get the lifespans of Artery Pack subscribers. Using the same lifespans dataset, let's extract the lifespans of subscribers to the Artery Pack and save them as artery_pack_lifespans."
      ],
      "attachments":{
        
      },
      "metadata":{
        "jupyter":{
          "source_hidden":false,
          "outputs_hidden":false
        },
        "datalore":{
          "type":"MD",
          "sheet_delimiter":false
        }
      }
    },
    {
      "cell_type":"code",
      "source":[
        "artery_pack_lifespans = lifespans[lifespans.pack == 'artery']\n",
        "print(artery_pack_lifespans.head())"
      ],
      "execution_count":19,
      "outputs":[
        {
          "name":"stdout",
          "text":[
            "     pack   lifespan\n",
            "1  artery  76.404504\n",
            "2  artery  75.952442\n",
            "3  artery  76.923082\n",
            "4  artery  73.771212\n",
            "5  artery  74.117420\n"
          ],
          "output_type":"stream"
        }
      ],
      "metadata":{
        "jupyter":{
          "source_hidden":false,
          "outputs_hidden":false
        },
        "datalore":{
          "type":"CODE",
          "sheet_delimiter":false
        }
      }
    },
    {
      "cell_type":"markdown",
      "source":[
        "\n",
        "Let's use np.mean() to calculate the average lifespan for Artery Pack subscribers and print the result. Is it longer than for the Vein Pack?"
      ],
      "attachments":{
        
      },
      "metadata":{
        "jupyter":{
          "source_hidden":false,
          "outputs_hidden":false
        },
        "datalore":{
          "type":"MD",
          "sheet_delimiter":false
        }
      }
    },
    {
      "cell_type":"code",
      "source":[
        "mean_artery_lifespans = np.mean(artery_pack_lifespans.lifespan)\n",
        "print(mean_artery_lifespans)"
      ],
      "execution_count":20,
      "outputs":[
        {
          "name":"stdout",
          "text":[
            "74.8736622351704\n"
          ],
          "output_type":"stream"
        }
      ],
      "metadata":{
        "jupyter":{
          "source_hidden":false,
          "outputs_hidden":false
        },
        "datalore":{
          "type":"CODE",
          "sheet_delimiter":false
        }
      }
    },
    {
      "cell_type":"markdown",
      "source":[
        "We’d like to find out if the average lifespan of a Vein Pack subscriber is significantly different from the average life expectancy for the Artery Pack.\n",
        "\n",
        "Let's Import the statistical test from scipy.stats that we would use to test the following null and alternative hypotheses:\n",
        "\n",
        "**Null:** The average lifespan of a Vein Pack subscriber is equal to the average lifespan of an Artery Pack subscriber.\n",
        "\n",
        "**Alternative:** The average lifespan of a Vein Pack subscriber is NOT equal to the average lifespan of an Artery Pack subscriber."
      ],
      "attachments":{
        
      },
      "metadata":{
        "jupyter":{
          "source_hidden":false,
          "outputs_hidden":false
        },
        "datalore":{
          "type":"MD",
          "sheet_delimiter":false
        }
      }
    },
    {
      "cell_type":"code",
      "source":[
        "ab_contingency = pd.crosstab(lifespans.pack, lifespans.lifespan)\n",
        "chi2, pval, dof, expected = chi2_contingency(ab_contingency)\n",
        "print(pval)"
      ],
      "execution_count":21,
      "outputs":[
        {
          "name":"stdout",
          "text":[
            "0.42555940164393696\n"
          ],
          "output_type":"stream"
        }
      ],
      "metadata":{
        "jupyter":{
          "source_hidden":false,
          "outputs_hidden":false
        },
        "datalore":{
          "type":"CODE",
          "sheet_delimiter":false
        }
      }
    },
    {
      "cell_type":"markdown",
      "source":[
        "**Result:** Since our pval is bigger than our significant threshold, we accept our null hypothesis and conclude that the average lifespan of a Vein Pack subscriber is equal to the average lifespan of an Artery Pack subscriber."
      ],
      "attachments":{
        
      },
      "metadata":{
        "jupyter":{
          "source_hidden":false,
          "outputs_hidden":false
        },
        "datalore":{
          "type":"MD",
          "sheet_delimiter":false
        }
      }
    },
    {
      "cell_type":"markdown",
      "source":[
        "## Side Effects: A Familiar Problem\n",
        "\n",
        "The Familiar team has provided us with another dataset containing survey data about iron counts for our subscribers. This data has been pre-processed to categorize iron counts as “low”, “normal”, and “high” for each subscriber. Familiar wants to be able to advise potential subscribers about possible side effects of these packs and whether they differ for the Vein vs. the Artery pack.\n",
        "\n",
        "The data has been loaded for us as a dataframe named iron. Use the .head() method to print out the first five rows and take a look!"
      ],
      "attachments":{
        
      },
      "metadata":{
        "jupyter":{
          "source_hidden":false,
          "outputs_hidden":false
        },
        "datalore":{
          "type":"MD",
          "sheet_delimiter":false
        }
      }
    },
    {
      "cell_type":"code",
      "source":[
        "print(iron.head())"
      ],
      "execution_count":22,
      "outputs":[
        {
          "name":"stdout",
          "text":[
            "     pack    iron\n",
            "0    vein     low\n",
            "1  artery  normal\n",
            "2  artery  normal\n",
            "3  artery  normal\n",
            "4  artery    high\n"
          ],
          "output_type":"stream"
        }
      ],
      "metadata":{
        "jupyter":{
          "source_hidden":false,
          "outputs_hidden":false
        },
        "datalore":{
          "type":"CODE",
          "sheet_delimiter":false
        }
      }
    },
    {
      "cell_type":"markdown",
      "source":[
        "\n",
        "Is there an association between the pack that a subscriber gets (Vein vs. Artery) and their iron level? Let's use the pandas crosstab() function to create a contingency table of the pack and iron columns in the iron data. Save the result as Xtab and print it out."
      ],
      "attachments":{
        
      },
      "metadata":{
        "jupyter":{
          "source_hidden":false,
          "outputs_hidden":false
        },
        "datalore":{
          "type":"MD",
          "sheet_delimiter":false
        }
      }
    },
    {
      "cell_type":"code",
      "source":[
        "Xtab = pd.crosstab(iron.pack, iron.iron)\n",
        "print(Xtab)"
      ],
      "execution_count":23,
      "outputs":[
        {
          "name":"stdout",
          "text":[
            "iron    high  low  normal\n",
            "pack                     \n",
            "artery    87   29      29\n",
            "vein      20  140      40\n"
          ],
          "output_type":"stream"
        }
      ],
      "metadata":{
        "jupyter":{
          "source_hidden":false,
          "outputs_hidden":false
        },
        "datalore":{
          "type":"CODE",
          "sheet_delimiter":false
        }
      }
    },
    {
      "cell_type":"markdown",
      "source":[
        "\n",
        "We’d like to find out if there is a significant association between which pack (Vein vs. Artery) someone subscribes to and their iron level.\n",
        "\n",
        "Use a test with the following null and alternative hypotheses:\n",
        "\n",
        "**Null:** There is NOT an association between which pack (Vein vs. Artery) someone subscribes to and their iron level.\n",
        "\n",
        "**Alternative:** There is an association between which pack (Vein vs. Artery) someone subscribes to and their iron level."
      ],
      "attachments":{
        
      },
      "metadata":{
        "jupyter":{
          "source_hidden":false,
          "outputs_hidden":false
        },
        "datalore":{
          "type":"MD",
          "sheet_delimiter":false
        }
      }
    },
    {
      "cell_type":"code",
      "source":[
        "chi2_iron, pval_iron, dof_iron, expected_iron = chi2_contingency(Xtab)\n",
        "print(pval_iron)"
      ],
      "execution_count":25,
      "outputs":[
        {
          "name":"stdout",
          "text":[
            "9.359749337433008e-25\n"
          ],
          "output_type":"stream"
        }
      ],
      "metadata":{
        "jupyter":{
          "source_hidden":false,
          "outputs_hidden":false
        },
        "datalore":{
          "type":"CODE",
          "sheet_delimiter":false
        }
      }
    },
    {
      "cell_type":"markdown",
      "source":[
        "**Results =** Our p-value is too small, so we reject the null hypothesis and conclude that there is an association between which pack someone subscribes to and their iron level. "
      ],
      "attachments":{
        
      },
      "metadata":{
        "jupyter":{
          "source_hidden":false,
          "outputs_hidden":false
        },
        "datalore":{
          "type":"MD",
          "sheet_delimiter":false
        }
      }
    }
  ],
  "metadata":{
    "datalore":{
      "version":1,
      "computation_mode":"JUPYTER",
      "package_manager":"pip",
      "base_environment":"default",
      "packages":[
        
      ]
    }
  },
  "nbformat":4,
  "nbformat_minor":4
}