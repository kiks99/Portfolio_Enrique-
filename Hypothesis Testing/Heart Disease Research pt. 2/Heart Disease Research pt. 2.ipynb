{
  "cells":[
    {
      "cell_type":"markdown",
      "source":[
        "# Heart Disease Research Part II\n",
        "In this project, we’ll investigate some data from a sample of patients who were evaluated for heart disease at the Cleveland Clinic Foundation. The data was downloaded from the UCI Machine Learning Repository and then cleaned for analysis. The principal investigators responsible for data collection were:\n",
        "\n",
        "Hungarian Institute of Cardiology. Budapest: Andras Janosi, M.D.\n",
        "University Hospital, Zurich, Switzerland: William Steinbrunn, M.D.\n",
        "University Hospital, Basel, Switzerland: Matthias Pfisterer, M.D.\n",
        "V.A. Medical Center, Long Beach and Cleveland Clinic Foundation: Robert Detrano, M.D., Ph.D."
      ],
      "attachments":{
        
      },
      "metadata":{
        "jupyter":{
          "source_hidden":false,
          "outputs_hidden":false
        },
        "datalore":{
          "type":"MD",
          "sheet_delimiter":false
        }
      }
    },
    {
      "cell_type":"code",
      "source":[
        "# import libraries\n",
        "import pandas as pd\n",
        "import numpy as np\n",
        "import matplotlib.pyplot as plt \n",
        "import seaborn as sns\n",
        "from scipy.stats import ttest_ind\n",
        "from scipy.stats import f_oneway\n",
        "from statsmodels.stats.multicomp import pairwise_tukeyhsd\n",
        "from scipy.stats import chi2_contingency "
      ],
      "execution_count":2,
      "outputs":[
        
      ],
      "metadata":{
        "jupyter":{
          "source_hidden":false,
          "outputs_hidden":false
        },
        "datalore":{
          "type":"CODE",
          "sheet_delimiter":false
        }
      }
    },
    {
      "cell_type":"code",
      "source":[
        "#Load data\n",
        "heart = pd.read_csv('heart_disease.csv')"
      ],
      "execution_count":3,
      "outputs":[
        
      ],
      "metadata":{
        "jupyter":{
          "source_hidden":false,
          "outputs_hidden":false
        },
        "datalore":{
          "type":"CODE",
          "sheet_delimiter":false
        }
      }
    },
    {
      "cell_type":"markdown",
      "source":[
        "## Inspect the Data\n",
        "\n",
        "The data has been saved as a dataframe named heart. It contains the following variables:\n",
        "\n",
        "- **age:** age in years\n",
        "- **sex:** sex assigned at birth; 'male' or 'female'\n",
        "- **trestbps:** resting blood pressure in mm Hg\n",
        "- **chol:** serum cholesterol in mg\/dl\n",
        "- **cp:** chest pain type ('typical angina', 'atypical angina', 'non-anginal pain', or 'asymptomatic')\n",
        "- **exang:** whether the patient experiences exercise-induced angina (1: yes; 0: no)\n",
        "- **fbs:** whether the patient’s fasting blood sugar is >120 mg\/dl (1: yes; 0: no)\n",
        "- **thalach:** maximum heart rate achieved in exercise test\n",
        "- **heart_disease:** whether the patient is found to have heart disease ('presence': diagnosed with heart disease; 'absence': no heart disease)\n",
        "\n",
        "Let's inspect the data with .head()"
      ],
      "attachments":{
        
      },
      "metadata":{
        "jupyter":{
          "source_hidden":false,
          "outputs_hidden":false
        },
        "datalore":{
          "type":"MD",
          "sheet_delimiter":false
        }
      }
    },
    {
      "cell_type":"code",
      "source":[
        "print(heart.head())"
      ],
      "execution_count":4,
      "outputs":[
        {
          "name":"stdout",
          "text":[
            "    age     sex  trestbps   chol                cp  exang  fbs  thalach  \\\n",
            "0  63.0    male     145.0  233.0    typical angina    0.0  1.0    150.0   \n",
            "1  67.0    male     160.0  286.0      asymptomatic    1.0  0.0    108.0   \n",
            "2  67.0    male     120.0  229.0      asymptomatic    1.0  0.0    129.0   \n",
            "3  37.0    male     130.0  250.0  non-anginal pain    0.0  0.0    187.0   \n",
            "4  41.0  female     130.0  204.0   atypical angina    0.0  0.0    172.0   \n",
            "\n",
            "  heart_disease  \n",
            "0       absence  \n",
            "1      presence  \n",
            "2      presence  \n",
            "3       absence  \n",
            "4       absence  \n"
          ],
          "output_type":"stream"
        }
      ],
      "metadata":{
        "jupyter":{
          "source_hidden":false,
          "outputs_hidden":false
        },
        "datalore":{
          "type":"CODE",
          "sheet_delimiter":false
        }
      }
    },
    {
      "cell_type":"markdown",
      "source":[
        "\n",
        "## Predictors of Heart Disease\n",
        "Each of the patients in this dataset underwent an exercise test, during which their heart rate was monitored. For each patient, *thalach* gives us the highest heart rate that the patient achieved during this test.\n",
        "\n",
        "Is thalach associated with whether or not a patient will ultimately be diagnosed with heart disease? Let's use sns.boxplot() to plot side by side box plots of thalach for patients who were and were not diagnosed with heart disease (indicated by the heart_disease variable). Do you think there is a relationship between these variables?"
      ],
      "attachments":{
        
      },
      "metadata":{
        "jupyter":{
          "source_hidden":false,
          "outputs_hidden":false
        },
        "datalore":{
          "type":"MD",
          "sheet_delimiter":false
        }
      }
    },
    {
      "cell_type":"code",
      "source":[
        "sns.boxplot(x = heart.heart_disease, y = heart.thalach)\n",
        "plt.show()"
      ],
      "execution_count":5,
      "outputs":[
        {
          "data":{
            "image\/png":"[encoded data removed]"
          },
          "metadata":{
            "image\/png":{
              
            }
          },
          "output_type":"display_data"
        }
      ],
      "metadata":{
        "jupyter":{
          "source_hidden":false,
          "outputs_hidden":false
        },
        "datalore":{
          "type":"CODE",
          "sheet_delimiter":false
        }
      }
    },
    {
      "cell_type":"markdown",
      "source":[
        "In order to investigate this question further, let's save the values for thalach among patients who were diagnosed with heart disease as a variable named thalach_hd. Then save the values of thalach among patients who were not diagnosed with heart disease as thalach_no_hd."
      ],
      "attachments":{
        
      },
      "metadata":{
        "jupyter":{
          "source_hidden":false,
          "outputs_hidden":false
        },
        "datalore":{
          "type":"MD",
          "sheet_delimiter":false
        }
      }
    },
    {
      "cell_type":"code",
      "source":[
        "thalach_hd = heart.thalach[heart.heart_disease == 'presence']\n",
        "thalach_no_hd = heart.thalach[heart.heart_disease == 'absence']\n",
        "print(thalach_hd)\n",
        "print(thalach_no_hd)"
      ],
      "execution_count":6,
      "outputs":[
        {
          "name":"stdout",
          "text":[
            "1      108.0\n",
            "2      129.0\n",
            "6      160.0\n",
            "8      147.0\n",
            "9      155.0\n",
            "       ...  \n",
            "297    123.0\n",
            "298    132.0\n",
            "299    141.0\n",
            "300    115.0\n",
            "301    174.0\n",
            "Name: thalach, Length: 139, dtype: float64\n",
            "0      150.0\n",
            "3      187.0\n",
            "4      172.0\n",
            "5      178.0\n",
            "7      163.0\n",
            "       ...  \n",
            "288    163.0\n",
            "289    169.0\n",
            "291    166.0\n",
            "295    182.0\n",
            "302    173.0\n",
            "Name: thalach, Length: 164, dtype: float64\n"
          ],
          "output_type":"stream"
        }
      ],
      "metadata":{
        "jupyter":{
          "source_hidden":false,
          "outputs_hidden":false
        },
        "datalore":{
          "type":"CODE",
          "sheet_delimiter":false
        }
      }
    },
    {
      "cell_type":"markdown",
      "source":[
        "We'll calculate and print the difference in mean thalach for patients diagnosed with heart disease compared to patients without heart disease. Then do the same for the median difference."
      ],
      "attachments":{
        
      },
      "metadata":{
        "jupyter":{
          "source_hidden":false,
          "outputs_hidden":false
        },
        "datalore":{
          "type":"MD",
          "sheet_delimiter":false
        }
      }
    },
    {
      "cell_type":"code",
      "source":[
        "mean_diff = np.mean(thalach_no_hd) - np.mean(thalach_hd)\n",
        "print('thalach mean Difference: ', mean_diff)\n",
        "median_diff = np.median(thalach_no_hd) - np.median(thalach_hd)\n",
        "print('thalach median Difference: ', median_diff)"
      ],
      "execution_count":7,
      "outputs":[
        {
          "name":"stdout",
          "text":[
            "thalach mean Difference:  19.11905597473242\n",
            "thalach median Difference:  19.0\n"
          ],
          "output_type":"stream"
        }
      ],
      "metadata":{
        "jupyter":{
          "source_hidden":false,
          "outputs_hidden":false
        },
        "datalore":{
          "type":"CODE",
          "sheet_delimiter":false
        }
      }
    },
    {
      "cell_type":"markdown",
      "source":[
        "\n",
        "We’d like to find out if the average thalach of a heart disease patient is significantly different from the average thalach for a person without heart disease.\n",
        "\n",
        "Let's test the following null and alternative hypotheses:\n",
        "\n",
        "- **Null:** The average thalach for a person with heart disease is equal to the average thalach for a person without heart disease.\n",
        "- **Alternative:** The average thalach for a person with heart disease is NOT equal to the average thalach for a person without heart disease."
      ],
      "attachments":{
        
      },
      "metadata":{
        "jupyter":{
          "source_hidden":false,
          "outputs_hidden":false
        },
        "datalore":{
          "type":"MD",
          "sheet_delimiter":false
        }
      }
    },
    {
      "cell_type":"code",
      "source":[
        "ttest, pval = ttest_ind(thalach_hd, thalach_no_hd)\n",
        "print(pval)"
      ],
      "execution_count":8,
      "outputs":[
        {
          "name":"stdout",
          "text":[
            "3.456964908430172e-14\n"
          ],
          "output_type":"stream"
        }
      ],
      "metadata":{
        "jupyter":{
          "source_hidden":false,
          "outputs_hidden":false
        },
        "datalore":{
          "type":"CODE",
          "sheet_delimiter":false
        }
      }
    },
    {
      "cell_type":"markdown",
      "source":[
        "**Results:** The p-value is significant, we “reject the null hypothesis” and conclude that there is a significant difference in thalach for people with heart disease compared to people without heart disease."
      ],
      "attachments":{
        
      },
      "metadata":{
        "jupyter":{
          "source_hidden":false,
          "outputs_hidden":false
        },
        "datalore":{
          "type":"MD",
          "sheet_delimiter":false
        }
      }
    },
    {
      "cell_type":"markdown",
      "source":[
        "## Age Prediction in Heart Disease\n",
        "\n",
        "Using the same methodology of the previous hypothesis, we'll be checking the importance of age in the probability of having a heart disease. \n",
        "\n",
        "- **Null:** The age for a person has no significance in them having a heart disease\n",
        "-  **Alternative:** The age of a person has an importance in the having a heart disease"
      ],
      "attachments":{
        
      },
      "metadata":{
        "jupyter":{
          "source_hidden":false,
          "outputs_hidden":false
        },
        "datalore":{
          "type":"MD",
          "sheet_delimiter":false
        }
      }
    },
    {
      "cell_type":"code",
      "source":[
        "age_hd = heart.age[heart.heart_disease == 'presence']\n",
        "age_no_hd = heart.age[heart.heart_disease == 'absence']"
      ],
      "execution_count":9,
      "outputs":[
        
      ],
      "metadata":{
        "jupyter":{
          "source_hidden":false,
          "outputs_hidden":false
        },
        "datalore":{
          "type":"CODE",
          "sheet_delimiter":false
        }
      }
    },
    {
      "cell_type":"code",
      "source":[
        "plt.clf()\n",
        "sns.boxplot(x = heart.heart_disease, y = heart.age)\n",
        "plt.show()"
      ],
      "execution_count":10,
      "outputs":[
        {
          "data":{
            "image\/png":"[encoded data removed]"
          },
          "metadata":{
            "image\/png":{
              
            }
          },
          "output_type":"display_data"
        }
      ],
      "metadata":{
        "jupyter":{
          "source_hidden":false,
          "outputs_hidden":false
        },
        "datalore":{
          "type":"CODE",
          "sheet_delimiter":false
        }
      }
    },
    {
      "cell_type":"code",
      "source":[
        "ttest_age, pval_age = ttest_ind(age_hd, age_no_hd)\n",
        "print('P-value for they Age variable: ', pval_age)"
      ],
      "execution_count":11,
      "outputs":[
        {
          "name":"stdout",
          "text":[
            "P-value for they Age variable:  8.955636917529706e-05\n"
          ],
          "output_type":"stream"
        }
      ],
      "metadata":{
        "jupyter":{
          "source_hidden":false,
          "outputs_hidden":false
        },
        "datalore":{
          "type":"CODE",
          "sheet_delimiter":false
        }
      }
    },
    {
      "cell_type":"markdown",
      "source":[
        "**Result:** The null hypothesis is rejected, there is a significance between the age of a person an if they have a heart disease or not"
      ],
      "attachments":{
        
      },
      "metadata":{
        "jupyter":{
          "source_hidden":false,
          "outputs_hidden":false
        },
        "datalore":{
          "type":"MD",
          "sheet_delimiter":false
        }
      }
    },
    {
      "cell_type":"markdown",
      "source":[
        "## Resting Blood Pressure Prediction in Heart Disease \n",
        "\n",
        "We'll be checking if the variable trestbps (Resting Blood pressure in mmHg) is significantly associated with heart disease or not \n",
        "- **Null:** The average resting blood pressure of a person with no heart disease is equal to the average resting blood pressure of a person with heart disease\n",
        "- **Alternative:** The average resting blood pressure of a person with no heart disease is NOT equal to the average resting blood pressure of a person with heart disease"
      ],
      "attachments":{
        
      },
      "metadata":{
        "jupyter":{
          "source_hidden":false,
          "outputs_hidden":false
        },
        "datalore":{
          "type":"MD",
          "sheet_delimiter":false
        }
      }
    },
    {
      "cell_type":"code",
      "source":[
        "trest_hd = heart.trestbps[heart.heart_disease == 'presence']\n",
        "trest_no_hd = heart.trestbps[heart.heart_disease == 'absence']"
      ],
      "execution_count":12,
      "outputs":[
        
      ],
      "metadata":{
        "jupyter":{
          "source_hidden":false,
          "outputs_hidden":false
        },
        "datalore":{
          "type":"CODE",
          "sheet_delimiter":false
        }
      }
    },
    {
      "cell_type":"code",
      "source":[
        "mean_diff_trestbps = abs(np.mean(trest_no_hd) - np.mean(trest_hd))\n",
        "print('trestbps mean Difference: ', mean_diff_trestbps)\n",
        "median_diff_trestbps = np.median(trest_no_hd) - np.median(trest_hd)\n",
        "print('trestbps median Difference: ', median_diff_trestbps)"
      ],
      "execution_count":13,
      "outputs":[
        {
          "name":"stdout",
          "text":[
            "trestbps mean Difference:  5.318345323740999\n",
            "trestbps median Difference:  0.0\n"
          ],
          "output_type":"stream"
        }
      ],
      "metadata":{
        "jupyter":{
          "source_hidden":false,
          "outputs_hidden":false
        },
        "datalore":{
          "type":"CODE",
          "sheet_delimiter":false
        }
      }
    },
    {
      "cell_type":"code",
      "source":[
        "plt.clf()\n",
        "sns.boxplot(x = heart.heart_disease, y = heart.trestbps)\n",
        "plt.show()"
      ],
      "execution_count":14,
      "outputs":[
        {
          "data":{
            "image\/png":"[encoded data removed]"
          },
          "metadata":{
            "image\/png":{
              
            }
          },
          "output_type":"display_data"
        }
      ],
      "metadata":{
        "jupyter":{
          "source_hidden":false,
          "outputs_hidden":false
        },
        "datalore":{
          "type":"CODE",
          "sheet_delimiter":false
        }
      }
    },
    {
      "cell_type":"code",
      "source":[
        "ttest_trest, pval_trest = ttest_ind(trest_hd, trest_no_hd)\n",
        "print('P-value for the Trestbps variable: ', pval_trest)"
      ],
      "execution_count":15,
      "outputs":[
        {
          "name":"stdout",
          "text":[
            "P-value for the Trestbps variable:  0.008548268928594928\n"
          ],
          "output_type":"stream"
        }
      ],
      "metadata":{
        "jupyter":{
          "source_hidden":false,
          "outputs_hidden":false
        },
        "datalore":{
          "type":"CODE",
          "sheet_delimiter":false
        }
      }
    },
    {
      "cell_type":"markdown",
      "source":[
        "**Result:** There is a significant p-value, we reject the null hypothesis, meaning there is a difference between the average resting blood pressure of a person with no heart disease and one who does have a heart disease. "
      ],
      "attachments":{
        
      },
      "metadata":{
        "jupyter":{
          "source_hidden":false,
          "outputs_hidden":false
        },
        "datalore":{
          "type":"MD",
          "sheet_delimiter":false
        }
      }
    },
    {
      "cell_type":"markdown",
      "source":[
        "## Cholesterol Prediction in Heart Disease \n",
        "\n",
        "We'll be checking if the cholesterol is significantly associated with heart disease or not \n",
        "- **Null:** The average cholesterol of a person with no heart disease is equal to the average cholesterol of a person with heart disease\n",
        "- **Alternative:** The average cholesterol of a person with no heart disease is NOT equal to the average cholesterol of a person with heart disease"
      ],
      "attachments":{
        
      },
      "metadata":{
        "jupyter":{
          "source_hidden":false,
          "outputs_hidden":false
        },
        "datalore":{
          "type":"MD",
          "sheet_delimiter":false
        }
      }
    },
    {
      "cell_type":"code",
      "source":[
        "chol_hd = heart.chol[heart.heart_disease == 'presence']\n",
        "chol_no_hd = heart.chol[heart.heart_disease == 'absence']"
      ],
      "execution_count":16,
      "outputs":[
        
      ],
      "metadata":{
        "jupyter":{
          "source_hidden":false,
          "outputs_hidden":false
        },
        "datalore":{
          "type":"CODE",
          "sheet_delimiter":false
        }
      }
    },
    {
      "cell_type":"code",
      "source":[
        "mean_diff_chol = abs(np.mean(chol_no_hd) - np.mean(chol_hd))\n",
        "print('cholesterol mean Difference: ', mean_diff_chol)\n",
        "median_diff_chol = np.median(chol_no_hd) - np.median(chol_hd)\n",
        "print('cholesterol median Difference: ', median_diff_chol)"
      ],
      "execution_count":17,
      "outputs":[
        {
          "name":"stdout",
          "text":[
            "cholesterol mean Difference:  8.834576241445887\n",
            "cholesterol median Difference:  -14.5\n"
          ],
          "output_type":"stream"
        }
      ],
      "metadata":{
        "jupyter":{
          "source_hidden":false,
          "outputs_hidden":false
        },
        "datalore":{
          "type":"CODE",
          "sheet_delimiter":false
        }
      }
    },
    {
      "cell_type":"code",
      "source":[
        "plt.clf()\n",
        "sns.boxplot(x = heart.heart_disease, y = heart.chol)\n",
        "plt.show()"
      ],
      "execution_count":18,
      "outputs":[
        {
          "data":{
            "image\/png":"[encoded data removed]"
          },
          "metadata":{
            "image\/png":{
              
            }
          },
          "output_type":"display_data"
        }
      ],
      "metadata":{
        "jupyter":{
          "source_hidden":false,
          "outputs_hidden":false
        },
        "datalore":{
          "type":"CODE",
          "sheet_delimiter":false
        }
      }
    },
    {
      "cell_type":"code",
      "source":[
        "ttest_chol, pval_chol = ttest_ind(chol_hd, chol_no_hd)\n",
        "print('P-value for the Chol variable: ', pval_chol)"
      ],
      "execution_count":19,
      "outputs":[
        {
          "name":"stdout",
          "text":[
            "P-value for the Chol variable:  0.13914167020436527\n"
          ],
          "output_type":"stream"
        }
      ],
      "metadata":{
        "jupyter":{
          "source_hidden":false,
          "outputs_hidden":false
        },
        "datalore":{
          "type":"CODE",
          "sheet_delimiter":false
        }
      }
    },
    {
      "cell_type":"markdown",
      "source":[
        "**Result:** The p-value is not-significant, we choose the null hypothesis, the average cholesterol of people with no heart disease is equal to one of people with heart disease "
      ],
      "attachments":{
        
      },
      "metadata":{
        "jupyter":{
          "source_hidden":false,
          "outputs_hidden":false
        },
        "datalore":{
          "type":"MD",
          "sheet_delimiter":false
        }
      }
    },
    {
      "cell_type":"markdown",
      "source":[
        "## Chest Pain and Max Heart Rate \n",
        "\n",
        "Next, let’s investigate the relationship between thalach (maximum heart rate achieved during exercise) and the type of heart pain a person experiences. We'll create a set of side-by-side box plots of thalach for each chest pain type in the data. \n",
        "\n",
        "Are there any chest pain types for which average thalach is significantly higher or lower (compared to other chest pain types)?"
      ],
      "attachments":{
        
      },
      "metadata":{
        "jupyter":{
          "source_hidden":false,
          "outputs_hidden":false
        },
        "datalore":{
          "type":"MD",
          "sheet_delimiter":false
        }
      }
    },
    {
      "cell_type":"code",
      "source":[
        "plt.clf()\n",
        "sns.boxplot(x= heart.cp, y= heart.thalach)\n",
        "plt.show()"
      ],
      "execution_count":20,
      "outputs":[
        {
          "data":{
            "image\/png":"[encoded data removed]"
          },
          "metadata":{
            "image\/png":{
              
            }
          },
          "output_type":"display_data"
        }
      ],
      "metadata":{
        "jupyter":{
          "source_hidden":false,
          "outputs_hidden":false
        },
        "datalore":{
          "type":"CODE",
          "sheet_delimiter":false
        }
      }
    },
    {
      "cell_type":"markdown",
      "source":[
        "\n",
        "To investigate this further, let's save the values of thalach for patients who experienced each type of chest pain as thalach_typical, thalach_asymptom, thalach_nonangin, and thalach_atypical, respectively."
      ],
      "attachments":{
        
      },
      "metadata":{
        "jupyter":{
          "source_hidden":false,
          "outputs_hidden":false
        },
        "datalore":{
          "type":"MD",
          "sheet_delimiter":false
        }
      }
    },
    {
      "cell_type":"code",
      "source":[
        "thalach_typical = heart.thalach[heart.cp == 'typical angina']\n",
        "thalach_asymptom = heart.thalach[heart.cp == 'asymptomatic']\n",
        "thalach_nonangin = heart.thalach[heart.cp == 'non-anginal pain']\n",
        "thalach_atypical = heart.thalach[heart.cp == 'atypical angina']"
      ],
      "execution_count":21,
      "outputs":[
        
      ],
      "metadata":{
        "jupyter":{
          "source_hidden":false,
          "outputs_hidden":false
        },
        "datalore":{
          "type":"CODE",
          "sheet_delimiter":false
        }
      }
    },
    {
      "cell_type":"markdown",
      "source":[
        "We'll run a single hypothesis test to address the following null and alternative hypotheses:\n",
        "\n",
        "- **Null:** People with typical angina, non-anginal pain, atypical angina, and asymptomatic people all have the same average thalach.\n",
        "- **Alternative:** People with typical angina, non-anginal pain, atypical angina, and asymptomatic people do not all have the same average thalach.\n",
        "\n",
        "Is there at least one pair of chest pain categories for which people in those categories have significantly different thalach?"
      ],
      "attachments":{
        
      },
      "metadata":{
        "jupyter":{
          "source_hidden":false,
          "outputs_hidden":false
        },
        "datalore":{
          "type":"MD",
          "sheet_delimiter":false
        }
      }
    },
    {
      "cell_type":"code",
      "source":[
        "fstat, pval_cp = f_oneway(thalach_typical, thalach_asymptom, thalach_nonangin, thalach_atypical)\n",
        "print(pval_cp)"
      ],
      "execution_count":22,
      "outputs":[
        {
          "name":"stdout",
          "text":[
            "1.9065505247705008e-10\n"
          ],
          "output_type":"stream"
        }
      ],
      "metadata":{
        "jupyter":{
          "source_hidden":false,
          "outputs_hidden":false
        },
        "datalore":{
          "type":"CODE",
          "sheet_delimiter":false
        }
      }
    },
    {
      "cell_type":"markdown",
      "source":[
        "**Result:** the p-value is significant, we reject the null hypothesis and conclude people with typical angina, non-anginal pain, atypical angina, and asymptomatic people do not all have the same average thalach. "
      ],
      "attachments":{
        
      },
      "metadata":{
        "jupyter":{
          "source_hidden":false,
          "outputs_hidden":false
        },
        "datalore":{
          "type":"MD",
          "sheet_delimiter":false
        }
      }
    },
    {
      "cell_type":"markdown",
      "source":[
        "Let's run another hypothesis test to determine which of those pairs are significantly different."
      ],
      "attachments":{
        
      },
      "metadata":{
        "jupyter":{
          "source_hidden":false,
          "outputs_hidden":false
        },
        "datalore":{
          "type":"MD",
          "sheet_delimiter":false
        }
      }
    },
    {
      "cell_type":"code",
      "source":[
        "tukey_results_cp = pairwise_tukeyhsd(heart.thalach, heart.cp, 0.05)\n",
        "print(tukey_results_cp)"
      ],
      "execution_count":23,
      "outputs":[
        {
          "name":"stdout",
          "text":[
            "           Multiple Comparison of Means - Tukey HSD, FWER=0.05           \n",
            "=========================================================================\n",
            "     group1           group2      meandiff p-adj   lower    upper  reject\n",
            "-------------------------------------------------------------------------\n",
            "    asymptomatic  atypical angina  21.7394  0.001  12.7439  30.735   True\n",
            "    asymptomatic non-anginal pain  14.7264  0.001    7.258 22.1948   True\n",
            "    asymptomatic   typical angina   15.276 0.0081   2.9702 27.5817   True\n",
            " atypical angina non-anginal pain   -7.013 0.2481 -16.7591   2.733  False\n",
            " atypical angina   typical angina  -6.4635 0.6069 -20.2707  7.3438  False\n",
            "non-anginal pain   typical angina   0.5495    0.9  -12.315 13.4141  False\n",
            "-------------------------------------------------------------------------\n"
          ],
          "output_type":"stream"
        }
      ],
      "metadata":{
        "jupyter":{
          "source_hidden":false,
          "outputs_hidden":false
        },
        "datalore":{
          "type":"CODE",
          "sheet_delimiter":false
        }
      }
    },
    {
      "cell_type":"markdown",
      "source":[
        "**Result:** We reject the null hypothesis dor all asymptotic groups, meaning there is a significant difference between these groups and others. "
      ],
      "attachments":{
        
      },
      "metadata":{
        "jupyter":{
          "source_hidden":false,
          "outputs_hidden":false
        },
        "datalore":{
          "type":"MD",
          "sheet_delimiter":false
        }
      }
    },
    {
      "cell_type":"markdown",
      "source":[
        "## Heart Disease and Chest Pain\n",
        "\n",
        "\n",
        "Finally, let’s investigate the relationship between the kind of chest pain a person experiences and whether or not they have heart disease. We'll create a contingency table of cp and heart_disease and save it as Xtab, then print it out."
      ],
      "attachments":{
        
      },
      "metadata":{
        "jupyter":{
          "source_hidden":false,
          "outputs_hidden":false
        },
        "datalore":{
          "type":"MD",
          "sheet_delimiter":false
        }
      }
    },
    {
      "cell_type":"code",
      "source":[
        "Xtab = pd.crosstab(heart.cp, heart.heart_disease)\n",
        "print(Xtab)"
      ],
      "execution_count":24,
      "outputs":[
        {
          "name":"stdout",
          "text":[
            "heart_disease     absence  presence\n",
            "cp                                 \n",
            "asymptomatic           39       105\n",
            "atypical angina        41         9\n",
            "non-anginal pain       68        18\n",
            "typical angina         16         7\n"
          ],
          "output_type":"stream"
        }
      ],
      "metadata":{
        "jupyter":{
          "source_hidden":false,
          "outputs_hidden":false
        },
        "datalore":{
          "type":"CODE",
          "sheet_delimiter":false
        }
      }
    },
    {
      "cell_type":"markdown",
      "source":[
        "We'll run a hypothesis test for the following null and alternative hypotheses:\n",
        "\n",
        "**Null:** There is NOT an association between chest pain type and whether or not someone is diagnosed with heart disease.\n",
        "\n",
        "**Alternative:** There is an association between chest pain type and whether or not someone is diagnosed with heart disease."
      ],
      "attachments":{
        
      },
      "metadata":{
        "jupyter":{
          "source_hidden":false,
          "outputs_hidden":false
        },
        "datalore":{
          "type":"MD",
          "sheet_delimiter":false
        }
      }
    },
    {
      "cell_type":"code",
      "source":[
        "chi2, pval_chi2, dof, expected = chi2_contingency(Xtab)\n",
        "print(pval_chi2)"
      ],
      "execution_count":25,
      "outputs":[
        {
          "name":"stdout",
          "text":[
            "1.2517106007837527e-17\n"
          ],
          "output_type":"stream"
        }
      ],
      "metadata":{
        "jupyter":{
          "source_hidden":false,
          "outputs_hidden":false
        },
        "datalore":{
          "type":"CODE",
          "sheet_delimiter":false
        }
      }
    },
    {
      "cell_type":"markdown",
      "source":[
        "**Result:** The p-value is smaller than our 0.05 significance threshold, so we reject the null hypothesis and conclude that there is an association between chest pain type and whether or not someone is diagnosed with heart disease. "
      ],
      "attachments":{
        
      },
      "metadata":{
        "jupyter":{
          "source_hidden":false,
          "outputs_hidden":false
        },
        "datalore":{
          "type":"MD",
          "sheet_delimiter":false
        }
      }
    }
  ],
  "metadata":{
    "datalore":{
      "version":1,
      "computation_mode":"JUPYTER",
      "package_manager":"pip",
      "base_environment":"default",
      "packages":[
        
      ]
    }
  },
  "nbformat":4,
  "nbformat_minor":4
}